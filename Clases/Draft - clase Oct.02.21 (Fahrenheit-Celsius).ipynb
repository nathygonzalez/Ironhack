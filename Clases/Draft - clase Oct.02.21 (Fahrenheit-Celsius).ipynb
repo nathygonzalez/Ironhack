{
 "cells": [
  {
   "cell_type": "code",
   "execution_count": 1,
   "id": "a58ae53b",
   "metadata": {},
   "outputs": [
    {
     "ename": "IndentationError",
     "evalue": "expected an indented block (<ipython-input-1-b2ae4ae86af8>, line 7)",
     "output_type": "error",
     "traceback": [
      "\u001b[1;36m  File \u001b[1;32m\"<ipython-input-1-b2ae4ae86af8>\"\u001b[1;36m, line \u001b[1;32m7\u001b[0m\n\u001b[1;33m    print(\"Temperature in Celsius is: \", 'temperature / fahrenheit')\u001b[0m\n\u001b[1;37m    ^\u001b[0m\n\u001b[1;31mIndentationError\u001b[0m\u001b[1;31m:\u001b[0m expected an indented block\n"
     ]
    }
   ],
   "source": [
    "fahrenheit = 32\n",
    "print(\"Enter temperature:\")\n",
    "temperature = input()\n",
    "print(\"Please input F for Fahrenheit or C for Celsius\")\n",
    "unit = input ()\n",
    "if unit == F:\n",
    "print(\"Temperature in Celsius is: \", 'temperature / fahrenheit')\n",
    "elif unit == C:\n",
    "print(\"Temperature in Fahrenheit is: \", 'temperature * fahrenheit')"
   ]
  },
  {
   "cell_type": "code",
   "execution_count": 2,
   "id": "193813b0",
   "metadata": {},
   "outputs": [
    {
     "ename": "IndentationError",
     "evalue": "expected an indented block (<ipython-input-2-b2ae4ae86af8>, line 7)",
     "output_type": "error",
     "traceback": [
      "\u001b[1;36m  File \u001b[1;32m\"<ipython-input-2-b2ae4ae86af8>\"\u001b[1;36m, line \u001b[1;32m7\u001b[0m\n\u001b[1;33m    print(\"Temperature in Celsius is: \", 'temperature / fahrenheit')\u001b[0m\n\u001b[1;37m    ^\u001b[0m\n\u001b[1;31mIndentationError\u001b[0m\u001b[1;31m:\u001b[0m expected an indented block\n"
     ]
    }
   ],
   "source": [
    "fahrenheit = 32\n",
    "print(\"Enter temperature:\")\n",
    "temperature = input()\n",
    "print(\"Please input F for Fahrenheit or C for Celsius\")\n",
    "unit = input ()\n",
    "if unit == F:\n",
    "print(\"Temperature in Celsius is: \", 'temperature / fahrenheit')\n",
    "elif unit == C:\n",
    "print(\"Temperature in Fahrenheit is: \", 'temperature * fahrenheit')"
   ]
  },
  {
   "cell_type": "code",
   "execution_count": 3,
   "id": "797263ef",
   "metadata": {},
   "outputs": [
    {
     "ename": "IndentationError",
     "evalue": "expected an indented block (<ipython-input-3-bec80b48e786>, line 8)",
     "output_type": "error",
     "traceback": [
      "\u001b[1;36m  File \u001b[1;32m\"<ipython-input-3-bec80b48e786>\"\u001b[1;36m, line \u001b[1;32m8\u001b[0m\n\u001b[1;33m    print(\"Temperature in Celsius is: \", 'temperature/fahrenheit')\u001b[0m\n\u001b[1;37m    ^\u001b[0m\n\u001b[1;31mIndentationError\u001b[0m\u001b[1;31m:\u001b[0m expected an indented block\n"
     ]
    }
   ],
   "source": [
    "fahrenheit = 32\n",
    "print(\"Enter temperature:\")\n",
    "temperature = input()\n",
    "print(\"Please input F for Fahrenheit or C for Celsius\")\n",
    "unit = input ()\n",
    "import math\n",
    "if unit == F:\n",
    "print(\"Temperature in Celsius is: \", 'temperature/fahrenheit')\n",
    "elif unit == C:\n",
    "print(\"Temperature in Fahrenheit is: \", 'temperature*fahrenheit')"
   ]
  },
  {
   "cell_type": "code",
   "execution_count": 4,
   "id": "e4a4a429",
   "metadata": {},
   "outputs": [
    {
     "ename": "IndentationError",
     "evalue": "expected an indented block (<ipython-input-4-0698583f0f51>, line 8)",
     "output_type": "error",
     "traceback": [
      "\u001b[1;36m  File \u001b[1;32m\"<ipython-input-4-0698583f0f51>\"\u001b[1;36m, line \u001b[1;32m8\u001b[0m\n\u001b[1;33m    print(\"Temperature in Celsius is: \", \"temperature / fahrenheit\")\u001b[0m\n\u001b[1;37m    ^\u001b[0m\n\u001b[1;31mIndentationError\u001b[0m\u001b[1;31m:\u001b[0m expected an indented block\n"
     ]
    }
   ],
   "source": [
    "fahrenheit = 32\n",
    "print(\"Enter temperature:\")\n",
    "temperature = input()\n",
    "print(\"Please input F for Fahrenheit or C for Celsius\")\n",
    "unit = input ()\n",
    "import math\n",
    "if unit == F:\n",
    "print(\"Temperature in Celsius is: \", \"temperature / fahrenheit\")\n",
    "elif unit == C:\n",
    "print(\"Temperature in Fahrenheit is: \", \"temperature * fahrenheit\")"
   ]
  },
  {
   "cell_type": "code",
   "execution_count": 4,
   "id": "fa76d871",
   "metadata": {},
   "outputs": [
    {
     "name": "stdout",
     "output_type": "stream",
     "text": [
      "Enter temperature:\n",
      "75\n",
      "Please input F for Fahrenheit or C for Celsius\n",
      "F\n",
      "Temperature in Celsius is:  2.34375\n"
     ]
    }
   ],
   "source": [
    "fahrenheit = 32\n",
    "print(\"Enter temperature:\")\n",
    "temperature = input()\n",
    "print(\"Please input F for Fahrenheit or C for Celsius\")\n",
    "unit = input ()\n",
    "import math\n",
    "if unit == \"F\":\n",
    "    print(\"Temperature in Celsius is: \", (int(temperature) / fahrenheit))\n",
    "elif unit == \"C\":\n",
    "    print(\"Temperature in Fahrenheit is: \", (int(temperature) * fahrenheit))"
   ]
  },
  {
   "cell_type": "markdown",
   "id": "108f8c11",
   "metadata": {},
   "source": [
    "nombre = input (\"Como te llamas?\")\n",
    "saludo = f\"Buenos días, {nombre}\"\n",
    "print = saludo"
   ]
  },
  {
   "cell_type": "code",
   "execution_count": 5,
   "id": "3017eb62",
   "metadata": {},
   "outputs": [
    {
     "name": "stdout",
     "output_type": "stream",
     "text": [
      "Como te llamas? Nat\n",
      "Buenos días, Nat\n"
     ]
    }
   ],
   "source": [
    "nombre = input (\"Como te llamas? \")\n",
    "saludo = f'Buenos días, {nombre}'\n",
    "print(saludo)"
   ]
  },
  {
   "cell_type": "code",
   "execution_count": null,
   "id": "e2af08d3",
   "metadata": {},
   "outputs": [],
   "source": []
  },
  {
   "cell_type": "code",
   "execution_count": 1,
   "id": "cad1a1f0",
   "metadata": {},
   "outputs": [
    {
     "name": "stdout",
     "output_type": "stream",
     "text": [
      "Dime un numero: 25\n",
      "25 es impar\n"
     ]
    }
   ],
   "source": [
    "num = input(\"Dime un numero: \")\n",
    "if int(num) % 2 == 0:\n",
    "    print(f'{num} es par')\n",
    "else:\n",
    "    print(f'{num} es impar')"
   ]
  },
  {
   "cell_type": "code",
   "execution_count": 11,
   "id": "da792e40",
   "metadata": {},
   "outputs": [
    {
     "name": "stdout",
     "output_type": "stream",
     "text": [
      "[2, 4, 6, 8, 10, 12, 14, 16, 18, 20, 22, 24, 26, 28, 30, 32, 34, 36, 38, 40, 42, 44, 46, 48, 50, 52, 54, 56, 58, 60, 62, 64, 66, 68, 70, 72, 74, 76, 78, 80, 82, 84, 86, 88, 90, 92, 94, 96, 98, 100, 102, 104, 106, 108, 110, 112, 114, 116, 118, 120, 122, 124, 126, 128, 130, 132, 134, 136, 138, 140, 142, 144, 146, 148, 150, 152, 154, 156, 158, 160, 162, 164, 166, 168, 170, 172, 174, 176, 178, 180, 182, 184, 186, 188, 190, 192, 194, 196, 198]\n"
     ]
    }
   ],
   "source": [
    "myList = range(2,200)\n",
    "evenslist = [x for x in myList if x % 2 == 0]\n",
    "print (evenslist)"
   ]
  },
  {
   "cell_type": "code",
   "execution_count": null,
   "id": "b29007e1",
   "metadata": {},
   "outputs": [],
   "source": []
  }
 ],
 "metadata": {
  "kernelspec": {
   "display_name": "Python 3",
   "language": "python",
   "name": "python3"
  },
  "language_info": {
   "codemirror_mode": {
    "name": "ipython",
    "version": 3
   },
   "file_extension": ".py",
   "mimetype": "text/x-python",
   "name": "python",
   "nbconvert_exporter": "python",
   "pygments_lexer": "ipython3",
   "version": "3.8.8"
  }
 },
 "nbformat": 4,
 "nbformat_minor": 5
}
