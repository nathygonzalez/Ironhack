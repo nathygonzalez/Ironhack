{
 "cells": [
  {
   "cell_type": "code",
   "execution_count": 11,
   "id": "756d2bc5",
   "metadata": {},
   "outputs": [],
   "source": [
    "from definiciones import Persona, Estudiante"
   ]
  },
  {
   "cell_type": "code",
   "execution_count": 12,
   "id": "13cd5f0e",
   "metadata": {},
   "outputs": [],
   "source": [
    "estudiante = Estudiante ('Natalia','1985-05-24')"
   ]
  },
  {
   "cell_type": "code",
   "execution_count": 13,
   "id": "71774204",
   "metadata": {},
   "outputs": [
    {
     "data": {
      "text/plain": [
       "Estudio Data Analytics"
      ]
     },
     "execution_count": 13,
     "metadata": {},
     "output_type": "execute_result"
    }
   ],
   "source": [
    "estudiante"
   ]
  },
  {
   "cell_type": "code",
   "execution_count": null,
   "id": "ee253089",
   "metadata": {},
   "outputs": [],
   "source": []
  },
  {
   "cell_type": "code",
   "execution_count": 14,
   "id": "e0da35cc",
   "metadata": {},
   "outputs": [
    {
     "name": "stdout",
     "output_type": "stream",
     "text": [
      "Como te llamas?Natalia\n",
      "Cual es tu fecha de nacimiento? 1985-05-24\n",
      "Estudiante de Ironhack\n"
     ]
    }
   ],
   "source": [
    "def main():\n",
    "    nombre = input ('Como te llamas?')\n",
    "    fecha_nac = input ('Cual es tu fecha de nacimiento? ')\n",
    "    estudiante = Estudiante (nombre, fecha_nac)\n",
    "    print (estudiante)\n",
    "    \n",
    "if __name__ == '__main__':\n",
    "    main()"
   ]
  },
  {
   "cell_type": "code",
   "execution_count": 17,
   "id": "158c6904",
   "metadata": {},
   "outputs": [
    {
     "ename": "ModuleNotFoundError",
     "evalue": "No module named 'ironhack'",
     "output_type": "error",
     "traceback": [
      "\u001b[1;31m---------------------------------------------------------------------------\u001b[0m",
      "\u001b[1;31mModuleNotFoundError\u001b[0m                       Traceback (most recent call last)",
      "\u001b[1;32m<ipython-input-17-e6d770409cd8>\u001b[0m in \u001b[0;36m<module>\u001b[1;34m\u001b[0m\n\u001b[1;32m----> 1\u001b[1;33m \u001b[1;32mfrom\u001b[0m \u001b[0mironhack\u001b[0m \u001b[1;32mimport\u001b[0m \u001b[0mdefiniciones\u001b[0m\u001b[1;33m\u001b[0m\u001b[1;33m\u001b[0m\u001b[0m\n\u001b[0m",
      "\u001b[1;31mModuleNotFoundError\u001b[0m: No module named 'ironhack'"
     ]
    }
   ],
   "source": [
    "from ironhack import definiciones"
   ]
  },
  {
   "cell_type": "code",
   "execution_count": 16,
   "id": "e8f3febf",
   "metadata": {},
   "outputs": [
    {
     "ename": "NameError",
     "evalue": "name 'student' is not defined",
     "output_type": "error",
     "traceback": [
      "\u001b[1;31m---------------------------------------------------------------------------\u001b[0m",
      "\u001b[1;31mNameError\u001b[0m                                 Traceback (most recent call last)",
      "\u001b[1;32m<ipython-input-16-609c4a0f52cb>\u001b[0m in \u001b[0;36m<module>\u001b[1;34m\u001b[0m\n\u001b[1;32m----> 1\u001b[1;33m \u001b[0mstudent\u001b[0m\u001b[1;33m.\u001b[0m\u001b[0mmain\u001b[0m\u001b[1;33m(\u001b[0m\u001b[1;33m)\u001b[0m\u001b[1;33m\u001b[0m\u001b[1;33m\u001b[0m\u001b[0m\n\u001b[0m",
      "\u001b[1;31mNameError\u001b[0m: name 'student' is not defined"
     ]
    }
   ],
   "source": [
    "student.main()"
   ]
  },
  {
   "cell_type": "code",
   "execution_count": null,
   "id": "dfc9a205",
   "metadata": {},
   "outputs": [],
   "source": []
  }
 ],
 "metadata": {
  "kernelspec": {
   "display_name": "Python 3",
   "language": "python",
   "name": "python3"
  },
  "language_info": {
   "codemirror_mode": {
    "name": "ipython",
    "version": 3
   },
   "file_extension": ".py",
   "mimetype": "text/x-python",
   "name": "python",
   "nbconvert_exporter": "python",
   "pygments_lexer": "ipython3",
   "version": "3.8.8"
  }
 },
 "nbformat": 4,
 "nbformat_minor": 5
}
