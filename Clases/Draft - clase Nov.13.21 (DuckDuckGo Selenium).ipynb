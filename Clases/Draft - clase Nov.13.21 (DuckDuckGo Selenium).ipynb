{
 "cells": [
  {
   "cell_type": "code",
   "execution_count": 1,
   "id": "692c4ca0",
   "metadata": {},
   "outputs": [
    {
     "name": "stdout",
     "output_type": "stream",
     "text": [
      "Collecting Selenium\n",
      "  Downloading selenium-4.0.0-py3-none-any.whl (954 kB)\n",
      "Collecting trio~=0.17\n",
      "  Downloading trio-0.19.0-py3-none-any.whl (356 kB)\n",
      "Collecting trio-websocket~=0.9\n",
      "  Downloading trio_websocket-0.9.2-py3-none-any.whl (16 kB)\n",
      "Requirement already satisfied: urllib3[secure]~=1.26 in c:\\users\\natalia gonzalez\\anaconda3\\lib\\site-packages (from Selenium) (1.26.4)\n",
      "Collecting outcome\n",
      "  Downloading outcome-1.1.0-py2.py3-none-any.whl (9.7 kB)\n",
      "Requirement already satisfied: sortedcontainers in c:\\users\\natalia gonzalez\\anaconda3\\lib\\site-packages (from trio~=0.17->Selenium) (2.3.0)\n",
      "Requirement already satisfied: idna in c:\\users\\natalia gonzalez\\anaconda3\\lib\\site-packages (from trio~=0.17->Selenium) (2.10)\n",
      "Requirement already satisfied: async-generator>=1.9 in c:\\users\\natalia gonzalez\\anaconda3\\lib\\site-packages (from trio~=0.17->Selenium) (1.10)\n",
      "Requirement already satisfied: sniffio in c:\\users\\natalia gonzalez\\anaconda3\\lib\\site-packages (from trio~=0.17->Selenium) (1.2.0)\n",
      "Requirement already satisfied: attrs>=19.2.0 in c:\\users\\natalia gonzalez\\anaconda3\\lib\\site-packages (from trio~=0.17->Selenium) (20.3.0)\n",
      "Requirement already satisfied: cffi>=1.14 in c:\\users\\natalia gonzalez\\anaconda3\\lib\\site-packages (from trio~=0.17->Selenium) (1.14.5)\n",
      "Requirement already satisfied: pycparser in c:\\users\\natalia gonzalez\\anaconda3\\lib\\site-packages (from cffi>=1.14->trio~=0.17->Selenium) (2.20)\n",
      "Collecting wsproto>=0.14\n",
      "  Downloading wsproto-1.0.0-py3-none-any.whl (24 kB)\n",
      "Requirement already satisfied: cryptography>=1.3.4 in c:\\users\\natalia gonzalez\\anaconda3\\lib\\site-packages (from urllib3[secure]~=1.26->Selenium) (3.4.7)\n",
      "Requirement already satisfied: certifi in c:\\users\\natalia gonzalez\\anaconda3\\lib\\site-packages (from urllib3[secure]~=1.26->Selenium) (2020.12.5)\n",
      "Requirement already satisfied: pyOpenSSL>=0.14 in c:\\users\\natalia gonzalez\\anaconda3\\lib\\site-packages (from urllib3[secure]~=1.26->Selenium) (20.0.1)\n",
      "Requirement already satisfied: six>=1.5.2 in c:\\users\\natalia gonzalez\\anaconda3\\lib\\site-packages (from pyOpenSSL>=0.14->urllib3[secure]~=1.26->Selenium) (1.15.0)\n",
      "Collecting h11<1,>=0.9.0\n",
      "  Downloading h11-0.12.0-py3-none-any.whl (54 kB)\n",
      "Installing collected packages: outcome, h11, wsproto, trio, trio-websocket, Selenium\n",
      "Successfully installed Selenium-4.0.0 h11-0.12.0 outcome-1.1.0 trio-0.19.0 trio-websocket-0.9.2 wsproto-1.0.0\n"
     ]
    }
   ],
   "source": [
    "!pip install Selenium"
   ]
  },
  {
   "cell_type": "code",
   "execution_count": 2,
   "id": "ef54bb53",
   "metadata": {},
   "outputs": [],
   "source": [
    "import requests"
   ]
  },
  {
   "cell_type": "code",
   "execution_count": 3,
   "id": "f58140e3",
   "metadata": {},
   "outputs": [],
   "source": [
    "from selenium import webdriver"
   ]
  },
  {
   "cell_type": "code",
   "execution_count": 7,
   "id": "eec52c81",
   "metadata": {},
   "outputs": [
    {
     "name": "stdout",
     "output_type": "stream",
     "text": [
      "Collecting geckodriver-autoinstaller\n",
      "  Downloading geckodriver_autoinstaller-0.1.0-py3-none-any.whl (5.6 kB)\n",
      "Installing collected packages: geckodriver-autoinstaller\n",
      "Successfully installed geckodriver-autoinstaller-0.1.0\n"
     ]
    }
   ],
   "source": [
    "!pip install geckodriver-autoinstaller"
   ]
  },
  {
   "cell_type": "code",
   "execution_count": 8,
   "id": "3f550a64",
   "metadata": {},
   "outputs": [],
   "source": [
    "import geckodriver_autoinstaller"
   ]
  },
  {
   "cell_type": "code",
   "execution_count": 4,
   "id": "c9187021",
   "metadata": {},
   "outputs": [
    {
     "data": {
      "text/plain": [
       "['ActionChains',\n",
       " 'Chrome',\n",
       " 'ChromeOptions',\n",
       " 'ChromiumEdge',\n",
       " 'DesiredCapabilities',\n",
       " 'Edge',\n",
       " 'EdgeOptions',\n",
       " 'Firefox',\n",
       " 'FirefoxOptions',\n",
       " 'FirefoxProfile',\n",
       " 'Ie',\n",
       " 'IeOptions',\n",
       " 'Keys',\n",
       " 'Opera',\n",
       " 'Proxy',\n",
       " 'Remote',\n",
       " 'Safari',\n",
       " 'TouchActions',\n",
       " 'WPEWebKit',\n",
       " 'WPEWebKitOptions',\n",
       " 'WebKitGTK',\n",
       " 'WebKitGTKOptions',\n",
       " '__builtins__',\n",
       " '__cached__',\n",
       " '__doc__',\n",
       " '__file__',\n",
       " '__loader__',\n",
       " '__name__',\n",
       " '__package__',\n",
       " '__path__',\n",
       " '__spec__',\n",
       " '__version__',\n",
       " 'chrome',\n",
       " 'chromium',\n",
       " 'common',\n",
       " 'edge',\n",
       " 'firefox',\n",
       " 'ie',\n",
       " 'opera',\n",
       " 'remote',\n",
       " 'safari',\n",
       " 'support',\n",
       " 'webkitgtk',\n",
       " 'wpewebkit']"
      ]
     },
     "execution_count": 4,
     "metadata": {},
     "output_type": "execute_result"
    }
   ],
   "source": [
    "dir(webdriver)"
   ]
  },
  {
   "cell_type": "code",
   "execution_count": 26,
   "id": "9f6a2ae2",
   "metadata": {},
   "outputs": [
    {
     "name": "stderr",
     "output_type": "stream",
     "text": [
      "<ipython-input-26-77e02827a44b>:2: DeprecationWarning: executable_path has been deprecated, please pass in a Service object\n",
      "  driver = webdriver.Chrome(r\"C:\\\\Users\\\\Natalia Gonzalez\\\\Ironhack\\\\Clases\\\\chromedriver.exe\")\n"
     ]
    }
   ],
   "source": [
    "# para abrir uma janela (e ver o que está acontecendo)\n",
    "driver = webdriver.Chrome(r\"C:\\\\Users\\\\Natalia Gonzalez\\\\Ironhack\\\\Clases\\\\chromedriver.exe\")"
   ]
  },
  {
   "cell_type": "code",
   "execution_count": null,
   "id": "08ac2c9d",
   "metadata": {},
   "outputs": [],
   "source": [
    "# caixa de texto pelo inspecionar\n",
    "search_form_input_homepage\n",
    "# lupa pelo inspecionar\n",
    "search_button_homepage"
   ]
  },
  {
   "cell_type": "code",
   "execution_count": 27,
   "id": "0af58f1c",
   "metadata": {},
   "outputs": [],
   "source": [
    "driver.get('http://duckduckgo.com')"
   ]
  },
  {
   "cell_type": "code",
   "execution_count": 28,
   "id": "6617c3fa",
   "metadata": {},
   "outputs": [],
   "source": [
    "text_input = driver.find_element(by='id',\n",
    "                                 value='search_form_input_homepage')"
   ]
  },
  {
   "cell_type": "code",
   "execution_count": 19,
   "id": "1ba1d3f5",
   "metadata": {},
   "outputs": [
    {
     "data": {
      "text/plain": [
       "selenium.webdriver.remote.webelement.WebElement"
      ]
     },
     "execution_count": 19,
     "metadata": {},
     "output_type": "execute_result"
    }
   ],
   "source": [
    "type(text_input)"
   ]
  },
  {
   "cell_type": "code",
   "execution_count": 20,
   "id": "4a5b47f3",
   "metadata": {},
   "outputs": [
    {
     "data": {
      "text/plain": [
       "['__abstractmethods__',\n",
       " '__class__',\n",
       " '__delattr__',\n",
       " '__dict__',\n",
       " '__dir__',\n",
       " '__doc__',\n",
       " '__eq__',\n",
       " '__format__',\n",
       " '__ge__',\n",
       " '__getattribute__',\n",
       " '__gt__',\n",
       " '__hash__',\n",
       " '__init__',\n",
       " '__init_subclass__',\n",
       " '__le__',\n",
       " '__lt__',\n",
       " '__module__',\n",
       " '__ne__',\n",
       " '__new__',\n",
       " '__reduce__',\n",
       " '__reduce_ex__',\n",
       " '__repr__',\n",
       " '__setattr__',\n",
       " '__sizeof__',\n",
       " '__str__',\n",
       " '__subclasshook__',\n",
       " '__weakref__',\n",
       " '_abc_impl',\n",
       " '_execute',\n",
       " '_id',\n",
       " '_parent',\n",
       " '_upload',\n",
       " 'accessible_name',\n",
       " 'aria_role',\n",
       " 'clear',\n",
       " 'click',\n",
       " 'find_element',\n",
       " 'find_element_by_class_name',\n",
       " 'find_element_by_css_selector',\n",
       " 'find_element_by_id',\n",
       " 'find_element_by_link_text',\n",
       " 'find_element_by_name',\n",
       " 'find_element_by_partial_link_text',\n",
       " 'find_element_by_tag_name',\n",
       " 'find_element_by_xpath',\n",
       " 'find_elements',\n",
       " 'find_elements_by_class_name',\n",
       " 'find_elements_by_css_selector',\n",
       " 'find_elements_by_id',\n",
       " 'find_elements_by_link_text',\n",
       " 'find_elements_by_name',\n",
       " 'find_elements_by_partial_link_text',\n",
       " 'find_elements_by_tag_name',\n",
       " 'find_elements_by_xpath',\n",
       " 'get_attribute',\n",
       " 'get_dom_attribute',\n",
       " 'get_property',\n",
       " 'id',\n",
       " 'is_displayed',\n",
       " 'is_enabled',\n",
       " 'is_selected',\n",
       " 'location',\n",
       " 'location_once_scrolled_into_view',\n",
       " 'parent',\n",
       " 'rect',\n",
       " 'screenshot',\n",
       " 'screenshot_as_base64',\n",
       " 'screenshot_as_png',\n",
       " 'send_keys',\n",
       " 'size',\n",
       " 'submit',\n",
       " 'tag_name',\n",
       " 'text',\n",
       " 'value_of_css_property']"
      ]
     },
     "execution_count": 20,
     "metadata": {},
     "output_type": "execute_result"
    }
   ],
   "source": [
    "dir(text_input)"
   ]
  },
  {
   "cell_type": "code",
   "execution_count": 29,
   "id": "b5a09095",
   "metadata": {},
   "outputs": [],
   "source": [
    "text_input.click()"
   ]
  },
  {
   "cell_type": "code",
   "execution_count": 30,
   "id": "c02c1f87",
   "metadata": {},
   "outputs": [],
   "source": [
    "text_input.send_keys('data analytics')"
   ]
  },
  {
   "cell_type": "code",
   "execution_count": 31,
   "id": "2162a40f",
   "metadata": {},
   "outputs": [],
   "source": [
    "search_button = driver.find_element(by='id',\n",
    "                                 value='search_button_homepage')"
   ]
  },
  {
   "cell_type": "code",
   "execution_count": 33,
   "id": "8a9ee42d",
   "metadata": {},
   "outputs": [],
   "source": [
    "search_button.click()"
   ]
  },
  {
   "cell_type": "code",
   "execution_count": null,
   "id": "4854061b",
   "metadata": {},
   "outputs": [],
   "source": [
    "# até aqui executa a busca"
   ]
  },
  {
   "cell_type": "code",
   "execution_count": null,
   "id": "767899b5",
   "metadata": {},
   "outputs": [],
   "source": []
  },
  {
   "cell_type": "code",
   "execution_count": 38,
   "id": "b429068b",
   "metadata": {},
   "outputs": [
    {
     "ename": "InvalidArgumentException",
     "evalue": "Message: invalid argument: invalid locator\n  (Session info: chrome=95.0.4638.69)\nStacktrace:\nBacktrace:\n\tOrdinal0 [0x01090C43+2493507]\n\tOrdinal0 [0x0102A4B1+2073777]\n\tOrdinal0 [0x00F32608+1058312]\n\tOrdinal0 [0x00F5CC36+1231926]\n\tOrdinal0 [0x00F86C62+1404002]\n\tOrdinal0 [0x00F7597A+1333626]\n\tOrdinal0 [0x00F85038+1396792]\n\tOrdinal0 [0x00F7580B+1333259]\n\tOrdinal0 [0x00F52314+1188628]\n\tOrdinal0 [0x00F5316F+1192303]\n\tGetHandleVerifier [0x01217BF6+1548950]\n\tGetHandleVerifier [0x012C461C+2256060]\n\tGetHandleVerifier [0x0111C13B+518107]\n\tGetHandleVerifier [0x0111B1E0+514176]\n\tOrdinal0 [0x0102F53D+2094397]\n\tOrdinal0 [0x01033418+2110488]\n\tOrdinal0 [0x01033552+2110802]\n\tOrdinal0 [0x0103CE81+2150017]\n\tBaseThreadInitThunk [0x7765FA29+25]\n\tRtlGetAppContainerNamedObjectPath [0x778A7A9E+286]\n\tRtlGetAppContainerNamedObjectPath [0x778A7A6E+238]\n",
     "output_type": "error",
     "traceback": [
      "\u001b[1;31m---------------------------------------------------------------------------\u001b[0m",
      "\u001b[1;31mInvalidArgumentException\u001b[0m                  Traceback (most recent call last)",
      "\u001b[1;32m<ipython-input-38-1a6523a6dd60>\u001b[0m in \u001b[0;36m<module>\u001b[1;34m\u001b[0m\n\u001b[1;32m----> 1\u001b[1;33m \u001b[0mdriver\u001b[0m\u001b[1;33m.\u001b[0m\u001b[0mfind_element\u001b[0m\u001b[1;33m(\u001b[0m\u001b[0mby\u001b[0m\u001b[1;33m=\u001b[0m\u001b[1;34m'class'\u001b[0m\u001b[1;33m,\u001b[0m \u001b[0mvalue\u001b[0m\u001b[1;33m=\u001b[0m\u001b[1;34m'.result'\u001b[0m\u001b[1;33m)\u001b[0m\u001b[1;33m\u001b[0m\u001b[1;33m\u001b[0m\u001b[0m\n\u001b[0m",
      "\u001b[1;32m~\\anaconda3\\lib\\site-packages\\selenium\\webdriver\\remote\\webdriver.py\u001b[0m in \u001b[0;36mfind_element\u001b[1;34m(self, by, value)\u001b[0m\n\u001b[0;32m   1236\u001b[0m             \u001b[0mvalue\u001b[0m \u001b[1;33m=\u001b[0m \u001b[1;34m'[name=\"%s\"]'\u001b[0m \u001b[1;33m%\u001b[0m \u001b[0mvalue\u001b[0m\u001b[1;33m\u001b[0m\u001b[1;33m\u001b[0m\u001b[0m\n\u001b[0;32m   1237\u001b[0m \u001b[1;33m\u001b[0m\u001b[0m\n\u001b[1;32m-> 1238\u001b[1;33m         return self.execute(Command.FIND_ELEMENT, {\n\u001b[0m\u001b[0;32m   1239\u001b[0m             \u001b[1;34m'using'\u001b[0m\u001b[1;33m:\u001b[0m \u001b[0mby\u001b[0m\u001b[1;33m,\u001b[0m\u001b[1;33m\u001b[0m\u001b[1;33m\u001b[0m\u001b[0m\n\u001b[0;32m   1240\u001b[0m             'value': value})['value']\n",
      "\u001b[1;32m~\\anaconda3\\lib\\site-packages\\selenium\\webdriver\\remote\\webdriver.py\u001b[0m in \u001b[0;36mexecute\u001b[1;34m(self, driver_command, params)\u001b[0m\n\u001b[0;32m    416\u001b[0m         \u001b[0mresponse\u001b[0m \u001b[1;33m=\u001b[0m \u001b[0mself\u001b[0m\u001b[1;33m.\u001b[0m\u001b[0mcommand_executor\u001b[0m\u001b[1;33m.\u001b[0m\u001b[0mexecute\u001b[0m\u001b[1;33m(\u001b[0m\u001b[0mdriver_command\u001b[0m\u001b[1;33m,\u001b[0m \u001b[0mparams\u001b[0m\u001b[1;33m)\u001b[0m\u001b[1;33m\u001b[0m\u001b[1;33m\u001b[0m\u001b[0m\n\u001b[0;32m    417\u001b[0m         \u001b[1;32mif\u001b[0m \u001b[0mresponse\u001b[0m\u001b[1;33m:\u001b[0m\u001b[1;33m\u001b[0m\u001b[1;33m\u001b[0m\u001b[0m\n\u001b[1;32m--> 418\u001b[1;33m             \u001b[0mself\u001b[0m\u001b[1;33m.\u001b[0m\u001b[0merror_handler\u001b[0m\u001b[1;33m.\u001b[0m\u001b[0mcheck_response\u001b[0m\u001b[1;33m(\u001b[0m\u001b[0mresponse\u001b[0m\u001b[1;33m)\u001b[0m\u001b[1;33m\u001b[0m\u001b[1;33m\u001b[0m\u001b[0m\n\u001b[0m\u001b[0;32m    419\u001b[0m             response['value'] = self._unwrap_value(\n\u001b[0;32m    420\u001b[0m                 response.get('value', None))\n",
      "\u001b[1;32m~\\anaconda3\\lib\\site-packages\\selenium\\webdriver\\remote\\errorhandler.py\u001b[0m in \u001b[0;36mcheck_response\u001b[1;34m(self, response)\u001b[0m\n\u001b[0;32m    241\u001b[0m                 \u001b[0malert_text\u001b[0m \u001b[1;33m=\u001b[0m \u001b[0mvalue\u001b[0m\u001b[1;33m[\u001b[0m\u001b[1;34m'alert'\u001b[0m\u001b[1;33m]\u001b[0m\u001b[1;33m.\u001b[0m\u001b[0mget\u001b[0m\u001b[1;33m(\u001b[0m\u001b[1;34m'text'\u001b[0m\u001b[1;33m)\u001b[0m\u001b[1;33m\u001b[0m\u001b[1;33m\u001b[0m\u001b[0m\n\u001b[0;32m    242\u001b[0m             \u001b[1;32mraise\u001b[0m \u001b[0mexception_class\u001b[0m\u001b[1;33m(\u001b[0m\u001b[0mmessage\u001b[0m\u001b[1;33m,\u001b[0m \u001b[0mscreen\u001b[0m\u001b[1;33m,\u001b[0m \u001b[0mstacktrace\u001b[0m\u001b[1;33m,\u001b[0m \u001b[0malert_text\u001b[0m\u001b[1;33m)\u001b[0m  \u001b[1;31m# type: ignore[call-arg]  # mypy is not smart enough here\u001b[0m\u001b[1;33m\u001b[0m\u001b[1;33m\u001b[0m\u001b[0m\n\u001b[1;32m--> 243\u001b[1;33m         \u001b[1;32mraise\u001b[0m \u001b[0mexception_class\u001b[0m\u001b[1;33m(\u001b[0m\u001b[0mmessage\u001b[0m\u001b[1;33m,\u001b[0m \u001b[0mscreen\u001b[0m\u001b[1;33m,\u001b[0m \u001b[0mstacktrace\u001b[0m\u001b[1;33m)\u001b[0m\u001b[1;33m\u001b[0m\u001b[1;33m\u001b[0m\u001b[0m\n\u001b[0m\u001b[0;32m    244\u001b[0m \u001b[1;33m\u001b[0m\u001b[0m\n\u001b[0;32m    245\u001b[0m     \u001b[1;32mdef\u001b[0m \u001b[0m_value_or_default\u001b[0m\u001b[1;33m(\u001b[0m\u001b[0mself\u001b[0m\u001b[1;33m,\u001b[0m \u001b[0mobj\u001b[0m\u001b[1;33m:\u001b[0m \u001b[0mMapping\u001b[0m\u001b[1;33m[\u001b[0m\u001b[0m_KT\u001b[0m\u001b[1;33m,\u001b[0m \u001b[0m_VT\u001b[0m\u001b[1;33m]\u001b[0m\u001b[1;33m,\u001b[0m \u001b[0mkey\u001b[0m\u001b[1;33m:\u001b[0m \u001b[0m_KT\u001b[0m\u001b[1;33m,\u001b[0m \u001b[0mdefault\u001b[0m\u001b[1;33m:\u001b[0m \u001b[0m_VT\u001b[0m\u001b[1;33m)\u001b[0m \u001b[1;33m->\u001b[0m \u001b[0m_VT\u001b[0m\u001b[1;33m:\u001b[0m\u001b[1;33m\u001b[0m\u001b[1;33m\u001b[0m\u001b[0m\n",
      "\u001b[1;31mInvalidArgumentException\u001b[0m: Message: invalid argument: invalid locator\n  (Session info: chrome=95.0.4638.69)\nStacktrace:\nBacktrace:\n\tOrdinal0 [0x01090C43+2493507]\n\tOrdinal0 [0x0102A4B1+2073777]\n\tOrdinal0 [0x00F32608+1058312]\n\tOrdinal0 [0x00F5CC36+1231926]\n\tOrdinal0 [0x00F86C62+1404002]\n\tOrdinal0 [0x00F7597A+1333626]\n\tOrdinal0 [0x00F85038+1396792]\n\tOrdinal0 [0x00F7580B+1333259]\n\tOrdinal0 [0x00F52314+1188628]\n\tOrdinal0 [0x00F5316F+1192303]\n\tGetHandleVerifier [0x01217BF6+1548950]\n\tGetHandleVerifier [0x012C461C+2256060]\n\tGetHandleVerifier [0x0111C13B+518107]\n\tGetHandleVerifier [0x0111B1E0+514176]\n\tOrdinal0 [0x0102F53D+2094397]\n\tOrdinal0 [0x01033418+2110488]\n\tOrdinal0 [0x01033552+2110802]\n\tOrdinal0 [0x0103CE81+2150017]\n\tBaseThreadInitThunk [0x7765FA29+25]\n\tRtlGetAppContainerNamedObjectPath [0x778A7A9E+286]\n\tRtlGetAppContainerNamedObjectPath [0x778A7A6E+238]\n"
     ]
    }
   ],
   "source": [
    "driver.find_element(by='class', value='.result')"
   ]
  },
  {
   "cell_type": "code",
   "execution_count": 34,
   "id": "3d988d5f",
   "metadata": {},
   "outputs": [
    {
     "data": {
      "text/plain": [
       "<selenium.webdriver.remote.webelement.WebElement (session=\"3c4c9b8f0805de2269cc961c3d60b61c\", element=\"d32420b9-91eb-4e67-91bb-c9aa93bb268a\")>"
      ]
     },
     "execution_count": 34,
     "metadata": {},
     "output_type": "execute_result"
    }
   ],
   "source": [
    "driver.find_element(by='css selector', value='.result')"
   ]
  },
  {
   "cell_type": "code",
   "execution_count": 55,
   "id": "15453c5f",
   "metadata": {},
   "outputs": [],
   "source": [
    "results = driver.find_elements(by='css selector', value='.result')"
   ]
  },
  {
   "cell_type": "code",
   "execution_count": null,
   "id": "faa7f538",
   "metadata": {},
   "outputs": [],
   "source": []
  },
  {
   "cell_type": "code",
   "execution_count": 57,
   "id": "95187762",
   "metadata": {},
   "outputs": [],
   "source": [
    "ele = driver.find_element(by='tag name', value='h2')"
   ]
  },
  {
   "cell_type": "code",
   "execution_count": 61,
   "id": "8fb67c8f",
   "metadata": {},
   "outputs": [],
   "source": [
    "a = driver.find_element(by='tag name', value='h2').find_element(by='tag name', value='a')"
   ]
  },
  {
   "cell_type": "code",
   "execution_count": 62,
   "id": "906a8b2b",
   "metadata": {},
   "outputs": [
    {
     "data": {
      "text/plain": [
       "'https://duckduckgo.com/y.js?ad_provider=bingv7aa&eddgt=9dZuGzLbpeQKmu6M2rHbjA%3D%3D&rut=6b98f8babe658ec3d9d6c2e405b76cbee19ef9f244426f85cbe72304b126fac7&u3=https%3A%2F%2Fwww.bing.com%2Faclick%3Fld%3De8HmmggacfNyqDgure9OIKpjVUCUyuBW8JU4_54bcZrI3KuH5Jh%2D6Q%2DJ4QYvPySifTQq4IUlQU2PHXm5jsDL%2DRL5ZJ3gSC6K5X_t1b9ZI51xgWyxL8lBJx58Jb88zX%2DJdfpcTPkXShJEeROa2btRjDEC2Bi7QHnMoUvw2EzDpmUFdXg6EV%26u%3DaHR0cCUzYSUyZiUyZnd3dy50aWJjby5jb20lMmZyZXNvdXJjZXMlMmZlYm9vay1kb3dubG9hZCUyZnJlcG9ydGluZy10by1wcmVkaWN0aXZlLWFuYWx5dGljcyUzZnV0bV9tZWRpdW0lM2RjcGMlMjZ1dG1fc291cmNlJTNkYmluZyUyNnV0bV9jb250ZW50JTNkcyUyNnV0bV9jYW1wYWlnbiUzZGJuZ19zX2VuX2VtZWFfU1BUX25vbmJyYW5kX2JldGFfRERHJTI2dXRtX3Rlcm0lM2QlMjUyQmRhdGElMjUyMCUyNTJCYW5hbHl0aWNzJTI2X2J0JTNkJTI2X2JtJTNkZSUyNl9ibiUzZHMlMjZtc2Nsa2lkJTNkYTBiZDYwNTBhMmY0MTI0NzA4OWUwMWRmMjZiYTg0NTglMjZ1dG1fc291cmNlJTNkYmluZyUyNnV0bV9tZWRpdW0lM2RjcGMlMjZ1dG1fY2FtcGFpZ24lM2Ribmdfc19lbl9lbWVhX1NQVF9ub25icmFuZF9iZXRhX0RERyUyNnV0bV90ZXJtJTNkJTI1MkJkYXRhJTI1MjAlMjUyQmFuYWx5dGljcyUyNnV0bV9jb250ZW50JTNkZGF0YSUyNTIwYW5hbHl0aWNz%26rlid%3Da0bd6050a2f41247089e01df26ba8458&vqd=3-261921228552312629309832560719745625895-122751706669626736440215406051876398438&iurl=%7B1%7DIG%3DFE6720C13F3649E085A13071E995B75B%26CID%3D35089ABB573D66C633208A55566A6711%26ID%3DDevEx%2C5761.1'"
      ]
     },
     "execution_count": 62,
     "metadata": {},
     "output_type": "execute_result"
    }
   ],
   "source": [
    "a.get_attribute ('href')"
   ]
  },
  {
   "cell_type": "code",
   "execution_count": 63,
   "id": "daf2a1ee",
   "metadata": {},
   "outputs": [
    {
     "data": {
      "text/plain": [
       "'Data Analytics - Data Analytics Review'"
      ]
     },
     "execution_count": 63,
     "metadata": {},
     "output_type": "execute_result"
    }
   ],
   "source": [
    "a.text"
   ]
  },
  {
   "cell_type": "code",
   "execution_count": 59,
   "id": "271e0a61",
   "metadata": {},
   "outputs": [],
   "source": [
    "import time"
   ]
  },
  {
   "cell_type": "code",
   "execution_count": 65,
   "id": "ecda3305",
   "metadata": {},
   "outputs": [],
   "source": [
    "more = driver.find_element(by='css selector',\n",
    "                            value='.result--more__btn').click()"
   ]
  },
  {
   "cell_type": "code",
   "execution_count": null,
   "id": "7943cd52",
   "metadata": {},
   "outputs": [],
   "source": [
    "for i in range(10):\n",
    "    try:\n",
    "        driver.find_elements(by='css selector',\n",
    "                            value='.result--more__btn').click()\n",
    "        time.sleep(5)\n",
    "    except:\n",
    "        break"
   ]
  },
  {
   "cell_type": "code",
   "execution_count": 66,
   "id": "5a811633",
   "metadata": {},
   "outputs": [
    {
     "ename": "SyntaxError",
     "evalue": "invalid syntax (<ipython-input-66-3f128d90920e>, line 3)",
     "output_type": "error",
     "traceback": [
      "\u001b[1;36m  File \u001b[1;32m\"<ipython-input-66-3f128d90920e>\"\u001b[1;36m, line \u001b[1;32m3\u001b[0m\n\u001b[1;33m    try\u001b[0m\n\u001b[1;37m       ^\u001b[0m\n\u001b[1;31mSyntaxError\u001b[0m\u001b[1;31m:\u001b[0m invalid syntax\n"
     ]
    }
   ],
   "source": [
    "search_results = []\n",
    "for ele in results:\n",
    "    try\n",
    "    a = ele.find_element(by='tag name', value='h2').find_element(by='tag name', value='a')\n",
    "    \n",
    "    search_results.append(\n",
    "    {'title': a.text,\n",
    "    'url':a.get_attribute ('href')\n",
    "    })\n",
    "except:\n",
    "    pass"
   ]
  },
  {
   "cell_type": "code",
   "execution_count": 39,
   "id": "4b599015",
   "metadata": {},
   "outputs": [],
   "source": [
    "import pandas as pd"
   ]
  },
  {
   "cell_type": "code",
   "execution_count": null,
   "id": "aac0b360",
   "metadata": {},
   "outputs": [],
   "source": [
    "pd.DataFrame"
   ]
  },
  {
   "cell_type": "code",
   "execution_count": null,
   "id": "08257e36",
   "metadata": {},
   "outputs": [],
   "source": []
  },
  {
   "cell_type": "code",
   "execution_count": 67,
   "id": "1a699389",
   "metadata": {},
   "outputs": [],
   "source": [
    "import lxml.html"
   ]
  },
  {
   "cell_type": "code",
   "execution_count": 69,
   "id": "5ae7681f",
   "metadata": {},
   "outputs": [],
   "source": [
    "html = requests.get('https://quotes.toscrape.com/').text"
   ]
  },
  {
   "cell_type": "code",
   "execution_count": 70,
   "id": "626cd6c7",
   "metadata": {},
   "outputs": [
    {
     "data": {
      "text/plain": [
       "'<!DOCTYPE html>\\n<html lang=\"en\">\\n<head>\\n\\t<meta charset=\"UTF-8\">\\n\\t<title>Quotes to Scrape</title>\\n    <link rel=\"stylesheet\" href=\"/static/bootstrap.min.css\">\\n    <link rel=\"stylesheet\" href=\"/static/main.css\">\\n</head>\\n<body>\\n    <div class=\"container\">\\n        <div class=\"row header-box\">\\n            <div class=\"col-md-8\">\\n                <h1>\\n                    <a href=\"/\" style=\"text-decoration: none\">Quotes to Scrape</a>\\n                </h1>\\n            </div>\\n            <div class=\"col-md-4\">\\n                <p>\\n                \\n                    <a href=\"/login\">Login</a>\\n                \\n                </p>\\n            </div>\\n        </div>\\n    \\n\\n<div class=\"row\">\\n    <div class=\"col-md-8\">\\n\\n    <div class=\"quote\" itemscope itemtype=\"http://schema.org/CreativeWork\">\\n        <span class=\"text\" itemprop=\"text\">“The world as we have created it is a process of our thinking. It cannot be changed without changing our thinking.”</span>\\n        <span>by <small class=\"author\" itemprop=\"author\">Albert Einstein</small>\\n        <a href=\"/author/Albert-Einstein\">(about)</a>\\n        </span>\\n        <div class=\"tags\">\\n            Tags:\\n            <meta class=\"keywords\" itemprop=\"keywords\" content=\"change,deep-thoughts,thinking,world\" /    > \\n            \\n            <a class=\"tag\" href=\"/tag/change/page/1/\">change</a>\\n            \\n            <a class=\"tag\" href=\"/tag/deep-thoughts/page/1/\">deep-thoughts</a>\\n            \\n            <a class=\"tag\" href=\"/tag/thinking/page/1/\">thinking</a>\\n            \\n            <a class=\"tag\" href=\"/tag/world/page/1/\">world</a>\\n            \\n        </div>\\n    </div>\\n\\n    <div class=\"quote\" itemscope itemtype=\"http://schema.org/CreativeWork\">\\n        <span class=\"text\" itemprop=\"text\">“It is our choices, Harry, that show what we truly are, far more than our abilities.”</span>\\n        <span>by <small class=\"author\" itemprop=\"author\">J.K. Rowling</small>\\n        <a href=\"/author/J-K-Rowling\">(about)</a>\\n        </span>\\n        <div class=\"tags\">\\n            Tags:\\n            <meta class=\"keywords\" itemprop=\"keywords\" content=\"abilities,choices\" /    > \\n            \\n            <a class=\"tag\" href=\"/tag/abilities/page/1/\">abilities</a>\\n            \\n            <a class=\"tag\" href=\"/tag/choices/page/1/\">choices</a>\\n            \\n        </div>\\n    </div>\\n\\n    <div class=\"quote\" itemscope itemtype=\"http://schema.org/CreativeWork\">\\n        <span class=\"text\" itemprop=\"text\">“There are only two ways to live your life. One is as though nothing is a miracle. The other is as though everything is a miracle.”</span>\\n        <span>by <small class=\"author\" itemprop=\"author\">Albert Einstein</small>\\n        <a href=\"/author/Albert-Einstein\">(about)</a>\\n        </span>\\n        <div class=\"tags\">\\n            Tags:\\n            <meta class=\"keywords\" itemprop=\"keywords\" content=\"inspirational,life,live,miracle,miracles\" /    > \\n            \\n            <a class=\"tag\" href=\"/tag/inspirational/page/1/\">inspirational</a>\\n            \\n            <a class=\"tag\" href=\"/tag/life/page/1/\">life</a>\\n            \\n            <a class=\"tag\" href=\"/tag/live/page/1/\">live</a>\\n            \\n            <a class=\"tag\" href=\"/tag/miracle/page/1/\">miracle</a>\\n            \\n            <a class=\"tag\" href=\"/tag/miracles/page/1/\">miracles</a>\\n            \\n        </div>\\n    </div>\\n\\n    <div class=\"quote\" itemscope itemtype=\"http://schema.org/CreativeWork\">\\n        <span class=\"text\" itemprop=\"text\">“The person, be it gentleman or lady, who has not pleasure in a good novel, must be intolerably stupid.”</span>\\n        <span>by <small class=\"author\" itemprop=\"author\">Jane Austen</small>\\n        <a href=\"/author/Jane-Austen\">(about)</a>\\n        </span>\\n        <div class=\"tags\">\\n            Tags:\\n            <meta class=\"keywords\" itemprop=\"keywords\" content=\"aliteracy,books,classic,humor\" /    > \\n            \\n            <a class=\"tag\" href=\"/tag/aliteracy/page/1/\">aliteracy</a>\\n            \\n            <a class=\"tag\" href=\"/tag/books/page/1/\">books</a>\\n            \\n            <a class=\"tag\" href=\"/tag/classic/page/1/\">classic</a>\\n            \\n            <a class=\"tag\" href=\"/tag/humor/page/1/\">humor</a>\\n            \\n        </div>\\n    </div>\\n\\n    <div class=\"quote\" itemscope itemtype=\"http://schema.org/CreativeWork\">\\n        <span class=\"text\" itemprop=\"text\">“Imperfection is beauty, madness is genius and it&#39;s better to be absolutely ridiculous than absolutely boring.”</span>\\n        <span>by <small class=\"author\" itemprop=\"author\">Marilyn Monroe</small>\\n        <a href=\"/author/Marilyn-Monroe\">(about)</a>\\n        </span>\\n        <div class=\"tags\">\\n            Tags:\\n            <meta class=\"keywords\" itemprop=\"keywords\" content=\"be-yourself,inspirational\" /    > \\n            \\n            <a class=\"tag\" href=\"/tag/be-yourself/page/1/\">be-yourself</a>\\n            \\n            <a class=\"tag\" href=\"/tag/inspirational/page/1/\">inspirational</a>\\n            \\n        </div>\\n    </div>\\n\\n    <div class=\"quote\" itemscope itemtype=\"http://schema.org/CreativeWork\">\\n        <span class=\"text\" itemprop=\"text\">“Try not to become a man of success. Rather become a man of value.”</span>\\n        <span>by <small class=\"author\" itemprop=\"author\">Albert Einstein</small>\\n        <a href=\"/author/Albert-Einstein\">(about)</a>\\n        </span>\\n        <div class=\"tags\">\\n            Tags:\\n            <meta class=\"keywords\" itemprop=\"keywords\" content=\"adulthood,success,value\" /    > \\n            \\n            <a class=\"tag\" href=\"/tag/adulthood/page/1/\">adulthood</a>\\n            \\n            <a class=\"tag\" href=\"/tag/success/page/1/\">success</a>\\n            \\n            <a class=\"tag\" href=\"/tag/value/page/1/\">value</a>\\n            \\n        </div>\\n    </div>\\n\\n    <div class=\"quote\" itemscope itemtype=\"http://schema.org/CreativeWork\">\\n        <span class=\"text\" itemprop=\"text\">“It is better to be hated for what you are than to be loved for what you are not.”</span>\\n        <span>by <small class=\"author\" itemprop=\"author\">André Gide</small>\\n        <a href=\"/author/Andre-Gide\">(about)</a>\\n        </span>\\n        <div class=\"tags\">\\n            Tags:\\n            <meta class=\"keywords\" itemprop=\"keywords\" content=\"life,love\" /    > \\n            \\n            <a class=\"tag\" href=\"/tag/life/page/1/\">life</a>\\n            \\n            <a class=\"tag\" href=\"/tag/love/page/1/\">love</a>\\n            \\n        </div>\\n    </div>\\n\\n    <div class=\"quote\" itemscope itemtype=\"http://schema.org/CreativeWork\">\\n        <span class=\"text\" itemprop=\"text\">“I have not failed. I&#39;ve just found 10,000 ways that won&#39;t work.”</span>\\n        <span>by <small class=\"author\" itemprop=\"author\">Thomas A. Edison</small>\\n        <a href=\"/author/Thomas-A-Edison\">(about)</a>\\n        </span>\\n        <div class=\"tags\">\\n            Tags:\\n            <meta class=\"keywords\" itemprop=\"keywords\" content=\"edison,failure,inspirational,paraphrased\" /    > \\n            \\n            <a class=\"tag\" href=\"/tag/edison/page/1/\">edison</a>\\n            \\n            <a class=\"tag\" href=\"/tag/failure/page/1/\">failure</a>\\n            \\n            <a class=\"tag\" href=\"/tag/inspirational/page/1/\">inspirational</a>\\n            \\n            <a class=\"tag\" href=\"/tag/paraphrased/page/1/\">paraphrased</a>\\n            \\n        </div>\\n    </div>\\n\\n    <div class=\"quote\" itemscope itemtype=\"http://schema.org/CreativeWork\">\\n        <span class=\"text\" itemprop=\"text\">“A woman is like a tea bag; you never know how strong it is until it&#39;s in hot water.”</span>\\n        <span>by <small class=\"author\" itemprop=\"author\">Eleanor Roosevelt</small>\\n        <a href=\"/author/Eleanor-Roosevelt\">(about)</a>\\n        </span>\\n        <div class=\"tags\">\\n            Tags:\\n            <meta class=\"keywords\" itemprop=\"keywords\" content=\"misattributed-eleanor-roosevelt\" /    > \\n            \\n            <a class=\"tag\" href=\"/tag/misattributed-eleanor-roosevelt/page/1/\">misattributed-eleanor-roosevelt</a>\\n            \\n        </div>\\n    </div>\\n\\n    <div class=\"quote\" itemscope itemtype=\"http://schema.org/CreativeWork\">\\n        <span class=\"text\" itemprop=\"text\">“A day without sunshine is like, you know, night.”</span>\\n        <span>by <small class=\"author\" itemprop=\"author\">Steve Martin</small>\\n        <a href=\"/author/Steve-Martin\">(about)</a>\\n        </span>\\n        <div class=\"tags\">\\n            Tags:\\n            <meta class=\"keywords\" itemprop=\"keywords\" content=\"humor,obvious,simile\" /    > \\n            \\n            <a class=\"tag\" href=\"/tag/humor/page/1/\">humor</a>\\n            \\n            <a class=\"tag\" href=\"/tag/obvious/page/1/\">obvious</a>\\n            \\n            <a class=\"tag\" href=\"/tag/simile/page/1/\">simile</a>\\n            \\n        </div>\\n    </div>\\n\\n    <nav>\\n        <ul class=\"pager\">\\n            \\n            \\n            <li class=\"next\">\\n                <a href=\"/page/2/\">Next <span aria-hidden=\"true\">&rarr;</span></a>\\n            </li>\\n            \\n        </ul>\\n    </nav>\\n    </div>\\n    <div class=\"col-md-4 tags-box\">\\n        \\n            <h2>Top Ten tags</h2>\\n            \\n            <span class=\"tag-item\">\\n            <a class=\"tag\" style=\"font-size: 28px\" href=\"/tag/love/\">love</a>\\n            </span>\\n            \\n            <span class=\"tag-item\">\\n            <a class=\"tag\" style=\"font-size: 26px\" href=\"/tag/inspirational/\">inspirational</a>\\n            </span>\\n            \\n            <span class=\"tag-item\">\\n            <a class=\"tag\" style=\"font-size: 26px\" href=\"/tag/life/\">life</a>\\n            </span>\\n            \\n            <span class=\"tag-item\">\\n            <a class=\"tag\" style=\"font-size: 24px\" href=\"/tag/humor/\">humor</a>\\n            </span>\\n            \\n            <span class=\"tag-item\">\\n            <a class=\"tag\" style=\"font-size: 22px\" href=\"/tag/books/\">books</a>\\n            </span>\\n            \\n            <span class=\"tag-item\">\\n            <a class=\"tag\" style=\"font-size: 14px\" href=\"/tag/reading/\">reading</a>\\n            </span>\\n            \\n            <span class=\"tag-item\">\\n            <a class=\"tag\" style=\"font-size: 10px\" href=\"/tag/friendship/\">friendship</a>\\n            </span>\\n            \\n            <span class=\"tag-item\">\\n            <a class=\"tag\" style=\"font-size: 8px\" href=\"/tag/friends/\">friends</a>\\n            </span>\\n            \\n            <span class=\"tag-item\">\\n            <a class=\"tag\" style=\"font-size: 8px\" href=\"/tag/truth/\">truth</a>\\n            </span>\\n            \\n            <span class=\"tag-item\">\\n            <a class=\"tag\" style=\"font-size: 6px\" href=\"/tag/simile/\">simile</a>\\n            </span>\\n            \\n        \\n    </div>\\n</div>\\n\\n    </div>\\n    <footer class=\"footer\">\\n        <div class=\"container\">\\n            <p class=\"text-muted\">\\n                Quotes by: <a href=\"https://www.goodreads.com/quotes\">GoodReads.com</a>\\n            </p>\\n            <p class=\"copyright\">\\n                Made with <span class=\\'sh-red\\'>❤</span> by <a href=\"https://scrapinghub.com\">Scrapinghub</a>\\n            </p>\\n        </div>\\n    </footer>\\n</body>\\n</html>'"
      ]
     },
     "execution_count": 70,
     "metadata": {},
     "output_type": "execute_result"
    }
   ],
   "source": [
    "html"
   ]
  },
  {
   "cell_type": "code",
   "execution_count": 71,
   "id": "0bc59e21",
   "metadata": {},
   "outputs": [],
   "source": [
    "root = lxml.html.fromstring(html)"
   ]
  },
  {
   "cell_type": "code",
   "execution_count": 72,
   "id": "a909a4a2",
   "metadata": {},
   "outputs": [
    {
     "data": {
      "text/plain": [
       "<Element html at 0x1fce51b52c0>"
      ]
     },
     "execution_count": 72,
     "metadata": {},
     "output_type": "execute_result"
    }
   ],
   "source": [
    "root"
   ]
  },
  {
   "cell_type": "code",
   "execution_count": null,
   "id": "88c9a864",
   "metadata": {},
   "outputs": [],
   "source": [
    "#documentacion:\n",
    "# Selector css\n",
    "body > div > div:nth-child(2) > div.col-md-8 > div:nth-child(1)\n",
    "#xpath text:\n",
    "/html/body/div/div[2]/div[1]/div[1]\n",
    "#xpath author:\n",
    "/html/body/div/div[2]/div[1]/div[1]/span[2]\n",
    "# xpath tags:\n",
    "/html/body/div/div[2]/div[1]/div[1]/div"
   ]
  },
  {
   "cell_type": "code",
   "execution_count": null,
   "id": "a30342f3",
   "metadata": {},
   "outputs": [],
   "source": []
  },
  {
   "cell_type": "code",
   "execution_count": 73,
   "id": "e68aee25",
   "metadata": {},
   "outputs": [
    {
     "data": {
      "text/plain": [
       "[<Element div at 0x1fce51a74f0>]"
      ]
     },
     "execution_count": 73,
     "metadata": {},
     "output_type": "execute_result"
    }
   ],
   "source": [
    "# nos devuelve una lista de elementos\n",
    "root.xpath('/html/body/div/div[2]/div[1]/div[1]')"
   ]
  },
  {
   "cell_type": "code",
   "execution_count": 74,
   "id": "7c885501",
   "metadata": {},
   "outputs": [
    {
     "data": {
      "text/plain": [
       "[<Element div at 0x1fce51a74f0>,\n",
       " <Element div at 0x1fce51a72c0>,\n",
       " <Element div at 0x1fce51a73b0>,\n",
       " <Element div at 0x1fce51a7220>,\n",
       " <Element div at 0x1fce51a7270>,\n",
       " <Element div at 0x1fce51a7360>,\n",
       " <Element div at 0x1fce51a70e0>,\n",
       " <Element div at 0x1fce51a7180>,\n",
       " <Element div at 0x1fce51a7130>,\n",
       " <Element div at 0x1fce51a7400>]"
      ]
     },
     "execution_count": 74,
     "metadata": {},
     "output_type": "execute_result"
    }
   ],
   "source": [
    "# si sacamos el [1], nos muestra todos los divs\n",
    "root.xpath()"
   ]
  },
  {
   "cell_type": "code",
   "execution_count": 75,
   "id": "204f2e79",
   "metadata": {},
   "outputs": [
    {
     "data": {
      "text/plain": [
       "[<Element span at 0x1fce51a7810>,\n",
       " <Element span at 0x1fce51a7860>,\n",
       " <Element span at 0x1fce51a78b0>,\n",
       " <Element span at 0x1fce51a7900>,\n",
       " <Element span at 0x1fce51a7950>,\n",
       " <Element span at 0x1fce51a79a0>,\n",
       " <Element span at 0x1fce51a79f0>,\n",
       " <Element span at 0x1fce51a7a40>,\n",
       " <Element span at 0x1fce51a7a90>,\n",
       " <Element span at 0x1fce51a7ae0>]"
      ]
     },
     "execution_count": 75,
     "metadata": {},
     "output_type": "execute_result"
    }
   ],
   "source": [
    "# de todos los div, dame el 1er span\n",
    "root.xpath('/html/body/div/div[2]/div[1]/div/span[1]')"
   ]
  },
  {
   "cell_type": "code",
   "execution_count": 76,
   "id": "5ce4be56",
   "metadata": {},
   "outputs": [
    {
     "data": {
      "text/plain": [
       "['“The world as we have created it is a process of our thinking. It cannot be changed without changing our thinking.”',\n",
       " '“It is our choices, Harry, that show what we truly are, far more than our abilities.”',\n",
       " '“There are only two ways to live your life. One is as though nothing is a miracle. The other is as though everything is a miracle.”',\n",
       " '“The person, be it gentleman or lady, who has not pleasure in a good novel, must be intolerably stupid.”',\n",
       " \"“Imperfection is beauty, madness is genius and it's better to be absolutely ridiculous than absolutely boring.”\",\n",
       " '“Try not to become a man of success. Rather become a man of value.”',\n",
       " '“It is better to be hated for what you are than to be loved for what you are not.”',\n",
       " \"“I have not failed. I've just found 10,000 ways that won't work.”\",\n",
       " \"“A woman is like a tea bag; you never know how strong it is until it's in hot water.”\",\n",
       " '“A day without sunshine is like, you know, night.”']"
      ]
     },
     "execution_count": 76,
     "metadata": {},
     "output_type": "execute_result"
    }
   ],
   "source": [
    "# el texto de todas las quotes de la pagina\n",
    "root.xpath('/html/body/div/div[2]/div[1]/div/span[1]/text()')"
   ]
  },
  {
   "cell_type": "code",
   "execution_count": 78,
   "id": "95980e1c",
   "metadata": {},
   "outputs": [],
   "source": [
    "# nos devuelve un array\n",
    "quotes = []\n",
    "for ele in root.xpath('/html/body/div/div[2]/div[1]/div'):\n",
    "    quotes.append(\n",
    "    {'quotes': ele.xpath('./span[1]/text()'),\n",
    "     'author': ele.xpath('./span[2]/small/text()'),\n",
    "    })"
   ]
  },
  {
   "cell_type": "code",
   "execution_count": 79,
   "id": "2eeb3d21",
   "metadata": {},
   "outputs": [
    {
     "data": {
      "text/plain": [
       "[{'quotes': ['“The world as we have created it is a process of our thinking. It cannot be changed without changing our thinking.”'],\n",
       "  'author': ['Albert Einstein']},\n",
       " {'quotes': ['“It is our choices, Harry, that show what we truly are, far more than our abilities.”'],\n",
       "  'author': ['J.K. Rowling']},\n",
       " {'quotes': ['“There are only two ways to live your life. One is as though nothing is a miracle. The other is as though everything is a miracle.”'],\n",
       "  'author': ['Albert Einstein']},\n",
       " {'quotes': ['“The person, be it gentleman or lady, who has not pleasure in a good novel, must be intolerably stupid.”'],\n",
       "  'author': ['Jane Austen']},\n",
       " {'quotes': [\"“Imperfection is beauty, madness is genius and it's better to be absolutely ridiculous than absolutely boring.”\"],\n",
       "  'author': ['Marilyn Monroe']},\n",
       " {'quotes': ['“Try not to become a man of success. Rather become a man of value.”'],\n",
       "  'author': ['Albert Einstein']},\n",
       " {'quotes': ['“It is better to be hated for what you are than to be loved for what you are not.”'],\n",
       "  'author': ['André Gide']},\n",
       " {'quotes': [\"“I have not failed. I've just found 10,000 ways that won't work.”\"],\n",
       "  'author': ['Thomas A. Edison']},\n",
       " {'quotes': [\"“A woman is like a tea bag; you never know how strong it is until it's in hot water.”\"],\n",
       "  'author': ['Eleanor Roosevelt']},\n",
       " {'quotes': ['“A day without sunshine is like, you know, night.”'],\n",
       "  'author': ['Steve Martin']}]"
      ]
     },
     "execution_count": 79,
     "metadata": {},
     "output_type": "execute_result"
    }
   ],
   "source": [
    "quotes"
   ]
  },
  {
   "cell_type": "code",
   "execution_count": 82,
   "id": "0305ff10",
   "metadata": {},
   "outputs": [],
   "source": [
    "# para que no salga como array y quitar las comillas\n",
    "quotes = []\n",
    "for ele in root.xpath('/html/body/div/div[2]/div[1]/div'):\n",
    "    quotes.append(\n",
    "    {'quotes': ele.xpath('./span[1]/text()')[0].strip(\"“”\"),\n",
    "     'author': ele.xpath('./span[2]/small/text()')[0]\n",
    "    })"
   ]
  },
  {
   "cell_type": "code",
   "execution_count": 83,
   "id": "d4f7f8e1",
   "metadata": {},
   "outputs": [
    {
     "data": {
      "text/plain": [
       "[{'quotes': 'The world as we have created it is a process of our thinking. It cannot be changed without changing our thinking.',\n",
       "  'author': 'Albert Einstein'},\n",
       " {'quotes': 'It is our choices, Harry, that show what we truly are, far more than our abilities.',\n",
       "  'author': 'J.K. Rowling'},\n",
       " {'quotes': 'There are only two ways to live your life. One is as though nothing is a miracle. The other is as though everything is a miracle.',\n",
       "  'author': 'Albert Einstein'},\n",
       " {'quotes': 'The person, be it gentleman or lady, who has not pleasure in a good novel, must be intolerably stupid.',\n",
       "  'author': 'Jane Austen'},\n",
       " {'quotes': \"Imperfection is beauty, madness is genius and it's better to be absolutely ridiculous than absolutely boring.\",\n",
       "  'author': 'Marilyn Monroe'},\n",
       " {'quotes': 'Try not to become a man of success. Rather become a man of value.',\n",
       "  'author': 'Albert Einstein'},\n",
       " {'quotes': 'It is better to be hated for what you are than to be loved for what you are not.',\n",
       "  'author': 'André Gide'},\n",
       " {'quotes': \"I have not failed. I've just found 10,000 ways that won't work.\",\n",
       "  'author': 'Thomas A. Edison'},\n",
       " {'quotes': \"A woman is like a tea bag; you never know how strong it is until it's in hot water.\",\n",
       "  'author': 'Eleanor Roosevelt'},\n",
       " {'quotes': 'A day without sunshine is like, you know, night.',\n",
       "  'author': 'Steve Martin'}]"
      ]
     },
     "execution_count": 83,
     "metadata": {},
     "output_type": "execute_result"
    }
   ],
   "source": [
    "quotes"
   ]
  },
  {
   "cell_type": "code",
   "execution_count": 100,
   "id": "a749cabd",
   "metadata": {},
   "outputs": [],
   "source": [
    "# coger las tags sin array, pasando a string (como para poner en un DF), en el lugar de ele.path (','.join)\n",
    "quotes = []\n",
    "for ele in root.xpath('/html/body/div/div[2]/div[1]/div'):\n",
    "    quotes.append(\n",
    "    {'quotes': ele.xpath('./span[1]/text()')[0].strip(\"“”\"),\n",
    "     'author': ele.xpath('./span[2]/small/text()')[0],\n",
    "     'tags': ','.join(ele.xpath('./div/a/text()'))\n",
    "    })"
   ]
  },
  {
   "cell_type": "code",
   "execution_count": 101,
   "id": "47d7832e",
   "metadata": {},
   "outputs": [
    {
     "data": {
      "text/plain": [
       "[{'quotes': 'The world as we have created it is a process of our thinking. It cannot be changed without changing our thinking.',\n",
       "  'author': 'Albert Einstein',\n",
       "  'tags': 'change,deep-thoughts,thinking,world'},\n",
       " {'quotes': 'It is our choices, Harry, that show what we truly are, far more than our abilities.',\n",
       "  'author': 'J.K. Rowling',\n",
       "  'tags': 'abilities,choices'},\n",
       " {'quotes': 'There are only two ways to live your life. One is as though nothing is a miracle. The other is as though everything is a miracle.',\n",
       "  'author': 'Albert Einstein',\n",
       "  'tags': 'inspirational,life,live,miracle,miracles'},\n",
       " {'quotes': 'The person, be it gentleman or lady, who has not pleasure in a good novel, must be intolerably stupid.',\n",
       "  'author': 'Jane Austen',\n",
       "  'tags': 'aliteracy,books,classic,humor'},\n",
       " {'quotes': \"Imperfection is beauty, madness is genius and it's better to be absolutely ridiculous than absolutely boring.\",\n",
       "  'author': 'Marilyn Monroe',\n",
       "  'tags': 'be-yourself,inspirational'},\n",
       " {'quotes': 'Try not to become a man of success. Rather become a man of value.',\n",
       "  'author': 'Albert Einstein',\n",
       "  'tags': 'adulthood,success,value'},\n",
       " {'quotes': 'It is better to be hated for what you are than to be loved for what you are not.',\n",
       "  'author': 'André Gide',\n",
       "  'tags': 'life,love'},\n",
       " {'quotes': \"I have not failed. I've just found 10,000 ways that won't work.\",\n",
       "  'author': 'Thomas A. Edison',\n",
       "  'tags': 'edison,failure,inspirational,paraphrased'},\n",
       " {'quotes': \"A woman is like a tea bag; you never know how strong it is until it's in hot water.\",\n",
       "  'author': 'Eleanor Roosevelt',\n",
       "  'tags': 'misattributed-eleanor-roosevelt'},\n",
       " {'quotes': 'A day without sunshine is like, you know, night.',\n",
       "  'author': 'Steve Martin',\n",
       "  'tags': 'humor,obvious,simile'}]"
      ]
     },
     "execution_count": 101,
     "metadata": {},
     "output_type": "execute_result"
    }
   ],
   "source": [
    "quotes"
   ]
  },
  {
   "cell_type": "code",
   "execution_count": 102,
   "id": "a0206fae",
   "metadata": {},
   "outputs": [
    {
     "data": {
      "text/html": [
       "<div>\n",
       "<style scoped>\n",
       "    .dataframe tbody tr th:only-of-type {\n",
       "        vertical-align: middle;\n",
       "    }\n",
       "\n",
       "    .dataframe tbody tr th {\n",
       "        vertical-align: top;\n",
       "    }\n",
       "\n",
       "    .dataframe thead th {\n",
       "        text-align: right;\n",
       "    }\n",
       "</style>\n",
       "<table border=\"1\" class=\"dataframe\">\n",
       "  <thead>\n",
       "    <tr style=\"text-align: right;\">\n",
       "      <th></th>\n",
       "      <th>quotes</th>\n",
       "      <th>author</th>\n",
       "      <th>tags</th>\n",
       "    </tr>\n",
       "  </thead>\n",
       "  <tbody>\n",
       "    <tr>\n",
       "      <th>0</th>\n",
       "      <td>The world as we have created it is a process o...</td>\n",
       "      <td>Albert Einstein</td>\n",
       "      <td>change,deep-thoughts,thinking,world</td>\n",
       "    </tr>\n",
       "    <tr>\n",
       "      <th>1</th>\n",
       "      <td>It is our choices, Harry, that show what we tr...</td>\n",
       "      <td>J.K. Rowling</td>\n",
       "      <td>abilities,choices</td>\n",
       "    </tr>\n",
       "    <tr>\n",
       "      <th>2</th>\n",
       "      <td>There are only two ways to live your life. One...</td>\n",
       "      <td>Albert Einstein</td>\n",
       "      <td>inspirational,life,live,miracle,miracles</td>\n",
       "    </tr>\n",
       "    <tr>\n",
       "      <th>3</th>\n",
       "      <td>The person, be it gentleman or lady, who has n...</td>\n",
       "      <td>Jane Austen</td>\n",
       "      <td>aliteracy,books,classic,humor</td>\n",
       "    </tr>\n",
       "    <tr>\n",
       "      <th>4</th>\n",
       "      <td>Imperfection is beauty, madness is genius and ...</td>\n",
       "      <td>Marilyn Monroe</td>\n",
       "      <td>be-yourself,inspirational</td>\n",
       "    </tr>\n",
       "    <tr>\n",
       "      <th>5</th>\n",
       "      <td>Try not to become a man of success. Rather bec...</td>\n",
       "      <td>Albert Einstein</td>\n",
       "      <td>adulthood,success,value</td>\n",
       "    </tr>\n",
       "    <tr>\n",
       "      <th>6</th>\n",
       "      <td>It is better to be hated for what you are than...</td>\n",
       "      <td>André Gide</td>\n",
       "      <td>life,love</td>\n",
       "    </tr>\n",
       "    <tr>\n",
       "      <th>7</th>\n",
       "      <td>I have not failed. I've just found 10,000 ways...</td>\n",
       "      <td>Thomas A. Edison</td>\n",
       "      <td>edison,failure,inspirational,paraphrased</td>\n",
       "    </tr>\n",
       "    <tr>\n",
       "      <th>8</th>\n",
       "      <td>A woman is like a tea bag; you never know how ...</td>\n",
       "      <td>Eleanor Roosevelt</td>\n",
       "      <td>misattributed-eleanor-roosevelt</td>\n",
       "    </tr>\n",
       "    <tr>\n",
       "      <th>9</th>\n",
       "      <td>A day without sunshine is like, you know, night.</td>\n",
       "      <td>Steve Martin</td>\n",
       "      <td>humor,obvious,simile</td>\n",
       "    </tr>\n",
       "  </tbody>\n",
       "</table>\n",
       "</div>"
      ],
      "text/plain": [
       "                                              quotes             author  \\\n",
       "0  The world as we have created it is a process o...    Albert Einstein   \n",
       "1  It is our choices, Harry, that show what we tr...       J.K. Rowling   \n",
       "2  There are only two ways to live your life. One...    Albert Einstein   \n",
       "3  The person, be it gentleman or lady, who has n...        Jane Austen   \n",
       "4  Imperfection is beauty, madness is genius and ...     Marilyn Monroe   \n",
       "5  Try not to become a man of success. Rather bec...    Albert Einstein   \n",
       "6  It is better to be hated for what you are than...         André Gide   \n",
       "7  I have not failed. I've just found 10,000 ways...   Thomas A. Edison   \n",
       "8  A woman is like a tea bag; you never know how ...  Eleanor Roosevelt   \n",
       "9   A day without sunshine is like, you know, night.       Steve Martin   \n",
       "\n",
       "                                       tags  \n",
       "0       change,deep-thoughts,thinking,world  \n",
       "1                         abilities,choices  \n",
       "2  inspirational,life,live,miracle,miracles  \n",
       "3             aliteracy,books,classic,humor  \n",
       "4                 be-yourself,inspirational  \n",
       "5                   adulthood,success,value  \n",
       "6                                 life,love  \n",
       "7  edison,failure,inspirational,paraphrased  \n",
       "8           misattributed-eleanor-roosevelt  \n",
       "9                      humor,obvious,simile  "
      ]
     },
     "execution_count": 102,
     "metadata": {},
     "output_type": "execute_result"
    }
   ],
   "source": [
    "pd.DataFrame (quotes)"
   ]
  },
  {
   "cell_type": "code",
   "execution_count": null,
   "id": "ecda5b28",
   "metadata": {},
   "outputs": [],
   "source": [
    "# xpath Next button - en la 1a pagina\n",
    "/html/body/div/div[2]/div[1]/nav/ul/li/a/@href\n",
    "\n",
    "# xpath Next button - en la 2a pagina\n",
    "/html/body/div/div[2]/div[1]/nav/ul/li[2]\n",
    "/html/body/div/div[2]/div[1]/nav/ul/li[2]/a\n",
    "/html/body/div/div[2]/div[1]/nav/ul/li[2]/a/text()\n",
    "\n",
    "# xpath Previous button - en la 2a pagina\n",
    "/html/body/div/div[2]/div[1]/nav/ul/li[1]\n",
    "/html/body/div/div[2]/div[1]/nav/ul/li[1]/a/text()"
   ]
  },
  {
   "cell_type": "code",
   "execution_count": 90,
   "id": "8882fb4b",
   "metadata": {},
   "outputs": [
    {
     "data": {
      "text/plain": [
       "['/page/2/']"
      ]
     },
     "execution_count": 90,
     "metadata": {},
     "output_type": "execute_result"
    }
   ],
   "source": [
    "root.xpath('/html/body/div/div[2]/div[1]/nav/ul/li/a/@href')"
   ]
  },
  {
   "cell_type": "code",
   "execution_count": 93,
   "id": "ad124293",
   "metadata": {},
   "outputs": [],
   "source": [
    "base_url = 'https://quotes.toscrape.com/'"
   ]
  },
  {
   "cell_type": "code",
   "execution_count": 96,
   "id": "4475486c",
   "metadata": {},
   "outputs": [],
   "source": [
    "next_url = f\"{base_url}\""
   ]
  },
  {
   "cell_type": "code",
   "execution_count": 97,
   "id": "9e5d874a",
   "metadata": {},
   "outputs": [
    {
     "data": {
      "text/plain": [
       "'https://quotes.toscrape.com/'"
      ]
     },
     "execution_count": 97,
     "metadata": {},
     "output_type": "execute_result"
    }
   ],
   "source": [
    "# AQUI ME PERDI, como fazer que next vá para a proxima pagina\n",
    "next_url"
   ]
  },
  {
   "cell_type": "code",
   "execution_count": null,
   "id": "2724a868",
   "metadata": {},
   "outputs": [],
   "source": [
    "next_page = root.xpath('/html/body/div/div[2]/div[1]/nav/ul/li/a/@href')\n",
    "\n",
    "while next_page:\n",
    "    next_url = f\"{base_url}{next_page[0]}\"\n",
    "    html = requests.get(next_url).text\n",
    "    root = lxml.html.fromstring(html)\n",
    "    \n",
    "    for ele in root.xpath('/html/body/div/div[2]/div[1]/nav/ul/li/a/@href')\n",
    "    quotes.append(\n",
    "    {'quotes': ele.xpath('./span[1]/text()')[0].strip(\"“”\"),\n",
    "     'author': ele.xpath('./span[2]/small/text()')[0],\n",
    "     'tags': ','.join(ele.xpath('./div/a/text()'))\n",
    "    })\n",
    "    next_page = root.xpath('/html/body/div[1]/div[2]/div[1]/nav/ul/li/a/@href')\n",
    "    "
   ]
  },
  {
   "cell_type": "code",
   "execution_count": null,
   "id": "3d94ea9f",
   "metadata": {},
   "outputs": [],
   "source": [
    "#TERMINAR: PEGAR O CLASS PARA NAO FICAR NUM LOOP INFINITO"
   ]
  },
  {
   "cell_type": "markdown",
   "id": "0d1b67c2",
   "metadata": {},
   "source": [
    "# SCRAPY"
   ]
  },
  {
   "cell_type": "code",
   "execution_count": null,
   "id": "ab18b551",
   "metadata": {},
   "outputs": [],
   "source": []
  },
  {
   "cell_type": "code",
   "execution_count": 103,
   "id": "f381810f",
   "metadata": {},
   "outputs": [],
   "source": [
    "url2 = 'https://quotes.toscrape.com/login'"
   ]
  },
  {
   "cell_type": "code",
   "execution_count": 104,
   "id": "1825d65d",
   "metadata": {},
   "outputs": [],
   "source": [
    "#para abrir uma nova janela e ir acompanhando\n",
    "driver = webdriver.Chrome()"
   ]
  },
  {
   "cell_type": "code",
   "execution_count": null,
   "id": "b57f6382",
   "metadata": {},
   "outputs": [],
   "source": []
  },
  {
   "cell_type": "code",
   "execution_count": 105,
   "id": "5fb916c2",
   "metadata": {},
   "outputs": [],
   "source": [
    "driver.get(url2)"
   ]
  },
  {
   "cell_type": "code",
   "execution_count": 106,
   "id": "96eb2e19",
   "metadata": {},
   "outputs": [],
   "source": [
    "usuario = driver.find_element(by='id', value='username')\n",
    "password = driver.find_element(by='id', value='username')\n",
    "login = driver.find_element(by='css selector', value='.btn')"
   ]
  },
  {
   "cell_type": "code",
   "execution_count": 107,
   "id": "3157a542",
   "metadata": {},
   "outputs": [],
   "source": [
    "usuario.click()"
   ]
  },
  {
   "cell_type": "code",
   "execution_count": 108,
   "id": "22253406",
   "metadata": {},
   "outputs": [],
   "source": [
    "# aqui funciona pq quotes.toscrape no valida usuario y contraseña, si es en una pagina que valida los datos de login,\n",
    "# entre las comillas si hay que poner los datos de vdd\n",
    "usuario.send_keys('usuario')"
   ]
  },
  {
   "cell_type": "code",
   "execution_count": 109,
   "id": "837a51b5",
   "metadata": {},
   "outputs": [],
   "source": [
    "password.click()"
   ]
  },
  {
   "cell_type": "code",
   "execution_count": 110,
   "id": "7c347002",
   "metadata": {},
   "outputs": [],
   "source": [
    "password.send_keys('password')"
   ]
  },
  {
   "cell_type": "code",
   "execution_count": 111,
   "id": "3adc9363",
   "metadata": {},
   "outputs": [],
   "source": [
    "login.click()"
   ]
  },
  {
   "cell_type": "code",
   "execution_count": 112,
   "id": "d45a9f08",
   "metadata": {},
   "outputs": [],
   "source": [
    "# tava começando a ter um dumping e me perdi, nao entendi pra que serve isso\n",
    "from selenium.webdriver.chrome.options import Options"
   ]
  },
  {
   "cell_type": "code",
   "execution_count": 113,
   "id": "265510d0",
   "metadata": {},
   "outputs": [],
   "source": [
    "chrome_options = Options()\n",
    "chrome_options.add_argument(\"--headless\")"
   ]
  },
  {
   "cell_type": "code",
   "execution_count": null,
   "id": "ea20d0a2",
   "metadata": {},
   "outputs": [],
   "source": [
    "driver = webdriver.Chrome(executable_path=\"./chromedriver\", options=chrome_options)\n",
    "url3 = \"https://stackoverflow.com/questions/53657215/running-selenium-with-headless-chrome-webdriver\"\n",
    "driver.get(url3)"
   ]
  },
  {
   "cell_type": "code",
   "execution_count": 114,
   "id": "c164e806",
   "metadata": {},
   "outputs": [],
   "source": [
    "import os"
   ]
  },
  {
   "cell_type": "code",
   "execution_count": 115,
   "id": "6cc65c18",
   "metadata": {},
   "outputs": [],
   "source": [
    "os.environ['MOZ_HEADLESS'] = '1'"
   ]
  },
  {
   "cell_type": "code",
   "execution_count": null,
   "id": "72b5062f",
   "metadata": {},
   "outputs": [],
   "source": []
  },
  {
   "cell_type": "code",
   "execution_count": 117,
   "id": "2ab49196",
   "metadata": {},
   "outputs": [
    {
     "name": "stdout",
     "output_type": "stream",
     "text": [
      "Collecting ipython-sql\n",
      "  Downloading ipython_sql-0.4.0-py3-none-any.whl (19 kB)\n",
      "Collecting sqlparse\n",
      "  Downloading sqlparse-0.4.2-py3-none-any.whl (42 kB)\n",
      "Requirement already satisfied: ipython>=1.0 in c:\\users\\natalia gonzalez\\anaconda3\\lib\\site-packages (from ipython-sql) (7.22.0)\n",
      "Requirement already satisfied: sqlalchemy>=0.6.7 in c:\\users\\natalia gonzalez\\anaconda3\\lib\\site-packages (from ipython-sql) (1.4.7)\n",
      "Requirement already satisfied: six in c:\\users\\natalia gonzalez\\anaconda3\\lib\\site-packages (from ipython-sql) (1.15.0)\n",
      "Requirement already satisfied: ipython-genutils>=0.1.0 in c:\\users\\natalia gonzalez\\anaconda3\\lib\\site-packages (from ipython-sql) (0.2.0)\n",
      "Collecting prettytable<1\n",
      "  Downloading prettytable-0.7.2.zip (28 kB)\n",
      "Requirement already satisfied: backcall in c:\\users\\natalia gonzalez\\anaconda3\\lib\\site-packages (from ipython>=1.0->ipython-sql) (0.2.0)\n",
      "Requirement already satisfied: pygments in c:\\users\\natalia gonzalez\\anaconda3\\lib\\site-packages (from ipython>=1.0->ipython-sql) (2.8.1)\n",
      "Requirement already satisfied: setuptools>=18.5 in c:\\users\\natalia gonzalez\\anaconda3\\lib\\site-packages (from ipython>=1.0->ipython-sql) (52.0.0.post20210125)\n",
      "Requirement already satisfied: decorator in c:\\users\\natalia gonzalez\\anaconda3\\lib\\site-packages (from ipython>=1.0->ipython-sql) (5.0.6)\n",
      "Requirement already satisfied: colorama in c:\\users\\natalia gonzalez\\anaconda3\\lib\\site-packages (from ipython>=1.0->ipython-sql) (0.4.4)\n",
      "Requirement already satisfied: traitlets>=4.2 in c:\\users\\natalia gonzalez\\anaconda3\\lib\\site-packages (from ipython>=1.0->ipython-sql) (5.0.5)\n",
      "Requirement already satisfied: prompt-toolkit!=3.0.0,!=3.0.1,<3.1.0,>=2.0.0 in c:\\users\\natalia gonzalez\\anaconda3\\lib\\site-packages (from ipython>=1.0->ipython-sql) (3.0.17)\n",
      "Requirement already satisfied: pickleshare in c:\\users\\natalia gonzalez\\anaconda3\\lib\\site-packages (from ipython>=1.0->ipython-sql) (0.7.5)\n",
      "Requirement already satisfied: jedi>=0.16 in c:\\users\\natalia gonzalez\\anaconda3\\lib\\site-packages (from ipython>=1.0->ipython-sql) (0.17.2)\n",
      "Requirement already satisfied: parso<0.8.0,>=0.7.0 in c:\\users\\natalia gonzalez\\anaconda3\\lib\\site-packages (from jedi>=0.16->ipython>=1.0->ipython-sql) (0.7.0)\n",
      "Requirement already satisfied: wcwidth in c:\\users\\natalia gonzalez\\anaconda3\\lib\\site-packages (from prompt-toolkit!=3.0.0,!=3.0.1,<3.1.0,>=2.0.0->ipython>=1.0->ipython-sql) (0.2.5)\n",
      "Requirement already satisfied: greenlet!=0.4.17 in c:\\users\\natalia gonzalez\\anaconda3\\lib\\site-packages (from sqlalchemy>=0.6.7->ipython-sql) (1.0.0)\n",
      "Building wheels for collected packages: prettytable\n",
      "  Building wheel for prettytable (setup.py): started\n",
      "  Building wheel for prettytable (setup.py): finished with status 'done'\n",
      "  Created wheel for prettytable: filename=prettytable-0.7.2-py3-none-any.whl size=13699 sha256=0ed12638073998a914b278c35c50d7fe16e5469fd4126aed686bc3e1407258b2\n",
      "  Stored in directory: c:\\users\\natalia gonzalez\\appdata\\local\\pip\\cache\\wheels\\48\\6d\\77\\9517cb933af254f51a446f1a5ec9c2be3e45f17384940bce68\n",
      "Successfully built prettytable\n",
      "Installing collected packages: sqlparse, prettytable, ipython-sql\n",
      "Successfully installed ipython-sql-0.4.0 prettytable-0.7.2 sqlparse-0.4.2\n"
     ]
    }
   ],
   "source": [
    "!pip install ipython-sql"
   ]
  },
  {
   "cell_type": "code",
   "execution_count": null,
   "id": "884d22a2",
   "metadata": {},
   "outputs": [],
   "source": []
  }
 ],
 "metadata": {
  "kernelspec": {
   "display_name": "Python 3",
   "language": "python",
   "name": "python3"
  },
  "language_info": {
   "codemirror_mode": {
    "name": "ipython",
    "version": 3
   },
   "file_extension": ".py",
   "mimetype": "text/x-python",
   "name": "python",
   "nbconvert_exporter": "python",
   "pygments_lexer": "ipython3",
   "version": "3.8.8"
  }
 },
 "nbformat": 4,
 "nbformat_minor": 5
}
