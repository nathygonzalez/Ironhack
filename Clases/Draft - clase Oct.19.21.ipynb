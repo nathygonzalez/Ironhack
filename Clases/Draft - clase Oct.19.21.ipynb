{
 "cells": [
  {
   "cell_type": "code",
   "execution_count": null,
   "id": "8c6ade6a",
   "metadata": {},
   "outputs": [],
   "source": [
    "# Numpy\n",
    "# np array\n",
    "# ndim - numero de dimensiones\n",
    "# shape - numero de columnas\n",
    "# dtype - data type y numero de bits"
   ]
  },
  {
   "cell_type": "code",
   "execution_count": 6,
   "id": "837da395",
   "metadata": {},
   "outputs": [],
   "source": [
    "import numpy as np"
   ]
  },
  {
   "cell_type": "code",
   "execution_count": 18,
   "id": "e4a8995d",
   "metadata": {},
   "outputs": [
    {
     "data": {
      "text/plain": [
       "'1.20.1'"
      ]
     },
     "execution_count": 18,
     "metadata": {},
     "output_type": "execute_result"
    }
   ],
   "source": [
    "np.__version__"
   ]
  },
  {
   "cell_type": "code",
   "execution_count": 10,
   "id": "6ff20251",
   "metadata": {},
   "outputs": [
    {
     "data": {
      "text/plain": [
       "array([[0, 1, 2],\n",
       "       [2, 3, 4]])"
      ]
     },
     "execution_count": 10,
     "metadata": {},
     "output_type": "execute_result"
    }
   ],
   "source": [
    "array = np.array ([[0,1,2],[2,3,4]])\n",
    "array"
   ]
  },
  {
   "cell_type": "code",
   "execution_count": 13,
   "id": "0bdcce6b",
   "metadata": {},
   "outputs": [
    {
     "data": {
      "text/plain": [
       "array([[1., 1., 1.],\n",
       "       [1., 1., 1.]])"
      ]
     },
     "execution_count": 13,
     "metadata": {},
     "output_type": "execute_result"
    }
   ],
   "source": [
    "array2 = np.ones ((2,3))\n",
    "array2"
   ]
  },
  {
   "cell_type": "code",
   "execution_count": 12,
   "id": "f36961dd",
   "metadata": {},
   "outputs": [
    {
     "data": {
      "text/plain": [
       "array([1, 2, 3, 4, 5])"
      ]
     },
     "execution_count": 12,
     "metadata": {},
     "output_type": "execute_result"
    }
   ],
   "source": [
    "lista = [1,2,3,4,5]\n",
    "a1 = np.array (lista)\n",
    "a1"
   ]
  },
  {
   "cell_type": "code",
   "execution_count": 14,
   "id": "de967d26",
   "metadata": {},
   "outputs": [
    {
     "data": {
      "text/plain": [
       "1"
      ]
     },
     "execution_count": 14,
     "metadata": {},
     "output_type": "execute_result"
    }
   ],
   "source": [
    "a1.ndim"
   ]
  },
  {
   "cell_type": "code",
   "execution_count": 15,
   "id": "37598e9e",
   "metadata": {},
   "outputs": [
    {
     "data": {
      "text/plain": [
       "(5,)"
      ]
     },
     "execution_count": 15,
     "metadata": {},
     "output_type": "execute_result"
    }
   ],
   "source": [
    "a1.shape"
   ]
  },
  {
   "cell_type": "code",
   "execution_count": 16,
   "id": "09ae3d85",
   "metadata": {},
   "outputs": [
    {
     "data": {
      "text/plain": [
       "dtype('int32')"
      ]
     },
     "execution_count": 16,
     "metadata": {},
     "output_type": "execute_result"
    }
   ],
   "source": [
    "a1.dtype"
   ]
  },
  {
   "cell_type": "code",
   "execution_count": 17,
   "id": "2f802517",
   "metadata": {},
   "outputs": [
    {
     "data": {
      "text/plain": [
       "array([1., 2., 3., 4., 5.], dtype=float32)"
      ]
     },
     "execution_count": 17,
     "metadata": {},
     "output_type": "execute_result"
    }
   ],
   "source": [
    "a1.astype ('float32')"
   ]
  },
  {
   "cell_type": "code",
   "execution_count": 19,
   "id": "c61604a9",
   "metadata": {},
   "outputs": [
    {
     "data": {
      "text/plain": [
       "18446744073709551616"
      ]
     },
     "execution_count": 19,
     "metadata": {},
     "output_type": "execute_result"
    }
   ],
   "source": [
    "2**64"
   ]
  },
  {
   "cell_type": "code",
   "execution_count": 20,
   "id": "53d8e828",
   "metadata": {},
   "outputs": [
    {
     "data": {
      "text/plain": [
       "4294967296"
      ]
     },
     "execution_count": 20,
     "metadata": {},
     "output_type": "execute_result"
    }
   ],
   "source": [
    "2**32"
   ]
  },
  {
   "cell_type": "code",
   "execution_count": null,
   "id": "7c57c05a",
   "metadata": {},
   "outputs": [],
   "source": []
  },
  {
   "cell_type": "code",
   "execution_count": 21,
   "id": "fdbf49dc",
   "metadata": {},
   "outputs": [],
   "source": [
    "lista2 = [[1,2,3,],[4,5,6]]"
   ]
  },
  {
   "cell_type": "code",
   "execution_count": 23,
   "id": "401a8692",
   "metadata": {},
   "outputs": [
    {
     "data": {
      "text/plain": [
       "array([[1, 2, 3],\n",
       "       [4, 5, 6]])"
      ]
     },
     "execution_count": 23,
     "metadata": {},
     "output_type": "execute_result"
    }
   ],
   "source": [
    "a2 = np.array (lista2)\n",
    "a2"
   ]
  },
  {
   "cell_type": "code",
   "execution_count": 24,
   "id": "19f5b407",
   "metadata": {},
   "outputs": [
    {
     "data": {
      "text/plain": [
       "2"
      ]
     },
     "execution_count": 24,
     "metadata": {},
     "output_type": "execute_result"
    }
   ],
   "source": [
    "a2.ndim"
   ]
  },
  {
   "cell_type": "code",
   "execution_count": 25,
   "id": "0a99dacb",
   "metadata": {},
   "outputs": [
    {
     "data": {
      "text/plain": [
       "(2, 3)"
      ]
     },
     "execution_count": 25,
     "metadata": {},
     "output_type": "execute_result"
    }
   ],
   "source": [
    "a2.shape"
   ]
  },
  {
   "cell_type": "code",
   "execution_count": 26,
   "id": "699a99b5",
   "metadata": {},
   "outputs": [
    {
     "data": {
      "text/plain": [
       "dtype('int32')"
      ]
     },
     "execution_count": 26,
     "metadata": {},
     "output_type": "execute_result"
    }
   ],
   "source": [
    "a2.dtype"
   ]
  },
  {
   "cell_type": "code",
   "execution_count": null,
   "id": "acfd2522",
   "metadata": {},
   "outputs": [],
   "source": []
  },
  {
   "cell_type": "code",
   "execution_count": 27,
   "id": "4beba63a",
   "metadata": {},
   "outputs": [
    {
     "data": {
      "text/plain": [
       "array([[0., 0., 0., 0., 0.],\n",
       "       [0., 0., 0., 0., 0.],\n",
       "       [0., 0., 0., 0., 0.],\n",
       "       [0., 0., 0., 0., 0.],\n",
       "       [0., 0., 0., 0., 0.]])"
      ]
     },
     "execution_count": 27,
     "metadata": {},
     "output_type": "execute_result"
    }
   ],
   "source": [
    "np.zeros ((5,5))"
   ]
  },
  {
   "cell_type": "code",
   "execution_count": 30,
   "id": "2ef2e2a0",
   "metadata": {},
   "outputs": [
    {
     "data": {
      "text/plain": [
       "array([[1, 1, 1, 1, 1, 1],\n",
       "       [1, 1, 1, 1, 1, 1],\n",
       "       [1, 1, 1, 1, 1, 1]])"
      ]
     },
     "execution_count": 30,
     "metadata": {},
     "output_type": "execute_result"
    }
   ],
   "source": [
    "np.ones ((3,6),'int32')"
   ]
  },
  {
   "cell_type": "code",
   "execution_count": 31,
   "id": "e4450563",
   "metadata": {},
   "outputs": [
    {
     "data": {
      "text/plain": [
       "array([ 1, 57, 96, 91, 86, 98, 11, 39, 89, 57])"
      ]
     },
     "execution_count": 31,
     "metadata": {},
     "output_type": "execute_result"
    }
   ],
   "source": [
    "np.random.randint(1,100,(10,))"
   ]
  },
  {
   "cell_type": "code",
   "execution_count": null,
   "id": "dd2cdb2b",
   "metadata": {},
   "outputs": [],
   "source": []
  },
  {
   "cell_type": "code",
   "execution_count": null,
   "id": "4f687956",
   "metadata": {},
   "outputs": [],
   "source": [
    "#Indexing"
   ]
  },
  {
   "cell_type": "code",
   "execution_count": 33,
   "id": "7aae030c",
   "metadata": {},
   "outputs": [
    {
     "data": {
      "text/plain": [
       "array([[85, 80,  7, 94],\n",
       "       [68, 99, 15, 68],\n",
       "       [46, 63, 55, 79]])"
      ]
     },
     "execution_count": 33,
     "metadata": {},
     "output_type": "execute_result"
    }
   ],
   "source": [
    "a3 = np.random.randint(1,100,(3,4))\n",
    "a3"
   ]
  },
  {
   "cell_type": "code",
   "execution_count": 35,
   "id": "8687115d",
   "metadata": {},
   "outputs": [
    {
     "data": {
      "text/plain": [
       "15"
      ]
     },
     "execution_count": 35,
     "metadata": {},
     "output_type": "execute_result"
    }
   ],
   "source": [
    "#el 15: fila 1 columna 2, siempre empieza por 0\n",
    "a3[1,2]"
   ]
  },
  {
   "cell_type": "code",
   "execution_count": 36,
   "id": "6b118b39",
   "metadata": {},
   "outputs": [
    {
     "data": {
      "text/plain": [
       "array([46, 63, 55, 79])"
      ]
     },
     "execution_count": 36,
     "metadata": {},
     "output_type": "execute_result"
    }
   ],
   "source": [
    "#solo la fila 2\n",
    "a3[2,:]"
   ]
  },
  {
   "cell_type": "code",
   "execution_count": 37,
   "id": "aec706cc",
   "metadata": {},
   "outputs": [
    {
     "data": {
      "text/plain": [
       "array([94, 68, 79])"
      ]
     },
     "execution_count": 37,
     "metadata": {},
     "output_type": "execute_result"
    }
   ],
   "source": [
    "#solo la columna 3\n",
    "a3[:,3]"
   ]
  },
  {
   "cell_type": "code",
   "execution_count": 38,
   "id": "5dd67579",
   "metadata": {},
   "outputs": [
    {
     "data": {
      "text/plain": [
       "array([[85, 80],\n",
       "       [68, 99]])"
      ]
     },
     "execution_count": 38,
     "metadata": {},
     "output_type": "execute_result"
    }
   ],
   "source": [
    "#solo los 2 primeros de la 1a y 2a fila\n",
    "a3 [:2,:2]"
   ]
  },
  {
   "cell_type": "code",
   "execution_count": 39,
   "id": "eb5a7544",
   "metadata": {},
   "outputs": [
    {
     "data": {
      "text/plain": [
       "array([[ 7, 94],\n",
       "       [15, 68]])"
      ]
     },
     "execution_count": 39,
     "metadata": {},
     "output_type": "execute_result"
    }
   ],
   "source": [
    "a3 [:2,2:4]"
   ]
  },
  {
   "cell_type": "code",
   "execution_count": 41,
   "id": "df5a3c26",
   "metadata": {},
   "outputs": [
    {
     "data": {
      "text/plain": [
       "array([[ 7, 94],\n",
       "       [15, 68]])"
      ]
     },
     "execution_count": 41,
     "metadata": {},
     "output_type": "execute_result"
    }
   ],
   "source": [
    "a3 [:2,2:4]"
   ]
  },
  {
   "cell_type": "code",
   "execution_count": 42,
   "id": "108415c7",
   "metadata": {},
   "outputs": [
    {
     "data": {
      "text/plain": [
       "(3, 4)"
      ]
     },
     "execution_count": 42,
     "metadata": {},
     "output_type": "execute_result"
    }
   ],
   "source": [
    "a3.shape"
   ]
  },
  {
   "cell_type": "code",
   "execution_count": null,
   "id": "c74f5c60",
   "metadata": {},
   "outputs": [],
   "source": [
    "2 * a3[]"
   ]
  },
  {
   "cell_type": "code",
   "execution_count": null,
   "id": "bdca60f5",
   "metadata": {},
   "outputs": [],
   "source": []
  },
  {
   "cell_type": "code",
   "execution_count": null,
   "id": "b6a48247",
   "metadata": {},
   "outputs": [],
   "source": []
  },
  {
   "cell_type": "code",
   "execution_count": 40,
   "id": "444bd53d",
   "metadata": {},
   "outputs": [
    {
     "data": {
      "text/plain": [
       "array([[85, 68, 46],\n",
       "       [80, 99, 63],\n",
       "       [ 7, 15, 55],\n",
       "       [94, 68, 79]])"
      ]
     },
     "execution_count": 40,
     "metadata": {},
     "output_type": "execute_result"
    }
   ],
   "source": [
    "# transposed\n",
    "a3.T"
   ]
  },
  {
   "cell_type": "code",
   "execution_count": 43,
   "id": "04580b8c",
   "metadata": {},
   "outputs": [
    {
     "data": {
      "text/plain": [
       "array([[170, 165,  92, 179],\n",
       "       [136, 167,  83, 136],\n",
       "       [ 92, 109, 101, 125]])"
      ]
     },
     "execution_count": 43,
     "metadata": {},
     "output_type": "execute_result"
    }
   ],
   "source": [
    "a3[:,0].reshape(3,1) + a3"
   ]
  },
  {
   "cell_type": "code",
   "execution_count": null,
   "id": "d1b4f0ef",
   "metadata": {},
   "outputs": [],
   "source": []
  },
  {
   "cell_type": "code",
   "execution_count": 44,
   "id": "4a9255c3",
   "metadata": {},
   "outputs": [
    {
     "data": {
      "text/plain": [
       "array([[85, 80,  7, 94],\n",
       "       [68, 99, 15, 68],\n",
       "       [46, 63, 55, 79],\n",
       "       [85, 80,  7, 94],\n",
       "       [68, 99, 15, 68],\n",
       "       [46, 63, 55, 79]])"
      ]
     },
     "execution_count": 44,
     "metadata": {},
     "output_type": "execute_result"
    }
   ],
   "source": [
    "np.vstack([a3,a3])"
   ]
  },
  {
   "cell_type": "code",
   "execution_count": 45,
   "id": "8ef54014",
   "metadata": {},
   "outputs": [
    {
     "data": {
      "text/plain": [
       "array([[ 85,  80,   7,  94],\n",
       "       [ 68,  99,  15,  68],\n",
       "       [ 46,  63,  55,  79],\n",
       "       [170, 160,  14, 188],\n",
       "       [136, 198,  30, 136],\n",
       "       [ 92, 126, 110, 158]])"
      ]
     },
     "execution_count": 45,
     "metadata": {},
     "output_type": "execute_result"
    }
   ],
   "source": [
    "np.vstack([a3,2*a3])"
   ]
  },
  {
   "cell_type": "code",
   "execution_count": 46,
   "id": "ccaecb9b",
   "metadata": {},
   "outputs": [
    {
     "data": {
      "text/plain": [
       "array([[ 85,  80,   7,  94, 170, 160,  14, 188],\n",
       "       [ 68,  99,  15,  68, 136, 198,  30, 136],\n",
       "       [ 46,  63,  55,  79,  92, 126, 110, 158]])"
      ]
     },
     "execution_count": 46,
     "metadata": {},
     "output_type": "execute_result"
    }
   ],
   "source": [
    "np.hstack([a3,2*a3])"
   ]
  },
  {
   "cell_type": "code",
   "execution_count": null,
   "id": "bc5f06d1",
   "metadata": {},
   "outputs": [],
   "source": []
  },
  {
   "cell_type": "code",
   "execution_count": 48,
   "id": "34e12164",
   "metadata": {},
   "outputs": [
    {
     "data": {
      "text/plain": [
       "array([[85, 80,  7, 94, 85, 80,  7, 94, 85, 80,  7, 94],\n",
       "       [68, 99, 15, 68, 68, 99, 15, 68, 68, 99, 15, 68],\n",
       "       [46, 63, 55, 79, 46, 63, 55, 79, 46, 63, 55, 79]])"
      ]
     },
     "execution_count": 48,
     "metadata": {},
     "output_type": "execute_result"
    }
   ],
   "source": [
    "np.hstack([a3,a3,a3])"
   ]
  },
  {
   "cell_type": "code",
   "execution_count": 47,
   "id": "ebda9d6e",
   "metadata": {},
   "outputs": [
    {
     "data": {
      "text/plain": [
       "array([85, 85, 85, 80, 80, 80,  7,  7,  7, 94, 94, 94, 68, 68, 68, 99, 99,\n",
       "       99, 15, 15, 15, 68, 68, 68, 46, 46, 46, 63, 63, 63, 55, 55, 55, 79,\n",
       "       79, 79])"
      ]
     },
     "execution_count": 47,
     "metadata": {},
     "output_type": "execute_result"
    }
   ],
   "source": [
    "np.repeat (a3,3)"
   ]
  },
  {
   "cell_type": "code",
   "execution_count": 49,
   "id": "8b898263",
   "metadata": {},
   "outputs": [
    {
     "data": {
      "text/plain": [
       "array([[18, 18, 18],\n",
       "       [18, 18, 18],\n",
       "       [18, 18, 18]])"
      ]
     },
     "execution_count": 49,
     "metadata": {},
     "output_type": "execute_result"
    }
   ],
   "source": [
    "np.full((3,3),18)"
   ]
  },
  {
   "cell_type": "code",
   "execution_count": 50,
   "id": "c7e364be",
   "metadata": {},
   "outputs": [
    {
     "data": {
      "text/plain": [
       "array([[18, 18, 18, 18],\n",
       "       [18, 18, 18, 18],\n",
       "       [18, 18, 18, 18]])"
      ]
     },
     "execution_count": 50,
     "metadata": {},
     "output_type": "execute_result"
    }
   ],
   "source": [
    "np.full(a3.shape,18)"
   ]
  },
  {
   "cell_type": "code",
   "execution_count": 51,
   "id": "ef5cafe4",
   "metadata": {},
   "outputs": [
    {
     "data": {
      "text/plain": [
       "array([[18, 18, 18, 18],\n",
       "       [18, 18, 18, 18],\n",
       "       [18, 18, 18, 18]])"
      ]
     },
     "execution_count": 51,
     "metadata": {},
     "output_type": "execute_result"
    }
   ],
   "source": [
    "np.full_like(a3,18)"
   ]
  },
  {
   "cell_type": "code",
   "execution_count": null,
   "id": "73b69703",
   "metadata": {},
   "outputs": [],
   "source": []
  },
  {
   "cell_type": "code",
   "execution_count": null,
   "id": "018dd26a",
   "metadata": {},
   "outputs": [],
   "source": [
    "#Ficheros (completamente numerico)"
   ]
  },
  {
   "cell_type": "code",
   "execution_count": 52,
   "id": "c5a6f256",
   "metadata": {},
   "outputs": [
    {
     "data": {
      "text/plain": [
       "array([nan, nan, nan])"
      ]
     },
     "execution_count": 52,
     "metadata": {},
     "output_type": "execute_result"
    }
   ],
   "source": [
    "a4 = np.genfromtxt (r\"C:\\\\Users\\\\Natalia Gonzalez\\\\Ironhack\\\\notebooks\\\\data\\\\numpy_data.txt\")\n",
    "a4"
   ]
  },
  {
   "cell_type": "code",
   "execution_count": 71,
   "id": "516b85a1",
   "metadata": {},
   "outputs": [
    {
     "data": {
      "text/plain": [
       "array([[  1.,  13.,  21.,  11., 196.,  75.,   4.,   3.,  34.,   6.,   7.,\n",
       "          8.,   0.,   1.,   2.,   3.,   4.,   5.],\n",
       "       [  3.,  42.,  12.,  33., 766.,  75.,   4.,  55.,   6.,   4.,   3.,\n",
       "          4.,   5.,   6.,   7.,   0.,  11.,  12.],\n",
       "       [  1.,  22.,  33.,  11., 999.,  11.,   2.,   1.,  78.,   0.,   1.,\n",
       "          2.,   9.,   8.,   7.,   1.,  76.,  88.]])"
      ]
     },
     "execution_count": 71,
     "metadata": {},
     "output_type": "execute_result"
    }
   ],
   "source": [
    "a4 = np.genfromtxt (\"../notebooks/data/numpy_data.txt\", delimiter=',')\n",
    "a4"
   ]
  },
  {
   "cell_type": "code",
   "execution_count": 69,
   "id": "9b81080d",
   "metadata": {},
   "outputs": [
    {
     "data": {
      "text/plain": [
       "array([[  1.,  13.,  21.,  11., 196.,  75.,   4.,   3.,  34.,   6.,   7.,\n",
       "          8.,   0.,   1.,   2.,   3.,   4.,   5.],\n",
       "       [  3.,  42.,  12.,  33., 766.,  75.,   4.,  55.,   6.,   4.,   3.,\n",
       "          4.,   5.,   6.,   7.,   0.,  11.,  12.],\n",
       "       [  1.,  22.,  33.,  11., 999.,  11.,   2.,   1.,  78.,   0.,   1.,\n",
       "          2.,   9.,   8.,   7.,   1.,  76.,  88.]])"
      ]
     },
     "execution_count": 69,
     "metadata": {},
     "output_type": "execute_result"
    }
   ],
   "source": [
    "a4 = np.genfromtxt (r\"..\\\\notebooks\\\\data\\\\numpy_data.txt\", delimiter=',')\n",
    "a4"
   ]
  },
  {
   "cell_type": "code",
   "execution_count": 58,
   "id": "d4a472f3",
   "metadata": {},
   "outputs": [],
   "source": [
    "#Stats"
   ]
  },
  {
   "cell_type": "code",
   "execution_count": 59,
   "id": "3cd2a1f3",
   "metadata": {},
   "outputs": [
    {
     "data": {
      "text/plain": [
       "array([[85, 80,  7, 94],\n",
       "       [68, 99, 15, 68],\n",
       "       [46, 63, 55, 79]])"
      ]
     },
     "execution_count": 59,
     "metadata": {},
     "output_type": "execute_result"
    }
   ],
   "source": [
    "a3"
   ]
  },
  {
   "cell_type": "code",
   "execution_count": 60,
   "id": "f5e1ec16",
   "metadata": {},
   "outputs": [
    {
     "data": {
      "text/plain": [
       "759"
      ]
     },
     "execution_count": 60,
     "metadata": {},
     "output_type": "execute_result"
    }
   ],
   "source": [
    "np.sum(a3)"
   ]
  },
  {
   "cell_type": "code",
   "execution_count": 61,
   "id": "f43836f4",
   "metadata": {},
   "outputs": [
    {
     "data": {
      "text/plain": [
       "99"
      ]
     },
     "execution_count": 61,
     "metadata": {},
     "output_type": "execute_result"
    }
   ],
   "source": [
    "np.max(a3)"
   ]
  },
  {
   "cell_type": "code",
   "execution_count": 62,
   "id": "8a57efe6",
   "metadata": {},
   "outputs": [
    {
     "data": {
      "text/plain": [
       "7"
      ]
     },
     "execution_count": 62,
     "metadata": {},
     "output_type": "execute_result"
    }
   ],
   "source": [
    "np.min(a3)"
   ]
  },
  {
   "cell_type": "code",
   "execution_count": 63,
   "id": "5d80e0ac",
   "metadata": {},
   "outputs": [
    {
     "data": {
      "text/plain": [
       "array([199, 242,  77, 241])"
      ]
     },
     "execution_count": 63,
     "metadata": {},
     "output_type": "execute_result"
    }
   ],
   "source": [
    "# suma de los elementos por filas\n",
    "np.sum(a3, axis=0)"
   ]
  },
  {
   "cell_type": "code",
   "execution_count": 64,
   "id": "76e8c93d",
   "metadata": {},
   "outputs": [
    {
     "data": {
      "text/plain": [
       "array([266, 250, 243])"
      ]
     },
     "execution_count": 64,
     "metadata": {},
     "output_type": "execute_result"
    }
   ],
   "source": [
    "# suma de los elementos por columnas\n",
    "np.sum(a3, axis=1)"
   ]
  },
  {
   "cell_type": "code",
   "execution_count": 65,
   "id": "f90127dd",
   "metadata": {},
   "outputs": [
    {
     "data": {
      "text/plain": [
       "array([66.33333333, 80.66666667, 25.66666667, 80.33333333])"
      ]
     },
     "execution_count": 65,
     "metadata": {},
     "output_type": "execute_result"
    }
   ],
   "source": [
    "# media de los elementos por filas\n",
    "np.mean(a3, axis=0)"
   ]
  },
  {
   "cell_type": "code",
   "execution_count": 66,
   "id": "2cf06462",
   "metadata": {},
   "outputs": [
    {
     "data": {
      "text/plain": [
       "array([15.96524002, 14.70449667, 20.99735433, 10.65624491])"
      ]
     },
     "execution_count": 66,
     "metadata": {},
     "output_type": "execute_result"
    }
   ],
   "source": [
    "np.std(a3, axis=0)"
   ]
  },
  {
   "cell_type": "code",
   "execution_count": null,
   "id": "42b6282f",
   "metadata": {},
   "outputs": [],
   "source": []
  }
 ],
 "metadata": {
  "kernelspec": {
   "display_name": "Python 3",
   "language": "python",
   "name": "python3"
  },
  "language_info": {
   "codemirror_mode": {
    "name": "ipython",
    "version": 3
   },
   "file_extension": ".py",
   "mimetype": "text/x-python",
   "name": "python",
   "nbconvert_exporter": "python",
   "pygments_lexer": "ipython3",
   "version": "3.8.8"
  }
 },
 "nbformat": 4,
 "nbformat_minor": 5
}
