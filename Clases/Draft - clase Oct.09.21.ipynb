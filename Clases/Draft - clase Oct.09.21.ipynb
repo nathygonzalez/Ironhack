{
 "cells": [
  {
   "cell_type": "code",
   "execution_count": 3,
   "id": "b4993518",
   "metadata": {},
   "outputs": [],
   "source": [
    "#Classes\n",
    "class Complex:\n",
    "    def __init__ (self, realpart, imagpart):\n",
    "        self.r = realpart\n",
    "        self.i = imagpart\n",
    "    "
   ]
  },
  {
   "cell_type": "code",
   "execution_count": 2,
   "id": "70da730b",
   "metadata": {},
   "outputs": [
    {
     "data": {
      "text/plain": [
       "(3.0, -4.5)"
      ]
     },
     "execution_count": 2,
     "metadata": {},
     "output_type": "execute_result"
    }
   ],
   "source": [
    "x = Complex (3.0, -4.5)\n",
    "x.r, x.i"
   ]
  },
  {
   "cell_type": "code",
   "execution_count": 46,
   "id": "adfef63b",
   "metadata": {},
   "outputs": [],
   "source": [
    "def Personal ():\n",
    "    def __init__(self, nombre = None):\n",
    "        self.nombre = nombre\n",
    "    def saludo (self):\n",
    "        if self.nombre:\n",
    "            print ('Hola, me llamo {}'.format(self.nombre))\n",
    "            tu_nombre = raw_input('Como te llamas?')\n",
    "            print('Hola, ', tu_nombre)\n",
    "            x = Persona()\n",
    "            x.saludo()"
   ]
  },
  {
   "cell_type": "code",
   "execution_count": null,
   "id": "ef3bacf9",
   "metadata": {},
   "outputs": [],
   "source": []
  },
  {
   "cell_type": "code",
   "execution_count": null,
   "id": "28e5cc2d",
   "metadata": {},
   "outputs": [],
   "source": []
  },
  {
   "cell_type": "code",
   "execution_count": 7,
   "id": "1a796872",
   "metadata": {},
   "outputs": [],
   "source": [
    "class Persona:\n",
    "    def __init__(self, nombre = None):\n",
    "        self.nombre = nombre\n",
    "    def __str__(self):\n",
    "        return self.nombre\n",
    "    def __repr__(self):\n",
    "        return f'Yo soy {self.nombre}'"
   ]
  },
  {
   "cell_type": "code",
   "execution_count": 8,
   "id": "f9e7ec87",
   "metadata": {},
   "outputs": [],
   "source": [
    "alberto = Persona(nombre='Alberto')"
   ]
  },
  {
   "cell_type": "code",
   "execution_count": 9,
   "id": "d678b3ab",
   "metadata": {},
   "outputs": [
    {
     "data": {
      "text/plain": [
       "Yo soy Alberto"
      ]
     },
     "execution_count": 9,
     "metadata": {},
     "output_type": "execute_result"
    }
   ],
   "source": [
    "alberto"
   ]
  },
  {
   "cell_type": "code",
   "execution_count": 10,
   "id": "e9ae2157",
   "metadata": {},
   "outputs": [
    {
     "name": "stdout",
     "output_type": "stream",
     "text": [
      "Alberto\n"
     ]
    }
   ],
   "source": [
    "print (alberto)"
   ]
  },
  {
   "cell_type": "code",
   "execution_count": null,
   "id": "7a39b95c",
   "metadata": {},
   "outputs": [],
   "source": []
  },
  {
   "cell_type": "code",
   "execution_count": 11,
   "id": "3d53cbb6",
   "metadata": {},
   "outputs": [],
   "source": [
    "from datetime import date"
   ]
  },
  {
   "cell_type": "code",
   "execution_count": 12,
   "id": "6cf0c22a",
   "metadata": {},
   "outputs": [
    {
     "data": {
      "text/plain": [
       "datetime.date(2021, 10, 9)"
      ]
     },
     "execution_count": 12,
     "metadata": {},
     "output_type": "execute_result"
    }
   ],
   "source": [
    "date.today()"
   ]
  },
  {
   "cell_type": "code",
   "execution_count": 13,
   "id": "1073be69",
   "metadata": {},
   "outputs": [
    {
     "data": {
      "text/plain": [
       "'2021-10-09'"
      ]
     },
     "execution_count": 13,
     "metadata": {},
     "output_type": "execute_result"
    }
   ],
   "source": [
    "date.today().isoformat()"
   ]
  },
  {
   "cell_type": "code",
   "execution_count": 14,
   "id": "00cc68f9",
   "metadata": {},
   "outputs": [
    {
     "data": {
      "text/plain": [
       "datetime.date(1985, 5, 24)"
      ]
     },
     "execution_count": 14,
     "metadata": {},
     "output_type": "execute_result"
    }
   ],
   "source": [
    "date.fromisoformat('1985-05-24')"
   ]
  },
  {
   "cell_type": "code",
   "execution_count": 32,
   "id": "7da6e00e",
   "metadata": {},
   "outputs": [],
   "source": [
    "class Persona:\n",
    "    '''Definición de una Persona'''\n",
    "    \n",
    "    def __init__(self, nombre = None, fecha_nac = None):\n",
    "        '''Crea una persona\n",
    "        Input:\n",
    "        nombre: Nombre\n",
    "        fecha_nac: Fecha de nacimiento en formato ISO\n",
    "        '''\n",
    "        self.nombre = nombre\n",
    "        self.fecha_nacimiento = date.fromisoformat(fecha_nac)\n",
    "        \n",
    "    def __str__(self):\n",
    "        return self.nombre\n",
    "    \n",
    "    def __repr__(self):\n",
    "        return f'Yo soy {self.nombre} y tengo {sef.edad()} años'\n",
    "    \n",
    "    def edad (self):\n",
    "        pass\n",
    "        \n",
    "    def es_cumple(self):\n",
    "        return False"
   ]
  },
  {
   "cell_type": "code",
   "execution_count": 19,
   "id": "c422e2dd",
   "metadata": {},
   "outputs": [],
   "source": [
    "from datetime import date"
   ]
  },
  {
   "cell_type": "code",
   "execution_count": 21,
   "id": "8c7c6a96",
   "metadata": {},
   "outputs": [
    {
     "data": {
      "text/plain": [
       "'2021-10-09'"
      ]
     },
     "execution_count": 21,
     "metadata": {},
     "output_type": "execute_result"
    }
   ],
   "source": [
    "date.today().isoformat()"
   ]
  },
  {
   "cell_type": "code",
   "execution_count": 28,
   "id": "c307eafa",
   "metadata": {},
   "outputs": [],
   "source": [
    "class Persona:\n",
    "    '''Definición de una Persona'''\n",
    "    \n",
    "    def __init__(self, nombre = None, fecha_nac = None):\n",
    "        '''Crea una persona\n",
    "        Input:\n",
    "        nombre: Nombre\n",
    "        fecha_nac: Fecha de nacimiento en formato ISO\n",
    "        '''\n",
    "        self.nombre = nombre\n",
    "        self.fecha_nacimiento = date.fromisoformat(fecha_nac)\n",
    "    \n",
    "    def __str__(self):\n",
    "        return self.nombre    \n",
    "    def __repr__(self):\n",
    "        return f'Yo soy {self.nombre} y tengo {self.edad()} años'   \n",
    "    def edad(self):\n",
    "        today= date.today()\n",
    "        self.edad = today.year - self.fecha_nacimiento.year - ((today.month, today.day) < (self.fecha_nacimiento.month, self.fecha_nacimiento.day))\n",
    "        return self.edad\n",
    "    \n",
    "    def es_cumple(self):\n",
    "        today= date.today()\n",
    "        if self.fecha_nacimiento.month == today.month and self.fecha_nacimiento.day == today.day:\n",
    "            return True\n",
    "        else:\n",
    "            return False"
   ]
  },
  {
   "cell_type": "code",
   "execution_count": 29,
   "id": "e6f1bb1a",
   "metadata": {},
   "outputs": [],
   "source": [
    "natalia = Persona(nombre='Natália', fecha_nac ='1985-05-24')"
   ]
  },
  {
   "cell_type": "code",
   "execution_count": 30,
   "id": "6a6339bb",
   "metadata": {},
   "outputs": [
    {
     "data": {
      "text/plain": [
       "Yo soy Natália y tengo 36 años"
      ]
     },
     "execution_count": 30,
     "metadata": {},
     "output_type": "execute_result"
    }
   ],
   "source": [
    "natalia"
   ]
  },
  {
   "cell_type": "code",
   "execution_count": 31,
   "id": "9805ebe6",
   "metadata": {},
   "outputs": [
    {
     "data": {
      "text/plain": [
       "False"
      ]
     },
     "execution_count": 31,
     "metadata": {},
     "output_type": "execute_result"
    }
   ],
   "source": [
    "natalia.es_cumple ()"
   ]
  },
  {
   "cell_type": "code",
   "execution_count": null,
   "id": "2437592a",
   "metadata": {},
   "outputs": [],
   "source": []
  },
  {
   "cell_type": "code",
   "execution_count": 34,
   "id": "75e41087",
   "metadata": {},
   "outputs": [
    {
     "data": {
      "text/plain": [
       "False"
      ]
     },
     "execution_count": 34,
     "metadata": {},
     "output_type": "execute_result"
    }
   ],
   "source": [
    "None is not None"
   ]
  },
  {
   "cell_type": "code",
   "execution_count": 35,
   "id": "89ac1999",
   "metadata": {},
   "outputs": [
    {
     "data": {
      "text/plain": [
       "False"
      ]
     },
     "execution_count": 35,
     "metadata": {},
     "output_type": "execute_result"
    }
   ],
   "source": [
    "None != None"
   ]
  },
  {
   "cell_type": "code",
   "execution_count": 33,
   "id": "c580dea8",
   "metadata": {},
   "outputs": [],
   "source": [
    "class Persona:\n",
    "    '''Definición de una Persona'''\n",
    "    \n",
    "    def __init__(self, nombre=None, fecha_nac=None):\n",
    "        '''Crea una persona\n",
    "           Input:\n",
    "             nombre: Nombre\n",
    "             fecha_nac: Fecha de  nacimiento en formato ISO\n",
    "        '''\n",
    "        self.nombre = nombre\n",
    "        \n",
    "        if fecha_nac is None:\n",
    "            self.fecha_nacimiento = date.fromisoformat(fecha_nac)\n",
    "\n",
    "    @property\n",
    "    def edad(self):\n",
    "        today= date.today()\n",
    "        return today.year - self.fecha_nacimiento.year - ((today.month, today.day) < (self.fecha_nacimiento.month, self.fecha_nacimiento.day))\n",
    "    \n",
    "    @property\n",
    "    def es_cumple(self):\n",
    "        today= date.today()\n",
    "        if self.fecha_nacimiento.month == today.month and self.fecha_nacimiento.day == today.day:\n",
    "            return True\n",
    "        else:\n",
    "            return False\n",
    "    \n",
    "    def __str__(self):\n",
    "        return self.nombre\n",
    "    \n",
    "    def __repr__(self):\n",
    "        if self.es_cumple:\n",
    "            return f'Yo soy {self.nombre} y hoy cumplo {self.edad} años'\n",
    "        else:\n",
    "            return f'Yo soy {self.nombre} y tengo {self.edad} años'"
   ]
  },
  {
   "cell_type": "code",
   "execution_count": 37,
   "id": "a9ceab80",
   "metadata": {},
   "outputs": [],
   "source": [
    "natalia = Persona(nombre='Natália', fecha_nac ='1985-05-24')"
   ]
  },
  {
   "cell_type": "code",
   "execution_count": 38,
   "id": "d6c7d976",
   "metadata": {},
   "outputs": [
    {
     "data": {
      "text/plain": [
       "Yo soy Natália y tengo 36 años"
      ]
     },
     "execution_count": 38,
     "metadata": {},
     "output_type": "execute_result"
    }
   ],
   "source": [
    "natalia"
   ]
  },
  {
   "cell_type": "code",
   "execution_count": 45,
   "id": "623adc25",
   "metadata": {},
   "outputs": [],
   "source": [
    "# si hoy fuera mi cumple\n",
    "natalia = Persona(nombre='Natália', fecha_nac ='1985-10-09')"
   ]
  },
  {
   "cell_type": "code",
   "execution_count": 44,
   "id": "f3115bb7",
   "metadata": {},
   "outputs": [
    {
     "data": {
      "text/plain": [
       "Yo soy Natália y hoy cumplo 36 años"
      ]
     },
     "execution_count": 44,
     "metadata": {},
     "output_type": "execute_result"
    }
   ],
   "source": [
    "natalia"
   ]
  },
  {
   "cell_type": "code",
   "execution_count": null,
   "id": "139d6a8f",
   "metadata": {},
   "outputs": [],
   "source": []
  },
  {
   "cell_type": "code",
   "execution_count": null,
   "id": "ad9c81f4",
   "metadata": {},
   "outputs": [],
   "source": []
  },
  {
   "cell_type": "code",
   "execution_count": 47,
   "id": "5a3cb3f9",
   "metadata": {},
   "outputs": [],
   "source": [
    "class Estudiante:\n",
    "    def __init__(self, bootcamp='Data Analytics'):\n",
    "        self.bootcamp = bootcamp\n",
    "    \n",
    "    def __str__(self):\n",
    "        return 'Estudiante de Ironhack'\n",
    "    \n",
    "    def __repr__(self):\n",
    "        return f'Estudio {self.bootcamp}'"
   ]
  },
  {
   "cell_type": "code",
   "execution_count": 48,
   "id": "9ab60aa2",
   "metadata": {},
   "outputs": [],
   "source": [
    "estudiante = Estudiante ()"
   ]
  },
  {
   "cell_type": "code",
   "execution_count": 49,
   "id": "189f2b2d",
   "metadata": {},
   "outputs": [
    {
     "data": {
      "text/plain": [
       "Estudio Data Analytics"
      ]
     },
     "execution_count": 49,
     "metadata": {},
     "output_type": "execute_result"
    }
   ],
   "source": [
    "estudiante"
   ]
  },
  {
   "cell_type": "code",
   "execution_count": 50,
   "id": "3089544c",
   "metadata": {},
   "outputs": [
    {
     "data": {
      "text/plain": [
       "__main__.Estudiante"
      ]
     },
     "execution_count": 50,
     "metadata": {},
     "output_type": "execute_result"
    }
   ],
   "source": [
    "type(estudiante)"
   ]
  },
  {
   "cell_type": "code",
   "execution_count": 51,
   "id": "2f765180",
   "metadata": {},
   "outputs": [
    {
     "data": {
      "text/plain": [
       "__main__.Estudiante"
      ]
     },
     "execution_count": 51,
     "metadata": {},
     "output_type": "execute_result"
    }
   ],
   "source": [
    "estudiante.__class__"
   ]
  },
  {
   "cell_type": "code",
   "execution_count": 52,
   "id": "daed2b6b",
   "metadata": {},
   "outputs": [
    {
     "data": {
      "text/plain": [
       "False"
      ]
     },
     "execution_count": 52,
     "metadata": {},
     "output_type": "execute_result"
    }
   ],
   "source": [
    "isinstance(estudiante, Persona)"
   ]
  },
  {
   "cell_type": "code",
   "execution_count": null,
   "id": "2431dc9d",
   "metadata": {},
   "outputs": [],
   "source": []
  },
  {
   "cell_type": "code",
   "execution_count": 53,
   "id": "a00da1bd",
   "metadata": {},
   "outputs": [],
   "source": [
    "class Estudiante:\n",
    "    def __init__(self, bootcamp='Data Analytics'):\n",
    "        self.bootcamp = bootcamp\n",
    "        self.notas = {}\n",
    "    \n",
    "    def __str__(self):\n",
    "        return 'Estudiante de Ironhack'\n",
    "    \n",
    "    def __repr__(self):\n",
    "        return f'Estudio {self.bootcamp}'\n",
    "    \n",
    "    def hacer_examen(self, asignature, nota):\n",
    "        self.notas[asignature] = nota"
   ]
  },
  {
   "cell_type": "code",
   "execution_count": 54,
   "id": "092bbaa5",
   "metadata": {},
   "outputs": [],
   "source": [
    "estudiante = Estudiante ()"
   ]
  },
  {
   "cell_type": "code",
   "execution_count": 55,
   "id": "71d1468d",
   "metadata": {},
   "outputs": [],
   "source": [
    "estudiante.hacer_examen('Visualization',9)"
   ]
  },
  {
   "cell_type": "code",
   "execution_count": 56,
   "id": "ac8d60f2",
   "metadata": {},
   "outputs": [],
   "source": [
    "estudiante.hacer_examen('Statistics',4)"
   ]
  },
  {
   "cell_type": "code",
   "execution_count": 57,
   "id": "42dc9650",
   "metadata": {},
   "outputs": [
    {
     "data": {
      "text/plain": [
       "{'Visualization': 9, 'Statistics': 4}"
      ]
     },
     "execution_count": 57,
     "metadata": {},
     "output_type": "execute_result"
    }
   ],
   "source": [
    "estudiante.notas"
   ]
  },
  {
   "cell_type": "code",
   "execution_count": null,
   "id": "0116f1c9",
   "metadata": {},
   "outputs": [],
   "source": []
  },
  {
   "cell_type": "code",
   "execution_count": 61,
   "id": "1ef1dd99",
   "metadata": {},
   "outputs": [],
   "source": [
    "class Estudiante:\n",
    "    def __init__(self, bootcamp='Data Analytics'):\n",
    "        self.bootcamp = bootcamp\n",
    "        self.notas = {}\n",
    "    \n",
    "    def __str__(self):\n",
    "        return 'Estudiante de Ironhack'\n",
    "    \n",
    "    def __repr__(self):\n",
    "        return f'Estudio {self.bootcamp}'\n",
    "    \n",
    "    def hacer_examen(self, asignature, nota):\n",
    "        self.notas[asignature] = nota\n",
    "        \n",
    "    def recuperaciones(self):\n",
    "        return [asignatura for asignatura, nota in self.notas.items() if nota < 5]\n",
    "    \n",
    "    def vacaciones(self):\n",
    "        return not self.recuperaciones ()"
   ]
  },
  {
   "cell_type": "code",
   "execution_count": 62,
   "id": "bdce69e2",
   "metadata": {},
   "outputs": [],
   "source": [
    "estudiante = Estudiante ()"
   ]
  },
  {
   "cell_type": "code",
   "execution_count": 63,
   "id": "d7ed66ea",
   "metadata": {},
   "outputs": [],
   "source": [
    "estudiante.hacer_examen('Python', 7)\n",
    "estudiante.hacer_examen('Visualization', 9)\n",
    "estudiante.hacer_examen('Statistics', 4)"
   ]
  },
  {
   "cell_type": "code",
   "execution_count": 64,
   "id": "2448e1fb",
   "metadata": {},
   "outputs": [
    {
     "data": {
      "text/plain": [
       "['Statistics']"
      ]
     },
     "execution_count": 64,
     "metadata": {},
     "output_type": "execute_result"
    }
   ],
   "source": [
    "estudiante.recuperaciones ()"
   ]
  },
  {
   "cell_type": "code",
   "execution_count": 65,
   "id": "275cd112",
   "metadata": {},
   "outputs": [
    {
     "data": {
      "text/plain": [
       "False"
      ]
     },
     "execution_count": 65,
     "metadata": {},
     "output_type": "execute_result"
    }
   ],
   "source": [
    "estudiante.vacaciones ()"
   ]
  },
  {
   "cell_type": "code",
   "execution_count": null,
   "id": "9fef79f9",
   "metadata": {},
   "outputs": [],
   "source": []
  },
  {
   "cell_type": "code",
   "execution_count": 83,
   "id": "ba80f944",
   "metadata": {},
   "outputs": [],
   "source": [
    "class Estudiante:\n",
    "    def __init__(self, bootcamp='Data Analytics'):\n",
    "        self.bootcamp = bootcamp\n",
    "        self.notas = {}\n",
    "    \n",
    "    def __str__(self):\n",
    "        return 'Estudiante de Ironhack'\n",
    "    \n",
    "    def __repr__(self):\n",
    "        return f'Estudio {self.bootcamp}'\n",
    "    \n",
    "    def hacer_examen(self, asignature, nota):\n",
    "        self.notas[asignature] = nota\n",
    "        \n",
    "    @property        \n",
    "    def recuperaciones(self):\n",
    "        return [asignatura for asignatura, nota in self.notas.items() if nota < 5]\n",
    "\n",
    "    @property\n",
    "    def vacaciones(self):\n",
    "        return not self.recuperaciones\n",
    "    \n",
    "    def mensaje(self):\n",
    "        print ('Hola!')"
   ]
  },
  {
   "cell_type": "code",
   "execution_count": 84,
   "id": "af057297",
   "metadata": {},
   "outputs": [],
   "source": [
    "estudiante = Estudiante ()"
   ]
  },
  {
   "cell_type": "code",
   "execution_count": 85,
   "id": "c73ee3b4",
   "metadata": {},
   "outputs": [],
   "source": [
    "estudiante.hacer_examen('Python', 7)\n",
    "estudiante.hacer_examen('Visualization', 9)\n",
    "estudiante.hacer_examen('Statistics', 4)"
   ]
  },
  {
   "cell_type": "code",
   "execution_count": 86,
   "id": "298e566f",
   "metadata": {},
   "outputs": [
    {
     "data": {
      "text/plain": [
       "['Statistics']"
      ]
     },
     "execution_count": 86,
     "metadata": {},
     "output_type": "execute_result"
    }
   ],
   "source": [
    "estudiante.recuperaciones"
   ]
  },
  {
   "cell_type": "code",
   "execution_count": 87,
   "id": "09537096",
   "metadata": {},
   "outputs": [
    {
     "data": {
      "text/plain": [
       "False"
      ]
     },
     "execution_count": 87,
     "metadata": {},
     "output_type": "execute_result"
    }
   ],
   "source": [
    "estudiante.vacaciones"
   ]
  },
  {
   "cell_type": "code",
   "execution_count": 88,
   "id": "2e87521f",
   "metadata": {},
   "outputs": [
    {
     "name": "stdout",
     "output_type": "stream",
     "text": [
      "Hola!\n"
     ]
    }
   ],
   "source": [
    "estudiante.mensaje ()"
   ]
  },
  {
   "cell_type": "code",
   "execution_count": null,
   "id": "e0b2999e",
   "metadata": {},
   "outputs": [],
   "source": []
  },
  {
   "cell_type": "code",
   "execution_count": 89,
   "id": "c2c54970",
   "metadata": {},
   "outputs": [],
   "source": [
    "class Estudiante(Persona):\n",
    "    def __init__(self, nombre, fecha_nac, bootcamp='Data Analytics'):\n",
    "        \n",
    "        super().__init__(nombre, fecha_nac)\n",
    "        self.bootcamp = bootcamp\n",
    "        self.notas = {}\n",
    "    \n",
    "    def __str__(self):\n",
    "        return 'Estudiante de Ironhack'\n",
    "    \n",
    "    def __repr__(self):\n",
    "        return f'Estudio {self.bootcamp}'\n",
    "    \n",
    "    def hacer_examen(self, asignature, nota):\n",
    "        self.notas[asignature] = nota\n",
    "        \n",
    "    @property        \n",
    "    def recuperaciones(self):\n",
    "        return [asignatura for asignatura, nota in self.notas.items() if nota < 5]\n",
    "\n",
    "    @property\n",
    "    def vacaciones(self):\n",
    "        return not self.recuperaciones"
   ]
  },
  {
   "cell_type": "code",
   "execution_count": 92,
   "id": "2ef28cbf",
   "metadata": {},
   "outputs": [],
   "source": [
    "estudiante = Estudiante ('Natalia','1985-05-24')"
   ]
  },
  {
   "cell_type": "code",
   "execution_count": 91,
   "id": "9427161b",
   "metadata": {},
   "outputs": [],
   "source": [
    "estudiante.hacer_examen('Python', 7)\n",
    "estudiante.hacer_examen('Visualization', 9)\n",
    "estudiante.hacer_examen('Statistics', 4)"
   ]
  },
  {
   "cell_type": "code",
   "execution_count": null,
   "id": "ff6aa51d",
   "metadata": {},
   "outputs": [],
   "source": [
    "estudiante.edad"
   ]
  },
  {
   "cell_type": "code",
   "execution_count": null,
   "id": "6042e678",
   "metadata": {},
   "outputs": [],
   "source": []
  },
  {
   "cell_type": "code",
   "execution_count": 93,
   "id": "0dd3482d",
   "metadata": {},
   "outputs": [
    {
     "name": "stdout",
     "output_type": "stream",
     "text": [
      "6\n",
      "New List after pop :  [1, 2, 3, 4, 5]\n"
     ]
    }
   ],
   "source": [
    "list1 = [ 1, 2, 3, 4, 5, 6 ]\n",
    " \n",
    "# Pops and removes the last element from the list\n",
    "print(list1.pop())\n",
    " \n",
    "# Print list after removing last element\n",
    "print(\"New List after pop : \", list1)"
   ]
  },
  {
   "cell_type": "code",
   "execution_count": null,
   "id": "3506e4b3",
   "metadata": {},
   "outputs": [],
   "source": []
  }
 ],
 "metadata": {
  "kernelspec": {
   "display_name": "Python 3",
   "language": "python",
   "name": "python3"
  },
  "language_info": {
   "codemirror_mode": {
    "name": "ipython",
    "version": 3
   },
   "file_extension": ".py",
   "mimetype": "text/x-python",
   "name": "python",
   "nbconvert_exporter": "python",
   "pygments_lexer": "ipython3",
   "version": "3.8.8"
  }
 },
 "nbformat": 4,
 "nbformat_minor": 5
}
