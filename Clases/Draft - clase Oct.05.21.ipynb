{
 "cells": [
  {
   "cell_type": "code",
   "execution_count": 2,
   "id": "7000ad0b",
   "metadata": {},
   "outputs": [],
   "source": [
    "def say_hello():\n",
    "    \"\"\"Say hello.\"\"\"\n",
    "    print (\"Hello world!\")"
   ]
  },
  {
   "cell_type": "code",
   "execution_count": 3,
   "id": "9d5800b9",
   "metadata": {},
   "outputs": [
    {
     "name": "stdout",
     "output_type": "stream",
     "text": [
      "Help on function say_hello in module __main__:\n",
      "\n",
      "say_hello()\n",
      "    Say hello.\n",
      "\n"
     ]
    }
   ],
   "source": [
    "help(say_hello)"
   ]
  },
  {
   "cell_type": "code",
   "execution_count": 5,
   "id": "c6844c81",
   "metadata": {},
   "outputs": [],
   "source": [
    "def say_hello(message=\"Hola mundo!\"):\n",
    "    \"\"\"Say hello to the world.\"\"\"\n",
    "    print (message)"
   ]
  },
  {
   "cell_type": "code",
   "execution_count": 6,
   "id": "97f47e51",
   "metadata": {},
   "outputs": [
    {
     "name": "stdout",
     "output_type": "stream",
     "text": [
      "Good morning\n"
     ]
    }
   ],
   "source": [
    "say_hello('Good morning')"
   ]
  },
  {
   "cell_type": "code",
   "execution_count": 7,
   "id": "14afa754",
   "metadata": {},
   "outputs": [],
   "source": [
    "def suma (a,b):\n",
    "    return a + b"
   ]
  },
  {
   "cell_type": "code",
   "execution_count": 8,
   "id": "61fdb131",
   "metadata": {},
   "outputs": [],
   "source": [
    "c = suma (2,3)"
   ]
  },
  {
   "cell_type": "code",
   "execution_count": 9,
   "id": "5d8a7350",
   "metadata": {},
   "outputs": [],
   "source": [
    "def factorial (n):\n",
    "    n = 5"
   ]
  },
  {
   "cell_type": "code",
   "execution_count": 16,
   "id": "6a492225",
   "metadata": {},
   "outputs": [],
   "source": [
    "n = 5\n",
    "res = 1"
   ]
  },
  {
   "cell_type": "code",
   "execution_count": 17,
   "id": "f27593fe",
   "metadata": {},
   "outputs": [
    {
     "name": "stdout",
     "output_type": "stream",
     "text": [
      "n=5 res=5\n",
      "n=4 res=20\n",
      "n=3 res=60\n",
      "n=2 res=120\n",
      "n=1 res=120\n"
     ]
    }
   ],
   "source": [
    "while n > 0:\n",
    "    res = res * n\n",
    "    print (f'n={n} res={res}')\n",
    "    n = n - 1"
   ]
  },
  {
   "cell_type": "code",
   "execution_count": 22,
   "id": "947e39dd",
   "metadata": {},
   "outputs": [
    {
     "name": "stdout",
     "output_type": "stream",
     "text": [
      "n=5 res=5\n",
      "n=4 res=20\n",
      "n=3 res=60\n",
      "n=2 res=120\n",
      "n=1 res=120\n"
     ]
    }
   ],
   "source": [
    "n = 5\n",
    "res = 1\n",
    "while n > 0:\n",
    "    res *= n\n",
    "    print (f'n={n} res={res}')\n",
    "    n -= 1"
   ]
  },
  {
   "cell_type": "code",
   "execution_count": 21,
   "id": "916fca71",
   "metadata": {},
   "outputs": [
    {
     "name": "stdout",
     "output_type": "stream",
     "text": [
      "The Zen of Python, by Tim Peters\n",
      "\n",
      "Beautiful is better than ugly.\n",
      "Explicit is better than implicit.\n",
      "Simple is better than complex.\n",
      "Complex is better than complicated.\n",
      "Flat is better than nested.\n",
      "Sparse is better than dense.\n",
      "Readability counts.\n",
      "Special cases aren't special enough to break the rules.\n",
      "Although practicality beats purity.\n",
      "Errors should never pass silently.\n",
      "Unless explicitly silenced.\n",
      "In the face of ambiguity, refuse the temptation to guess.\n",
      "There should be one-- and preferably only one --obvious way to do it.\n",
      "Although that way may not be obvious at first unless you're Dutch.\n",
      "Now is better than never.\n",
      "Although never is often better than *right* now.\n",
      "If the implementation is hard to explain, it's a bad idea.\n",
      "If the implementation is easy to explain, it may be a good idea.\n",
      "Namespaces are one honking great idea -- let's do more of those!\n"
     ]
    }
   ],
   "source": [
    "import this"
   ]
  },
  {
   "cell_type": "code",
   "execution_count": 34,
   "id": "45fed95c",
   "metadata": {},
   "outputs": [],
   "source": [
    "def factorial(n, verbose=False):\n",
    "    res = 1\n",
    "    while n > 0:\n",
    "        res = res * n\n",
    "        if verbose:\n",
    "            print (f'n={n} res={res}')\n",
    "        n = n - 1\n",
    "    return res"
   ]
  },
  {
   "cell_type": "code",
   "execution_count": 35,
   "id": "ce7c2e43",
   "metadata": {},
   "outputs": [
    {
     "name": "stdout",
     "output_type": "stream",
     "text": [
      "n=6 res=6\n",
      "n=5 res=30\n",
      "n=4 res=120\n",
      "n=3 res=360\n",
      "n=2 res=720\n",
      "n=1 res=720\n"
     ]
    }
   ],
   "source": [
    "res = factorial(6, verbose=True)"
   ]
  },
  {
   "cell_type": "code",
   "execution_count": 36,
   "id": "d2def0f2",
   "metadata": {},
   "outputs": [
    {
     "data": {
      "text/plain": [
       "5040"
      ]
     },
     "execution_count": 36,
     "metadata": {},
     "output_type": "execute_result"
    }
   ],
   "source": [
    "7 * res"
   ]
  },
  {
   "cell_type": "code",
   "execution_count": 39,
   "id": "9f944b88",
   "metadata": {},
   "outputs": [],
   "source": [
    "# Funcción Factorial\n",
    "def factorial_rec(n):\n",
    "    if n==1:\n",
    "        return 1\n",
    "    else:\n",
    "        return n * factorial_rec (n-1)"
   ]
  },
  {
   "cell_type": "code",
   "execution_count": 40,
   "id": "6f04034d",
   "metadata": {},
   "outputs": [
    {
     "data": {
      "text/plain": [
       "720"
      ]
     },
     "execution_count": 40,
     "metadata": {},
     "output_type": "execute_result"
    }
   ],
   "source": [
    "factorial_rec (6)"
   ]
  },
  {
   "cell_type": "code",
   "execution_count": 47,
   "id": "f90649ef",
   "metadata": {},
   "outputs": [],
   "source": [
    "# juego Fibonacci - Recursivo\n",
    "def fibonacci(n):\n",
    "    if n in {0, 1}:\n",
    "        return n\n",
    "    return fibonacci(n - 1) + fibonacci(n - 2)"
   ]
  },
  {
   "cell_type": "code",
   "execution_count": 42,
   "id": "291b52e5",
   "metadata": {},
   "outputs": [
    {
     "data": {
      "text/plain": [
       "[0, 1, 1, 2, 3, 5, 8, 13, 21, 34, 55, 89, 144, 233, 377]"
      ]
     },
     "execution_count": 42,
     "metadata": {},
     "output_type": "execute_result"
    }
   ],
   "source": [
    "[fibonacci(n) for n in range(15)]"
   ]
  },
  {
   "cell_type": "code",
   "execution_count": 54,
   "id": "4c243364",
   "metadata": {},
   "outputs": [
    {
     "name": "stdout",
     "output_type": "stream",
     "text": [
      "Wall time: 22.4 ms\n"
     ]
    },
    {
     "data": {
      "text/plain": [
       "610"
      ]
     },
     "execution_count": 54,
     "metadata": {},
     "output_type": "execute_result"
    }
   ],
   "source": [
    "%%time\n",
    "fibonacci (15)"
   ]
  },
  {
   "cell_type": "code",
   "execution_count": null,
   "id": "f4f23fac",
   "metadata": {},
   "outputs": [],
   "source": []
  },
  {
   "cell_type": "code",
   "execution_count": 45,
   "id": "fee8e2d9",
   "metadata": {},
   "outputs": [],
   "source": [
    "# juego Fibonacci - No Recursivo\n",
    "def fibonacci(n):\n",
    "    lista=[0,1]\n",
    "    for i in range(n-2):\n",
    "        n=lista[i]+lista[i+1]\n",
    "        lista.append(n)\n",
    "    return lista"
   ]
  },
  {
   "cell_type": "code",
   "execution_count": 44,
   "id": "c6887fc8",
   "metadata": {},
   "outputs": [
    {
     "data": {
      "text/plain": [
       "[0, 1, 1, 2, 3, 5, 8, 13, 21, 34]"
      ]
     },
     "execution_count": 44,
     "metadata": {},
     "output_type": "execute_result"
    }
   ],
   "source": [
    "fibonacci (10)"
   ]
  },
  {
   "cell_type": "code",
   "execution_count": null,
   "id": "21c9a581",
   "metadata": {},
   "outputs": [],
   "source": []
  },
  {
   "cell_type": "code",
   "execution_count": 51,
   "id": "b0a4c706",
   "metadata": {},
   "outputs": [
    {
     "name": "stdout",
     "output_type": "stream",
     "text": [
      "[0, 1, 1, 2, 3, 5, 8, 13, 21, 34]\n"
     ]
    }
   ],
   "source": [
    "# juego Fibonacci - Recursivo\n",
    "list_1=[]\n",
    "for i in range(10):\n",
    "    list_1.append(fibonacci(i))\n",
    "print (list_1)"
   ]
  },
  {
   "cell_type": "code",
   "execution_count": 58,
   "id": "ddf9e8aa",
   "metadata": {},
   "outputs": [],
   "source": [
    "from functools import lru_cache"
   ]
  },
  {
   "cell_type": "code",
   "execution_count": 59,
   "id": "f18159d7",
   "metadata": {},
   "outputs": [],
   "source": [
    "@lru_cache (maxsize=100) #decoradores\n",
    "def fib(pos):\n",
    "    if pos==0:\n",
    "        return 0\n",
    "    elif pos==1:\n",
    "        return 1\n",
    "    else:\n",
    "        return fib(pos - 1) + fib (pos - 2)"
   ]
  },
  {
   "cell_type": "code",
   "execution_count": 60,
   "id": "a641244e",
   "metadata": {},
   "outputs": [],
   "source": [
    "def fibonacci(n):\n",
    "    return [fib(i) for i in range(n)]"
   ]
  },
  {
   "cell_type": "code",
   "execution_count": 57,
   "id": "30006584",
   "metadata": {},
   "outputs": [
    {
     "name": "stdout",
     "output_type": "stream",
     "text": [
      "Wall time: 3.26 s\n"
     ]
    },
    {
     "data": {
      "text/plain": [
       "[0,\n",
       " 1,\n",
       " 1,\n",
       " 2,\n",
       " 3,\n",
       " 5,\n",
       " 8,\n",
       " 13,\n",
       " 21,\n",
       " 34,\n",
       " 55,\n",
       " 89,\n",
       " 144,\n",
       " 233,\n",
       " 377,\n",
       " 610,\n",
       " 987,\n",
       " 1597,\n",
       " 2584,\n",
       " 4181,\n",
       " 6765,\n",
       " 10946,\n",
       " 17711,\n",
       " 28657,\n",
       " 46368,\n",
       " 75025,\n",
       " 121393,\n",
       " 196418,\n",
       " 317811,\n",
       " 514229]"
      ]
     },
     "execution_count": 57,
     "metadata": {},
     "output_type": "execute_result"
    }
   ],
   "source": [
    "%%time\n",
    "fibonacci(30)"
   ]
  },
  {
   "cell_type": "code",
   "execution_count": null,
   "id": "eec1c6ff",
   "metadata": {},
   "outputs": [],
   "source": []
  },
  {
   "cell_type": "code",
   "execution_count": 61,
   "id": "3c593210",
   "metadata": {},
   "outputs": [
    {
     "data": {
      "text/plain": [
       "7"
      ]
     },
     "execution_count": 61,
     "metadata": {},
     "output_type": "execute_result"
    }
   ],
   "source": [
    "suma(3,4)"
   ]
  },
  {
   "cell_type": "code",
   "execution_count": 62,
   "id": "83b5c698",
   "metadata": {},
   "outputs": [],
   "source": [
    "def resta (a,b):\n",
    "    return a-b"
   ]
  },
  {
   "cell_type": "code",
   "execution_count": 63,
   "id": "c688505b",
   "metadata": {},
   "outputs": [],
   "source": [
    "def calculadora (op, a, b):\n",
    "    return op(a,b)"
   ]
  },
  {
   "cell_type": "code",
   "execution_count": 64,
   "id": "f9977c89",
   "metadata": {},
   "outputs": [
    {
     "data": {
      "text/plain": [
       "11"
      ]
     },
     "execution_count": 64,
     "metadata": {},
     "output_type": "execute_result"
    }
   ],
   "source": [
    "calculadora (suma,5,6)"
   ]
  },
  {
   "cell_type": "code",
   "execution_count": 65,
   "id": "da24e8a4",
   "metadata": {},
   "outputs": [
    {
     "data": {
      "text/plain": [
       "-1"
      ]
     },
     "execution_count": 65,
     "metadata": {},
     "output_type": "execute_result"
    }
   ],
   "source": [
    "calculadora (resta,5,6)"
   ]
  },
  {
   "cell_type": "code",
   "execution_count": null,
   "id": "6738d05c",
   "metadata": {},
   "outputs": [],
   "source": []
  },
  {
   "cell_type": "code",
   "execution_count": 66,
   "id": "69db19e9",
   "metadata": {},
   "outputs": [
    {
     "data": {
      "text/plain": [
       "10"
      ]
     },
     "execution_count": 66,
     "metadata": {},
     "output_type": "execute_result"
    }
   ],
   "source": [
    "lista=range(10)\n",
    "len (lista)"
   ]
  },
  {
   "cell_type": "code",
   "execution_count": 67,
   "id": "c67e84f7",
   "metadata": {},
   "outputs": [
    {
     "data": {
      "text/plain": [
       "range(0, 10)"
      ]
     },
     "execution_count": 67,
     "metadata": {},
     "output_type": "execute_result"
    }
   ],
   "source": [
    "lista"
   ]
  },
  {
   "cell_type": "code",
   "execution_count": 68,
   "id": "d01f8136",
   "metadata": {},
   "outputs": [
    {
     "data": {
      "text/plain": [
       "range"
      ]
     },
     "execution_count": 68,
     "metadata": {},
     "output_type": "execute_result"
    }
   ],
   "source": [
    "type(lista)"
   ]
  },
  {
   "cell_type": "code",
   "execution_count": 77,
   "id": "4e55df83",
   "metadata": {},
   "outputs": [],
   "source": [
    "def generador ():\n",
    "    n=0\n",
    "    while True:\n",
    "        n+=1\n",
    "        yield n"
   ]
  },
  {
   "cell_type": "code",
   "execution_count": 78,
   "id": "07f46826",
   "metadata": {},
   "outputs": [],
   "source": [
    "numeros = generador ()"
   ]
  },
  {
   "cell_type": "code",
   "execution_count": 79,
   "id": "039146bb",
   "metadata": {},
   "outputs": [
    {
     "data": {
      "text/plain": [
       "generator"
      ]
     },
     "execution_count": 79,
     "metadata": {},
     "output_type": "execute_result"
    }
   ],
   "source": [
    "type(numeros)"
   ]
  },
  {
   "cell_type": "code",
   "execution_count": 80,
   "id": "6a9cac5a",
   "metadata": {},
   "outputs": [
    {
     "data": {
      "text/plain": [
       "1"
      ]
     },
     "execution_count": 80,
     "metadata": {},
     "output_type": "execute_result"
    }
   ],
   "source": [
    "next(numeros)"
   ]
  },
  {
   "cell_type": "code",
   "execution_count": 81,
   "id": "43b061de",
   "metadata": {},
   "outputs": [
    {
     "name": "stdout",
     "output_type": "stream",
     "text": [
      "2\n",
      "3\n",
      "4\n",
      "5\n",
      "6\n",
      "7\n",
      "8\n",
      "9\n",
      "10\n",
      "11\n",
      "12\n",
      "13\n",
      "14\n",
      "15\n",
      "16\n",
      "17\n",
      "18\n",
      "19\n",
      "20\n",
      "21\n",
      "22\n",
      "23\n",
      "24\n",
      "25\n",
      "26\n",
      "27\n",
      "28\n",
      "29\n",
      "30\n",
      "31\n"
     ]
    }
   ],
   "source": [
    "for n in numeros:\n",
    "    print (n)\n",
    "    if n > 30:\n",
    "        break"
   ]
  },
  {
   "cell_type": "code",
   "execution_count": 1,
   "id": "dab54b9c",
   "metadata": {},
   "outputs": [],
   "source": [
    "import os"
   ]
  },
  {
   "cell_type": "code",
   "execution_count": 2,
   "id": "7eac23d2",
   "metadata": {},
   "outputs": [],
   "source": [
    "import pandas as pd"
   ]
  },
  {
   "cell_type": "code",
   "execution_count": 3,
   "id": "48c7f274",
   "metadata": {},
   "outputs": [],
   "source": [
    "import pathlib"
   ]
  },
  {
   "cell_type": "code",
   "execution_count": 85,
   "id": "d2e13000",
   "metadata": {},
   "outputs": [
    {
     "data": {
      "text/plain": [
       "['EBADF',\n",
       " 'EINVAL',\n",
       " 'ELOOP',\n",
       " 'ENOENT',\n",
       " 'ENOTDIR',\n",
       " 'Path',\n",
       " 'PosixPath',\n",
       " 'PurePath',\n",
       " 'PurePosixPath',\n",
       " 'PureWindowsPath',\n",
       " 'S_ISBLK',\n",
       " 'S_ISCHR',\n",
       " 'S_ISDIR',\n",
       " 'S_ISFIFO',\n",
       " 'S_ISLNK',\n",
       " 'S_ISREG',\n",
       " 'S_ISSOCK',\n",
       " 'Sequence',\n",
       " 'WindowsPath',\n",
       " '_Accessor',\n",
       " '_Flavour',\n",
       " '_IGNORED_ERROS',\n",
       " '_IGNORED_WINERRORS',\n",
       " '_NormalAccessor',\n",
       " '_PathParents',\n",
       " '_PosixFlavour',\n",
       " '_PreciseSelector',\n",
       " '_RecursiveWildcardSelector',\n",
       " '_Selector',\n",
       " '_TerminatingSelector',\n",
       " '_WildcardSelector',\n",
       " '_WindowsFlavour',\n",
       " '__all__',\n",
       " '__builtins__',\n",
       " '__cached__',\n",
       " '__doc__',\n",
       " '__file__',\n",
       " '__loader__',\n",
       " '__name__',\n",
       " '__package__',\n",
       " '__spec__',\n",
       " '_getfinalpathname',\n",
       " '_ignore_error',\n",
       " '_is_wildcard_pattern',\n",
       " '_make_selector',\n",
       " '_normal_accessor',\n",
       " '_posix_flavour',\n",
       " '_windows_flavour',\n",
       " 'attrgetter',\n",
       " 'fnmatch',\n",
       " 'functools',\n",
       " 'io',\n",
       " 'nt',\n",
       " 'ntpath',\n",
       " 'os',\n",
       " 'posixpath',\n",
       " 're',\n",
       " 'supports_symlinks',\n",
       " 'sys',\n",
       " 'urlquote_from_bytes']"
      ]
     },
     "execution_count": 85,
     "metadata": {},
     "output_type": "execute_result"
    }
   ],
   "source": [
    "dir (pathlib)"
   ]
  },
  {
   "cell_type": "code",
   "execution_count": 4,
   "id": "25e53516",
   "metadata": {},
   "outputs": [],
   "source": [
    "from pathlib import Path"
   ]
  },
  {
   "cell_type": "code",
   "execution_count": 5,
   "id": "54023ab9",
   "metadata": {},
   "outputs": [],
   "source": [
    "p = Path ('../Natalia Gonzalez/Ironhack/01-lab-list-comprehensions/data')"
   ]
  },
  {
   "cell_type": "code",
   "execution_count": null,
   "id": "fcd2e014",
   "metadata": {},
   "outputs": [],
   "source": []
  },
  {
   "cell_type": "code",
   "execution_count": null,
   "id": "97f2f55a",
   "metadata": {},
   "outputs": [],
   "source": []
  }
 ],
 "metadata": {
  "kernelspec": {
   "display_name": "Python 3",
   "language": "python",
   "name": "python3"
  },
  "language_info": {
   "codemirror_mode": {
    "name": "ipython",
    "version": 3
   },
   "file_extension": ".py",
   "mimetype": "text/x-python",
   "name": "python",
   "nbconvert_exporter": "python",
   "pygments_lexer": "ipython3",
   "version": "3.8.8"
  }
 },
 "nbformat": 4,
 "nbformat_minor": 5
}
