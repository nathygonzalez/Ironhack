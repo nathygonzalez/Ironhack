{
 "cells": [
  {
   "cell_type": "code",
   "execution_count": 1,
   "id": "1c272abd",
   "metadata": {},
   "outputs": [],
   "source": [
    "# MAPS (dicionários)"
   ]
  },
  {
   "cell_type": "code",
   "execution_count": null,
   "id": "f0a77a2f",
   "metadata": {},
   "outputs": [],
   "source": []
  },
  {
   "cell_type": "code",
   "execution_count": 2,
   "id": "f2916f7a",
   "metadata": {},
   "outputs": [
    {
     "name": "stdout",
     "output_type": "stream",
     "text": [
      "{'jan': 100, 'fev': 250, 'mar': 300, 'abr': 400}\n",
      "jan\n",
      "fev\n",
      "mar\n",
      "abr\n"
     ]
    }
   ],
   "source": [
    "# Os MAPS são dicionários - chaves podem ser nomeadas\n",
    "receita={'jan':100, 'fev':250, 'mar':300, 'abr':400}\n",
    "print(receita)\n",
    "\n",
    "for chave in receita:\n",
    "    print(chave)"
   ]
  },
  {
   "cell_type": "code",
   "execution_count": 3,
   "id": "5d8a7efd",
   "metadata": {},
   "outputs": [
    {
     "name": "stdout",
     "output_type": "stream",
     "text": [
      "100\n",
      "250\n",
      "300\n",
      "400\n"
     ]
    }
   ],
   "source": [
    "# Mostrando os valores de cada posição\n",
    "# Interar é usar o for (loop) para percorrer as coleções\n",
    "for chave in receita:\n",
    "    print(receita[chave])"
   ]
  },
  {
   "cell_type": "code",
   "execution_count": 4,
   "id": "ecbd0fa3",
   "metadata": {},
   "outputs": [
    {
     "name": "stdout",
     "output_type": "stream",
     "text": [
      "Em jan recebi r$ 100\n",
      "Em fev recebi r$ 250\n",
      "Em mar recebi r$ 300\n",
      "Em abr recebi r$ 400\n"
     ]
    }
   ],
   "source": [
    "# f' permite concatenar valores e textos\n",
    "for chave in receita:\n",
    "    print(f'Em {chave} recebi r$ {receita[chave]}')"
   ]
  },
  {
   "cell_type": "code",
   "execution_count": 5,
   "id": "b98b446f",
   "metadata": {},
   "outputs": [
    {
     "ename": "NameError",
     "evalue": "name 'fev' is not defined",
     "output_type": "error",
     "traceback": [
      "\u001b[1;31m---------------------------------------------------------------------------\u001b[0m",
      "\u001b[1;31mNameError\u001b[0m                                 Traceback (most recent call last)",
      "\u001b[1;32m<ipython-input-5-f6a8924919d8>\u001b[0m in \u001b[0;36m<module>\u001b[1;34m\u001b[0m\n\u001b[1;32m----> 1\u001b[1;33m \u001b[0mprint\u001b[0m\u001b[1;33m(\u001b[0m\u001b[1;34mf'Em {fev} recebi r$ {receita[chave][fev]}'\u001b[0m\u001b[1;33m)\u001b[0m\u001b[1;33m\u001b[0m\u001b[1;33m\u001b[0m\u001b[0m\n\u001b[0m",
      "\u001b[1;31mNameError\u001b[0m: name 'fev' is not defined"
     ]
    }
   ],
   "source": [
    "print(f'Em {fev} recebi r$ {receita[chave][fev]}')"
   ]
  },
  {
   "cell_type": "code",
   "execution_count": null,
   "id": "2c12a1fe",
   "metadata": {},
   "outputs": [],
   "source": [
    "# Acessando chaves e valores respectivamente\n",
    "print(receita.keys()) # cria uma lista com uma tupla com as chaves\n",
    "print(receita.values()) #cria uma lista com uma tupla com os valores\n",
    "print(receita.items()) #cada lista é um item da tupla"
   ]
  },
  {
   "cell_type": "code",
   "execution_count": 6,
   "id": "a89e0759",
   "metadata": {},
   "outputs": [
    {
     "ename": "NameError",
     "evalue": "name 'fev' is not defined",
     "output_type": "error",
     "traceback": [
      "\u001b[1;31m---------------------------------------------------------------------------\u001b[0m",
      "\u001b[1;31mNameError\u001b[0m                                 Traceback (most recent call last)",
      "\u001b[1;32m<ipython-input-6-1e3dab130bfc>\u001b[0m in \u001b[0;36m<module>\u001b[1;34m\u001b[0m\n\u001b[1;32m----> 1\u001b[1;33m \u001b[0mprint\u001b[0m\u001b[1;33m(\u001b[0m\u001b[1;34mf'Em, {receita.keys(fev)} recebi r$ {receita.values(fev)}'\u001b[0m\u001b[1;33m)\u001b[0m\u001b[1;33m\u001b[0m\u001b[1;33m\u001b[0m\u001b[0m\n\u001b[0m",
      "\u001b[1;31mNameError\u001b[0m: name 'fev' is not defined"
     ]
    }
   ],
   "source": [
    "print(f'Em, {receita.keys(fev)} recebi r$ {receita.values(fev)}')"
   ]
  },
  {
   "cell_type": "code",
   "execution_count": 7,
   "id": "f75f3e4d",
   "metadata": {},
   "outputs": [
    {
     "name": "stdout",
     "output_type": "stream",
     "text": [
      "100\n",
      "250\n",
      "300\n",
      "400\n"
     ]
    }
   ],
   "source": [
    "# forma mais simples de interar - percorre somente os valores\n",
    "for valor in receita.values():\n",
    "    print (valor)"
   ]
  },
  {
   "cell_type": "code",
   "execution_count": 8,
   "id": "9b47e8bf",
   "metadata": {},
   "outputs": [
    {
     "name": "stdout",
     "output_type": "stream",
     "text": [
      "1050\n",
      "400\n",
      "100\n"
     ]
    }
   ],
   "source": [
    "# Realizando operações\n",
    "print(sum(receita.values()))\n",
    "print(max(receita.values()))\n",
    "print(min(receita.values()))"
   ]
  },
  {
   "cell_type": "code",
   "execution_count": 9,
   "id": "09b8077f",
   "metadata": {},
   "outputs": [
    {
     "name": "stdout",
     "output_type": "stream",
     "text": [
      "262.5\n"
     ]
    }
   ],
   "source": [
    "# Média\n",
    "print(sum(receita.values())/len(receita))"
   ]
  },
  {
   "cell_type": "code",
   "execution_count": 10,
   "id": "e50c99c0",
   "metadata": {},
   "outputs": [
    {
     "name": "stdout",
     "output_type": "stream",
     "text": [
      "jan\n",
      "fev\n",
      "mar\n",
      "abr\n"
     ]
    }
   ],
   "source": [
    "# Para interar e mostrar as chaves\n",
    "for chave in receita.keys():\n",
    "    print (chave)"
   ]
  },
  {
   "cell_type": "code",
   "execution_count": 11,
   "id": "59601cda",
   "metadata": {},
   "outputs": [
    {
     "name": "stdout",
     "output_type": "stream",
     "text": [
      "Olá bloco de codigo - function\n"
     ]
    }
   ],
   "source": [
    "def minha_funcao():\n",
    "  print(\"Olá bloco de codigo - function\")\n",
    "minha_funcao()"
   ]
  },
  {
   "cell_type": "code",
   "execution_count": 12,
   "id": "542b6bca",
   "metadata": {},
   "outputs": [
    {
     "data": {
      "text/plain": [
       "'Uma função é um bloco de código que só é executado quando é chamado.\\nVocê pode passar dados, conhecidos como parâmetros, para uma função.\\nUma função pode retornar dados como resultado.'"
      ]
     },
     "execution_count": 12,
     "metadata": {},
     "output_type": "execute_result"
    }
   ],
   "source": [
    "'''Uma função é um bloco de código que só é executado quando é chamado.\n",
    "Você pode passar dados, conhecidos como parâmetros, para uma função.\n",
    "Uma função pode retornar dados como resultado.'''"
   ]
  },
  {
   "cell_type": "code",
   "execution_count": 13,
   "id": "6acd05fd",
   "metadata": {},
   "outputs": [
    {
     "name": "stdout",
     "output_type": "stream",
     "text": [
      "Hello Ana bons estudos!!!\n"
     ]
    }
   ],
   "source": [
    "def minha_funcao(nome):\n",
    "  print(\"Hello \" + nome + \" bons estudos!!!\")\n",
    "minha_funcao(\"Ana\")"
   ]
  },
  {
   "cell_type": "code",
   "execution_count": null,
   "id": "ef821557",
   "metadata": {},
   "outputs": [],
   "source": [
    "'''As informações podem ser passadas p/ funções como argumentos que são especificados entre parênteses.\n",
    "Adicione quantos argumentos quiser, separe-os com uma vírgula. Um parâmetro é a variável listada entre parênteses na definição da função.\n",
    "Um argumento é o valor enviado para a função quando ela é chamada.\n",
    "Parametro - nome\n",
    "Argumento - Ana'''\n",
    "# Nome da função: minha_funcao\n",
    "# Assinatura: def minha_funcao(nome)\n",
    "# a diferença esta no arguemetno que cada parametro recebe, um recebe float e outro recebe string"
   ]
  },
  {
   "cell_type": "code",
   "execution_count": 14,
   "id": "d6e9499a",
   "metadata": {},
   "outputs": [],
   "source": [
    "def soma(a, b):\n",
    "    return a+b\n",
    "resultado = soma(4,5)"
   ]
  },
  {
   "cell_type": "code",
   "execution_count": 15,
   "id": "abe3d89e",
   "metadata": {},
   "outputs": [
    {
     "data": {
      "text/plain": [
       "9"
      ]
     },
     "execution_count": 15,
     "metadata": {},
     "output_type": "execute_result"
    }
   ],
   "source": [
    "resultado"
   ]
  },
  {
   "cell_type": "code",
   "execution_count": 16,
   "id": "7f220622",
   "metadata": {},
   "outputs": [
    {
     "name": "stdout",
     "output_type": "stream",
     "text": [
      "Hello Maria bons estudos!!!\n"
     ]
    }
   ],
   "source": [
    "# Quando eu nao sei o número de argumentos, é dinâmico, usar o * \n",
    "def mostrar_alunos(*nomes):\n",
    "  print(\"Hello \" + nomes[2] + \" bons estudos!!!\")\n",
    "mostrar_alunos(\"Ana\",\"Carlos\",\"Maria\",\"Pedro\")"
   ]
  },
  {
   "cell_type": "code",
   "execution_count": 17,
   "id": "edb99d2d",
   "metadata": {},
   "outputs": [
    {
     "name": "stdout",
     "output_type": "stream",
     "text": [
      "Hello Maria bons estudos!!!\n"
     ]
    }
   ],
   "source": [
    "def mostrar_alunos(*nomes):\n",
    "  print(\"Hello \" + nomes[2] + \" bons estudos!!!\")\n",
    "mostrar_alunos(\"Ana\",\"Carlos\",\"Maria\",\"Pedro\")"
   ]
  },
  {
   "cell_type": "code",
   "execution_count": null,
   "id": "b471bd7b",
   "metadata": {},
   "outputs": [],
   "source": []
  },
  {
   "cell_type": "code",
   "execution_count": 18,
   "id": "a54b7327",
   "metadata": {},
   "outputs": [
    {
     "name": "stdout",
     "output_type": "stream",
     "text": [
      "Dados do(a) aluno(a): Tobias\n"
     ]
    }
   ],
   "source": [
    "# Argumentos com a sintaxe chave = valor, a ordem dos argumentos não importa.\n",
    "def mostrar_alunos(aluno3, aluno2, aluno1):\n",
    "  print(\"Dados do(a) aluno(a): \" + aluno2)\n",
    "mostrar_alunos(aluno1 = \"Emil\", aluno2 = \"Tobias\", aluno3 = \"Linus\")"
   ]
  },
  {
   "cell_type": "code",
   "execution_count": 19,
   "id": "f61a7e92",
   "metadata": {},
   "outputs": [
    {
     "name": "stdout",
     "output_type": "stream",
     "text": [
      "Dados do(a) aluno(a): 33\n"
     ]
    }
   ],
   "source": [
    "# Se o número de argumentos de palavra-chave for desconhecido, adicione um duplo **antes do nome do parâmetro:\n",
    "def mostrar_alunos(**xalunos):\n",
    "  print(\"Dados do(a) aluno(a): \" + xalunos[\"idade\"])\n",
    "mostrar_alunos(idade = \"33\", nome = \"Tobias\")"
   ]
  },
  {
   "cell_type": "code",
   "execution_count": 20,
   "id": "b4bd586d",
   "metadata": {},
   "outputs": [
    {
     "name": "stdout",
     "output_type": "stream",
     "text": [
      "Sou de Suecia\n"
     ]
    }
   ],
   "source": [
    "# Dentro das functions o parâmetro pode ter um valor padrão, mas que pode ser substituído na hora de chamar a função\n",
    "def mostrar_cidades(cid = \"Barcelona\"):\n",
    "  print(\"Sou de \" + cid)\n",
    " \n",
    "mostrar_cidades(\"Suecia\")"
   ]
  },
  {
   "cell_type": "code",
   "execution_count": 21,
   "id": "c4fcd1e5",
   "metadata": {},
   "outputs": [
    {
     "name": "stdout",
     "output_type": "stream",
     "text": [
      "Sou de Suecia\n",
      "Sou de India\n",
      "Sou de Barcelona\n",
      "Sou de Brasil\n"
     ]
    }
   ],
   "source": [
    "# O exemplo a seguir mostra como usar um valor de parâmetro padrão. Se chamarmos a função sem argumento, ela usará o valor padrão:\n",
    "mostrar_cidades(\"Suecia\")\n",
    "mostrar_cidades(\"India\")\n",
    "mostrar_cidades()\n",
    "mostrar_cidades(\"Brasil\")"
   ]
  },
  {
   "cell_type": "code",
   "execution_count": 22,
   "id": "06b0b5ed",
   "metadata": {},
   "outputs": [
    {
     "name": "stdout",
     "output_type": "stream",
     "text": [
      "maça\n",
      "banana\n",
      "uva\n"
     ]
    }
   ],
   "source": [
    "# Passando uma lista como um argumento\n",
    "def alimentar(food):\n",
    "  for x in food:\n",
    "    print(x)\n",
    "frutas = [\"maça\", \"banana\", \"uva\"]\n",
    "alimentar(frutas)"
   ]
  },
  {
   "cell_type": "code",
   "execution_count": 23,
   "id": "f8e02c84",
   "metadata": {},
   "outputs": [
    {
     "name": "stdout",
     "output_type": "stream",
     "text": [
      "15\n",
      "30\n",
      "13\n"
     ]
    }
   ],
   "source": [
    "# Lambda\n",
    "x = lambda a : a + 10\n",
    "print(x(5))\n",
    " \n",
    "x = lambda a, b : a * b\n",
    "print(x(5, 6))\n",
    " \n",
    "x = lambda a, b, c : a + b + c\n",
    "print(x(5, 6, 2))"
   ]
  },
  {
   "cell_type": "code",
   "execution_count": 24,
   "id": "f1d67356",
   "metadata": {},
   "outputs": [
    {
     "name": "stdout",
     "output_type": "stream",
     "text": [
      "22\n"
     ]
    }
   ],
   "source": [
    "# O poder do lambda é melhor mostrado quando usada como uma função anônima dentro de outra função.\n",
    "def testelambda(n):\n",
    "  return lambda a : a * n\n",
    "x = testelambda(2)\n",
    "print(x(11))"
   ]
  },
  {
   "cell_type": "code",
   "execution_count": 25,
   "id": "df842a85",
   "metadata": {},
   "outputs": [],
   "source": [
    "# Recursividade: A recursão é um conceito matemático e de programação comum. Isso significa que uma função chama a si mesma.\n",
    "def f_recursiva(k):\n",
    "  if(k > 0):\n",
    "    result = k + f_recursiva(k - 1)\n",
    "    print(result)\n",
    "  else:\n",
    "    result = 0\n",
    "  return result"
   ]
  },
  {
   "cell_type": "code",
   "execution_count": 27,
   "id": "31d60e18",
   "metadata": {},
   "outputs": [
    {
     "name": "stdout",
     "output_type": "stream",
     "text": [
      "1\n",
      "3\n",
      "6\n",
      "10\n",
      "15\n",
      "21\n"
     ]
    },
    {
     "data": {
      "text/plain": [
       "21"
      ]
     },
     "execution_count": 27,
     "metadata": {},
     "output_type": "execute_result"
    }
   ],
   "source": [
    "f_recursiva (6)"
   ]
  },
  {
   "cell_type": "code",
   "execution_count": 28,
   "id": "eb54024a",
   "metadata": {},
   "outputs": [
    {
     "name": "stdout",
     "output_type": "stream",
     "text": [
      "1\n",
      "3\n",
      "6\n"
     ]
    },
    {
     "data": {
      "text/plain": [
       "6"
      ]
     },
     "execution_count": 28,
     "metadata": {},
     "output_type": "execute_result"
    }
   ],
   "source": [
    "f_recursiva (3)"
   ]
  },
  {
   "cell_type": "code",
   "execution_count": null,
   "id": "9b5f8903",
   "metadata": {},
   "outputs": [],
   "source": [
    "#fatorial na matemática"
   ]
  }
 ],
 "metadata": {
  "kernelspec": {
   "display_name": "Python 3",
   "language": "python",
   "name": "python3"
  },
  "language_info": {
   "codemirror_mode": {
    "name": "ipython",
    "version": 3
   },
   "file_extension": ".py",
   "mimetype": "text/x-python",
   "name": "python",
   "nbconvert_exporter": "python",
   "pygments_lexer": "ipython3",
   "version": "3.8.8"
  }
 },
 "nbformat": 4,
 "nbformat_minor": 5
}
