{
 "cells": [
  {
   "cell_type": "code",
   "execution_count": 1,
   "id": "a7079883",
   "metadata": {},
   "outputs": [
    {
     "name": "stdout",
     "output_type": "stream",
     "text": [
      "Olá seja bem vindo\n"
     ]
    }
   ],
   "source": [
    "def minhaFunc():\n",
    "    print(\"Olá seja bem vindo\")\n",
    "minhaFunc()"
   ]
  },
  {
   "cell_type": "code",
   "execution_count": 12,
   "id": "8b3d0ee0",
   "metadata": {},
   "outputs": [],
   "source": [
    "def minhaFunc(l,s):\n",
    "    if l == \"aws\" and s == \"123\":\n",
    "        print(\"seja bem vindo(a)\")"
   ]
  },
  {
   "cell_type": "code",
   "execution_count": 13,
   "id": "bd2dd10b",
   "metadata": {},
   "outputs": [
    {
     "name": "stdout",
     "output_type": "stream",
     "text": [
      "Digite o loginaws\n",
      "Digite a senha123\n",
      "seja bem vindo(a)\n"
     ]
    }
   ],
   "source": [
    "login = input (\"Digite o login\")\n",
    "senha = input (\"Digite a senha\")\n",
    "minhaFunc (login, senha)"
   ]
  },
  {
   "cell_type": "code",
   "execution_count": null,
   "id": "01fc8c22",
   "metadata": {},
   "outputs": [],
   "source": []
  },
  {
   "cell_type": "code",
   "execution_count": 22,
   "id": "fb660002",
   "metadata": {},
   "outputs": [],
   "source": [
    "# Trapézio: area=(base maior + base menor)*altura/2\n",
    "\n",
    "def calcularArea (bma,bme,alt):\n",
    "    area = ((bma + bme)*alt)/2\n",
    "    print (\"A área do trapézio é \", area)"
   ]
  },
  {
   "cell_type": "code",
   "execution_count": 23,
   "id": "d2217520",
   "metadata": {},
   "outputs": [
    {
     "name": "stdout",
     "output_type": "stream",
     "text": [
      "Digite base maior5\n",
      "Digite base menor3\n",
      "Digite altura2\n",
      "A área do trapézio é  8.0\n"
     ]
    }
   ],
   "source": [
    "base_maior = float(input(\"Digite base maior\"))\n",
    "base_menor = float(input(\"Digite base menor\"))\n",
    "altura = float(input(\"Digite altura\"))\n",
    "calcularArea (base_maior, base_menor, altura)"
   ]
  },
  {
   "cell_type": "code",
   "execution_count": 24,
   "id": "90c5e111",
   "metadata": {},
   "outputs": [],
   "source": [
    "# Function com retorno\n",
    "\n",
    "def calcularArea (bma,bme,alt):\n",
    "    return ((bma + bme)*alt)/2\n",
    "\n",
    "# bma, bme, alt são parâmetros\n",
    "# os inputs sao os argumentos"
   ]
  },
  {
   "cell_type": "code",
   "execution_count": 25,
   "id": "6b5f5feb",
   "metadata": {},
   "outputs": [
    {
     "name": "stdout",
     "output_type": "stream",
     "text": [
      "Digite base maior5\n",
      "Digite base menor3\n",
      "Digite altura2\n",
      "8.0\n"
     ]
    }
   ],
   "source": [
    "base_menor = float(input(\"Digite base menor\"))\n",
    "base_maior = float(input(\"Digite base maior\"))\n",
    "altura = float(input(\"Digite altura\"))\n",
    "area = calcularArea (base_maior, base_menor, altura)\n",
    "print (area)"
   ]
  },
  {
   "cell_type": "code",
   "execution_count": 26,
   "id": "d6b50ef3",
   "metadata": {},
   "outputs": [
    {
     "name": "stdout",
     "output_type": "stream",
     "text": [
      "15\n"
     ]
    }
   ],
   "source": [
    "# Lambda function\n",
    "\n",
    "# Uma função lambda é uma pequena função anônima.\n",
    "# Uma função lambda pode receber qualquer número de argumentos, mas só pode ter uma expressão.\n",
    "# lambda arguments : expression\n",
    "\n",
    "x = lambda a : a + 10\n",
    "print(x(5))"
   ]
  },
  {
   "cell_type": "code",
   "execution_count": 28,
   "id": "c9e8932d",
   "metadata": {},
   "outputs": [
    {
     "name": "stdout",
     "output_type": "stream",
     "text": [
      "8.0\n"
     ]
    }
   ],
   "source": [
    "x = lambda bma, bme, alt: ((bma + bme)*alt)/2\n",
    "print (x(5,3,2))"
   ]
  },
  {
   "cell_type": "code",
   "execution_count": 29,
   "id": "fba29693",
   "metadata": {},
   "outputs": [
    {
     "name": "stdout",
     "output_type": "stream",
     "text": [
      "22\n"
     ]
    }
   ],
   "source": [
    "def calcular (n):\n",
    "    return lambda a: a * n\n",
    "dobro = calcular (2)\n",
    "print (dobro(11))"
   ]
  },
  {
   "cell_type": "code",
   "execution_count": 30,
   "id": "ff709e26",
   "metadata": {},
   "outputs": [
    {
     "name": "stdout",
     "output_type": "stream",
     "text": [
      "25\n"
     ]
    }
   ],
   "source": [
    "# Abstração - tirar o que não é necessário, generalização\n",
    "\n",
    "def listsum(numList):\n",
    "    theSum = 0\n",
    "    for i in numList:\n",
    "        theSum = theSum + i\n",
    "    return theSum\n",
    "\n",
    "print(listsum([1,3,5,7,9]))"
   ]
  },
  {
   "cell_type": "code",
   "execution_count": 31,
   "id": "1b7cf10f",
   "metadata": {},
   "outputs": [
    {
     "name": "stdout",
     "output_type": "stream",
     "text": [
      "5\n",
      "4\n",
      "3\n",
      "2\n",
      "1\n",
      "Decolar!\n"
     ]
    }
   ],
   "source": [
    "# Função recursiva (que chama ela mesma várias vezes até que a condição seja satisfeita)\n",
    "\n",
    "def contagemRegressiva(n):\n",
    "    if n == 0:\n",
    "        print('Decolar!')\n",
    "    else:\n",
    "        print(n)\n",
    "        contagemRegressiva(n-1)\n",
    "contagemRegressiva(5)"
   ]
  },
  {
   "cell_type": "code",
   "execution_count": 36,
   "id": "8467e0eb",
   "metadata": {},
   "outputs": [
    {
     "name": "stdout",
     "output_type": "stream",
     "text": [
      "Digite o salário bruto5000\n",
      "Digite o % desconto15\n"
     ]
    },
    {
     "data": {
      "text/plain": [
       "4250.0"
      ]
     },
     "execution_count": 36,
     "metadata": {},
     "output_type": "execute_result"
    }
   ],
   "source": [
    "# função que recebe salario bruto, porc. do desconto e calcula o liquido retornando-o para o programa principal\n",
    "\n",
    "def liquido (x, y):\n",
    "    return (x - (x*(y/100)))\n",
    "bruto = int(input(\"Digite o salário bruto\"))\n",
    "desc = int(input(\"Digite o % desconto\"))\n",
    "liquido (bruto, desc)"
   ]
  },
  {
   "cell_type": "code",
   "execution_count": null,
   "id": "8bfcd2d3",
   "metadata": {},
   "outputs": [],
   "source": []
  }
 ],
 "metadata": {
  "kernelspec": {
   "display_name": "Python 3",
   "language": "python",
   "name": "python3"
  },
  "language_info": {
   "codemirror_mode": {
    "name": "ipython",
    "version": 3
   },
   "file_extension": ".py",
   "mimetype": "text/x-python",
   "name": "python",
   "nbconvert_exporter": "python",
   "pygments_lexer": "ipython3",
   "version": "3.8.8"
  }
 },
 "nbformat": 4,
 "nbformat_minor": 5
}
