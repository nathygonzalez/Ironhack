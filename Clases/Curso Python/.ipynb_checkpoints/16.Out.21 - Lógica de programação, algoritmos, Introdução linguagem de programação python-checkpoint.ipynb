{
 "cells": [
  {
   "cell_type": "code",
   "execution_count": 4,
   "id": "85755614",
   "metadata": {},
   "outputs": [
    {
     "name": "stdout",
     "output_type": "stream",
     "text": [
      "digite o valor da base: 5\n",
      "digite o valor da altura: 3\n",
      "A área é  15\n"
     ]
    }
   ],
   "source": [
    "# Entrada\n",
    "# Área retangulo\n",
    "base = int(input(\"digite o valor da base: \"))\n",
    "altura = int(input(\"digite o valor da altura: \"))\n",
    "area = base * altura\n",
    "print(\"A área é \", area)"
   ]
  },
  {
   "cell_type": "code",
   "execution_count": 7,
   "id": "5909cb9f",
   "metadata": {},
   "outputs": [
    {
     "name": "stdout",
     "output_type": "stream",
     "text": [
      "digite o valor da base: 5\n",
      "digite o valor da altura: 3\n",
      "A área é 15\n"
     ]
    }
   ],
   "source": [
    "# Otimizado\n",
    "print (\"A área é\", int(input(\"digite o valor da base: \")) * int(input(\"digite o valor da altura: \")))"
   ]
  },
  {
   "cell_type": "code",
   "execution_count": null,
   "id": "5cd4f020",
   "metadata": {},
   "outputs": [],
   "source": []
  },
  {
   "cell_type": "code",
   "execution_count": 8,
   "id": "48a1ef8f",
   "metadata": {},
   "outputs": [],
   "source": [
    "# DESAFIO: FAÇA UM PROGRAMA ONDE O USUARIO DIGITA SEU SALARIO BRUTO E O PROGRAMA CALCULA E MOSTRA O SEU SALARIO LIQUIDO\n",
    "# (O PROGRAMA DEVE CALCULAR O DESCONTO ÚNICO DE 8%)\n",
    "# OBS: OTIMIZAR O CODIGO!"
   ]
  },
  {
   "cell_type": "code",
   "execution_count": 9,
   "id": "a314a8f5",
   "metadata": {},
   "outputs": [
    {
     "name": "stdout",
     "output_type": "stream",
     "text": [
      "Digite o salário bruto: 1000\n",
      "O salário líquido é 920.0\n"
     ]
    }
   ],
   "source": [
    "salario_bruto = float(input(\"Digite o salário bruto: \"))\n",
    "salario_liquido = (salario_bruto-(salario_bruto*0.08))\n",
    "print (\"O salário líquido é\", salario_liquido)"
   ]
  },
  {
   "cell_type": "code",
   "execution_count": 18,
   "id": "15fef5fa",
   "metadata": {},
   "outputs": [
    {
     "name": "stdout",
     "output_type": "stream",
     "text": [
      "Digite o salário bruto: 1050.50\n",
      "O salário líquido é 966.46\n"
     ]
    }
   ],
   "source": [
    "x = float(input(\"Digite o salário bruto: \"))\n",
    "print (\"O salário líquido é\", (x - (x * 0.08)))"
   ]
  },
  {
   "cell_type": "code",
   "execution_count": 17,
   "id": "3dc8a105",
   "metadata": {},
   "outputs": [
    {
     "name": "stdout",
     "output_type": "stream",
     "text": [
      "Digite o salário bruto: 1000\n",
      "O salário líquido é 1080.0\n"
     ]
    }
   ],
   "source": [
    "print (\"O salário líquido é\", (float(input(\"Digite o salário bruto: \")) * 1.08))"
   ]
  },
  {
   "cell_type": "code",
   "execution_count": null,
   "id": "cfda090e",
   "metadata": {},
   "outputs": [],
   "source": []
  }
 ],
 "metadata": {
  "kernelspec": {
   "display_name": "Python 3",
   "language": "python",
   "name": "python3"
  },
  "language_info": {
   "codemirror_mode": {
    "name": "ipython",
    "version": 3
   },
   "file_extension": ".py",
   "mimetype": "text/x-python",
   "name": "python",
   "nbconvert_exporter": "python",
   "pygments_lexer": "ipython3",
   "version": "3.8.8"
  }
 },
 "nbformat": 4,
 "nbformat_minor": 5
}
