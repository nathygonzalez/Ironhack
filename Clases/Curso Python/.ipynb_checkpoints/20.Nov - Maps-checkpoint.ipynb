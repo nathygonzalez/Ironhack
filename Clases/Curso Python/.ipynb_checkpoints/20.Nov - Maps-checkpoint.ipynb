{
 "cells": [
  {
   "cell_type": "code",
   "execution_count": null,
   "id": "72909f70",
   "metadata": {},
   "outputs": [],
   "source": [
    "# MAPS (dicionários)"
   ]
  },
  {
   "cell_type": "code",
   "execution_count": null,
   "id": "47a84000",
   "metadata": {},
   "outputs": [],
   "source": []
  },
  {
   "cell_type": "code",
   "execution_count": 1,
   "id": "0aba676f",
   "metadata": {},
   "outputs": [
    {
     "name": "stdout",
     "output_type": "stream",
     "text": [
      "{'jan': 100, 'fev': 250, 'mar': 300, 'abr': 400}\n",
      "jan\n",
      "fev\n",
      "mar\n",
      "abr\n"
     ]
    }
   ],
   "source": [
    "# Os MAPS são dicionários - chaves podem ser nomeadas\n",
    "receita={'jan':100, 'fev':250, 'mar':300, 'abr':400}\n",
    "print(receita)\n",
    "\n",
    "for chave in receita:\n",
    "    print(chave)"
   ]
  },
  {
   "cell_type": "code",
   "execution_count": 2,
   "id": "fb428461",
   "metadata": {},
   "outputs": [
    {
     "name": "stdout",
     "output_type": "stream",
     "text": [
      "100\n",
      "250\n",
      "300\n",
      "400\n"
     ]
    }
   ],
   "source": [
    "# Mostrando os valores de cada posição\n",
    "# Interar é usar o for (loop) para percorrer as coleções\n",
    "for chave in receita:\n",
    "    print(receita[chave])"
   ]
  },
  {
   "cell_type": "code",
   "execution_count": 3,
   "id": "5707ae41",
   "metadata": {},
   "outputs": [
    {
     "name": "stdout",
     "output_type": "stream",
     "text": [
      "Em jan recebi r$ 100\n",
      "Em fev recebi r$ 250\n",
      "Em mar recebi r$ 300\n",
      "Em abr recebi r$ 400\n"
     ]
    }
   ],
   "source": [
    "# f' permite concatenar valores e textos\n",
    "for chave in receita:\n",
    "    print(f'Em {chave} recebi r$ {receita[chave]}')"
   ]
  },
  {
   "cell_type": "code",
   "execution_count": 11,
   "id": "31be0637",
   "metadata": {},
   "outputs": [
    {
     "ename": "NameError",
     "evalue": "name 'fev' is not defined",
     "output_type": "error",
     "traceback": [
      "\u001b[1;31m---------------------------------------------------------------------------\u001b[0m",
      "\u001b[1;31mNameError\u001b[0m                                 Traceback (most recent call last)",
      "\u001b[1;32m<ipython-input-11-f6a8924919d8>\u001b[0m in \u001b[0;36m<module>\u001b[1;34m\u001b[0m\n\u001b[1;32m----> 1\u001b[1;33m \u001b[0mprint\u001b[0m\u001b[1;33m(\u001b[0m\u001b[1;34mf'Em {fev} recebi r$ {receita[chave][fev]}'\u001b[0m\u001b[1;33m)\u001b[0m\u001b[1;33m\u001b[0m\u001b[1;33m\u001b[0m\u001b[0m\n\u001b[0m",
      "\u001b[1;31mNameError\u001b[0m: name 'fev' is not defined"
     ]
    }
   ],
   "source": [
    "print(f'Em {fev} recebi r$ {receita[chave][fev]}')"
   ]
  },
  {
   "cell_type": "code",
   "execution_count": 12,
   "id": "ba2ffe4c",
   "metadata": {},
   "outputs": [
    {
     "name": "stdout",
     "output_type": "stream",
     "text": [
      "dict_keys(['jan', 'fev', 'mar', 'abr'])\n",
      "dict_values([100, 250, 300, 400])\n",
      "dict_items([('jan', 100), ('fev', 250), ('mar', 300), ('abr', 400)])\n"
     ]
    }
   ],
   "source": [
    "# Acessando chaves e valores respectivamente\n",
    "print(receita.keys()) # cria uma lista com uma tupla com as chaves\n",
    "print(receita.values()) #cria uma lista com uma tupla com os valores\n",
    "print(receita.items()) #cada lista é um item da tupla"
   ]
  },
  {
   "cell_type": "code",
   "execution_count": 13,
   "id": "ecc450d9",
   "metadata": {},
   "outputs": [
    {
     "ename": "NameError",
     "evalue": "name 'fev' is not defined",
     "output_type": "error",
     "traceback": [
      "\u001b[1;31m---------------------------------------------------------------------------\u001b[0m",
      "\u001b[1;31mNameError\u001b[0m                                 Traceback (most recent call last)",
      "\u001b[1;32m<ipython-input-13-1e3dab130bfc>\u001b[0m in \u001b[0;36m<module>\u001b[1;34m\u001b[0m\n\u001b[1;32m----> 1\u001b[1;33m \u001b[0mprint\u001b[0m\u001b[1;33m(\u001b[0m\u001b[1;34mf'Em, {receita.keys(fev)} recebi r$ {receita.values(fev)}'\u001b[0m\u001b[1;33m)\u001b[0m\u001b[1;33m\u001b[0m\u001b[1;33m\u001b[0m\u001b[0m\n\u001b[0m",
      "\u001b[1;31mNameError\u001b[0m: name 'fev' is not defined"
     ]
    }
   ],
   "source": [
    "print(f'Em, {receita.keys(fev)} recebi r$ {receita.values(fev)}')"
   ]
  },
  {
   "cell_type": "code",
   "execution_count": 14,
   "id": "d59d323e",
   "metadata": {},
   "outputs": [
    {
     "name": "stdout",
     "output_type": "stream",
     "text": [
      "100\n",
      "250\n",
      "300\n",
      "400\n"
     ]
    }
   ],
   "source": [
    "# forma mais simples de interar - percorre somente os valores\n",
    "for valor in receita.values():\n",
    "    print (valor)"
   ]
  },
  {
   "cell_type": "code",
   "execution_count": 15,
   "id": "0cec900b",
   "metadata": {},
   "outputs": [
    {
     "name": "stdout",
     "output_type": "stream",
     "text": [
      "1050\n",
      "400\n",
      "100\n"
     ]
    }
   ],
   "source": [
    "# Realizando operações\n",
    "print(sum(receita.values()))\n",
    "print(max(receita.values()))\n",
    "print(min(receita.values()))"
   ]
  },
  {
   "cell_type": "code",
   "execution_count": 16,
   "id": "d901fddc",
   "metadata": {},
   "outputs": [
    {
     "name": "stdout",
     "output_type": "stream",
     "text": [
      "262.5\n"
     ]
    }
   ],
   "source": [
    "# Média\n",
    "print(sum(receita.values())/len(receita))"
   ]
  },
  {
   "cell_type": "code",
   "execution_count": 17,
   "id": "ff079a12",
   "metadata": {},
   "outputs": [
    {
     "name": "stdout",
     "output_type": "stream",
     "text": [
      "jan\n",
      "fev\n",
      "mar\n",
      "abr\n"
     ]
    }
   ],
   "source": [
    "# Para interar e mostrar as chaves\n",
    "for chave in receita.keys():\n",
    "    print (chave)"
   ]
  },
  {
   "cell_type": "code",
   "execution_count": 18,
   "id": "92bfbe6d",
   "metadata": {},
   "outputs": [
    {
     "name": "stdout",
     "output_type": "stream",
     "text": [
      "Olá bloco de codigo - function\n"
     ]
    }
   ],
   "source": [
    "def minha_funcao():\n",
    "  print(\"Olá bloco de codigo - function\")\n",
    "minha_funcao()"
   ]
  },
  {
   "cell_type": "code",
   "execution_count": 19,
   "id": "e96511ed",
   "metadata": {},
   "outputs": [
    {
     "data": {
      "text/plain": [
       "'Uma função é um bloco de código que só é executado quando é chamado.\\nVocê pode passar dados, conhecidos como parâmetros, para uma função.\\nUma função pode retornar dados como resultado.'"
      ]
     },
     "execution_count": 19,
     "metadata": {},
     "output_type": "execute_result"
    }
   ],
   "source": [
    "'''Uma função é um bloco de código que só é executado quando é chamado.\n",
    "Você pode passar dados, conhecidos como parâmetros, para uma função.\n",
    "Uma função pode retornar dados como resultado.'''"
   ]
  },
  {
   "cell_type": "code",
   "execution_count": 20,
   "id": "3f4ba57e",
   "metadata": {},
   "outputs": [
    {
     "name": "stdout",
     "output_type": "stream",
     "text": [
      "Hello Ana bons estudos!!!\n"
     ]
    }
   ],
   "source": [
    "def minha_funcao(nome):\n",
    "  print(\"Hello \" + nome + \" bons estudos!!!\")\n",
    "minha_funcao(\"Ana\")"
   ]
  },
  {
   "cell_type": "code",
   "execution_count": null,
   "id": "19558066",
   "metadata": {},
   "outputs": [],
   "source": [
    "'''As informações podem ser passadas p/ funções como argumentos que são especificados entre parênteses.\n",
    "Adicione quantos argumentos quiser, separe-os com uma vírgula. Um parâmetro é a variável listada entre parênteses na definição da função.\n",
    "Um argumento é o valor enviado para a função quando ela é chamada.\n",
    "Parametro - nome\n",
    "Argumento - Ana'''\n",
    "# Nome da função: minha_funcao\n",
    "# Assinatura: def minha_funcao(nome)\n",
    "# a diferença esta no arguemetno que cada parametro recebe, um recebe float e outro recebe string"
   ]
  },
  {
   "cell_type": "code",
   "execution_count": 23,
   "id": "8210afdf",
   "metadata": {},
   "outputs": [],
   "source": [
    "def soma(a, b):\n",
    "    return a+b\n",
    "resultado = soma(4,5)"
   ]
  },
  {
   "cell_type": "raw",
   "id": "a1cc0121",
   "metadata": {},
   "source": []
  }
 ],
 "metadata": {
  "kernelspec": {
   "display_name": "Python 3",
   "language": "python",
   "name": "python3"
  },
  "language_info": {
   "codemirror_mode": {
    "name": "ipython",
    "version": 3
   },
   "file_extension": ".py",
   "mimetype": "text/x-python",
   "name": "python",
   "nbconvert_exporter": "python",
   "pygments_lexer": "ipython3",
   "version": "3.8.8"
  }
 },
 "nbformat": 4,
 "nbformat_minor": 5
}
