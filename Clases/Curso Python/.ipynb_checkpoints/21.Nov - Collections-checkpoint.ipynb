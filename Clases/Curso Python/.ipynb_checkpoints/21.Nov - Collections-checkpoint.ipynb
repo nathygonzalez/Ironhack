{
 "cells": [
  {
   "cell_type": "markdown",
   "id": "2c545126",
   "metadata": {},
   "source": [
    "# Collections"
   ]
  },
  {
   "cell_type": "code",
   "execution_count": 1,
   "id": "91995259",
   "metadata": {},
   "outputs": [],
   "source": [
    "from collections import Counter"
   ]
  },
  {
   "cell_type": "code",
   "execution_count": 2,
   "id": "d6b6e8f2",
   "metadata": {},
   "outputs": [
    {
     "name": "stdout",
     "output_type": "stream",
     "text": [
      "<class 'collections.Counter'>\n",
      "Counter({2: 4, 3: 4, 1: 3, 4: 2, 5: 1})\n",
      "Counter({' ': 4, 'o': 3, 'r': 2, 'a': 2, 's': 2, 'i': 2, 'u': 2, 'B': 1, 'l': 1, 'p': 1, 'd': 1, 'f': 1, 't': 1})\n"
     ]
    }
   ],
   "source": [
    "# Counter recebe um iterável como parâmetro e cria um objeto parecido com dicionários.\n",
    "# A chave é o elemento da lista e o valor é o total de ocorrência \n",
    "\n",
    "myList = [1,1,2,3,4,5,3,2,3,4,2,1,2,3]\n",
    "res=Counter(myList)\n",
    "print(type(res))\n",
    "print(res)\n",
    "print(Counter(\"Brasil o pais do futuro\"))"
   ]
  },
  {
   "cell_type": "code",
   "execution_count": 3,
   "id": "192d16d5",
   "metadata": {},
   "outputs": [],
   "source": [
    "texto = '''\n",
    "El tiempo vuela, como dice Gustave. Uno cree que es lunes y ya estamos a jueves. El otoño se termina, y de golpe es pleno verano - Julio Cortázar\n",
    "Aprovechemos el otoño antes de que el invierno nos escombre. Entremos a codazos en la franja del sol y admiremos a los pájaros que emigran - Mario Benedetti\n",
    "Como un camino en otoño: tan pronto como se barre, vuelve a cubrirse de hojas secas - Franz Kafka\n",
    "'''"
   ]
  },
  {
   "cell_type": "code",
   "execution_count": 4,
   "id": "aab72242",
   "metadata": {},
   "outputs": [
    {
     "name": "stdout",
     "output_type": "stream",
     "text": [
      "['El', 'tiempo', 'vuela,', 'como', 'dice', 'Gustave.', 'Uno', 'cree', 'que', 'es', 'lunes', 'y', 'ya', 'estamos', 'a', 'jueves.', 'El', 'otoño', 'se', 'termina,', 'y', 'de', 'golpe', 'es', 'pleno', 'verano', '-', 'Julio', 'Cortázar', 'Aprovechemos', 'el', 'otoño', 'antes', 'de', 'que', 'el', 'invierno', 'nos', 'escombre.', 'Entremos', 'a', 'codazos', 'en', 'la', 'franja', 'del', 'sol', 'y', 'admiremos', 'a', 'los', 'pájaros', 'que', 'emigran', '-', 'Mario', 'Benedetti', 'Como', 'un', 'camino', 'en', 'otoño:', 'tan', 'pronto', 'como', 'se', 'barre,', 'vuelve', 'a', 'cubrirse', 'de', 'hojas', 'secas', '-', 'Franz', 'Kafka']\n"
     ]
    }
   ],
   "source": [
    "# cria uma lista com itens e aceita todas as funções de listas\n",
    "palavras=texto.split()\n",
    "print(palavras)"
   ]
  },
  {
   "cell_type": "code",
   "execution_count": 5,
   "id": "492f1446",
   "metadata": {},
   "outputs": [
    {
     "name": "stdout",
     "output_type": "stream",
     "text": [
      "Counter({'a': 4, 'que': 3, 'y': 3, 'de': 3, '-': 3, 'El': 2, 'como': 2, 'es': 2, 'otoño': 2, 'se': 2, 'el': 2, 'en': 2, 'tiempo': 1, 'vuela,': 1, 'dice': 1, 'Gustave.': 1, 'Uno': 1, 'cree': 1, 'lunes': 1, 'ya': 1, 'estamos': 1, 'jueves.': 1, 'termina,': 1, 'golpe': 1, 'pleno': 1, 'verano': 1, 'Julio': 1, 'Cortázar': 1, 'Aprovechemos': 1, 'antes': 1, 'invierno': 1, 'nos': 1, 'escombre.': 1, 'Entremos': 1, 'codazos': 1, 'la': 1, 'franja': 1, 'del': 1, 'sol': 1, 'admiremos': 1, 'los': 1, 'pájaros': 1, 'emigran': 1, 'Mario': 1, 'Benedetti': 1, 'Como': 1, 'un': 1, 'camino': 1, 'otoño:': 1, 'tan': 1, 'pronto': 1, 'barre,': 1, 'vuelve': 1, 'cubrirse': 1, 'hojas': 1, 'secas': 1, 'Franz': 1, 'Kafka': 1})\n"
     ]
    }
   ],
   "source": [
    "# Counter já mostra em ordem decrescente\n",
    "res=Counter(palavras)\n",
    "print(res)"
   ]
  },
  {
   "cell_type": "code",
   "execution_count": 6,
   "id": "290bc0fc",
   "metadata": {},
   "outputs": [
    {
     "name": "stdout",
     "output_type": "stream",
     "text": [
      "[('a', 4), ('que', 3), ('y', 3), ('de', 3), ('-', 3)]\n"
     ]
    }
   ],
   "source": [
    "# mostra os de maior incidência\n",
    "print(res.most_common(5))"
   ]
  },
  {
   "cell_type": "code",
   "execution_count": 7,
   "id": "79b9c82f",
   "metadata": {},
   "outputs": [
    {
     "name": "stdout",
     "output_type": "stream",
     "text": [
      "Counter({2: 4, 3: 4, 1: 3, 4: 2, 5: 1})\n"
     ]
    }
   ],
   "source": [
    "myList = [1,1,2,3,4,5,3,2,3,4,2,1,2,3]\n",
    "print (Counter(myList))"
   ]
  },
  {
   "cell_type": "code",
   "execution_count": 8,
   "id": "a5c2b3a9",
   "metadata": {},
   "outputs": [
    {
     "name": "stdout",
     "output_type": "stream",
     "text": [
      "dict_items([(1, 3), (2, 4), (3, 4), (4, 2), (5, 1)])\n"
     ]
    }
   ],
   "source": [
    "print (Counter(myList).items())"
   ]
  },
  {
   "cell_type": "code",
   "execution_count": 10,
   "id": "79506d25",
   "metadata": {},
   "outputs": [
    {
     "name": "stdout",
     "output_type": "stream",
     "text": [
      "dict_keys([1, 2, 3, 4, 5])\n"
     ]
    }
   ],
   "source": [
    "# número de ocorrências\n",
    "print (Counter(myList).keys())"
   ]
  },
  {
   "cell_type": "code",
   "execution_count": 11,
   "id": "49102c17",
   "metadata": {},
   "outputs": [
    {
     "name": "stdout",
     "output_type": "stream",
     "text": [
      "dict_values([3, 4, 4, 2, 1])\n"
     ]
    }
   ],
   "source": [
    "# valores\n",
    "print (Counter(myList).values())"
   ]
  },
  {
   "cell_type": "code",
   "execution_count": null,
   "id": "3f6fe868",
   "metadata": {},
   "outputs": [],
   "source": []
  },
  {
   "cell_type": "code",
   "execution_count": null,
   "id": "67c9d7c6",
   "metadata": {},
   "outputs": [],
   "source": [
    "# COLLECTION DEFAULT DICT\n",
    "# Define um valor padrão para uma chave inexistente, criando-a e inserindo o valor padrão."
   ]
  },
  {
   "cell_type": "code",
   "execution_count": 12,
   "id": "ed286074",
   "metadata": {},
   "outputs": [],
   "source": [
    "from collections import defaultdict"
   ]
  },
  {
   "cell_type": "code",
   "execution_count": 13,
   "id": "6b60302e",
   "metadata": {},
   "outputs": [
    {
     "name": "stdout",
     "output_type": "stream",
     "text": [
      "defaultdict(<function <lambda> at 0x000002966442F3A0>, {'curso': 'Programação em python'})\n"
     ]
    }
   ],
   "source": [
    "# Com Lambda\n",
    "dicionario=defaultdict(lambda: 'inglês')\n",
    "dicionario['curso']='Programação em python'\n",
    "print(dicionario)"
   ]
  },
  {
   "cell_type": "code",
   "execution_count": 15,
   "id": "b9a5d09e",
   "metadata": {},
   "outputs": [
    {
     "name": "stdout",
     "output_type": "stream",
     "text": [
      "Programação em python\n",
      "inglês\n"
     ]
    }
   ],
   "source": [
    "print(dicionario['curso'])\n",
    "print(dicionario['outro'])"
   ]
  },
  {
   "cell_type": "code",
   "execution_count": 16,
   "id": "5fc4c665",
   "metadata": {},
   "outputs": [
    {
     "name": "stdout",
     "output_type": "stream",
     "text": [
      "inglês\n"
     ]
    }
   ],
   "source": [
    "print(dicionario['blablabla'])"
   ]
  },
  {
   "cell_type": "code",
   "execution_count": 18,
   "id": "bd67b9fc",
   "metadata": {},
   "outputs": [
    {
     "name": "stdout",
     "output_type": "stream",
     "text": [
      "1\n",
      "2\n"
     ]
    }
   ],
   "source": [
    "# Com Function\n",
    "def def_valores ():\n",
    "    return \"numero aleatorio\"\n",
    "d = defaultdict (def_valores)\n",
    "d [\"a\"] = 1\n",
    "d [\"b\"] = 2\n",
    "print (d [\"a\"])\n",
    "print (d [\"b\"])"
   ]
  },
  {
   "cell_type": "code",
   "execution_count": 19,
   "id": "8d6a6ca8",
   "metadata": {},
   "outputs": [
    {
     "name": "stdout",
     "output_type": "stream",
     "text": [
      "numero aleatorio\n"
     ]
    }
   ],
   "source": [
    "print (d [\"c\"])"
   ]
  },
  {
   "cell_type": "code",
   "execution_count": null,
   "id": "47088d04",
   "metadata": {},
   "outputs": [],
   "source": []
  },
  {
   "cell_type": "code",
   "execution_count": null,
   "id": "57092461",
   "metadata": {},
   "outputs": [],
   "source": [
    "# COLLECTION ORDERED DICT\n",
    "# Dicionário que garante a ordem de inserção dos elementos."
   ]
  },
  {
   "cell_type": "code",
   "execution_count": 20,
   "id": "fa4fa8a8",
   "metadata": {},
   "outputs": [
    {
     "name": "stdout",
     "output_type": "stream",
     "text": [
      "True\n"
     ]
    }
   ],
   "source": [
    "# Dicionários não levam em conta a ordem dos elementos\n",
    "dict1={'a':1, 'b':2}\n",
    "dict2={'b':2, 'a':1}\n",
    "print(dict1==dict2)"
   ]
  },
  {
   "cell_type": "code",
   "execution_count": 21,
   "id": "0918e6bb",
   "metadata": {},
   "outputs": [],
   "source": [
    "from collections import OrderedDict"
   ]
  },
  {
   "cell_type": "code",
   "execution_count": 22,
   "id": "8c74566c",
   "metadata": {},
   "outputs": [
    {
     "name": "stdout",
     "output_type": "stream",
     "text": [
      "Chave=a; Valor=1\n",
      "Chave=b; Valor=2\n",
      "Chave=c; Valor=3\n",
      "Chave=d; Valor=4\n",
      "Chave=e; Valor=5\n"
     ]
    }
   ],
   "source": [
    "dicionario=OrderedDict({'a':1,'b':2,'c':3,'d':4,'e':5})\n",
    "for chave,valor in dicionario.items():\n",
    "    print(f'Chave={chave}; Valor={valor}')"
   ]
  },
  {
   "cell_type": "code",
   "execution_count": 23,
   "id": "4a80a2a0",
   "metadata": {},
   "outputs": [
    {
     "name": "stdout",
     "output_type": "stream",
     "text": [
      "False\n"
     ]
    }
   ],
   "source": [
    "dict1=OrderedDict({'a':1, 'b':2})\n",
    "dict2=OrderedDict({'b':2, 'a':1})\n",
    "print(dict1==dict2)"
   ]
  },
  {
   "cell_type": "code",
   "execution_count": null,
   "id": "761fb1c6",
   "metadata": {},
   "outputs": [],
   "source": []
  },
  {
   "cell_type": "code",
   "execution_count": null,
   "id": "35aa03b9",
   "metadata": {},
   "outputs": [],
   "source": [
    "# COLLECTION NAME TUPLA\n",
    "# São tuplas diferenciadas, onde, especificamos um nome para a tupla e também parâmetros."
   ]
  },
  {
   "cell_type": "code",
   "execution_count": 24,
   "id": "b89cb150",
   "metadata": {},
   "outputs": [],
   "source": [
    "from collections import namedtuple"
   ]
  },
  {
   "cell_type": "code",
   "execution_count": 25,
   "id": "6fb21aa4",
   "metadata": {},
   "outputs": [],
   "source": [
    "# cachorro não é uma variável, é um tipo\n",
    "cachorro=namedtuple('cachorro', 'idade raca nome')"
   ]
  },
  {
   "cell_type": "code",
   "execution_count": 26,
   "id": "efcfbb58",
   "metadata": {},
   "outputs": [
    {
     "name": "stdout",
     "output_type": "stream",
     "text": [
      "cachorro(idade=2, raca='pastor', nome='like')\n"
     ]
    }
   ],
   "source": [
    "# Não precisa criar as variáveis a parte\n",
    "meu_cao=cachorro(idade=2,raca='pastor',nome='like')\n",
    "print(meu_cao)"
   ]
  },
  {
   "cell_type": "code",
   "execution_count": 29,
   "id": "39b7836f",
   "metadata": {},
   "outputs": [],
   "source": [
    "# separado por vírgula\n",
    "cachorro=namedtuple('cachorro', 'idade,raca,nome')"
   ]
  },
  {
   "cell_type": "code",
   "execution_count": 30,
   "id": "5eb12b7c",
   "metadata": {},
   "outputs": [],
   "source": [
    "# especificado dentro de uma tupla\n",
    "cachorro=namedtuple('cachorro', ['idade','raca','nome'])"
   ]
  },
  {
   "cell_type": "code",
   "execution_count": 31,
   "id": "77140b2f",
   "metadata": {},
   "outputs": [
    {
     "name": "stdout",
     "output_type": "stream",
     "text": [
      "2\n",
      "pastor\n",
      "like\n"
     ]
    }
   ],
   "source": [
    "print(meu_cao[0])\n",
    "print(meu_cao[1])\n",
    "print(meu_cao[2])"
   ]
  },
  {
   "cell_type": "code",
   "execution_count": 32,
   "id": "e2add96e",
   "metadata": {},
   "outputs": [
    {
     "name": "stdout",
     "output_type": "stream",
     "text": [
      "2\n",
      "pastor\n",
      "like\n"
     ]
    }
   ],
   "source": [
    "print(meu_cao.idade)\n",
    "print(meu_cao.raca)\n",
    "print(meu_cao.nome)"
   ]
  },
  {
   "cell_type": "code",
   "execution_count": 33,
   "id": "3f2921e6",
   "metadata": {},
   "outputs": [
    {
     "name": "stdout",
     "output_type": "stream",
     "text": [
      "1\n",
      "1\n"
     ]
    }
   ],
   "source": [
    "# as mesmas funções se aplicam - count: numero de ocorrencias de pastor\n",
    "print(meu_cao.index('pastor'))\n",
    "print(meu_cao.count('pastor'))"
   ]
  },
  {
   "cell_type": "code",
   "execution_count": 34,
   "id": "528d6c6f",
   "metadata": {},
   "outputs": [],
   "source": [
    "from collections import deque"
   ]
  },
  {
   "cell_type": "code",
   "execution_count": 35,
   "id": "2a450523",
   "metadata": {},
   "outputs": [
    {
     "name": "stdout",
     "output_type": "stream",
     "text": [
      "deque(['B', 'r', 'a', 's', 'i', 'l'])\n"
     ]
    }
   ],
   "source": [
    "deq=deque('Brasil')\n",
    "print(deq)"
   ]
  },
  {
   "cell_type": "code",
   "execution_count": 36,
   "id": "fe821a1c",
   "metadata": {},
   "outputs": [
    {
     "name": "stdout",
     "output_type": "stream",
     "text": [
      "deque(['B', 'r', 'a', 's', 'i', 'l', ' ', 't', 'r', 'o', 'p', 'i', 'c', 'a', 'l'])\n"
     ]
    }
   ],
   "source": [
    "deq=deque('Brasil tropical')\n",
    "print(deq)"
   ]
  },
  {
   "cell_type": "code",
   "execution_count": 37,
   "id": "640f4ae9",
   "metadata": {},
   "outputs": [
    {
     "name": "stdout",
     "output_type": "stream",
     "text": [
      "deque(['B', 'r', 'a', 's', 'i', 'l', ' ', 't', 'r', 'o', 'p', 'i', 'c', 'a', 'l', 's'])\n"
     ]
    }
   ],
   "source": [
    "deq.append('s')\n",
    "print(deq)"
   ]
  },
  {
   "cell_type": "code",
   "execution_count": 38,
   "id": "2ff60940",
   "metadata": {},
   "outputs": [],
   "source": [
    "deq.appendleft('k')"
   ]
  },
  {
   "cell_type": "code",
   "execution_count": 39,
   "id": "807bc593",
   "metadata": {},
   "outputs": [
    {
     "name": "stdout",
     "output_type": "stream",
     "text": [
      "deque(['k', 'B', 'r', 'a', 's', 'i', 'l', ' ', 't', 'r', 'o', 'p', 'i', 'c', 'a', 'l', 's'])\n"
     ]
    }
   ],
   "source": [
    "print(deq)"
   ]
  },
  {
   "cell_type": "code",
   "execution_count": null,
   "id": "4add1d7a",
   "metadata": {},
   "outputs": [],
   "source": [
    "# deadlock\n",
    "# preimptação (reset)"
   ]
  },
  {
   "cell_type": "code",
   "execution_count": 40,
   "id": "72f76db5",
   "metadata": {},
   "outputs": [
    {
     "name": "stdout",
     "output_type": "stream",
     "text": [
      "deque(['k', 'B', 'r', 'a', 's', 'i', 'l', ' ', 't', 'r', 'o', 'p', 'i', 'c', 'a', 'l'])\n"
     ]
    }
   ],
   "source": [
    "deq.pop()\n",
    "print(deq)"
   ]
  },
  {
   "cell_type": "code",
   "execution_count": 41,
   "id": "f9babf1c",
   "metadata": {},
   "outputs": [
    {
     "name": "stdout",
     "output_type": "stream",
     "text": [
      "deque(['B', 'r', 'a', 's', 'i', 'l', ' ', 't', 'r', 'o', 'p', 'i', 'c', 'a', 'l'])\n"
     ]
    }
   ],
   "source": [
    "deq.popleft()\n",
    "print(deq)"
   ]
  },
  {
   "cell_type": "code",
   "execution_count": 43,
   "id": "763baaa1",
   "metadata": {},
   "outputs": [
    {
     "name": "stdout",
     "output_type": "stream",
     "text": [
      "deque([' ', 't', 'r', 'o', 'p', 'i', 'c', 'a', 'l', 'B', 'r', 'a', 's', 'i', 'l'])\n"
     ]
    }
   ],
   "source": [
    "deq.rotate(-3)\n",
    "print(deq)"
   ]
  },
  {
   "cell_type": "code",
   "execution_count": 44,
   "id": "e87a8bd5",
   "metadata": {},
   "outputs": [
    {
     "name": "stdout",
     "output_type": "stream",
     "text": [
      "deque(['B', 'r', 'a', 's', 'i', 'l'])\n"
     ]
    }
   ],
   "source": [
    "deq2=deque('Brasil')\n",
    "print(deq2)"
   ]
  },
  {
   "cell_type": "code",
   "execution_count": 45,
   "id": "03da2317",
   "metadata": {},
   "outputs": [
    {
     "name": "stdout",
     "output_type": "stream",
     "text": [
      "deque(['s', 'i', 'l', 'B', 'r', 'a'])\n"
     ]
    }
   ],
   "source": [
    "deq2.rotate(-3)\n",
    "print(deq2)"
   ]
  },
  {
   "cell_type": "code",
   "execution_count": null,
   "id": "c24966bd",
   "metadata": {},
   "outputs": [],
   "source": [
    "# Mais sobre deque: https://www.geeksforgeeks.org/deque-in-python/"
   ]
  },
  {
   "cell_type": "code",
   "execution_count": null,
   "id": "76d6a6ca",
   "metadata": {},
   "outputs": [],
   "source": []
  },
  {
   "cell_type": "code",
   "execution_count": null,
   "id": "52e05d1c",
   "metadata": {},
   "outputs": [],
   "source": [
    "# Mais materiais:\n",
    "# https://docs.python.org/pt-br/3/tutorial/\n",
    "# https://www.ime.usp.br/~vwsetzer/python-opers-funcoes.html#LAM"
   ]
  },
  {
   "cell_type": "code",
   "execution_count": null,
   "id": "2664ac0e",
   "metadata": {},
   "outputs": [],
   "source": []
  },
  {
   "cell_type": "code",
   "execution_count": null,
   "id": "7e574962",
   "metadata": {},
   "outputs": [],
   "source": []
  }
 ],
 "metadata": {
  "kernelspec": {
   "display_name": "Python 3",
   "language": "python",
   "name": "python3"
  },
  "language_info": {
   "codemirror_mode": {
    "name": "ipython",
    "version": 3
   },
   "file_extension": ".py",
   "mimetype": "text/x-python",
   "name": "python",
   "nbconvert_exporter": "python",
   "pygments_lexer": "ipython3",
   "version": "3.8.8"
  }
 },
 "nbformat": 4,
 "nbformat_minor": 5
}
