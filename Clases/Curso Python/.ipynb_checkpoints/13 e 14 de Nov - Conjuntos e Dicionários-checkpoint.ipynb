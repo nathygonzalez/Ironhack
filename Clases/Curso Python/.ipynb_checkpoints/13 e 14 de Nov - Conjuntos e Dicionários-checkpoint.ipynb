{
 "cells": [
  {
   "cell_type": "code",
   "execution_count": null,
   "id": "a21a5891",
   "metadata": {},
   "outputs": [],
   "source": [
    "# SET"
   ]
  },
  {
   "cell_type": "code",
   "execution_count": 1,
   "id": "c0e4d4b6",
   "metadata": {},
   "outputs": [
    {
     "name": "stdout",
     "output_type": "stream",
     "text": [
      "{'cama', 'tv', 'fogão', 'geladeira', 'celular'}\n",
      "5\n",
      "<class 'set'>\n"
     ]
    }
   ],
   "source": [
    "# Conjunto não aceita dados repetidos nem tem uma \n",
    "# ordenação fixa\n",
    "set1 = {\"celular\", \"tv\", \"geladeira\",\"cama\", \"tv\", \"fogão\"}\n",
    "print(set1)\n",
    "print(len(set1))\n",
    "print(type(set1))"
   ]
  },
  {
   "cell_type": "code",
   "execution_count": 2,
   "id": "6216fba4",
   "metadata": {},
   "outputs": [
    {
     "name": "stdout",
     "output_type": "stream",
     "text": [
      "{'cama', 'tv', 'fogão', 'geladeira', 'celular'}\n"
     ]
    }
   ],
   "source": [
    "print(set1)"
   ]
  },
  {
   "cell_type": "code",
   "execution_count": 3,
   "id": "b0d2e5b3",
   "metadata": {},
   "outputs": [
    {
     "name": "stdout",
     "output_type": "stream",
     "text": [
      "{'cama', 'tv', 'fogão', 'geladeira', 'celular'}\n"
     ]
    }
   ],
   "source": [
    "print(set1)"
   ]
  },
  {
   "cell_type": "code",
   "execution_count": 4,
   "id": "72b931e3",
   "metadata": {},
   "outputs": [
    {
     "name": "stdout",
     "output_type": "stream",
     "text": [
      "{'cama', 'tv', 'fogão', 'geladeira', 'celular'}\n"
     ]
    }
   ],
   "source": [
    "print(set1)"
   ]
  },
  {
   "cell_type": "code",
   "execution_count": 5,
   "id": "2bfaa0fe",
   "metadata": {},
   "outputs": [
    {
     "name": "stdout",
     "output_type": "stream",
     "text": [
      "{'cama', 'tv', 'fogão', 'geladeira', 'celular'}\n"
     ]
    }
   ],
   "source": [
    "print(set1)"
   ]
  },
  {
   "cell_type": "code",
   "execution_count": 6,
   "id": "acf8d580",
   "metadata": {},
   "outputs": [
    {
     "name": "stdout",
     "output_type": "stream",
     "text": [
      "{'cama', 'tv', 'fogão', 'geladeira', 'celular'}\n"
     ]
    }
   ],
   "source": [
    "print(set1)"
   ]
  },
  {
   "cell_type": "code",
   "execution_count": 7,
   "id": "19119867",
   "metadata": {},
   "outputs": [
    {
     "name": "stdout",
     "output_type": "stream",
     "text": [
      "{'cama', 'tv', 'fogão', 'geladeira', 'celular'}\n"
     ]
    }
   ],
   "source": [
    "print(set1)"
   ]
  },
  {
   "cell_type": "code",
   "execution_count": 8,
   "id": "57277e39",
   "metadata": {},
   "outputs": [
    {
     "name": "stdout",
     "output_type": "stream",
     "text": [
      "{1, 3, 5, 7, 9}\n",
      "{False, True}\n",
      "{'male', True, 34, 40, 'abc'}\n"
     ]
    }
   ],
   "source": [
    "# Conjunto aceita dados de vários tipos\n",
    "# Conjunto pode ser criado com o construtor set\n",
    "\n",
    "set2 = {1, 5, 7, 9, 3}\n",
    "set3 =set((True, False, False))\n",
    "set4 = {\"abc\", 34, True, 40, \"male\"}\n",
    "print(set2)\n",
    "print(set3)\n",
    "print(set4)"
   ]
  },
  {
   "cell_type": "code",
   "execution_count": 9,
   "id": "0e75cadf",
   "metadata": {},
   "outputs": [
    {
     "name": "stdout",
     "output_type": "stream",
     "text": [
      "cama\n",
      "tv\n",
      "fogão\n",
      "geladeira\n",
      "celular\n",
      "False\n"
     ]
    }
   ],
   "source": [
    "# Percorrendo o set\n",
    "set1 = {\"celular\", \"tv\", \"geladeira\", \"cama\", \"tv\", \"fogão\"}\n",
    "for x in set1:\n",
    "  print(x)\n",
    "print(\"banana\" in set1) "
   ]
  },
  {
   "cell_type": "code",
   "execution_count": 10,
   "id": "91badb7e",
   "metadata": {},
   "outputs": [
    {
     "name": "stdout",
     "output_type": "stream",
     "text": [
      "False\n"
     ]
    }
   ],
   "source": [
    "print(\"Cama\" in set1)"
   ]
  },
  {
   "cell_type": "code",
   "execution_count": 12,
   "id": "d195c5c9",
   "metadata": {},
   "outputs": [
    {
     "name": "stdout",
     "output_type": "stream",
     "text": [
      "{'cama', 'tv', 'fogão', 'sofá', 'geladeira', 'celular'}\n"
     ]
    }
   ],
   "source": [
    "# Adicione um item a um conjunto, usando o add() método\n",
    "# Para adicionar itens de outro conjunto ao conjunto atual, use o update() método. Adicionando qualquer iterável\n",
    " \n",
    "set1 = {\"celular\", \"tv\", \"geladeira\",\"cama\", \"tv\", \"fogão\"}\n",
    "set1.add(\"sofá\")\n",
    "print (set1)"
   ]
  },
  {
   "cell_type": "code",
   "execution_count": 14,
   "id": "3042c876",
   "metadata": {},
   "outputs": [
    {
     "name": "stdout",
     "output_type": "stream",
     "text": [
      "{'cama', 'armario', 'liquidificador', 'tv', 'fogão', 'sofá', 'geladeira', 'celular'}\n"
     ]
    }
   ],
   "source": [
    "set2 = {\"liquidificador\", \"armario\", \"cama\"}\n",
    "set1.update(set2)\n",
    "print(set1)"
   ]
  },
  {
   "cell_type": "code",
   "execution_count": 16,
   "id": "7ce7e7c5",
   "metadata": {},
   "outputs": [
    {
     "name": "stdout",
     "output_type": "stream",
     "text": [
      "{'gremio', 'flamengo', 'atletico', 'internacional', 'santos', '20', 'vasco', 'cruzeiro'}\n"
     ]
    }
   ],
   "source": [
    "# O objeto no update() pode adicionar qualquer iterável (tuplas, listas, dicionários etc.).\n",
    "\n",
    "clubes={\"vasco\", \"santos\", \"gremio\",\"cruzeiro\"}\n",
    "times=[\"flamengo\",\"atletico\",\"20\"]\n",
    "futebol=(\"internacional\",)\n",
    "clubes.update(times)\n",
    "clubes.update(futebol)\n",
    "print(clubes)"
   ]
  },
  {
   "cell_type": "code",
   "execution_count": 17,
   "id": "9a7114e9",
   "metadata": {},
   "outputs": [
    {
     "name": "stdout",
     "output_type": "stream",
     "text": [
      "{'fogão', 'geladeira', 'celular'}\n"
     ]
    }
   ],
   "source": [
    "# Para remover um item de um conjunto, use o remove(), ou o discard() método.\n",
    "\n",
    "set1 = {\"celular\", \"tv\", \"geladeira\",\"cama\", \"tv\", \"fogão\"}\n",
    "set1.remove(\"tv\")\n",
    "set1.discard(\"cama\")\n",
    "print(set1)"
   ]
  },
  {
   "cell_type": "code",
   "execution_count": 18,
   "id": "569574b8",
   "metadata": {},
   "outputs": [
    {
     "name": "stdout",
     "output_type": "stream",
     "text": [
      "{'fogão', 'geladeira', 'celular'}\n"
     ]
    }
   ],
   "source": [
    "# Você também pode usar o pop()método para remover um item, mas este método removerá o último item. Lembre-se de que os conjuntos não estão ordenados, então você não saberá qual item será removido.\n",
    "# O valor de retorno do pop() método é o item removido.\n",
    "\n",
    "set1 = {\"celular\", \"tv\", \"geladeira\",\"cama\", \"tv\", \"fogão\"}\n",
    "set1.remove(\"tv\")\n",
    "set1.discard(\"cama\")\n",
    "print(set1)"
   ]
  },
  {
   "cell_type": "code",
   "execution_count": 19,
   "id": "b56a9c25",
   "metadata": {},
   "outputs": [
    {
     "name": "stdout",
     "output_type": "stream",
     "text": [
      "{'geladeira', 'celular'}\n"
     ]
    }
   ],
   "source": [
    "# Remova o último item usando o pop() método:\n",
    "set1.pop()\n",
    "print(set1)"
   ]
  },
  {
   "cell_type": "code",
   "execution_count": 20,
   "id": "eda22ca8",
   "metadata": {},
   "outputs": [
    {
     "name": "stdout",
     "output_type": "stream",
     "text": [
      "set()\n"
     ]
    }
   ],
   "source": [
    "# O clear() método esvazia o conjunto:\n",
    "set1.clear()\n",
    "print(set1)"
   ]
  },
  {
   "cell_type": "code",
   "execution_count": 21,
   "id": "1ef76c0d",
   "metadata": {},
   "outputs": [
    {
     "name": "stdout",
     "output_type": "stream",
     "text": [
      "{1, 2, 'b', 3, 'c', 'a'}\n"
     ]
    }
   ],
   "source": [
    "# O union()método retorna um novo conjunto com todos os itens de ambos os conjuntos:\n",
    "set1 = {\"a\", \"b\" , \"c\"}\n",
    "set2 = {1, 2, 3}\n",
    "set3 = set1.union(set2)\n",
    "print(set3)"
   ]
  },
  {
   "cell_type": "code",
   "execution_count": 22,
   "id": "0e2e03cc",
   "metadata": {},
   "outputs": [
    {
     "name": "stdout",
     "output_type": "stream",
     "text": [
      "{'maça'}\n"
     ]
    }
   ],
   "source": [
    "# O intersection_update() manterá apenas os itens que estão presentes em ambos os conjuntos.\n",
    "\n",
    "x = {\"maça\", \"banana\", \"uva\"}\n",
    "y = {\"google\", \"microsoft\", \"maça\"}\n",
    "x.intersection_update(y)\n",
    "print(x)"
   ]
  },
  {
   "cell_type": "code",
   "execution_count": 23,
   "id": "a0c2075a",
   "metadata": {},
   "outputs": [
    {
     "name": "stdout",
     "output_type": "stream",
     "text": [
      "{'maça'}\n"
     ]
    }
   ],
   "source": [
    "# O intersection() retornará um novo conjunto, que contém apenas os itens que  estão presentes em ambos os conjuntos.\n",
    "\n",
    "z = x.intersection(y)\n",
    "print(z)"
   ]
  },
  {
   "cell_type": "code",
   "execution_count": 30,
   "id": "293c1435",
   "metadata": {},
   "outputs": [
    {
     "name": "stdout",
     "output_type": "stream",
     "text": [
      "{'uva', 'google', 'microsoft', 'banana'}\n"
     ]
    }
   ],
   "source": [
    "# O symmetric_difference_update() mantém os itens que não estão presentes em ambos os conjuntos:\n",
    "x = {\"maça\", \"banana\", \"uva\"}\n",
    "y = {\"google\", \"microsoft\", \"maça\"}\n",
    "x.symmetric_difference_update(y)\n",
    "print (x)"
   ]
  },
  {
   "cell_type": "code",
   "execution_count": 31,
   "id": "8f43d4a1",
   "metadata": {},
   "outputs": [
    {
     "name": "stdout",
     "output_type": "stream",
     "text": [
      "{'uva', 'google', 'microsoft', 'banana'}\n"
     ]
    }
   ],
   "source": [
    "# O symmetric_difference() retornará um novo conjunto, que contém apenas os elementos que NÃO estão presentes em ambos os conjuntos.\n",
    "\n",
    "x = {\"maça\", \"banana\", \"uva\"}\n",
    "y = {\"google\", \"microsoft\", \"maça\"}\n",
    "z = x.symmetric_difference(y)\n",
    "print (z)"
   ]
  },
  {
   "cell_type": "code",
   "execution_count": 33,
   "id": "e10c6d3a",
   "metadata": {},
   "outputs": [
    {
     "name": "stdout",
     "output_type": "stream",
     "text": [
      "{'cherry', 'google', 'microsoft', 'banana'}\n"
     ]
    }
   ],
   "source": [
    "x = {\"apple\", \"banana\", \"cherry\"}\n",
    "y = {\"google\", \"microsoft\", \"apple\"}\n",
    "x.symmetric_difference_update(y)\n",
    "print(x)"
   ]
  },
  {
   "cell_type": "code",
   "execution_count": 34,
   "id": "425e24d2",
   "metadata": {},
   "outputs": [
    {
     "name": "stdout",
     "output_type": "stream",
     "text": [
      "{'cherry', 'google', 'microsoft', 'banana'}\n"
     ]
    }
   ],
   "source": [
    "x = {\"apple\", \"banana\", \"cherry\"}\n",
    "y = {\"google\", \"microsoft\", \"apple\"}\n",
    "z = x.symmetric_difference(y)\n",
    "print(z)"
   ]
  },
  {
   "cell_type": "code",
   "execution_count": 49,
   "id": "e897a5af",
   "metadata": {},
   "outputs": [
    {
     "name": "stdout",
     "output_type": "stream",
     "text": [
      "Digite um nome: a\n",
      "Digite um nome: b\n",
      "Digite um nome: c\n",
      "Digite um nome: d\n",
      "Digite um nome: e\n",
      "Digite um nome: f\n",
      "Digite um nome: g\n",
      "Digite um nome: h\n",
      "Digite um nome: i\n",
      "Digite um nome: j\n",
      "{'', 'd', 'b', 'j', 'a', 'g', 'e', 'i', 'h', 'c', 'f'}\n"
     ]
    }
   ],
   "source": [
    "# 01. Criar um conjunto com 10 nome de pessoas digitados pelo usuario\n",
    "set1 = {''}\n",
    "for x in range(10):\n",
    "    nome = input ('Digite um nome: ')\n",
    "    set1.add(nome)\n",
    "print (set1)"
   ]
  },
  {
   "cell_type": "code",
   "execution_count": 63,
   "id": "661c3d1f",
   "metadata": {},
   "outputs": [
    {
     "name": "stdout",
     "output_type": "stream",
     "text": [
      "Digite um nome: a\n",
      "Digite um nome: b\n",
      "Digite um nome: c\n",
      "Digite um nome: d\n",
      "Digite um nome: e\n",
      "Digite um nome: f\n",
      "Digite um nome: g\n",
      "Digite um nome: h\n",
      "Digite um nome: i\n",
      "Digite um nome: j\n",
      "{'d', 'b', 'j', 'a', 'g', 'e', 'i', 'h', 'c', 'f'}\n"
     ]
    }
   ],
   "source": [
    "set1 = {'w'}\n",
    "for x in range(10):\n",
    "    nome = input ('Digite um nome: ')\n",
    "    set1.add(nome)\n",
    "set1.remove('w')\n",
    "print (set1)"
   ]
  },
  {
   "cell_type": "code",
   "execution_count": 55,
   "id": "03c8c137",
   "metadata": {},
   "outputs": [
    {
     "ename": "TypeError",
     "evalue": "'dict' object is not callable",
     "output_type": "error",
     "traceback": [
      "\u001b[1;31m---------------------------------------------------------------------------\u001b[0m",
      "\u001b[1;31mTypeError\u001b[0m                                 Traceback (most recent call last)",
      "\u001b[1;32m<ipython-input-55-8d9487345bf8>\u001b[0m in \u001b[0;36m<module>\u001b[1;34m\u001b[0m\n\u001b[1;32m----> 1\u001b[1;33m \u001b[0mset1\u001b[0m \u001b[1;33m=\u001b[0m \u001b[0mset\u001b[0m\u001b[1;33m(\u001b[0m\u001b[1;33m(\u001b[0m\u001b[1;34m''\u001b[0m\u001b[1;33m)\u001b[0m\u001b[1;33m)\u001b[0m\u001b[1;33m\u001b[0m\u001b[1;33m\u001b[0m\u001b[0m\n\u001b[0m\u001b[0;32m      2\u001b[0m \u001b[1;32mfor\u001b[0m \u001b[0mx\u001b[0m \u001b[1;32min\u001b[0m \u001b[0mrange\u001b[0m\u001b[1;33m(\u001b[0m\u001b[1;36m10\u001b[0m\u001b[1;33m)\u001b[0m\u001b[1;33m:\u001b[0m\u001b[1;33m\u001b[0m\u001b[1;33m\u001b[0m\u001b[0m\n\u001b[0;32m      3\u001b[0m     \u001b[0mnome\u001b[0m \u001b[1;33m=\u001b[0m \u001b[0minput\u001b[0m \u001b[1;33m(\u001b[0m\u001b[1;34m'Digite um nome: '\u001b[0m\u001b[1;33m)\u001b[0m\u001b[1;33m\u001b[0m\u001b[1;33m\u001b[0m\u001b[0m\n\u001b[0;32m      4\u001b[0m     \u001b[0mset1\u001b[0m\u001b[1;33m.\u001b[0m\u001b[0madd\u001b[0m\u001b[1;33m(\u001b[0m\u001b[0mnome\u001b[0m\u001b[1;33m)\u001b[0m\u001b[1;33m\u001b[0m\u001b[1;33m\u001b[0m\u001b[0m\n\u001b[0;32m      5\u001b[0m \u001b[0mprint\u001b[0m \u001b[1;33m(\u001b[0m\u001b[0mset1\u001b[0m\u001b[1;33m)\u001b[0m\u001b[1;33m\u001b[0m\u001b[1;33m\u001b[0m\u001b[0m\n",
      "\u001b[1;31mTypeError\u001b[0m: 'dict' object is not callable"
     ]
    }
   ],
   "source": [
    "set1 = set()\n",
    "for x in range(10):\n",
    "    nome = input ('Digite um nome: ')\n",
    "    set1.add(nome)\n",
    "print (set1)"
   ]
  },
  {
   "cell_type": "code",
   "execution_count": null,
   "id": "3bb5f339",
   "metadata": {},
   "outputs": [],
   "source": []
  },
  {
   "cell_type": "code",
   "execution_count": 59,
   "id": "c6287b07",
   "metadata": {},
   "outputs": [
    {
     "name": "stdout",
     "output_type": "stream",
     "text": [
      "<class 'set'>\n"
     ]
    }
   ],
   "source": [
    "set1= {1,2,3}\n",
    "\n",
    "print (type(set1))"
   ]
  },
  {
   "cell_type": "code",
   "execution_count": 65,
   "id": "9a3b5f30",
   "metadata": {},
   "outputs": [
    {
     "data": {
      "text/plain": [
       "{'e', 'f', 'g', 'h', 'i', 'j'}"
      ]
     },
     "execution_count": 65,
     "metadata": {},
     "output_type": "execute_result"
    }
   ],
   "source": [
    "# 02. Criar uma lista com o nome de 5 pessos que tomaram a vacina\n",
    "vacina = {'a', 'b', 'c', 'd'}\n",
    "set1.symmetric_difference_update(vacina)\n",
    "set1"
   ]
  },
  {
   "cell_type": "code",
   "execution_count": 66,
   "id": "13015654",
   "metadata": {},
   "outputs": [
    {
     "data": {
      "text/plain": [
       "{'a', 'b', 'c', 'd'}"
      ]
     },
     "execution_count": 66,
     "metadata": {},
     "output_type": "execute_result"
    }
   ],
   "source": [
    "# 03. Mostre todas as pessoas da lista nomes que foram vacinados e tb mostre quem falta ser vacinado\n",
    "pessoas = {'a','b','c','d','e', 'f', 'g', 'h', 'i', 'j'}\n",
    "vacinados = pessoas.intersection(vacina)\n",
    "vacinados"
   ]
  },
  {
   "cell_type": "code",
   "execution_count": 67,
   "id": "47d1c1fe",
   "metadata": {},
   "outputs": [
    {
     "data": {
      "text/plain": [
       "{'e', 'f', 'g', 'h', 'i', 'j'}"
      ]
     },
     "execution_count": 67,
     "metadata": {},
     "output_type": "execute_result"
    }
   ],
   "source": [
    "sem_vacina = pessoas.symmetric_difference(vacina)\n",
    "sem_vacina"
   ]
  },
  {
   "cell_type": "code",
   "execution_count": 68,
   "id": "b4bf3b6b",
   "metadata": {},
   "outputs": [
    {
     "data": {
      "text/plain": [
       "{'a', 'b', 'c', 'd', 'j'}"
      ]
     },
     "execution_count": 68,
     "metadata": {},
     "output_type": "execute_result"
    }
   ],
   "source": [
    "vacinados.add('j')\n",
    "vacinados"
   ]
  },
  {
   "cell_type": "code",
   "execution_count": null,
   "id": "296ae8cc",
   "metadata": {},
   "outputs": [],
   "source": []
  },
  {
   "cell_type": "code",
   "execution_count": null,
   "id": "fce30700",
   "metadata": {},
   "outputs": [],
   "source": [
    "# DICIONÁRIOS"
   ]
  },
  {
   "cell_type": "code",
   "execution_count": null,
   "id": "bac4c25c",
   "metadata": {},
   "outputs": [],
   "source": [
    "# Voltam a ter o índice, porém nós determinamos"
   ]
  },
  {
   "cell_type": "code",
   "execution_count": 69,
   "id": "c3caca8c",
   "metadata": {},
   "outputs": [
    {
     "name": "stdout",
     "output_type": "stream",
     "text": [
      "{'marca': 'Ford', 'modelo': 'Mustang', 'Ano': 1964}\n"
     ]
    }
   ],
   "source": [
    "carro = {\n",
    "  \"marca\": \"Ford\",\n",
    "  \"modelo\": \"Mustang\",\n",
    "  \"Ano\": 1964\n",
    "}\n",
    "print(carro)"
   ]
  },
  {
   "cell_type": "code",
   "execution_count": 70,
   "id": "fdf1b3ad",
   "metadata": {},
   "outputs": [
    {
     "name": "stdout",
     "output_type": "stream",
     "text": [
      "Ford\n",
      "1964\n"
     ]
    }
   ],
   "source": [
    "print(carro[\"marca\"])\n",
    "x = carro.get(\"Ano\")\n",
    "print(x)"
   ]
  },
  {
   "cell_type": "code",
   "execution_count": 71,
   "id": "a5784a4c",
   "metadata": {},
   "outputs": [
    {
     "name": "stdout",
     "output_type": "stream",
     "text": [
      "{'marca': 'Ford', 'modelo': 'Mustang', 'Ano': 2021}\n"
     ]
    }
   ],
   "source": [
    "carro = {\n",
    "  \"marca\": \"Ford\",\n",
    "  \"modelo\": \"Mustang\",\n",
    "  \"Ano\": 1964,\n",
    "  \"Ano\": 2021,\n",
    "}\n",
    "print(carro)"
   ]
  },
  {
   "cell_type": "code",
   "execution_count": 72,
   "id": "f8d95ead",
   "metadata": {},
   "outputs": [
    {
     "name": "stdout",
     "output_type": "stream",
     "text": [
      "{'marca': 'Ford', 'Eletrico': True, 'modelo': 'Mustang', 'Ano': 1964, 'cores': ['Vermelha', 'Branca', 'Azul']}\n"
     ]
    }
   ],
   "source": [
    "# Os valores nos itens do dicionário podem ser de qualquer tipo de dados:\n",
    "carro = {\n",
    "  \"marca\": \"Ford\",\n",
    "  \"Eletrico\":True,\n",
    "  \"modelo\": \"Mustang\",\n",
    "  \"Ano\": 1964,\n",
    "  \"cores\": [\"Vermelha\", \"Branca\", \"Azul\"]\n",
    "}\n",
    "print(carro)"
   ]
  },
  {
   "cell_type": "code",
   "execution_count": 74,
   "id": "74705d1c",
   "metadata": {},
   "outputs": [
    {
     "name": "stdout",
     "output_type": "stream",
     "text": [
      "['Vermelha', 'Branca', 'Azul']\n"
     ]
    }
   ],
   "source": [
    "x = carro.get(\"cores\")\n",
    "print (x)"
   ]
  },
  {
   "cell_type": "code",
   "execution_count": 75,
   "id": "9523a9ea",
   "metadata": {},
   "outputs": [
    {
     "name": "stdout",
     "output_type": "stream",
     "text": [
      "Branca\n"
     ]
    }
   ],
   "source": [
    "print (x[1])"
   ]
  },
  {
   "cell_type": "code",
   "execution_count": 76,
   "id": "ac0e4ff9",
   "metadata": {},
   "outputs": [
    {
     "data": {
      "text/plain": [
       "'Branca'"
      ]
     },
     "execution_count": 76,
     "metadata": {},
     "output_type": "execute_result"
    }
   ],
   "source": [
    "carro.get(\"cores\")[1]"
   ]
  },
  {
   "cell_type": "code",
   "execution_count": 77,
   "id": "25c075c9",
   "metadata": {},
   "outputs": [
    {
     "name": "stdout",
     "output_type": "stream",
     "text": [
      "dict_keys(['marca', 'Eletrico', 'modelo', 'Ano', 'cores'])\n"
     ]
    }
   ],
   "source": [
    "# Obtenha uma lista das chaves:\n",
    "carro = {\n",
    "  \"marca\": \"Ford\",\n",
    "  \"Eletrico\":True,\n",
    "  \"modelo\": \"Mustang\",\n",
    "  \"Ano\": 1964,\n",
    "  \"cores\": [\"Vermelha\", \"Branca\", \"Azul\"]\n",
    "}\n",
    "x = carro.keys()\n",
    "print(x)"
   ]
  },
  {
   "cell_type": "code",
   "execution_count": 78,
   "id": "54c4c996",
   "metadata": {},
   "outputs": [
    {
     "name": "stdout",
     "output_type": "stream",
     "text": [
      "dict_keys(['marca', 'Eletrico', 'modelo', 'Ano', 'cores', 'Placa'])\n",
      "{'marca': 'Ford', 'Eletrico': True, 'modelo': 'Mustang', 'Ano': 1964, 'cores': ['Vermelha', 'Branca', 'Azul'], 'Placa': 'KWY - 9875'}\n"
     ]
    }
   ],
   "source": [
    "carro[\"Placa\"]=\"KWY - 9875\"\n",
    "print(x) # Lista de chaves alteradas dinamicamente\n",
    "print(carro)"
   ]
  },
  {
   "cell_type": "code",
   "execution_count": 80,
   "id": "6697ce44",
   "metadata": {},
   "outputs": [
    {
     "name": "stdout",
     "output_type": "stream",
     "text": [
      "dict_values(['Ford', True, 'Mustang', 2020, ['Vermelha', 'Branca', 'Azul'], 'KWY - 9875'])\n"
     ]
    }
   ],
   "source": [
    "# Obtenha uma lista dos valores\n",
    "car = carro.values()\n",
    "print(car)"
   ]
  },
  {
   "cell_type": "code",
   "execution_count": 81,
   "id": "b80b1a9e",
   "metadata": {},
   "outputs": [
    {
     "name": "stdout",
     "output_type": "stream",
     "text": [
      "dict_values(['Ford', True, 'Mustang', 2020, ['Vermelha', 'Branca', 'Azul'], 'KWY - 9875'])\n"
     ]
    }
   ],
   "source": [
    "carro[\"Ano\"] = 2020\n",
    "print(car)"
   ]
  },
  {
   "cell_type": "code",
   "execution_count": 82,
   "id": "905ac409",
   "metadata": {},
   "outputs": [
    {
     "name": "stdout",
     "output_type": "stream",
     "text": [
      "dict_items([('marca', 'Ford'), ('Eletrico', True), ('modelo', 'Mustang'), ('Ano', 2020), ('cores', ['Vermelha', 'Branca', 'Azul']), ('Placa', 'KWY - 9875')])\n"
     ]
    }
   ],
   "source": [
    "# Obtenha uma lista dos pares chave: valor\n",
    "lista_carro = carro.items()\n",
    "print(lista_carro)"
   ]
  },
  {
   "cell_type": "code",
   "execution_count": 83,
   "id": "bba534c2",
   "metadata": {},
   "outputs": [
    {
     "name": "stdout",
     "output_type": "stream",
     "text": [
      "Marca cadastrada !\n"
     ]
    }
   ],
   "source": [
    "# Verifique se a chave \"marca\" está presente no dicionário:\n",
    "if \"marca\" in carro:\n",
    "  print(\"Marca cadastrada !\")"
   ]
  },
  {
   "cell_type": "code",
   "execution_count": 102,
   "id": "1b7de42d",
   "metadata": {},
   "outputs": [
    {
     "name": "stdout",
     "output_type": "stream",
     "text": [
      "{'marca': 'Ford', 'modelo': 'Mustang', 'Ano': 1964, 'cor': 'verde', 'placa': 'VWV - 34567'}\n"
     ]
    }
   ],
   "source": [
    "carro = {\n",
    "  \"marca\": \"Ford\",\n",
    "  \"modelo\": \"Mustang\",\n",
    "  \"Ano\": 1964,\n",
    "}\n",
    "# Adicionando valores\n",
    "carro[\"cor\"] = \"verde\"\n",
    "carro.update({\"placa\": \"VWV - 34567\"})\n",
    "print(carro)"
   ]
  },
  {
   "cell_type": "code",
   "execution_count": 109,
   "id": "fbd88af9",
   "metadata": {},
   "outputs": [
    {
     "name": "stdout",
     "output_type": "stream",
     "text": [
      "Ford\n",
      "Mustang\n",
      "1964\n",
      "verde\n",
      "VWV - 34567\n"
     ]
    }
   ],
   "source": [
    "for x in carro.values():\n",
    "  print(x)"
   ]
  },
  {
   "cell_type": "code",
   "execution_count": 110,
   "id": "d2818b1e",
   "metadata": {},
   "outputs": [
    {
     "name": "stdout",
     "output_type": "stream",
     "text": [
      "Ford\n",
      "Mustang\n",
      "1964\n",
      "verde\n",
      "VWV - 34567\n"
     ]
    }
   ],
   "source": [
    "for x in carro:\n",
    "  print(carro[x])"
   ]
  },
  {
   "cell_type": "code",
   "execution_count": 106,
   "id": "89fe9a2b",
   "metadata": {},
   "outputs": [
    {
     "data": {
      "text/plain": [
       "dict_values(['Ford', 'Mustang', 1964, 'verde', 'VWV - 34567'])"
      ]
     },
     "execution_count": 106,
     "metadata": {},
     "output_type": "execute_result"
    }
   ],
   "source": [
    "carro.values()"
   ]
  },
  {
   "cell_type": "code",
   "execution_count": 97,
   "id": "76ab750e",
   "metadata": {},
   "outputs": [
    {
     "data": {
      "text/plain": [
       "1964"
      ]
     },
     "execution_count": 97,
     "metadata": {},
     "output_type": "execute_result"
    }
   ],
   "source": [
    "carro.pop(\"Ano\") # Remove item com a chave"
   ]
  },
  {
   "cell_type": "code",
   "execution_count": 98,
   "id": "97772686",
   "metadata": {},
   "outputs": [
    {
     "data": {
      "text/plain": [
       "('placa', 'VWV - 34567')"
      ]
     },
     "execution_count": 98,
     "metadata": {},
     "output_type": "execute_result"
    }
   ],
   "source": [
    "carro.popitem() # Remove o ultimo item"
   ]
  },
  {
   "cell_type": "code",
   "execution_count": 99,
   "id": "bab89f4e",
   "metadata": {},
   "outputs": [
    {
     "name": "stdout",
     "output_type": "stream",
     "text": [
      "{'modelo': 'Mustang', 'cor': 'verde'}\n"
     ]
    }
   ],
   "source": [
    "del carro[\"marca\"] # Remove o item com o nome de chave especificado:\n",
    "print(carro)"
   ]
  },
  {
   "cell_type": "code",
   "execution_count": 101,
   "id": "c539b10a",
   "metadata": {},
   "outputs": [
    {
     "data": {
      "text/plain": [
       "{}"
      ]
     },
     "execution_count": 101,
     "metadata": {},
     "output_type": "execute_result"
    }
   ],
   "source": [
    "carro.clear() # O clear()método esvazia o dicionário:\n",
    "carro"
   ]
  },
  {
   "cell_type": "code",
   "execution_count": null,
   "id": "0a4fcbdf",
   "metadata": {},
   "outputs": [],
   "source": []
  },
  {
   "cell_type": "code",
   "execution_count": 84,
   "id": "53582aad",
   "metadata": {},
   "outputs": [
    {
     "name": "stdout",
     "output_type": "stream",
     "text": [
      "{'nome': 'ana', 'sexo': 'f', 'idade': 33}\n"
     ]
    }
   ],
   "source": [
    "pessoas={\"nome\":\"ana\",\"sexo\":\"f\",\"idade\":33}\n",
    "print(pessoas)"
   ]
  },
  {
   "cell_type": "code",
   "execution_count": 85,
   "id": "abd717f0",
   "metadata": {},
   "outputs": [
    {
     "name": "stdout",
     "output_type": "stream",
     "text": [
      "{'nome': 'Zeca', 'sexo': 'f', 'idade': 29, 'peso': 70}\n"
     ]
    }
   ],
   "source": [
    "pessoas['idade']=29\n",
    "pessoas[\"peso\"]=70\n",
    "pessoas.update({\"nome\": \"Zeca\"})\n",
    "print(pessoas)"
   ]
  },
  {
   "cell_type": "code",
   "execution_count": 86,
   "id": "b0f5f7d6",
   "metadata": {},
   "outputs": [
    {
     "name": "stdout",
     "output_type": "stream",
     "text": [
      "{'nome': 'Zeca', 'idade': 29, 'peso': 70}\n"
     ]
    }
   ],
   "source": [
    "pessoas.pop(\"sexo\")\n",
    "print(pessoas)"
   ]
  },
  {
   "cell_type": "code",
   "execution_count": 87,
   "id": "6fc1f705",
   "metadata": {},
   "outputs": [
    {
     "name": "stdout",
     "output_type": "stream",
     "text": [
      "{'nome': 'Zeca', 'idade': 29}\n"
     ]
    }
   ],
   "source": [
    "# remove o último item\n",
    "pessoas.popitem()\n",
    "print(pessoas)"
   ]
  },
  {
   "cell_type": "code",
   "execution_count": null,
   "id": "e06172be",
   "metadata": {},
   "outputs": [],
   "source": []
  },
  {
   "cell_type": "code",
   "execution_count": 111,
   "id": "ad18936e",
   "metadata": {},
   "outputs": [],
   "source": [
    "crianca01 = {\n",
    "    \"nome\": \"Carla\",\n",
    "    \"idade\": \"6\"\n",
    "}\n",
    "crianca02 = {\n",
    "    \"nome\": \"Pedro\",\n",
    "    \"idade\": \"5\"\n",
    "}\n",
    "crianca03 = {\n",
    "    \"nome\": \"Luis\",\n",
    "    \"idade\": \"4\"\n",
    "}\n",
    "crianca04 = {\n",
    "    \"nome\": \"Amanda\",\n",
    "    \"idade\": \"2\"\n",
    "}"
   ]
  },
  {
   "cell_type": "code",
   "execution_count": 114,
   "id": "7db512a5",
   "metadata": {},
   "outputs": [
    {
     "name": "stdout",
     "output_type": "stream",
     "text": [
      "{'crianca01': {'nome': 'Carla', 'idade': '6'}, 'crianca02': {'nome': 'Pedro', 'idade': '5'}, 'crianca03': {'nome': 'Luis', 'idade': '4'}, 'crianca04': {'nome': 'Amanda', 'idade': '2'}}\n"
     ]
    }
   ],
   "source": [
    "# Dicionário aninhados\n",
    "criancas = {\n",
    "    \"crianca01\": {\n",
    "    \"nome\": \"Carla\",\n",
    "    \"idade\": \"6\"},\n",
    "    \"crianca02\": {\n",
    "    \"nome\": \"Pedro\",\n",
    "    \"idade\": \"5\"},\n",
    "    \"crianca03\": {\n",
    "    \"nome\": \"Luis\",\n",
    "    \"idade\": \"4\"},\n",
    "    \"crianca04\": {\n",
    "    \"nome\": \"Amanda\",\n",
    "    \"idade\": \"2\"}\n",
    "}\n",
    "print (criancas)"
   ]
  },
  {
   "cell_type": "code",
   "execution_count": 138,
   "id": "b15330d4",
   "metadata": {},
   "outputs": [
    {
     "name": "stdout",
     "output_type": "stream",
     "text": [
      "Carla\n",
      "Pedro\n",
      "Luis\n",
      "Amanda\n"
     ]
    }
   ],
   "source": [
    "for x in criancas:\n",
    "    print (criancas[x][\"nome\"])"
   ]
  },
  {
   "cell_type": "code",
   "execution_count": 134,
   "id": "171a760e",
   "metadata": {},
   "outputs": [
    {
     "data": {
      "text/plain": [
       "dict_keys(['crianca01', 'crianca02', 'crianca03', 'crianca04'])"
      ]
     },
     "execution_count": 134,
     "metadata": {},
     "output_type": "execute_result"
    }
   ],
   "source": [
    "criancas.keys()"
   ]
  },
  {
   "cell_type": "code",
   "execution_count": 135,
   "id": "c9ab3b2e",
   "metadata": {},
   "outputs": [
    {
     "data": {
      "text/plain": [
       "dict_items([('crianca01', {'nome': 'Carla', 'idade': '6'}), ('crianca02', {'nome': 'Pedro', 'idade': '5'}), ('crianca03', {'nome': 'Luis', 'idade': '4'}), ('crianca04', {'nome': 'Amanda', 'idade': '2'})])"
      ]
     },
     "execution_count": 135,
     "metadata": {},
     "output_type": "execute_result"
    }
   ],
   "source": [
    "criancas.items()"
   ]
  },
  {
   "cell_type": "code",
   "execution_count": null,
   "id": "f9605840",
   "metadata": {},
   "outputs": [],
   "source": []
  }
 ],
 "metadata": {
  "kernelspec": {
   "display_name": "Python 3",
   "language": "python",
   "name": "python3"
  },
  "language_info": {
   "codemirror_mode": {
    "name": "ipython",
    "version": 3
   },
   "file_extension": ".py",
   "mimetype": "text/x-python",
   "name": "python",
   "nbconvert_exporter": "python",
   "pygments_lexer": "ipython3",
   "version": "3.8.8"
  }
 },
 "nbformat": 4,
 "nbformat_minor": 5
}
