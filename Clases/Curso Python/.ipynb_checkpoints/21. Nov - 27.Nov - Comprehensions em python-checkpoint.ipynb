{
 "cells": [
  {
   "cell_type": "markdown",
   "id": "b245d825",
   "metadata": {},
   "source": [
    "# Comprehensions em python"
   ]
  },
  {
   "cell_type": "code",
   "execution_count": 1,
   "id": "2853ab9e",
   "metadata": {},
   "outputs": [
    {
     "name": "stdout",
     "output_type": "stream",
     "text": [
      "[5, 10, 15, 280, 390, 450]\n"
     ]
    }
   ],
   "source": [
    "lst=[1,2,3,56,78,90]\n",
    "print([numero*5 for numero in lst])"
   ]
  },
  {
   "cell_type": "code",
   "execution_count": 2,
   "id": "7b68bc1b",
   "metadata": {},
   "outputs": [
    {
     "name": "stdout",
     "output_type": "stream",
     "text": [
      "[0, 1, 4, 9, 16, 25, 36, 49, 64, 81]\n"
     ]
    }
   ],
   "source": [
    "# range 19 - de 0 a 9\n",
    "print([item**2 for item in range(10)])"
   ]
  },
  {
   "cell_type": "code",
   "execution_count": 3,
   "id": "fee90cce",
   "metadata": {},
   "outputs": [
    {
     "name": "stdout",
     "output_type": "stream",
     "text": [
      "[0, 2, 4, 6, 8, 10, 12, 14, 16, 18]\n"
     ]
    }
   ],
   "source": [
    "print([numero for numero in range(20) if numero % 2 == 0])"
   ]
  },
  {
   "cell_type": "code",
   "execution_count": 4,
   "id": "e621f4bc",
   "metadata": {},
   "outputs": [
    {
     "name": "stdout",
     "output_type": "stream",
     "text": [
      "[0, 30, 60, 90]\n"
     ]
    }
   ],
   "source": [
    "print([numero for numero in range(100) if numero % 5 == 0 if numero % 6 == 0])"
   ]
  },
  {
   "cell_type": "code",
   "execution_count": null,
   "id": "5ff45e2b",
   "metadata": {},
   "outputs": [],
   "source": [
    "# Em Python, Compreensão de Listas é um conceito poderoso e que deve ser estudado.\n",
    "# No entanto, ainda é um dos tópicos mais difíceis para quem está se iniciando em Python.\n",
    "# Uma nova lista é gerada a partir de dados processados de um outro iterável."
   ]
  },
  {
   "cell_type": "code",
   "execution_count": 8,
   "id": "a87116eb",
   "metadata": {},
   "outputs": [
    {
     "name": "stdout",
     "output_type": "stream",
     "text": [
      "[1, 2, 3, 4, 5, 6, 7, 8, 9, 10]\n"
     ]
    }
   ],
   "source": [
    "print([item for item in range(1,11)])"
   ]
  },
  {
   "cell_type": "code",
   "execution_count": 9,
   "id": "083ffcf7",
   "metadata": {},
   "outputs": [
    {
     "name": "stdout",
     "output_type": "stream",
     "text": [
      "[10, 20, 30, 40, 50]\n"
     ]
    }
   ],
   "source": [
    "# Uma lista alimentando outra lista. No comprehension o cálculo vem antes\n",
    "numeros = [1,2,3,4,5]\n",
    "res1 = [numero*10 for numero in numeros]\n",
    "print (res1)"
   ]
  },
  {
   "cell_type": "code",
   "execution_count": 10,
   "id": "89e39a12",
   "metadata": {},
   "outputs": [
    {
     "name": "stdout",
     "output_type": "stream",
     "text": [
      "[0.5, 1.0, 1.5, 2.0, 2.5]\n"
     ]
    }
   ],
   "source": [
    "res2 = [numero/2 for numero in numeros]\n",
    "print (res2)"
   ]
  },
  {
   "cell_type": "code",
   "execution_count": 11,
   "id": "5bd551fa",
   "metadata": {},
   "outputs": [
    {
     "name": "stdout",
     "output_type": "stream",
     "text": [
      "[1, 4, 9, 16, 25]\n"
     ]
    }
   ],
   "source": [
    "res3 = [numero**2 for numero in numeros]\n",
    "print (res3)"
   ]
  },
  {
   "cell_type": "code",
   "execution_count": 12,
   "id": "2e2bb0b9",
   "metadata": {},
   "outputs": [
    {
     "name": "stdout",
     "output_type": "stream",
     "text": [
      "[1, 4, 9, 16, 25]\n"
     ]
    }
   ],
   "source": [
    "numeros=[1,2,3,4,5]\n",
    "def multiplicar(valor):\n",
    "    return valor*valor\n",
    "res2=[multiplicar(numero) for numero in numeros]\n",
    "print(res2)"
   ]
  },
  {
   "cell_type": "code",
   "execution_count": 13,
   "id": "5a102103",
   "metadata": {},
   "outputs": [
    {
     "name": "stdout",
     "output_type": "stream",
     "text": [
      "[2, 4, 6, 8, 10]\n"
     ]
    }
   ],
   "source": [
    "# Lista dobro de outra lista\n",
    "numeros=[1,2,3,4,5]\n",
    "res3=[]\n",
    "for n in numeros:\n",
    "    dobrado=n*2 \n",
    "    res3.append(dobrado)\n",
    "print(res3)"
   ]
  },
  {
   "cell_type": "code",
   "execution_count": 14,
   "id": "41a8ecaf",
   "metadata": {},
   "outputs": [
    {
     "name": "stdout",
     "output_type": "stream",
     "text": [
      "[2, 4, 6, 8, 10]\n"
     ]
    }
   ],
   "source": [
    "print([n*2 for n in numeros])"
   ]
  },
  {
   "cell_type": "code",
   "execution_count": 22,
   "id": "f9a4a76a",
   "metadata": {},
   "outputs": [
    {
     "name": "stdout",
     "output_type": "stream",
     "text": [
      "['MiriaM', 'AnA', 'Carolina', 'Joaquina']\n"
     ]
    }
   ],
   "source": [
    "def caixa_alta(nome):\n",
    "    nome=nome.replace(nome[0],nome[0].upper())\n",
    "    return nome\n",
    "candidatos=['miriam','ana','carolina','joaquina']\n",
    "print([caixa_alta(pessoa) for pessoa in candidatos])"
   ]
  },
  {
   "cell_type": "code",
   "execution_count": 23,
   "id": "3f761b38",
   "metadata": {},
   "outputs": [
    {
     "name": "stdout",
     "output_type": "stream",
     "text": [
      "[False, False, False, True, True, True]\n"
     ]
    }
   ],
   "source": [
    "print([bool(valor) for valor in [0,[],'','true',1,3.14]])"
   ]
  },
  {
   "cell_type": "code",
   "execution_count": 26,
   "id": "a78c3b02",
   "metadata": {},
   "outputs": [
    {
     "name": "stdout",
     "output_type": "stream",
     "text": [
      "[2, 4]\n"
     ]
    }
   ],
   "source": [
    "numeros=[1,2,3,4,5]\n",
    "pares = [numero for numero in numeros if numero % 2 == 0]\n",
    "print (pares)"
   ]
  },
  {
   "cell_type": "code",
   "execution_count": 27,
   "id": "7798323e",
   "metadata": {},
   "outputs": [
    {
     "name": "stdout",
     "output_type": "stream",
     "text": [
      "[4, 8]\n"
     ]
    }
   ],
   "source": [
    "dobro = [numero*2 for numero in numeros if numero % 2 == 0]\n",
    "print (dobro)"
   ]
  },
  {
   "cell_type": "code",
   "execution_count": 28,
   "id": "10f6bba1",
   "metadata": {},
   "outputs": [
    {
     "name": "stdout",
     "output_type": "stream",
     "text": [
      "[2, 4]\n",
      "[1, 3, 5]\n"
     ]
    }
   ],
   "source": [
    "pares=[n for n in numeros if not n%2]\n",
    "print(pares)\n",
    "impares=[n for n in numeros if n%2]\n",
    "print(impares)"
   ]
  },
  {
   "cell_type": "code",
   "execution_count": 30,
   "id": "be27c0cf",
   "metadata": {},
   "outputs": [
    {
     "name": "stdout",
     "output_type": "stream",
     "text": [
      "[0.5, 4, 1.5, 8, 2.5]\n"
     ]
    }
   ],
   "source": [
    "res=[numero*2 if numero % 2==0 else numero/2 for numero in numeros]\n",
    "print (res)"
   ]
  },
  {
   "cell_type": "code",
   "execution_count": 32,
   "id": "9b083c1c",
   "metadata": {},
   "outputs": [
    {
     "ename": "TypeError",
     "evalue": "'int' object is not subscriptable",
     "output_type": "error",
     "traceback": [
      "\u001b[1;31m---------------------------------------------------------------------------\u001b[0m",
      "\u001b[1;31mTypeError\u001b[0m                                 Traceback (most recent call last)",
      "\u001b[1;32m<ipython-input-32-bc29440bdcc1>\u001b[0m in \u001b[0;36m<module>\u001b[1;34m\u001b[0m\n\u001b[0;32m      4\u001b[0m     \u001b[0mx\u001b[0m \u001b[1;33m=\u001b[0m \u001b[0mlista\u001b[0m \u001b[1;33m[\u001b[0m\u001b[0my\u001b[0m\u001b[1;33m]\u001b[0m\u001b[1;33m\u001b[0m\u001b[1;33m\u001b[0m\u001b[0m\n\u001b[0;32m      5\u001b[0m     \u001b[0my\u001b[0m \u001b[1;33m=\u001b[0m \u001b[0my\u001b[0m \u001b[1;33m+\u001b[0m \u001b[1;36m1\u001b[0m\u001b[1;33m\u001b[0m\u001b[1;33m\u001b[0m\u001b[0m\n\u001b[1;32m----> 6\u001b[1;33m     \u001b[0mprint\u001b[0m \u001b[1;33m(\u001b[0m\u001b[0mx\u001b[0m\u001b[1;33m[\u001b[0m\u001b[0my\u001b[0m\u001b[1;33m]\u001b[0m\u001b[1;33m)\u001b[0m\u001b[1;33m\u001b[0m\u001b[1;33m\u001b[0m\u001b[0m\n\u001b[0m",
      "\u001b[1;31mTypeError\u001b[0m: 'int' object is not subscriptable"
     ]
    }
   ],
   "source": [
    "numeros = [[1,2,3],[4,5,6],[7,8,9],[10,11,12]]\n",
    "y = 0\n",
    "for lista in numeros:\n",
    "    x = lista [y]\n",
    "    y = y + 1\n",
    "    print (x[y])"
   ]
  },
  {
   "cell_type": "code",
   "execution_count": 43,
   "id": "aadba7b8",
   "metadata": {},
   "outputs": [
    {
     "name": "stdout",
     "output_type": "stream",
     "text": [
      "[1, 2, 3]\n",
      "[4, 5, 6]\n",
      "[7, 8, 9]\n"
     ]
    }
   ],
   "source": [
    "listas=[[1,2,3],[4,5,6],[7,8,9]]\n",
    "for x in range(0,3):\n",
    "    n=listas[x]\n",
    "    print(n)"
   ]
  },
  {
   "cell_type": "code",
   "execution_count": 33,
   "id": "5bde8e06",
   "metadata": {},
   "outputs": [
    {
     "name": "stdout",
     "output_type": "stream",
     "text": [
      "1\n",
      "2\n",
      "3\n",
      "4\n",
      "5\n",
      "6\n",
      "7\n",
      "8\n",
      "9\n"
     ]
    },
    {
     "data": {
      "text/plain": [
       "[[None, None, None], [None, None, None], [None, None, None]]"
      ]
     },
     "execution_count": 33,
     "metadata": {},
     "output_type": "execute_result"
    }
   ],
   "source": [
    "listas=[[1,2,3],[4,5,6],[7,8,9]]\n",
    "[[print(l) for l in lista] for lista in listas]"
   ]
  },
  {
   "cell_type": "code",
   "execution_count": 36,
   "id": "c72362c9",
   "metadata": {},
   "outputs": [
    {
     "name": "stdout",
     "output_type": "stream",
     "text": [
      "[[1, 2, 3], [1, 2, 3], [1, 2, 3]]\n"
     ]
    }
   ],
   "source": [
    "# Tabuleiro 3 x 3\n",
    "tabuleiro=[[numero for numero in range(1,4)] for valor in range(1,4)]\n",
    "print(tabuleiro)"
   ]
  },
  {
   "cell_type": "code",
   "execution_count": 38,
   "id": "b3396711",
   "metadata": {},
   "outputs": [
    {
     "name": "stdout",
     "output_type": "stream",
     "text": [
      "[[2, 4, 6], [2, 4, 6], [2, 4, 6]]\n"
     ]
    }
   ],
   "source": [
    "tabuleiro_dobro=[[numero*2 for numero in range(1,4)] for valor in range(1,4)]\n",
    "print(tabuleiro_dobro)"
   ]
  },
  {
   "cell_type": "code",
   "execution_count": 41,
   "id": "a5a3bd02",
   "metadata": {},
   "outputs": [
    {
     "name": "stdout",
     "output_type": "stream",
     "text": [
      "[['O', 'x', 'O'], ['O', 'x', 'O'], ['O', 'x', 'O']]\n"
     ]
    }
   ],
   "source": [
    "velha = [['x' if numero%2==0 else 'O' for numero in range(1,4)] for valor in range(1,4)]\n",
    "print (velha)"
   ]
  },
  {
   "cell_type": "code",
   "execution_count": 30,
   "id": "f3d95add",
   "metadata": {},
   "outputs": [
    {
     "name": "stdout",
     "output_type": "stream",
     "text": [
      "dict_items([('a', 1), ('b', 2), ('c', 3), ('d', 4), ('e', 5)])\n"
     ]
    }
   ],
   "source": [
    "# Itens do dicionário ao quadrado\n",
    "numeros={'a':1,'b':2,'c':3,'d':4,'e':5}\n",
    "print(numeros.items())"
   ]
  },
  {
   "cell_type": "code",
   "execution_count": 32,
   "id": "f690ce18",
   "metadata": {},
   "outputs": [
    {
     "name": "stdout",
     "output_type": "stream",
     "text": [
      "{'a': 1, 'b': 4, 'c': 9, 'd': 16, 'e': 25}\n"
     ]
    }
   ],
   "source": [
    "print({chave: valor**2 for chave, valor in numeros.items()})"
   ]
  },
  {
   "cell_type": "code",
   "execution_count": 5,
   "id": "bbd57aa9",
   "metadata": {},
   "outputs": [
    {
     "name": "stdout",
     "output_type": "stream",
     "text": [
      "{'a': 1, 'b': 4, 'c': 9, 'd': 16, 'e': 25}\n"
     ]
    }
   ],
   "source": [
    "# Acessando os valores nas chaves\n",
    "quadrado={chave:valor**2 for chave,valor in numeros.items()}\n",
    "print(quadrado)"
   ]
  },
  {
   "cell_type": "code",
   "execution_count": 8,
   "id": "e7d567d4",
   "metadata": {},
   "outputs": [
    {
     "name": "stdout",
     "output_type": "stream",
     "text": [
      "{1: 1, 2: 4, 3: 9, 4: 16, 5: 25}\n"
     ]
    }
   ],
   "source": [
    "# Para dicionário com uma chave (sem o n: gera um conjunto)\n",
    "numeros=[1,2,3,4,5]\n",
    "print({n: n**2 for n in numeros})"
   ]
  },
  {
   "cell_type": "code",
   "execution_count": 9,
   "id": "46d55b83",
   "metadata": {},
   "outputs": [
    {
     "name": "stdout",
     "output_type": "stream",
     "text": [
      "{'a': 1, 'b': 2, 'c': 3, 'd': 4, 'e': 5}\n"
     ]
    }
   ],
   "source": [
    "# Dicionário usando strings e valores\n",
    "chaves='abcde'\n",
    "valores=[1,2,3,4,5]\n",
    "mistura={chaves[i]:valores[i] for i in range(0,len(chaves))}\n",
    "print(mistura)"
   ]
  },
  {
   "cell_type": "code",
   "execution_count": 10,
   "id": "a60fa94d",
   "metadata": {},
   "outputs": [
    {
     "name": "stdout",
     "output_type": "stream",
     "text": [
      "{1: 'ímpar', 2: 'par', 3: 'ímpar', 4: 'par', 5: 'ímpar'}\n"
     ]
    }
   ],
   "source": [
    "valores=[1,2,3,4,5]\n",
    "par_impar={n: ('par' if n%2==0 else 'ímpar') for n in valores}\n",
    "print(par_impar)"
   ]
  },
  {
   "cell_type": "code",
   "execution_count": 13,
   "id": "187a18fd",
   "metadata": {},
   "outputs": [
    {
     "ename": "SyntaxError",
     "evalue": "invalid syntax (<ipython-input-13-511ae4c1e701>, line 1)",
     "output_type": "error",
     "traceback": [
      "\u001b[1;36m  File \u001b[1;32m\"<ipython-input-13-511ae4c1e701>\"\u001b[1;36m, line \u001b[1;32m1\u001b[0m\n\u001b[1;33m    par={par: for n in valores if n%2==0}\u001b[0m\n\u001b[1;37m              ^\u001b[0m\n\u001b[1;31mSyntaxError\u001b[0m\u001b[1;31m:\u001b[0m invalid syntax\n"
     ]
    }
   ],
   "source": [
    "par={par: for n in valores if n%2==0}\n",
    "print(par)"
   ]
  },
  {
   "cell_type": "code",
   "execution_count": 14,
   "id": "b00142d8",
   "metadata": {},
   "outputs": [
    {
     "name": "stdout",
     "output_type": "stream",
     "text": [
      "{0, 1, 2, 3, 4, 5, 6, 7, 8, 9}\n"
     ]
    }
   ],
   "source": [
    "# Conjunto: sem posições, sem ordem, sem valores repetidos\n",
    "# Gera conjunto com numeros de zero a nove \n",
    "numeros={num for num in range(10)}\n",
    "print(numeros)"
   ]
  },
  {
   "cell_type": "code",
   "execution_count": 15,
   "id": "425f7b0d",
   "metadata": {},
   "outputs": [
    {
     "name": "stdout",
     "output_type": "stream",
     "text": [
      "{0, 1, 64, 4, 36, 9, 16, 49, 81, 25}\n"
     ]
    }
   ],
   "source": [
    "# Conjunto\n",
    "quadrado={num**2 for num in range(10)}\n",
    "print(quadrado)"
   ]
  },
  {
   "cell_type": "code",
   "execution_count": 16,
   "id": "6e400327",
   "metadata": {},
   "outputs": [
    {
     "name": "stdout",
     "output_type": "stream",
     "text": [
      "{0: 0, 1: 1, 2: 2, 3: 3, 4: 4, 5: 5, 6: 6, 7: 7, 8: 8, 9: 9}\n"
     ]
    }
   ],
   "source": [
    "# Dicionário\n",
    "numeros={num: num for num in range(10)}\n",
    "print(numeros)"
   ]
  },
  {
   "cell_type": "code",
   "execution_count": 20,
   "id": "614be826",
   "metadata": {},
   "outputs": [
    {
     "name": "stdout",
     "output_type": "stream",
     "text": [
      "{'m', 'c', 't', 'g', 'n', 'o', 'r', ' ', 'p', 'h', 'y', 'a'}\n"
     ]
    }
   ],
   "source": [
    "# Não mostra os duplicados\n",
    "letras = {letra for letra in \"programacao python\"}\n",
    "print(letras)"
   ]
  },
  {
   "cell_type": "code",
   "execution_count": 22,
   "id": "a7d13e64",
   "metadata": {},
   "outputs": [
    {
     "name": "stdout",
     "output_type": "stream",
     "text": [
      "['Lisboa', 'Curitiba', 'Barcelona', 'Palmas', 'Natal']\n"
     ]
    }
   ],
   "source": [
    "destino = ['Lisboa','Curitiba','Barcelona','Paris','Palmas','Natal']\n",
    "destino2 = [cidade for cidade in destino if cidade != 'Paris']\n",
    "print(destino2)"
   ]
  },
  {
   "cell_type": "code",
   "execution_count": 27,
   "id": "81a5c62b",
   "metadata": {},
   "outputs": [
    {
     "name": "stdout",
     "output_type": "stream",
     "text": [
      "{'1': 2, '2': 4, '5': 3, '7': 2, '3': 2, '4': 1, '6': 1}\n"
     ]
    }
   ],
   "source": [
    "numeros = ['1','2','5','7','3','2','5','4','7','2','1','3','5','2','6']\n",
    "repetidos = {n: numeros.count(n) for n in numeros}\n",
    "print(repetidos)"
   ]
  },
  {
   "cell_type": "code",
   "execution_count": null,
   "id": "d550d14d",
   "metadata": {},
   "outputs": [],
   "source": []
  }
 ],
 "metadata": {
  "kernelspec": {
   "display_name": "Python 3",
   "language": "python",
   "name": "python3"
  },
  "language_info": {
   "codemirror_mode": {
    "name": "ipython",
    "version": 3
   },
   "file_extension": ".py",
   "mimetype": "text/x-python",
   "name": "python",
   "nbconvert_exporter": "python",
   "pygments_lexer": "ipython3",
   "version": "3.8.8"
  }
 },
 "nbformat": 4,
 "nbformat_minor": 5
}
