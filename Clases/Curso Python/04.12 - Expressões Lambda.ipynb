{
 "cells": [
  {
   "cell_type": "markdown",
   "id": "697e8a7e",
   "metadata": {},
   "source": [
    "# Expressões Lambda"
   ]
  },
  {
   "cell_type": "code",
   "execution_count": 1,
   "id": "47eddff2",
   "metadata": {},
   "outputs": [
    {
     "name": "stdout",
     "output_type": "stream",
     "text": [
      "13\n"
     ]
    }
   ],
   "source": [
    "# Função sem lambda\n",
    "def funcao(x):\n",
    "    return 3*x+1\n",
    "print(funcao(4))"
   ]
  },
  {
   "cell_type": "code",
   "execution_count": null,
   "id": "21babe32",
   "metadata": {},
   "outputs": [],
   "source": [
    "# Conhecida como expressões lambdas, ou simplesmente lambdas,\n",
    "# são funções sem nome, ou seja, funções anônimas."
   ]
  },
  {
   "cell_type": "code",
   "execution_count": 2,
   "id": "2bfd7551",
   "metadata": {},
   "outputs": [
    {
     "name": "stdout",
     "output_type": "stream",
     "text": [
      "13\n"
     ]
    }
   ],
   "source": [
    "# Função com lambda\n",
    "calc=lambda x:3*x+1\n",
    "print(calc(4))"
   ]
  },
  {
   "cell_type": "code",
   "execution_count": 5,
   "id": "9ca2dc9a",
   "metadata": {},
   "outputs": [
    {
     "name": "stdout",
     "output_type": "stream",
     "text": [
      "16\n"
     ]
    }
   ],
   "source": [
    "quadrado=lambda x:x**2\n",
    "print(quadrado(4))"
   ]
  },
  {
   "cell_type": "code",
   "execution_count": 13,
   "id": "2b95839a",
   "metadata": {},
   "outputs": [
    {
     "name": "stdout",
     "output_type": "stream",
     "text": [
      "8\n"
     ]
    }
   ],
   "source": [
    "# Com 2 parâmetros\n",
    "retangulo=lambda x,y:x*y\n",
    "print(retangulo(4,2))"
   ]
  },
  {
   "cell_type": "code",
   "execution_count": 21,
   "id": "f1ee1aa1",
   "metadata": {},
   "outputs": [
    {
     "name": "stdout",
     "output_type": "stream",
     "text": [
      "   Maria do Socorro  \n",
      "21\n"
     ]
    }
   ],
   "source": [
    "nome = '   Maria do Socorro  '\n",
    "print(nome)\n",
    "print(len(nome))"
   ]
  },
  {
   "cell_type": "code",
   "execution_count": 22,
   "id": "7149b357",
   "metadata": {},
   "outputs": [
    {
     "name": "stdout",
     "output_type": "stream",
     "text": [
      "Maria do Socorro\n",
      "16\n"
     ]
    }
   ],
   "source": [
    "print(nome.strip())\n",
    "print(len(nome.strip()))"
   ]
  },
  {
   "cell_type": "code",
   "execution_count": 23,
   "id": "14e24ced",
   "metadata": {},
   "outputs": [
    {
     "name": "stdout",
     "output_type": "stream",
     "text": [
      "Maria Socorro\n"
     ]
    }
   ],
   "source": [
    "# Expressões lambda com múltiplas entradas\n",
    "nome_completo=lambda nome,sobrenome:nome.strip().title()+' '+sobrenome.strip().title()\n",
    "print(nome_completo('  maria ','    socorro   '))"
   ]
  },
  {
   "cell_type": "code",
   "execution_count": 24,
   "id": "5f441901",
   "metadata": {},
   "outputs": [
    {
     "name": "stdout",
     "output_type": "stream",
     "text": [
      "Python é minha vida\n",
      "8\n",
      "5.0\n"
     ]
    }
   ],
   "source": [
    "# lambda pode trabalhar com vários argumentos\n",
    "vida=lambda: \"Python é minha vida\"\n",
    "duas=lambda x,y:x*2 + y*3\n",
    "tres=lambda a,b,c:a/2 + b/3 + c/4\n",
    "print(vida())\n",
    "print(duas(1,2))\n",
    "print(tres(2,6,8))"
   ]
  },
  {
   "cell_type": "code",
   "execution_count": 25,
   "id": "7f843091",
   "metadata": {},
   "outputs": [
    {
     "name": "stdout",
     "output_type": "stream",
     "text": [
      "['Maria', 'Carneiro', 'viana']\n"
     ]
    }
   ],
   "source": [
    "# Gera uma lista\n",
    "nome='Maria Carneiro viana'\n",
    "print(nome.split(' '))"
   ]
  },
  {
   "cell_type": "code",
   "execution_count": 26,
   "id": "260a227b",
   "metadata": {},
   "outputs": [
    {
     "name": "stdout",
     "output_type": "stream",
     "text": [
      "['Leandro Neto', 'Renato Paiva', 'Roberto Adams', 'Zeca A. Abda']\n"
     ]
    }
   ],
   "source": [
    "autores = ['Leandro Neto', 'Renato Paiva', 'Roberto Adams', 'Zeca A. Abda']\n",
    "print (autores)"
   ]
  },
  {
   "cell_type": "code",
   "execution_count": 27,
   "id": "0df9fe4f",
   "metadata": {},
   "outputs": [
    {
     "name": "stdout",
     "output_type": "stream",
     "text": [
      "['Zeca A. Abda', 'Roberto Adams', 'Leandro Neto', 'Renato Paiva']\n"
     ]
    }
   ],
   "source": [
    "autores.sort(key = lambda sobrenome: sobrenome.split (' ')[-1].lower())\n",
    "print(autores)"
   ]
  },
  {
   "cell_type": "code",
   "execution_count": null,
   "id": "b61d2353",
   "metadata": {},
   "outputs": [],
   "source": [
    "# Função quadrática com lambda\n",
    "# f(x) = ax**2 + bx + c"
   ]
  },
  {
   "cell_type": "code",
   "execution_count": 34,
   "id": "0e04d4f4",
   "metadata": {},
   "outputs": [
    {
     "name": "stdout",
     "output_type": "stream",
     "text": [
      "5\n"
     ]
    }
   ],
   "source": [
    "funcao= lambda a,b,c,x: a*x**2 + b*x + c\n",
    "print(funcao (2,1,2,1))"
   ]
  },
  {
   "cell_type": "code",
   "execution_count": 31,
   "id": "b5c3f662",
   "metadata": {},
   "outputs": [
    {
     "name": "stdout",
     "output_type": "stream",
     "text": [
      "5\n"
     ]
    }
   ],
   "source": [
    "def quadratica(a,b,c):\n",
    "    return lambda x:a*x**2 + b*x +c\n",
    "teste=quadratica(2,1,2)\n",
    "print(teste(1))"
   ]
  },
  {
   "cell_type": "code",
   "execution_count": 32,
   "id": "9f5fa858",
   "metadata": {},
   "outputs": [
    {
     "name": "stdout",
     "output_type": "stream",
     "text": [
      "5\n"
     ]
    }
   ],
   "source": [
    "def quadratica(a,b,c):\n",
    "    return lambda x:a*x**2 + b*x +c\n",
    "print(quadratica(2,1,2)(1))"
   ]
  },
  {
   "cell_type": "code",
   "execution_count": null,
   "id": "c0f381f7",
   "metadata": {},
   "outputs": [],
   "source": []
  }
 ],
 "metadata": {
  "kernelspec": {
   "display_name": "Python 3",
   "language": "python",
   "name": "python3"
  },
  "language_info": {
   "codemirror_mode": {
    "name": "ipython",
    "version": 3
   },
   "file_extension": ".py",
   "mimetype": "text/x-python",
   "name": "python",
   "nbconvert_exporter": "python",
   "pygments_lexer": "ipython3",
   "version": "3.8.8"
  }
 },
 "nbformat": 4,
 "nbformat_minor": 5
}
