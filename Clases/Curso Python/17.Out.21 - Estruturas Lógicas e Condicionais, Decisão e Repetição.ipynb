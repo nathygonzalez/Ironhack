{
 "cells": [
  {
   "cell_type": "code",
   "execution_count": 3,
   "id": "b4d0b86c",
   "metadata": {},
   "outputs": [
    {
     "name": "stdout",
     "output_type": "stream",
     "text": [
      "Digite um número inteiro: 10\n",
      "O número é par.\n"
     ]
    }
   ],
   "source": [
    "# Faça um programa que mostra se um número é par ou ímpar\n",
    "\n",
    "x = int(input(\"Digite um número inteiro: \"))\n",
    "if(x % 2 == 0):\n",
    "    print (\"O número é par.\")"
   ]
  },
  {
   "cell_type": "code",
   "execution_count": 4,
   "id": "cb26a991",
   "metadata": {},
   "outputs": [
    {
     "name": "stdout",
     "output_type": "stream",
     "text": [
      "Digite um número inteiro: 9\n"
     ]
    }
   ],
   "source": [
    "x = int(input(\"Digite um número inteiro: \"))\n",
    "if(x % 2 == 0):\n",
    "    print (\"O número é par.\")"
   ]
  },
  {
   "cell_type": "code",
   "execution_count": 5,
   "id": "a9fe0c0b",
   "metadata": {},
   "outputs": [
    {
     "name": "stdout",
     "output_type": "stream",
     "text": [
      "Digite um número inteiro: 9\n",
      "O número é ímpar.\n"
     ]
    }
   ],
   "source": [
    "x = int(input(\"Digite um número inteiro: \"))\n",
    "if(x % 2 == 0):\n",
    "    print (\"O número é par.\")\n",
    "else:\n",
    "    print (\"O número é ímpar.\")"
   ]
  },
  {
   "cell_type": "code",
   "execution_count": null,
   "id": "f7d3563a",
   "metadata": {},
   "outputs": [],
   "source": []
  },
  {
   "cell_type": "code",
   "execution_count": 7,
   "id": "a05f0edd",
   "metadata": {},
   "outputs": [
    {
     "name": "stdout",
     "output_type": "stream",
     "text": [
      "Digite um número: 1\n",
      "Digite mais um número: 2\n",
      "Digite mais um número: 3\n",
      "O maior número é:  3.0\n"
     ]
    }
   ],
   "source": [
    "# Faça um programa que checa e informa o maior de 3 números (descartar igualdades)\n",
    "\n",
    "x = float(input(\"Digite um número: \"))\n",
    "y = float(input(\"Digite mais um número: \"))\n",
    "z = float(input(\"Digite mais um número: \"))\n",
    "if (x > y and x > z):\n",
    "    print (\"O maior número é: \", x)\n",
    "if (y > x and y > z):\n",
    "    print (\"O maior número é: \", y)\n",
    "if (z > x and z > y):\n",
    "    print (\"O maior número é: \", z)"
   ]
  },
  {
   "cell_type": "code",
   "execution_count": 11,
   "id": "b1ad591d",
   "metadata": {},
   "outputs": [
    {
     "name": "stdout",
     "output_type": "stream",
     "text": [
      "Digite um número: 2\n",
      "Digite mais um número: 9\n",
      "Digite mais um número: 4\n",
      "O maior número é:  9.0\n"
     ]
    }
   ],
   "source": [
    "x = float(input(\"Digite um número: \"))\n",
    "y = float(input(\"Digite mais um número: \"))\n",
    "z = float(input(\"Digite mais um número: \"))\n",
    "if (x > y and x > z):\n",
    "    print (\"O maior número é: \", x)\n",
    "elif (y > x and y > z):\n",
    "    print (\"O maior número é: \", y)\n",
    "else:\n",
    "    print (\"O maior número é: \", z)"
   ]
  },
  {
   "cell_type": "code",
   "execution_count": 17,
   "id": "7f85663a",
   "metadata": {},
   "outputs": [
    {
     "name": "stdout",
     "output_type": "stream",
     "text": [
      "Digite um número: 5\n",
      "Digite mais um número: 5\n",
      "Digite mais um número: 5\n",
      "Os números iguais\n"
     ]
    }
   ],
   "source": [
    "# Com igualdade:\n",
    "\n",
    "x = float(input(\"Digite um número: \"))\n",
    "y = float(input(\"Digite mais um número: \"))\n",
    "z = float(input(\"Digite mais um número: \"))\n",
    "if (x > y and x > z):\n",
    "    print (\"O maior número é: \", x)\n",
    "elif (y > x and y > z):\n",
    "    print (\"O maior número é: \", y)\n",
    "elif (z > x and z > y):\n",
    "    print (\"O maior número é: \", z)\n",
    "else:\n",
    "    print (\"Os números iguais\")"
   ]
  },
  {
   "cell_type": "code",
   "execution_count": 40,
   "id": "75ad1abe",
   "metadata": {},
   "outputs": [
    {
     "name": "stdout",
     "output_type": "stream",
     "text": [
      "Digite um número: 5\n",
      "Digite mais um número: 5\n",
      "Digite mais um número: 8\n",
      "Existem números iguais\n",
      "O maior número é:  8.0\n"
     ]
    }
   ],
   "source": [
    "# Com igualdade de pelo menos 2:\n",
    "\n",
    "x = float(input(\"Digite um número: \"))\n",
    "y = float(input(\"Digite mais um número: \"))\n",
    "z = float(input(\"Digite mais um número: \"))\n",
    "if (x == y or x == z or y == z):\n",
    "    print (\"Existem números iguais\")\n",
    "if (x > y and x > z):\n",
    "    print (\"O maior número é: \", x)\n",
    "elif (y > x and y > z):\n",
    "    print (\"O maior número é: \", y)\n",
    "elif (z > x and z > y):\n",
    "    print (\"O maior número é: \", z)"
   ]
  },
  {
   "cell_type": "code",
   "execution_count": null,
   "id": "820c1b0d",
   "metadata": {},
   "outputs": [],
   "source": []
  },
  {
   "cell_type": "code",
   "execution_count": 23,
   "id": "1cf696df",
   "metadata": {},
   "outputs": [
    {
     "name": "stdout",
     "output_type": "stream",
     "text": [
      "1\n",
      "2\n",
      "3\n",
      "4\n",
      "5\n"
     ]
    }
   ],
   "source": [
    "# Loop while\n",
    "# Faça um programa que mostre os números de 0 a 4\n",
    "\n",
    "contador = 0\n",
    "while (contador < 5):\n",
    "    contador = contador + 1\n",
    "    print (contador)"
   ]
  },
  {
   "cell_type": "code",
   "execution_count": null,
   "id": "f308a9e4",
   "metadata": {},
   "outputs": [],
   "source": []
  },
  {
   "cell_type": "code",
   "execution_count": 24,
   "id": "81341e48",
   "metadata": {},
   "outputs": [
    {
     "name": "stdout",
     "output_type": "stream",
     "text": [
      "Digite a nota 1: 8\n",
      "Digite a nota 2: 9\n",
      "A média das notas é:  8.5\n",
      "Digite a nota 1: 4\n",
      "Digite a nota 2: 5\n",
      "A média das notas é:  4.5\n",
      "Digite a nota 1: 6\n",
      "Digite a nota 2: 7\n",
      "A média das notas é:  6.5\n"
     ]
    }
   ],
   "source": [
    "# Programa que pede 2 notas e calcula a média e mostra as notas e a média de 3 alunos\n",
    "\n",
    "np = 1\n",
    "while (np <= 3):\n",
    "    nota1 = float(input(\"Digite a nota 1: \"))\n",
    "    nota2 = float(input(\"Digite a nota 2: \"))\n",
    "    media = ((nota1 + nota2)/2)\n",
    "    print (\"A média das notas é: \", media)\n",
    "    np = np + 1"
   ]
  },
  {
   "cell_type": "code",
   "execution_count": 25,
   "id": "9cfda01e",
   "metadata": {},
   "outputs": [
    {
     "name": "stdout",
     "output_type": "stream",
     "text": [
      "ALUNO  1\n",
      "Digite a nota 1: 8\n",
      "Digite a nota 2: 9\n",
      "A média das notas é:  8.5\n",
      "ALUNO  2\n",
      "Digite a nota 1: 4\n",
      "Digite a nota 2: 5\n",
      "A média das notas é:  4.5\n",
      "ALUNO  3\n",
      "Digite a nota 1: 6\n",
      "Digite a nota 2: 7\n",
      "A média das notas é:  6.5\n"
     ]
    }
   ],
   "source": [
    "np = 1\n",
    "while (np <= 3):\n",
    "    print (\"ALUNO \", np)\n",
    "    nota1 = float(input(\"Digite a nota 1: \"))\n",
    "    nota2 = float(input(\"Digite a nota 2: \"))\n",
    "    media = ((nota1 + nota2)/2)\n",
    "    print (\"A média das notas é: \", media)\n",
    "    np = np + 1"
   ]
  },
  {
   "cell_type": "code",
   "execution_count": null,
   "id": "7168007e",
   "metadata": {},
   "outputs": [],
   "source": []
  },
  {
   "cell_type": "code",
   "execution_count": 37,
   "id": "34f6e299",
   "metadata": {},
   "outputs": [
    {
     "name": "stdout",
     "output_type": "stream",
     "text": [
      "Digite um número: 1\n",
      "Digite um número: 2\n",
      "Digite um número: 4\n",
      "Digite um número: 5\n",
      "Digite um número: 3\n",
      "A média dos números é:  3.0\n"
     ]
    }
   ],
   "source": [
    "# Programa que pede para o usuário digitar 5 números e mostrar a média dos números\n",
    "\n",
    "num = 0\n",
    "total = 0\n",
    "while (num < 5):\n",
    "    numero = float(input(\"Digite um número: \"))\n",
    "    total = total + numero\n",
    "    num = num + 1\n",
    "media = total / num\n",
    "print (\"A média dos números é: \", media)"
   ]
  },
  {
   "cell_type": "code",
   "execution_count": null,
   "id": "620ea499",
   "metadata": {},
   "outputs": [],
   "source": []
  },
  {
   "cell_type": "code",
   "execution_count": 33,
   "id": "8c7fba20",
   "metadata": {},
   "outputs": [
    {
     "name": "stdout",
     "output_type": "stream",
     "text": [
      "10\n",
      "9\n",
      "8\n",
      "7\n",
      "6\n",
      "5\n",
      "4\n",
      "3\n",
      "2\n",
      "1\n",
      "0\n"
     ]
    }
   ],
   "source": [
    "# Faça um programa que mostre os numeros de 10 a 0\n",
    "\n",
    "contador = 10\n",
    "while (contador < 11 and contador > -1):\n",
    "    print (contador)\n",
    "    contador = contador - 1"
   ]
  },
  {
   "cell_type": "code",
   "execution_count": 34,
   "id": "9a58e108",
   "metadata": {},
   "outputs": [
    {
     "name": "stdout",
     "output_type": "stream",
     "text": [
      "10\n",
      "9\n",
      "8\n",
      "7\n",
      "6\n",
      "5\n",
      "4\n",
      "3\n",
      "2\n",
      "1\n",
      "0\n"
     ]
    }
   ],
   "source": [
    "contador = 10\n",
    "while (contador >=0):\n",
    "    print (contador)\n",
    "    contador = contador - 1"
   ]
  },
  {
   "cell_type": "code",
   "execution_count": null,
   "id": "74c26176",
   "metadata": {},
   "outputs": [],
   "source": []
  },
  {
   "cell_type": "code",
   "execution_count": 36,
   "id": "6e93e3b9",
   "metadata": {},
   "outputs": [
    {
     "name": "stdout",
     "output_type": "stream",
     "text": [
      "Qual o seu nome: natalia\n",
      "Qual o seu sexo (M / F)? F\n",
      "Qual o seu nome: maria\n",
      "Qual o seu sexo (M / F)? F\n",
      "Qual o seu nome: jose\n",
      "Qual o seu sexo (M / F)? M\n",
      "Qual o seu nome: fulano\n",
      "Qual o seu sexo (M / F)? M\n",
      "Qual o seu nome: ciclano\n",
      "Qual o seu sexo (M / F)? M\n",
      "Qual o seu nome: beltrano\n",
      "Qual o seu sexo (M / F)? M\n",
      "Qual o seu nome: rosa\n",
      "Qual o seu sexo (M / F)? F\n",
      "Qual o seu nome: clara\n",
      "Qual o seu sexo (M / F)? F\n",
      "Qual o seu nome: fabio\n",
      "Qual o seu sexo (M / F)? M\n",
      "Qual o seu nome: rafael\n",
      "Qual o seu sexo (M / F)? M\n",
      "6\n",
      "4\n"
     ]
    }
   ],
   "source": [
    "# Programa que pede o nome e o sexo de 10 pessoas e ao final calcula e mostra total de H e de M\n",
    "\n",
    "n = 0\n",
    "totalM = 0\n",
    "totalF = 0\n",
    "while (n < 10):\n",
    "    nome = input(\"Qual o seu nome: \")\n",
    "    sexo = input(\"Qual o seu sexo (M / F)? \")\n",
    "    if (sexo == \"M\"):\n",
    "        totalM = totalM + 1\n",
    "    elif (sexo == \"F\"):\n",
    "        totalF = totalF + 1\n",
    "    n = n + 1\n",
    "print (totalM)\n",
    "print (totalF)"
   ]
  },
  {
   "cell_type": "code",
   "execution_count": null,
   "id": "b0673365",
   "metadata": {},
   "outputs": [],
   "source": []
  },
  {
   "cell_type": "code",
   "execution_count": null,
   "id": "58bb954e",
   "metadata": {},
   "outputs": [],
   "source": [
    "# Programa urna eletrònica eleitoral: 2 candidatos, mostrar o vencedor (> 51% dos votos) e o total de votos de cada um e o total de brancos e nulos\n",
    "# definir brancos e nulos"
   ]
  }
 ],
 "metadata": {
  "kernelspec": {
   "display_name": "Python 3",
   "language": "python",
   "name": "python3"
  },
  "language_info": {
   "codemirror_mode": {
    "name": "ipython",
    "version": 3
   },
   "file_extension": ".py",
   "mimetype": "text/x-python",
   "name": "python",
   "nbconvert_exporter": "python",
   "pygments_lexer": "ipython3",
   "version": "3.8.8"
  }
 },
 "nbformat": 4,
 "nbformat_minor": 5
}
