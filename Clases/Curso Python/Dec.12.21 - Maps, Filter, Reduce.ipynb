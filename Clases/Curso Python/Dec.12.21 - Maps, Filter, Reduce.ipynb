{
 "cells": [
  {
   "cell_type": "code",
   "execution_count": 1,
   "id": "72f0bea8",
   "metadata": {},
   "outputs": [],
   "source": [
    "import math"
   ]
  },
  {
   "cell_type": "code",
   "execution_count": 2,
   "id": "35fcf43b",
   "metadata": {},
   "outputs": [
    {
     "name": "stdout",
     "output_type": "stream",
     "text": [
      "12.566370614359172\n"
     ]
    }
   ],
   "source": [
    "# Área do circulo, r = raio\n",
    "def area(r):\n",
    "    return math.pi*(r**2)\n",
    "\n",
    "print(area(2))"
   ]
  },
  {
   "cell_type": "code",
   "execution_count": 3,
   "id": "4025a5e5",
   "metadata": {},
   "outputs": [],
   "source": [
    "raios=[2,5,7.1,0.3,10,44]\n",
    "areas=[]"
   ]
  },
  {
   "cell_type": "code",
   "execution_count": 4,
   "id": "6ea84bc8",
   "metadata": {},
   "outputs": [
    {
     "name": "stdout",
     "output_type": "stream",
     "text": [
      "[12.566370614359172, 78.53981633974483, 158.36768566746147, 0.2827433388230814, 314.1592653589793, 6082.12337734984]\n"
     ]
    }
   ],
   "source": [
    "# form comum - tradicional\n",
    "for r in raios:\n",
    "    areas.append((area(r)))\n",
    "print(areas)"
   ]
  },
  {
   "cell_type": "code",
   "execution_count": 5,
   "id": "df7d5f19",
   "metadata": {},
   "outputs": [
    {
     "name": "stdout",
     "output_type": "stream",
     "text": [
      "[12.566370614359172, 78.53981633974483, 158.36768566746147, 0.2827433388230814, 314.1592653589793, 6082.12337734984]\n",
      "[]\n"
     ]
    }
   ],
   "source": [
    "# Usando Maps (recebe dois parâmetros: A função e o interável)\n",
    "areas=map(area,raios)\n",
    "print(list(areas))\n",
    "print(list(areas)) #vazia"
   ]
  },
  {
   "cell_type": "code",
   "execution_count": 6,
   "id": "3f721c4b",
   "metadata": {},
   "outputs": [
    {
     "name": "stdout",
     "output_type": "stream",
     "text": [
      "<map object at 0x000001A981517430>\n"
     ]
    }
   ],
   "source": [
    "print (areas)"
   ]
  },
  {
   "cell_type": "code",
   "execution_count": 7,
   "id": "9c05f362",
   "metadata": {},
   "outputs": [
    {
     "name": "stdout",
     "output_type": "stream",
     "text": [
      "[12.566370614359172, 78.53981633974483, 158.36768566746147, 0.2827433388230814, 314.1592653589793, 6082.12337734984]\n"
     ]
    }
   ],
   "source": [
    "# Usando lambda em map\n",
    "print(list(map(lambda r:math.pi*(r**2),raios)))"
   ]
  },
  {
   "cell_type": "code",
   "execution_count": 8,
   "id": "a93d1fb2",
   "metadata": {},
   "outputs": [
    {
     "name": "stdout",
     "output_type": "stream",
     "text": [
      "[('Fortaleza', 32), ('Porto Alegre', 18), ('SP', 21)]\n",
      "[('Fortaleza', 89.6), ('Porto Alegre', 64.4), ('SP', 69.80000000000001)]\n"
     ]
    }
   ],
   "source": [
    "# converte de Celsius para Fahrenheit\n",
    "cidades=[('Fortaleza',32),('Porto Alegre',18),('SP',21)]\n",
    "print(cidades)\n",
    "c_para_f=lambda dado:(dado[0],(9/5)*dado[1]+32)\n",
    "print(list(map(c_para_f,cidades)))"
   ]
  },
  {
   "cell_type": "code",
   "execution_count": 9,
   "id": "979b1d60",
   "metadata": {},
   "outputs": [
    {
     "name": "stdout",
     "output_type": "stream",
     "text": [
      "[9, 4, 11]\n"
     ]
    }
   ],
   "source": [
    "exemplo=[\"Bem-vindo\",\"para\",\"Simplilearn\"]\n",
    "x=list(map(len,exemplo))\n",
    "print (x)"
   ]
  },
  {
   "cell_type": "code",
   "execution_count": null,
   "id": "f09d05e5",
   "metadata": {},
   "outputs": [],
   "source": [
    "# Filter\n",
    "# Filtra dados de uma coleção\n",
    "# Média com a função mean\n",
    "# Filter recebe dois parâmetros: função e um iterável \n",
    "# A função round() faz arredondamento definindo nº de casas decimais."
   ]
  },
  {
   "cell_type": "code",
   "execution_count": 10,
   "id": "9daf908d",
   "metadata": {},
   "outputs": [],
   "source": [
    "import statistics"
   ]
  },
  {
   "cell_type": "code",
   "execution_count": 11,
   "id": "53f61b9f",
   "metadata": {},
   "outputs": [
    {
     "name": "stdout",
     "output_type": "stream",
     "text": [
      "media:2.18\n"
     ]
    }
   ],
   "source": [
    "dados=(1.3,2.7,0.8,4.1,4.3,-0.1)\n",
    "media=statistics.mean(dados)\n",
    "print(f'media:{round(media, 2)}')"
   ]
  },
  {
   "cell_type": "code",
   "execution_count": 12,
   "id": "3431f888",
   "metadata": {},
   "outputs": [
    {
     "name": "stdout",
     "output_type": "stream",
     "text": [
      "[2.7, 4.1, 4.3]\n"
     ]
    }
   ],
   "source": [
    "rs=filter(lambda valor:valor>media,dados)\n",
    "print(list(rs))"
   ]
  },
  {
   "cell_type": "code",
   "execution_count": 13,
   "id": "7ae79bf0",
   "metadata": {},
   "outputs": [
    {
     "name": "stdout",
     "output_type": "stream",
     "text": [
      "['Brasil', '', 'Chile', '', '', 'Italia']\n"
     ]
    }
   ],
   "source": [
    "paises=['Brasil','','Chile','','','Italia']\n",
    "print(paises)"
   ]
  },
  {
   "cell_type": "code",
   "execution_count": 14,
   "id": "450e35b1",
   "metadata": {},
   "outputs": [
    {
     "name": "stdout",
     "output_type": "stream",
     "text": [
      "['Brasil', 'Chile', 'Italia']\n"
     ]
    }
   ],
   "source": [
    "res=filter(None,paises)\n",
    "print(list(res))"
   ]
  },
  {
   "cell_type": "code",
   "execution_count": 15,
   "id": "ec60e730",
   "metadata": {},
   "outputs": [
    {
     "name": "stdout",
     "output_type": "stream",
     "text": [
      "res->['Brasil', 'Chile', 'Italia']\n"
     ]
    }
   ],
   "source": [
    "res=filter(lambda pais:len(pais)>0,paises)\n",
    "print(f'res->{list(res)}')"
   ]
  },
  {
   "cell_type": "code",
   "execution_count": 16,
   "id": "c3323b71",
   "metadata": {},
   "outputs": [],
   "source": [
    "usuarios = [{\"username\":'Samuel', \"twitters\": [\"Eu adoro bolo\", \"Eu adoro pizza\"]},\n",
    "            {\"username\":'Marta', \"twitters\": [\"Eu amo gatos\"]},\n",
    "            {\"username\":'Leila', \"twitters\": []},\n",
    "            {\"username\":'Rosa', \"twitters\": [\"Eu adoro bolo\", \"Eu adoro pizza\"]},\n",
    "            {\"username\":'Carlos', \"twitters\": [\"Eu amo cachorros\"]},\n",
    "            {\"username\":'João', \"twitters\": []},\n",
    "            {\"username\":'Fabio', \"twitters\": []},\n",
    "            {\"username\":'Mercedes', \"twitters\": [\"Meu hobby é viajar\", \"Eu adoro Dorotéia\"]}]"
   ]
  },
  {
   "cell_type": "code",
   "execution_count": 17,
   "id": "15805e86",
   "metadata": {},
   "outputs": [
    {
     "name": "stdout",
     "output_type": "stream",
     "text": [
      "[{'username': 'Samuel', 'twitters': ['Eu adoro bolo', 'Eu adoro pizza']}, {'username': 'Marta', 'twitters': ['Eu amo gatos']}, {'username': 'Leila', 'twitters': []}, {'username': 'Rosa', 'twitters': ['Eu adoro bolo', 'Eu adoro pizza']}, {'username': 'Carlos', 'twitters': ['Eu amo cachorros']}, {'username': 'João', 'twitters': []}, {'username': 'Fabio', 'twitters': []}, {'username': 'Mercedes', 'twitters': ['Meu hobby é viajar', 'Eu adoro Dorotéia']}]\n"
     ]
    }
   ],
   "source": [
    "print (usuarios)"
   ]
  },
  {
   "cell_type": "code",
   "execution_count": 22,
   "id": "78904881",
   "metadata": {},
   "outputs": [
    {
     "ename": "NameError",
     "evalue": "name 'tweet' is not defined",
     "output_type": "error",
     "traceback": [
      "\u001b[1;31m---------------------------------------------------------------------------\u001b[0m",
      "\u001b[1;31mNameError\u001b[0m                                 Traceback (most recent call last)",
      "\u001b[1;32m<ipython-input-22-7c77164f0659>\u001b[0m in \u001b[0;36m<module>\u001b[1;34m\u001b[0m\n\u001b[1;32m----> 1\u001b[1;33m \u001b[0minativos\u001b[0m\u001b[1;33m=\u001b[0m\u001b[0mfilter\u001b[0m\u001b[1;33m(\u001b[0m\u001b[1;32mlambda\u001b[0m \u001b[0mtweet\u001b[0m\u001b[1;33m:\u001b[0m\u001b[0mtweet\u001b[0m\u001b[1;33m[\u001b[0m\u001b[1;36m0\u001b[0m\u001b[1;33m]\u001b[0m\u001b[1;33m,\u001b[0m \u001b[0mtweet\u001b[0m\u001b[1;33m[\u001b[0m\u001b[1;36m1\u001b[0m\u001b[1;33m]\u001b[0m \u001b[1;33m==\u001b[0m \u001b[1;33m[\u001b[0m\u001b[1;33m]\u001b[0m\u001b[1;33m)\u001b[0m\u001b[1;33m\u001b[0m\u001b[1;33m\u001b[0m\u001b[0m\n\u001b[0m\u001b[0;32m      2\u001b[0m \u001b[0mprint\u001b[0m \u001b[1;33m(\u001b[0m\u001b[0mlist\u001b[0m\u001b[1;33m(\u001b[0m\u001b[0mmap\u001b[0m\u001b[1;33m(\u001b[0m\u001b[0minativos\u001b[0m\u001b[1;33m,\u001b[0m\u001b[0musuarios\u001b[0m\u001b[1;33m)\u001b[0m\u001b[1;33m)\u001b[0m\u001b[1;33m)\u001b[0m\u001b[1;33m\u001b[0m\u001b[1;33m\u001b[0m\u001b[0m\n",
      "\u001b[1;31mNameError\u001b[0m: name 'tweet' is not defined"
     ]
    }
   ],
   "source": [
    "inativos=filter(lambda tweet:tweet[0], tweet[1] == [])\n",
    "print(list(map(inativos,usuarios)))"
   ]
  },
  {
   "cell_type": "code",
   "execution_count": 23,
   "id": "9c45b8e7",
   "metadata": {},
   "outputs": [
    {
     "name": "stdout",
     "output_type": "stream",
     "text": [
      "[{'username': 'Leila', 'twitters': []}, {'username': 'João', 'twitters': []}, {'username': 'Fabio', 'twitters': []}]\n"
     ]
    }
   ],
   "source": [
    "inativos=list(filter(lambda usuario: len(usuario ['twitters'])==0, usuarios))\n",
    "print(inativos)"
   ]
  },
  {
   "cell_type": "code",
   "execution_count": 27,
   "id": "e60d7d22",
   "metadata": {},
   "outputs": [
    {
     "name": "stdout",
     "output_type": "stream",
     "text": [
      "[10, 4]\n"
     ]
    }
   ],
   "source": [
    "valores = [10, 4, -1, 3, 5, -9, -11]\n",
    "pares=list(filter(lambda n: n%2==0, valores))\n",
    "print (pares)"
   ]
  },
  {
   "cell_type": "code",
   "execution_count": 28,
   "id": "b42455b0",
   "metadata": {},
   "outputs": [
    {
     "name": "stdout",
     "output_type": "stream",
     "text": [
      "[18, 24, 32]\n"
     ]
    }
   ],
   "source": [
    "ages = [5, 12, 17, 18, 24, 32]\n",
    "adultos = list(filter(lambda i: i>= 18, ages))\n",
    "print(adultos)"
   ]
  },
  {
   "cell_type": "code",
   "execution_count": 29,
   "id": "721d97c3",
   "metadata": {},
   "outputs": [
    {
     "name": "stdout",
     "output_type": "stream",
     "text": [
      "['Sua instrutora é ana']\n"
     ]
    }
   ],
   "source": [
    "# map com filter\n",
    "nomes=['Vanessa','ana','Maria']\n",
    "lista=list(map(lambda nome:f'Sua instrutora é {nome}',filter(lambda nome:len(nome)<5,nomes)))\n",
    "print(lista)"
   ]
  },
  {
   "cell_type": "code",
   "execution_count": 30,
   "id": "af56e9a1",
   "metadata": {},
   "outputs": [],
   "source": [
    "# REDUCE\n",
    "# Recebe dois parâmetros, uma função e um iterável.\n",
    "\n",
    "from functools import reduce"
   ]
  },
  {
   "cell_type": "code",
   "execution_count": 31,
   "id": "9b55a7b3",
   "metadata": {},
   "outputs": [],
   "source": [
    "# Queremos 2 * 4 * 5 * 2, que é igual a 80\n",
    "\n",
    "minha_lista = [2, 4, 5, 2]\n",
    "def mult(x, y):\n",
    "    return x * y"
   ]
  },
  {
   "cell_type": "code",
   "execution_count": 32,
   "id": "13b09c53",
   "metadata": {},
   "outputs": [
    {
     "name": "stdout",
     "output_type": "stream",
     "text": [
      "80\n"
     ]
    }
   ],
   "source": [
    "produto_total = reduce(mult, minha_lista)\n",
    "print(produto_total)"
   ]
  },
  {
   "cell_type": "code",
   "execution_count": 33,
   "id": "e586e9d7",
   "metadata": {},
   "outputs": [
    {
     "name": "stdout",
     "output_type": "stream",
     "text": [
      "55\n"
     ]
    }
   ],
   "source": [
    "soma = reduce ((lambda x,y: x+y),[1,2,3,4,5,6,7,8,9,10])\n",
    "print (soma)"
   ]
  },
  {
   "cell_type": "code",
   "execution_count": 36,
   "id": "cf31d85a",
   "metadata": {},
   "outputs": [
    {
     "name": "stdout",
     "output_type": "stream",
     "text": [
      "40\n"
     ]
    }
   ],
   "source": [
    "minha_lista = [1,2,3,40,5,6,7,8,9,10]\n",
    "maior = reduce((lambda x,y: x if (x>y) else y), minha_lista)\n",
    "print (maior)"
   ]
  },
  {
   "cell_type": "code",
   "execution_count": null,
   "id": "8c93459b",
   "metadata": {},
   "outputs": [],
   "source": [
    "#Faça um programa que solicite dez números ao usuário, depois disso, exiba todos números pares\n",
    "# e só então exiba todos os números ímpares. Utilize a função filter para fazer isso."
   ]
  },
  {
   "cell_type": "code",
   "execution_count": 44,
   "id": "68ce1ba0",
   "metadata": {},
   "outputs": [
    {
     "name": "stdout",
     "output_type": "stream",
     "text": [
      "Digite um numero: 5\n",
      "Digite um numero: 6\n",
      "Digite um numero: 23\n",
      "Digite um numero: 15\n",
      "Digite um numero: 16\n",
      "Digite um numero: 12\n",
      "Digite um numero: 17\n",
      "Digite um numero: 48\n",
      "Digite um numero: 59\n",
      "Digite um numero: 35\n"
     ]
    }
   ],
   "source": [
    "numeros = []\n",
    "for n in range(1,11):\n",
    "    numeros.append(int(input(\"Digite um numero: \")))"
   ]
  },
  {
   "cell_type": "code",
   "execution_count": 45,
   "id": "4ade6b65",
   "metadata": {},
   "outputs": [
    {
     "name": "stdout",
     "output_type": "stream",
     "text": [
      "[5, 6, 23, 15, 16, 12, 17, 48, 59, 35]\n"
     ]
    }
   ],
   "source": [
    "print (numeros)"
   ]
  },
  {
   "cell_type": "code",
   "execution_count": 46,
   "id": "39d03f4e",
   "metadata": {},
   "outputs": [
    {
     "name": "stdout",
     "output_type": "stream",
     "text": [
      "[6, 16, 12, 48]\n",
      "[5, 23, 15, 17, 59, 35]\n"
     ]
    }
   ],
   "source": [
    "pares = list(filter(lambda p : p%2==0, numeros))\n",
    "print (pares)\n",
    "impares = list(filter(lambda i : i%2==1, numeros))\n",
    "print (impares)"
   ]
  },
  {
   "cell_type": "code",
   "execution_count": 69,
   "id": "4e2a6517",
   "metadata": {},
   "outputs": [],
   "source": [
    "# Lista com 10 nomes, criar uma lista com a 1a letra de cada nome\n",
    "nomes = ['Maria','Elena','Jose','Joao','Pedro','Luis','Fernanda','Luana','Sofia']"
   ]
  },
  {
   "cell_type": "code",
   "execution_count": 74,
   "id": "1fa3c319",
   "metadata": {},
   "outputs": [
    {
     "name": "stdout",
     "output_type": "stream",
     "text": [
      "['M', 'E', 'J', 'J', 'P', 'L', 'F', 'L', 'S']\n"
     ]
    }
   ],
   "source": [
    "lista =list(map(lambda l: l[0], nomes))\n",
    "print(lista)"
   ]
  },
  {
   "cell_type": "code",
   "execution_count": 67,
   "id": "cf760279",
   "metadata": {},
   "outputs": [
    {
     "name": "stdout",
     "output_type": "stream",
     "text": [
      "J\n"
     ]
    }
   ],
   "source": [
    "nome = [\"João\",\"Paulo\",\"ze\"]\n",
    "print(nome[0][0])"
   ]
  },
  {
   "cell_type": "code",
   "execution_count": 73,
   "id": "163cb9c7",
   "metadata": {},
   "outputs": [
    {
     "name": "stdout",
     "output_type": "stream",
     "text": [
      "['J', 'P', 'z']\n"
     ]
    }
   ],
   "source": [
    "nome = [\"João\",\"Paulo\",\"ze\"]\n",
    "letras = list(map(lambda l: l[0], nome))\n",
    "print(letras)"
   ]
  },
  {
   "cell_type": "code",
   "execution_count": 55,
   "id": "2b2eb8bc",
   "metadata": {},
   "outputs": [
    {
     "name": "stdout",
     "output_type": "stream",
     "text": [
      "False\n",
      "True\n"
     ]
    }
   ],
   "source": [
    "# ANY ALL\n",
    "# all -> VERIFICA SE TODOS OS INTERATIVAS SÃO VERDADEIROS - Zero (igual vazio) é falso\n",
    "# para 1 elemento que nao seja verdadeiro, ele retorna falso\n",
    "print(all([0,1,2,3,4,5,6,7]))\n",
    "print(all([1,2,3,4,5,6,7]))"
   ]
  },
  {
   "cell_type": "code",
   "execution_count": 58,
   "id": "4e24e016",
   "metadata": {},
   "outputs": [
    {
     "name": "stdout",
     "output_type": "stream",
     "text": [
      "False\n"
     ]
    }
   ],
   "source": [
    "nomes=['Carlos','Catarina','Ana']\n",
    "print(all(nome[0]=='C' for nome in nomes))"
   ]
  },
  {
   "cell_type": "code",
   "execution_count": 62,
   "id": "26d04743",
   "metadata": {},
   "outputs": [
    {
     "name": "stdout",
     "output_type": "stream",
     "text": [
      "True\n"
     ]
    }
   ],
   "source": [
    "#Any -> se algum elemento for verdadeiro já retorna true\n",
    "# para 1 elemento que seja verdadeiro, ele retorna Verdadeiro\n",
    "print(any([0,0,1]))"
   ]
  },
  {
   "cell_type": "code",
   "execution_count": null,
   "id": "825a63b3",
   "metadata": {},
   "outputs": [],
   "source": []
  }
 ],
 "metadata": {
  "kernelspec": {
   "display_name": "Python 3",
   "language": "python",
   "name": "python3"
  },
  "language_info": {
   "codemirror_mode": {
    "name": "ipython",
    "version": 3
   },
   "file_extension": ".py",
   "mimetype": "text/x-python",
   "name": "python",
   "nbconvert_exporter": "python",
   "pygments_lexer": "ipython3",
   "version": "3.8.8"
  }
 },
 "nbformat": 4,
 "nbformat_minor": 5
}
