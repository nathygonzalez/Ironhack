{
 "cells": [
  {
   "cell_type": "code",
   "execution_count": null,
   "id": "cf6e9086",
   "metadata": {},
   "outputs": [],
   "source": [
    "# Foi realizada uma pesquisa de algumas características físicas da população de certa região, a qual coletou os seguintes dados referentes a cada habitante para serem analisados: \n",
    "a)sexo (masculino ou feminino);\n",
    "b)Cor dos alhos (azuis, verdes, castanhos); \n",
    "c)cor dos cabelos (louros, castanhos, pretos); e \n",
    "d)idade; \n",
    "Faça um algoritmo que calcule e imprima:\n",
    "a)A maior idade entre os habitantes; \n",
    "b)A menor idade entre os habitantes; \n",
    "c)A maior idade entre os habitantes do sexo feminino;\n",
    "d)A menor idade entre os habitantes do sexo masculino; \n",
    "e)O número de indivíduos do sexo feminino cuja idade está entre 18 e 35 anos inclusive e que tenham olhos verdes e cabelos louros; \n",
    "f)A porcentagem de indivíduos do sexo feminino cuja idade está entre 18 e 35 anos inclusive e que tenham olhos verdes e cabelos louros;\n",
    "g)O número de indivíduos do sexo masculino cuja idade está entre 40 e 50 anos inclusive e que tenham olhos castanhos e cabelos pretos; \n",
    "h)A porcentagem de indivíduos do sexo masculino cuja idade está entre 40 e 50 anos inclusive e que tenham olhos castanhos e cabelos pretos; \n",
    "i)A média de idade dos habitantes; e \n",
    "j)O número total de habitantes. \n",
    "# O final do conjunto de habitantes é reconhecido pelo valor –1 entrada como idade."
   ]
  },
  {
   "cell_type": "code",
   "execution_count": null,
   "id": "12891421",
   "metadata": {},
   "outputs": [],
   "source": []
  },
  {
   "cell_type": "code",
   "execution_count": 1,
   "id": "4ec9c368",
   "metadata": {},
   "outputs": [],
   "source": [
    "import math\n",
    "import statistics\n",
    "import random"
   ]
  },
  {
   "cell_type": "code",
   "execution_count": 7,
   "id": "7bd88dec",
   "metadata": {},
   "outputs": [
    {
     "ename": "SyntaxError",
     "evalue": "invalid syntax (<ipython-input-7-7e6f937f7cf0>, line 10)",
     "output_type": "error",
     "traceback": [
      "\u001b[1;36m  File \u001b[1;32m\"<ipython-input-7-7e6f937f7cf0>\"\u001b[1;36m, line \u001b[1;32m10\u001b[0m\n\u001b[1;33m    olhos_h = input(\"Digite a cor dos olhos: \")\u001b[0m\n\u001b[1;37m            ^\u001b[0m\n\u001b[1;31mSyntaxError\u001b[0m\u001b[1;31m:\u001b[0m invalid syntax\n"
     ]
    }
   ],
   "source": [
    "habitantes = {\"sexo_h\": \"\",\n",
    "             \"olhos_h\": \"\",\n",
    "             \"cabelos_h\": \"\",\n",
    "             \"idade_h\": \"\"}\n",
    "populacao = []\n",
    "def habitantesf (populacao):\n",
    "    for h in habitantesf:\n",
    "        sexo_h = input(\"Digite o sexo: \")\n",
    "        if (sexo_h == \"masculino\" or \"feminino\",\n",
    "            olhos_h = input(\"Digite a cor dos olhos: \")\n",
    "            if (olhos_h == \"azuis\" or \"verdes\" or \"castanhos\",\n",
    "               cabelos_h = input(\"Digite a cor do cabelo: \")\n",
    "                if (cabelos_h == \"louros\" or \"castanhos\" or \"pretos\",\n",
    "                    idade_h = int(input(\"Digite a idade: \"))\n",
    "                    if (idade_h != \"-1\", habitantes,\n",
    "                    else break)\n",
    "                else print (\"Cor de cabelo nao reconhecida. Digite um valor entre louros, castanhos ou pretos.\"))\n",
    "                cabelos_h\n",
    "            else print (\"Cor de olhos nao reconhecida. Digite um valor entre azuis, verdes ou castanhos.\"))\n",
    "            olhos_h\n",
    "        else print (\"Sexo nao reconhecido. Digite um valor entre masculino ou feminino.\"))"
   ]
  },
  {
   "cell_type": "code",
   "execution_count": 24,
   "id": "bc482169",
   "metadata": {},
   "outputs": [
    {
     "name": "stdout",
     "output_type": "stream",
     "text": [
      "None\n"
     ]
    }
   ],
   "source": [
    "habitantes = {\"sexo_h\": \"\",\n",
    "             \"olhos_h\": \"\",\n",
    "             \"cabelos_h\": \"\",\n",
    "             \"idade_h\": \"\"}\n",
    "populacao = []\n",
    "def habitantesf (populacao):\n",
    "    olhos_h = input(\"Digite a cor dos olhos: \")\n",
    "    sexo_h = input(\"Digite o sexo: \")\n",
    "    cabelos_h = input(\"Digite a cor do cabelo: \")\n",
    "    idade_h = int(input(\"Digite a idade: \"))\n",
    "    \n",
    "    for h in populacao:\n",
    "        sexo_h = input(\"Digite o sexo: \")\n",
    "        if (sexo_h == \"masculino\" or \"feminino\"):\n",
    "            print (\"Ok\")\n",
    "print(habitantesf(populacao))"
   ]
  },
  {
   "cell_type": "code",
   "execution_count": null,
   "id": "b8ff1006",
   "metadata": {},
   "outputs": [],
   "source": []
  },
  {
   "cell_type": "code",
   "execution_count": null,
   "id": "145c0960",
   "metadata": {},
   "outputs": [],
   "source": [
    "# a)A maior idade entre os habitantes;\n",
    "habitantes.idade_h(max)"
   ]
  },
  {
   "cell_type": "code",
   "execution_count": null,
   "id": "30f227e9",
   "metadata": {},
   "outputs": [],
   "source": [
    "# b)A menor idade entre os habitantes;\n",
    "habitantes.idade_h(min)"
   ]
  },
  {
   "cell_type": "code",
   "execution_count": null,
   "id": "8e71935f",
   "metadata": {},
   "outputs": [],
   "source": [
    "# c)A maior idade entre os habitantes do sexo feminino;\n",
    "idade_f = (list(filter(lambda h : sexo_h==\"feminino\", habitantes))).idade_h(max)\n",
    "print (idade_f)"
   ]
  },
  {
   "cell_type": "code",
   "execution_count": null,
   "id": "f11a0aad",
   "metadata": {},
   "outputs": [],
   "source": [
    "# d)A menor idade entre os habitantes do sexo masculino\n",
    "idade_m = (list(filter(lambda h : sexo_h==\"masculino\", habitantes))).idade_h(min)\n",
    "print (idade_m)"
   ]
  },
  {
   "cell_type": "code",
   "execution_count": null,
   "id": "f5067786",
   "metadata": {},
   "outputs": [],
   "source": [
    "# e)O número de indivíduos do sexo feminino cuja idade está entre 18 e 35 anos inclusive e que tenham olhos verdes e cabelos louros\n",
    "sexo_f = (list(filter(lambda h : sexo_h==\"feminino\" and olhos_h==\"verdes\" and cabelos_h==\"louros\" and idade_h== 18 <> 35, habitantes))).count()\n",
    "print (sexo_f)"
   ]
  },
  {
   "cell_type": "code",
   "execution_count": null,
   "id": "312bf36a",
   "metadata": {},
   "outputs": [],
   "source": [
    "# f)A porcentagem de indivíduos do sexo feminino cuja idade está entre 18 e 35 anos inclusive e que tenham olhos verdes e cabelos louros;\n",
    "print (sexo_f / habitantes * 100)"
   ]
  },
  {
   "cell_type": "code",
   "execution_count": null,
   "id": "7f7d25dd",
   "metadata": {},
   "outputs": [],
   "source": [
    "# g)O número de indivíduos do sexo masculino cuja idade está entre 40 e 50 anos inclusive e que tenham olhos castanhos e cabelos pretos; \n",
    "sexo_m = (list(filter(lambda h : sexo_h==\"masculino\" and olhos_h==\"castanhos\" and cabelos_h==\"pretos\" and idade_h== 40 <> 50, habitantes))).count()\n",
    "print (sexo_m)"
   ]
  },
  {
   "cell_type": "code",
   "execution_count": null,
   "id": "d10970a5",
   "metadata": {},
   "outputs": [],
   "source": [
    "# h)A porcentagem de indivíduos do sexo masculino cuja idade está entre 40 e 50 anos inclusive e que tenham olhos castanhos e cabelos pretos\n",
    "print (sexo_m / habitantes * 100)"
   ]
  },
  {
   "cell_type": "code",
   "execution_count": null,
   "id": "4691965f",
   "metadata": {},
   "outputs": [],
   "source": [
    "# i)A média de idade dos habitantes\n",
    "habitantes.idade_h(mean)\n",
    "media=statistics.mean(idade_h)\n",
    "print(f'media:{round(media, 2)}')"
   ]
  },
  {
   "cell_type": "code",
   "execution_count": null,
   "id": "0c103d9a",
   "metadata": {},
   "outputs": [],
   "source": [
    "# j)O número total de habitantes\n",
    "habitantes.count()"
   ]
  }
 ],
 "metadata": {
  "kernelspec": {
   "display_name": "Python 3",
   "language": "python",
   "name": "python3"
  },
  "language_info": {
   "codemirror_mode": {
    "name": "ipython",
    "version": 3
   },
   "file_extension": ".py",
   "mimetype": "text/x-python",
   "name": "python",
   "nbconvert_exporter": "python",
   "pygments_lexer": "ipython3",
   "version": "3.8.8"
  }
 },
 "nbformat": 4,
 "nbformat_minor": 5
}
