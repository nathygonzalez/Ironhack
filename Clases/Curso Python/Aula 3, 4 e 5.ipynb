{
 "cells": [
  {
   "cell_type": "code",
   "execution_count": 2,
   "id": "54981743",
   "metadata": {},
   "outputs": [
    {
     "name": "stdout",
     "output_type": "stream",
     "text": [
      "Lisboa\n",
      "Barcelona\n",
      "Sao Paulo\n",
      "Roma\n"
     ]
    }
   ],
   "source": [
    "# For (loop)\n",
    "\n",
    "voos = [\"Lisboa\", \"Barcelona\", \"Sao Paulo\", \"Roma\"]\n",
    "for x in voos:\n",
    "    print (x)"
   ]
  },
  {
   "cell_type": "code",
   "execution_count": 5,
   "id": "7f54878a",
   "metadata": {},
   "outputs": [
    {
     "name": "stdout",
     "output_type": "stream",
     "text": [
      "Barcelona\n",
      "Sao Paulo\n"
     ]
    }
   ],
   "source": [
    "voos = [\"Barcelona\", \"Sao Paulo\", \"Lisboa\", \"Roma\"]\n",
    "for x in voos:\n",
    "    if x == \"Lisboa\":\n",
    "        break\n",
    "    print (x)"
   ]
  },
  {
   "cell_type": "code",
   "execution_count": 6,
   "id": "a5740d93",
   "metadata": {},
   "outputs": [
    {
     "name": "stdout",
     "output_type": "stream",
     "text": [
      "Barcelona\n",
      "Sao Paulo\n",
      "Roma\n"
     ]
    }
   ],
   "source": [
    "voos = [\"Barcelona\", \"Sao Paulo\", \"Lisboa\", \"Roma\"]\n",
    "for x in voos:\n",
    "    if x == \"Lisboa\":\n",
    "        continue\n",
    "    print (x)"
   ]
  },
  {
   "cell_type": "code",
   "execution_count": 7,
   "id": "ac63a215",
   "metadata": {},
   "outputs": [
    {
     "name": "stdout",
     "output_type": "stream",
     "text": [
      "0\n",
      "1\n",
      "2\n",
      "3\n",
      "4\n",
      "5\n"
     ]
    }
   ],
   "source": [
    "for x in range (6):\n",
    "    print (x)"
   ]
  },
  {
   "cell_type": "code",
   "execution_count": 8,
   "id": "b24dad33",
   "metadata": {},
   "outputs": [
    {
     "name": "stdout",
     "output_type": "stream",
     "text": [
      "0\n",
      "1\n",
      "2\n",
      "3\n",
      "4\n",
      "5\n",
      "Fim da execução\n"
     ]
    }
   ],
   "source": [
    "for x in range (6):\n",
    "    print (x)\n",
    "else:\n",
    "    print (\"Fim da execução\")"
   ]
  },
  {
   "cell_type": "code",
   "execution_count": 9,
   "id": "3c8b391f",
   "metadata": {},
   "outputs": [
    {
     "name": "stdout",
     "output_type": "stream",
     "text": [
      "0\n",
      "1\n",
      "2\n",
      "3\n",
      "5\n",
      "Fim da execução\n"
     ]
    }
   ],
   "source": [
    "for x in range (6):\n",
    "    if x == 4:\n",
    "        continue\n",
    "    print (x)\n",
    "else:\n",
    "    print (\"Fim da execução\")"
   ]
  },
  {
   "cell_type": "code",
   "execution_count": 10,
   "id": "c630db7a",
   "metadata": {},
   "outputs": [
    {
     "name": "stdout",
     "output_type": "stream",
     "text": [
      "0\n",
      "1\n",
      "2\n",
      "3\n",
      "5\n",
      "Fim da execução\n"
     ]
    }
   ],
   "source": [
    "for x in range (6):\n",
    "    if x != 4:\n",
    "        print (x)\n",
    "else:\n",
    "    print (\"Fim da execução\")"
   ]
  },
  {
   "cell_type": "code",
   "execution_count": null,
   "id": "e8c66353",
   "metadata": {},
   "outputs": [],
   "source": []
  },
  {
   "cell_type": "code",
   "execution_count": 11,
   "id": "a8d62425",
   "metadata": {},
   "outputs": [
    {
     "name": "stdout",
     "output_type": "stream",
     "text": [
      "banana\n",
      "laranja\n"
     ]
    }
   ],
   "source": [
    "frutas = [\"maça\", \"banana\", \"uva\", \"maça\", \"uva\",\"laranja\"]\n",
    "print(frutas[1])\n",
    "print(frutas[-1])"
   ]
  },
  {
   "cell_type": "code",
   "execution_count": 12,
   "id": "c70e7121",
   "metadata": {},
   "outputs": [
    {
     "name": "stdout",
     "output_type": "stream",
     "text": [
      "['uva', 'maça', 'uva']\n"
     ]
    }
   ],
   "source": [
    "print (frutas[2:5])"
   ]
  },
  {
   "cell_type": "code",
   "execution_count": 13,
   "id": "8f5242af",
   "metadata": {},
   "outputs": [
    {
     "name": "stdout",
     "output_type": "stream",
     "text": [
      "['maça', 'banana', 'uva', 'maça', 'uva']\n"
     ]
    }
   ],
   "source": [
    "print (frutas[:5])"
   ]
  },
  {
   "cell_type": "code",
   "execution_count": 14,
   "id": "6bd89ef8",
   "metadata": {},
   "outputs": [
    {
     "name": "stdout",
     "output_type": "stream",
     "text": [
      "['uva', 'maça', 'uva', 'laranja']\n"
     ]
    }
   ],
   "source": [
    "print (frutas[2:])"
   ]
  },
  {
   "cell_type": "code",
   "execution_count": 15,
   "id": "1b051ffe",
   "metadata": {},
   "outputs": [
    {
     "name": "stdout",
     "output_type": "stream",
     "text": [
      "['maça', 'uva']\n"
     ]
    }
   ],
   "source": [
    "print (frutas[-3:-1])"
   ]
  },
  {
   "cell_type": "code",
   "execution_count": null,
   "id": "5c305dee",
   "metadata": {},
   "outputs": [],
   "source": []
  },
  {
   "cell_type": "code",
   "execution_count": 21,
   "id": "bad2974a",
   "metadata": {},
   "outputs": [
    {
     "name": "stdout",
     "output_type": "stream",
     "text": [
      "Qual nome vc quer procurar? Neide\n",
      "Nome encontrado!\n"
     ]
    }
   ],
   "source": [
    "# Faça um programa que pesquisa um nome de pessoa digitado pelo usuário em uma lista de dez nomes.\n",
    "\n",
    "nomes = [\"Natalia\", \"Rafael\", \"Alexandre\", \"Neide\", \"Aline\", \"Pedro\", \"Luis\", \"Marcio\", \"Marcelo\", \"Gisele\"]\n",
    "pesquisa = input (\"Qual nome vc quer procurar? \")\n",
    "for nome in nomes:\n",
    "    if pesquisa == nome:\n",
    "        print (\"Nome encontrado!\")"
   ]
  },
  {
   "cell_type": "code",
   "execution_count": 27,
   "id": "ac4173df",
   "metadata": {},
   "outputs": [
    {
     "name": "stdout",
     "output_type": "stream",
     "text": [
      "Qual nome vc quer procurar? Neide\n",
      "Nome encontrado!\n"
     ]
    }
   ],
   "source": [
    "pesquisa = input (\"Qual nome vc quer procurar? \")\n",
    "status = 0\n",
    "for nome in nomes:\n",
    "    if pesquisa == nome:\n",
    "        print (\"Nome encontrado!\")\n",
    "        status = 0\n",
    "        break\n",
    "    else:\n",
    "        status = 1\n",
    "if status == 1:\n",
    "    print (\"Nome não encontrado!\")"
   ]
  },
  {
   "cell_type": "code",
   "execution_count": null,
   "id": "8eed436e",
   "metadata": {},
   "outputs": [],
   "source": []
  },
  {
   "cell_type": "code",
   "execution_count": 28,
   "id": "4246fd97",
   "metadata": {},
   "outputs": [
    {
     "name": "stdout",
     "output_type": "stream",
     "text": [
      "['Joao', 'Maria', 'Ana']\n"
     ]
    }
   ],
   "source": [
    "# Faça um programa que pesquisa nome de pessoa de um lista com a letra “a”  em seu nome, em seguida insira os nomes encontrados em uma nova lista\n",
    "\n",
    "nomes = [\"Joao\", \"Elizete\", \"Maria\", \"Pedro\", \"Ana\", \"Jose\"]\n",
    "nomes2 = []\n",
    "for x in nomes:\n",
    "    if \"a\" in x:\n",
    "        nomes2.append (x)\n",
    "print (nomes2)"
   ]
  },
  {
   "cell_type": "code",
   "execution_count": 30,
   "id": "74b67596",
   "metadata": {},
   "outputs": [
    {
     "name": "stdout",
     "output_type": "stream",
     "text": [
      "['Elizete', 'Pedro', 'Jose', 'Elizete', 'Pedro', 'Jose']\n"
     ]
    }
   ],
   "source": [
    "nomes = [\"Joao\", \"Elizete\", \"Maria\", \"Pedro\", \"Ana\", \"Jose\"]\n",
    "nomes2.extend (nomes)\n",
    "for x in nomes2:\n",
    "    if \"a\" in x:\n",
    "        nomes2.remove (x)\n",
    "print (nomes2)"
   ]
  },
  {
   "cell_type": "code",
   "execution_count": 31,
   "id": "8e1314d7",
   "metadata": {},
   "outputs": [
    {
     "name": "stdout",
     "output_type": "stream",
     "text": [
      "['Elizete', 'Pedro', 'Jose']\n"
     ]
    }
   ],
   "source": [
    "nomes = [\"Joao\", \"Elizete\", \"Maria\", \"Pedro\", \"Ana\", \"Jose\"]\n",
    "nomes2 = []\n",
    "for x in nomes:\n",
    "    if \"a\" not in x:\n",
    "        nomes2.append (x)\n",
    "print (nomes2)"
   ]
  },
  {
   "cell_type": "code",
   "execution_count": null,
   "id": "8f3dcfcf",
   "metadata": {},
   "outputs": [],
   "source": []
  },
  {
   "cell_type": "code",
   "execution_count": 43,
   "id": "66e9f3bc",
   "metadata": {},
   "outputs": [
    {
     "name": "stdout",
     "output_type": "stream",
     "text": [
      "Digite um numero: 7\n",
      "Digite um numero: 5\n",
      "Digite um numero: 7\n",
      "Digite um numero: 7\n",
      "Digite um numero: 7\n",
      "Digite um numero: -1\n",
      "4\n",
      "[5, 7, 7, 7, 7]\n"
     ]
    }
   ],
   "source": [
    "# Criar uma lista com números digitados pelo usuário, o programa encerra quando numero digitado for -1:\n",
    "# \tMostrar a quantidade de números 7 digitados na lista\n",
    "# \tAo final copie toda a lista para uma nova lista e mostre-a em ordem crescente.\n",
    "\n",
    "lista = []\n",
    "#lista2 = []\n",
    "x = int(input(\"Digite um numero: \"))\n",
    "while x != -1:\n",
    "    lista.append(x)\n",
    "    x = int(input(\"Digite um numero: \"))\n",
    "print (lista.count(7))\n",
    "#lista2.extend(lista)\n",
    "\n",
    "lista2 = lista.copy()\n",
    "lista2.sort()\n",
    "print (lista2)"
   ]
  },
  {
   "cell_type": "code",
   "execution_count": 42,
   "id": "b40be8af",
   "metadata": {},
   "outputs": [
    {
     "name": "stdout",
     "output_type": "stream",
     "text": [
      "Digite um numero: 7\n",
      "Digite um numero: 5\n",
      "Digite um numero: 7\n",
      "Digite um numero: 7\n",
      "Digite um numero: -1\n",
      "3\n",
      "[5, 7, 7, 7]\n"
     ]
    }
   ],
   "source": [
    "lista1 = []\n",
    "lista2 = []\n",
    "total = 0\n",
    "numero = int(input(\"Digite um numero: \"))\n",
    "while numero != -1:\n",
    "    lista1.append(numero)\n",
    "    if numero == 7:\n",
    "        total = total + 1\n",
    "    numero = int(input(\"Digite um numero: \"))\n",
    "print (total)\n",
    "lista1.sort()\n",
    "lista2.extend(lista1)\n",
    "print (lista2)"
   ]
  },
  {
   "cell_type": "code",
   "execution_count": null,
   "id": "060ee1e4",
   "metadata": {},
   "outputs": [],
   "source": []
  },
  {
   "cell_type": "code",
   "execution_count": 37,
   "id": "8dced152",
   "metadata": {},
   "outputs": [
    {
     "name": "stdout",
     "output_type": "stream",
     "text": [
      "Digite uma idade: 22\n",
      "Digite uma idade: 15\n",
      "Digite uma idade: 65\n",
      "Digite uma idade: 94\n",
      "Digite uma idade: 12\n",
      "3\n"
     ]
    }
   ],
   "source": [
    "# Faça um programa que pede para o usuario digitar 5 idades e mostrar quantas sao maior de idade\n",
    "\n",
    "i = 0\n",
    "total = 0\n",
    "while i < 5:\n",
    "    idade = int(input(\"Digite uma idade: \"))\n",
    "    if idade > 18:\n",
    "        total = total + 1\n",
    "    i = i + 1\n",
    "print (total)"
   ]
  },
  {
   "cell_type": "code",
   "execution_count": 38,
   "id": "63f36afb",
   "metadata": {},
   "outputs": [
    {
     "name": "stdout",
     "output_type": "stream",
     "text": [
      "Digite uma idade: 23\n",
      "Digite uma idade: 20\n",
      "Digite uma idade: 15\n",
      "Digite uma idade: 12\n",
      "Digite uma idade: 65\n",
      "3\n",
      "27.0\n"
     ]
    }
   ],
   "source": [
    "i = 0\n",
    "total = 0\n",
    "totidades=0\n",
    "while i < 5:\n",
    "    idade = int(input(\"Digite uma idade: \"))\n",
    "    totidades=totidades + idade\n",
    "    if idade > 18:\n",
    "        total = total + 1\n",
    "    i = i + 1\n",
    "print (total)\n",
    "media= totidades/5\n",
    "print (media)"
   ]
  },
  {
   "cell_type": "code",
   "execution_count": null,
   "id": "f95db6c7",
   "metadata": {},
   "outputs": [],
   "source": []
  },
  {
   "cell_type": "code",
   "execution_count": null,
   "id": "7ffb1333",
   "metadata": {},
   "outputs": [],
   "source": [
    "# Faça um programa com uma lista com o nome de 5 cidades. Mostre todos os valores da lista.\n",
    "\n",
    "# Altere a lista anterior para que ela possa ser alimentada pelo usuário."
   ]
  },
  {
   "cell_type": "code",
   "execution_count": 1,
   "id": "ad647b4a",
   "metadata": {},
   "outputs": [
    {
     "data": {
      "text/plain": [
       "['Florianopolis', 'Campinas', 'Fortaleza', 'Natal', 'Curitiba']"
      ]
     },
     "execution_count": 1,
     "metadata": {},
     "output_type": "execute_result"
    }
   ],
   "source": [
    "cidades = ['Florianopolis','Campinas','Fortaleza','Natal','Curitiba']\n",
    "cidades"
   ]
  },
  {
   "cell_type": "code",
   "execution_count": 2,
   "id": "19ca48d6",
   "metadata": {},
   "outputs": [
    {
     "name": "stdout",
     "output_type": "stream",
     "text": [
      "Digite uma cidadeFlorianopolis\n",
      "Digite uma cidadeCampinas\n",
      "Digite uma cidadeFortaleza\n",
      "Digite uma cidadeCuritiba\n",
      "Digite uma cidadeNatal\n",
      "['Florianopolis', 'Campinas', 'Fortaleza', 'Curitiba', 'Natal']\n"
     ]
    }
   ],
   "source": [
    "cidades = []\n",
    "for x in range (5):\n",
    "    usuario = input (\"Digite uma cidade\")\n",
    "    cidades.append(usuario)\n",
    "print (cidades)"
   ]
  },
  {
   "cell_type": "code",
   "execution_count": null,
   "id": "ff64a3e5",
   "metadata": {},
   "outputs": [],
   "source": [
    "# Programa que conta a quantidade de ocorrências da letra “a” na frase: “ O Brasil é uma república federativa cheia de árvores e gente dizendo adeus!”"
   ]
  },
  {
   "cell_type": "code",
   "execution_count": 13,
   "id": "b076b114",
   "metadata": {},
   "outputs": [
    {
     "name": "stdout",
     "output_type": "stream",
     "text": [
      "8\n"
     ]
    }
   ],
   "source": [
    "text = (\"O Brasil é uma república federativa cheia de árvores e gente dizendo adeus!\")\n",
    "total = 0\n",
    "for l in text:\n",
    "    if l == 'a' or l == 'á':\n",
    "        total = total + 1\n",
    "print (total)"
   ]
  },
  {
   "cell_type": "code",
   "execution_count": 12,
   "id": "a6b83adf",
   "metadata": {},
   "outputs": [
    {
     "data": {
      "text/plain": [
       "7"
      ]
     },
     "execution_count": 12,
     "metadata": {},
     "output_type": "execute_result"
    }
   ],
   "source": [
    "text.count('a')"
   ]
  },
  {
   "cell_type": "code",
   "execution_count": null,
   "id": "7b4ed462",
   "metadata": {},
   "outputs": [],
   "source": [
    "# Dado a lista notas = [0, 0, 9.0, 8.0, 5.0, 10.0, 7.0, 7.5, 4.0, 10.0, 7.0, 7.0, 8.0, 8.0, 7.5], crie um programa que :\n",
    "# Informa o tamanho da lista.\n",
    "# Calcula e mostra a soma de todas as notas.\n",
    "# Calcula a média de todas as notas.\n",
    "# Mostre o tipo de notas.\n",
    "# Mostre os valores da lista iniciando na posição 5 e mostrando por último a posição 11."
   ]
  },
  {
   "cell_type": "code",
   "execution_count": 14,
   "id": "85629fb7",
   "metadata": {},
   "outputs": [],
   "source": [
    "notas = [0, 0, 9.0, 8.0, 5.0, 10.0, 7.0, 7.5, 4.0, 10.0, 7.0, 7.0, 8.0, 8.0, 7.5]"
   ]
  },
  {
   "cell_type": "code",
   "execution_count": 15,
   "id": "8dfae603",
   "metadata": {},
   "outputs": [
    {
     "data": {
      "text/plain": [
       "15"
      ]
     },
     "execution_count": 15,
     "metadata": {},
     "output_type": "execute_result"
    }
   ],
   "source": [
    "len(notas)"
   ]
  },
  {
   "cell_type": "code",
   "execution_count": 16,
   "id": "e2534ffa",
   "metadata": {},
   "outputs": [
    {
     "data": {
      "text/plain": [
       "98.0"
      ]
     },
     "execution_count": 16,
     "metadata": {},
     "output_type": "execute_result"
    }
   ],
   "source": [
    "sum(notas)"
   ]
  },
  {
   "cell_type": "code",
   "execution_count": 18,
   "id": "08557b5a",
   "metadata": {},
   "outputs": [
    {
     "data": {
      "text/plain": [
       "6.533333333333333"
      ]
     },
     "execution_count": 18,
     "metadata": {},
     "output_type": "execute_result"
    }
   ],
   "source": [
    "sum(notas)/len(notas)"
   ]
  },
  {
   "cell_type": "code",
   "execution_count": 19,
   "id": "4cb93898",
   "metadata": {},
   "outputs": [
    {
     "data": {
      "text/plain": [
       "list"
      ]
     },
     "execution_count": 19,
     "metadata": {},
     "output_type": "execute_result"
    }
   ],
   "source": [
    "type(notas)"
   ]
  },
  {
   "cell_type": "code",
   "execution_count": 21,
   "id": "d7879460",
   "metadata": {},
   "outputs": [
    {
     "data": {
      "text/plain": [
       "[5.0, 10.0, 7.0, 7.5, 4.0, 10.0, 7.0]"
      ]
     },
     "execution_count": 21,
     "metadata": {},
     "output_type": "execute_result"
    }
   ],
   "source": [
    "notas[4:11]"
   ]
  },
  {
   "cell_type": "code",
   "execution_count": null,
   "id": "f359cb89",
   "metadata": {},
   "outputs": [],
   "source": [
    "# Dado a lista de  pessoas = [\"Maria\", \"Carlos\", \"Ana\", \"Joana\", \"Pedro\",\"Maria\"], faça:\n",
    "# troque Ana e Joana por Socorro e Mariana.\n",
    "# Insira mais duas pessoas \n",
    "# Insira Juliana entre Maria e Carlos\n",
    "# Remova Pedro\n",
    "# Esvaziar a lista e mostrar a lista vazia"
   ]
  },
  {
   "cell_type": "code",
   "execution_count": 28,
   "id": "2b4eb73c",
   "metadata": {},
   "outputs": [],
   "source": [
    "pessoas = [\"Maria\", \"Carlos\", \"Ana\", \"Joana\", \"Pedro\",\"Maria\"]"
   ]
  },
  {
   "cell_type": "code",
   "execution_count": 29,
   "id": "eca22063",
   "metadata": {},
   "outputs": [
    {
     "data": {
      "text/plain": [
       "['Maria', 'Carlos', 'Socorro', 'Mariana', 'Pedro', 'Maria']"
      ]
     },
     "execution_count": 29,
     "metadata": {},
     "output_type": "execute_result"
    }
   ],
   "source": [
    "pessoas [2:4] = [\"Socorro\",\"Mariana\"]\n",
    "pessoas"
   ]
  },
  {
   "cell_type": "code",
   "execution_count": 31,
   "id": "96b06023",
   "metadata": {},
   "outputs": [
    {
     "data": {
      "text/plain": [
       "['Maria', 'Carlos', 'Socorro', 'Mariana', 'Pedro', 'Maria', 'Jose', 'Luis']"
      ]
     },
     "execution_count": 31,
     "metadata": {},
     "output_type": "execute_result"
    }
   ],
   "source": [
    "pessoas.append('Jose')\n",
    "pessoas.append('Luis')\n",
    "pessoas"
   ]
  },
  {
   "cell_type": "code",
   "execution_count": 33,
   "id": "9080774d",
   "metadata": {},
   "outputs": [
    {
     "data": {
      "text/plain": [
       "['Maria',\n",
       " 'Juliana',\n",
       " 'Carlos',\n",
       " 'Socorro',\n",
       " 'Mariana',\n",
       " 'Pedro',\n",
       " 'Maria',\n",
       " 'Jose',\n",
       " 'Luis']"
      ]
     },
     "execution_count": 33,
     "metadata": {},
     "output_type": "execute_result"
    }
   ],
   "source": [
    "pessoas.insert(1,'Juliana')\n",
    "pessoas"
   ]
  },
  {
   "cell_type": "code",
   "execution_count": 35,
   "id": "c8b02e44",
   "metadata": {},
   "outputs": [
    {
     "data": {
      "text/plain": [
       "['Maria', 'Juliana', 'Carlos', 'Socorro', 'Mariana', 'Maria', 'Jose', 'Luis']"
      ]
     },
     "execution_count": 35,
     "metadata": {},
     "output_type": "execute_result"
    }
   ],
   "source": [
    "# ou pop com o numero da posição\n",
    "pessoas.remove('Pedro')\n",
    "pessoas"
   ]
  },
  {
   "cell_type": "code",
   "execution_count": 37,
   "id": "84c5ba94",
   "metadata": {},
   "outputs": [
    {
     "data": {
      "text/plain": [
       "[]"
      ]
     },
     "execution_count": 37,
     "metadata": {},
     "output_type": "execute_result"
    }
   ],
   "source": [
    "pessoas.clear ()\n",
    "pessoas"
   ]
  },
  {
   "cell_type": "code",
   "execution_count": null,
   "id": "462bf264",
   "metadata": {},
   "outputs": [],
   "source": [
    "# Dado a lista notas = [0, 0, 9.0, 8.0, 5.0, 10.0, 7.0, 7.5, 4.0, 10.0, 7.0, 7.0, 8.0, 8.0, 7.5], criar uma nova lista que receberá somente as notas acima de 6.0 da lista notas. Mostre os valores da nova lista. "
   ]
  },
  {
   "cell_type": "code",
   "execution_count": 38,
   "id": "7ee7f2f4",
   "metadata": {},
   "outputs": [],
   "source": [
    "notas = [0, 0, 9.0, 8.0, 5.0, 10.0, 7.0, 7.5, 4.0, 10.0, 7.0, 7.0, 8.0, 8.0, 7.5]"
   ]
  },
  {
   "cell_type": "code",
   "execution_count": 39,
   "id": "ede53314",
   "metadata": {},
   "outputs": [
    {
     "name": "stdout",
     "output_type": "stream",
     "text": [
      "[9.0, 8.0, 10.0, 7.0, 7.5, 10.0, 7.0, 7.0, 8.0, 8.0, 7.5]\n"
     ]
    }
   ],
   "source": [
    "notas2 = []\n",
    "for x in notas:\n",
    "    if x > 6.0:\n",
    "        notas2.append(x)\n",
    "print (notas2)"
   ]
  },
  {
   "cell_type": "code",
   "execution_count": null,
   "id": "1e5b6764",
   "metadata": {},
   "outputs": [],
   "source": [
    "# Dado a lista frutas = [\"maça\", \"banana\", \"uva\", \"maça\", \"uva\",\"laranja\"] faça:\n",
    "# Mostre todos os valores da lista usando comprehensions\n",
    "# Criar a lista números com valores de 1 a 50 usando comprehensions e imprima\n",
    "# Criar a lista dados com valores de 1 a 100 múltiplos de 5 usando comprehensions e imprima\n",
    "# Criar uma nova lista frutas02 com valores da lista frutas trocando banana por abacaxi\n",
    "# Mostre a lista frutas em ordem alfabética\n",
    "# Mostre a lista frutas em ordem inversa"
   ]
  },
  {
   "cell_type": "code",
   "execution_count": 40,
   "id": "4efc16be",
   "metadata": {},
   "outputs": [],
   "source": [
    "frutas = [\"maça\", \"banana\", \"uva\", \"maça\", \"uva\", \"laranja\"]"
   ]
  },
  {
   "cell_type": "code",
   "execution_count": 42,
   "id": "fd393c0f",
   "metadata": {},
   "outputs": [
    {
     "data": {
      "text/plain": [
       "['maça', 'banana', 'uva', 'maça', 'uva', 'laranja']"
      ]
     },
     "execution_count": 42,
     "metadata": {},
     "output_type": "execute_result"
    }
   ],
   "source": [
    "lista1 = [x for x in frutas]\n",
    "lista1"
   ]
  },
  {
   "cell_type": "code",
   "execution_count": 45,
   "id": "698494b3",
   "metadata": {},
   "outputs": [
    {
     "data": {
      "text/plain": [
       "[1,\n",
       " 2,\n",
       " 3,\n",
       " 4,\n",
       " 5,\n",
       " 6,\n",
       " 7,\n",
       " 8,\n",
       " 9,\n",
       " 10,\n",
       " 11,\n",
       " 12,\n",
       " 13,\n",
       " 14,\n",
       " 15,\n",
       " 16,\n",
       " 17,\n",
       " 18,\n",
       " 19,\n",
       " 20,\n",
       " 21,\n",
       " 22,\n",
       " 23,\n",
       " 24,\n",
       " 25,\n",
       " 26,\n",
       " 27,\n",
       " 28,\n",
       " 29,\n",
       " 30,\n",
       " 31,\n",
       " 32,\n",
       " 33,\n",
       " 34,\n",
       " 35,\n",
       " 36,\n",
       " 37,\n",
       " 38,\n",
       " 39,\n",
       " 40,\n",
       " 41,\n",
       " 42,\n",
       " 43,\n",
       " 44,\n",
       " 45,\n",
       " 46,\n",
       " 47,\n",
       " 48,\n",
       " 49,\n",
       " 50]"
      ]
     },
     "execution_count": 45,
     "metadata": {},
     "output_type": "execute_result"
    }
   ],
   "source": [
    "numeros = [x for x in range(1,51)]\n",
    "numeros"
   ]
  },
  {
   "cell_type": "code",
   "execution_count": 49,
   "id": "648da1f6",
   "metadata": {},
   "outputs": [
    {
     "ename": "TypeError",
     "evalue": "'float' object cannot be interpreted as an integer",
     "output_type": "error",
     "traceback": [
      "\u001b[1;31m---------------------------------------------------------------------------\u001b[0m",
      "\u001b[1;31mTypeError\u001b[0m                                 Traceback (most recent call last)",
      "\u001b[1;32m<ipython-input-49-546de90360e5>\u001b[0m in \u001b[0;36m<module>\u001b[1;34m\u001b[0m\n\u001b[1;32m----> 1\u001b[1;33m \u001b[0mdados\u001b[0m \u001b[1;33m=\u001b[0m \u001b[1;33m[\u001b[0m\u001b[0mx\u001b[0m \u001b[1;32mfor\u001b[0m \u001b[0mx\u001b[0m \u001b[1;32min\u001b[0m \u001b[0mrange\u001b[0m\u001b[1;33m(\u001b[0m\u001b[1;33m(\u001b[0m\u001b[0mx\u001b[0m\u001b[1;33m*\u001b[0m\u001b[1;36m5\u001b[0m\u001b[1;33m)\u001b[0m\u001b[1;33m,\u001b[0m\u001b[1;36m101\u001b[0m\u001b[1;33m)\u001b[0m\u001b[1;33m]\u001b[0m\u001b[1;33m\u001b[0m\u001b[1;33m\u001b[0m\u001b[0m\n\u001b[0m\u001b[0;32m      2\u001b[0m \u001b[0mdados\u001b[0m\u001b[1;33m\u001b[0m\u001b[1;33m\u001b[0m\u001b[0m\n",
      "\u001b[1;31mTypeError\u001b[0m: 'float' object cannot be interpreted as an integer"
     ]
    }
   ],
   "source": [
    "dados = [x for x in range((x*5),101)]\n",
    "dados"
   ]
  },
  {
   "cell_type": "code",
   "execution_count": 51,
   "id": "fcb0396c",
   "metadata": {},
   "outputs": [
    {
     "data": {
      "text/plain": [
       "['maça', 'abacaxi', 'uva', 'maça', 'uva', 'laranja']"
      ]
     },
     "execution_count": 51,
     "metadata": {},
     "output_type": "execute_result"
    }
   ],
   "source": [
    "frutas02 = [x if x != 'banana' else 'abacaxi' for x in frutas]\n",
    "frutas02"
   ]
  },
  {
   "cell_type": "code",
   "execution_count": 53,
   "id": "8f8d4cba",
   "metadata": {},
   "outputs": [
    {
     "data": {
      "text/plain": [
       "['banana', 'laranja', 'maça', 'maça', 'uva', 'uva']"
      ]
     },
     "execution_count": 53,
     "metadata": {},
     "output_type": "execute_result"
    }
   ],
   "source": [
    "frutas.sort()\n",
    "frutas"
   ]
  },
  {
   "cell_type": "code",
   "execution_count": 54,
   "id": "c0367451",
   "metadata": {},
   "outputs": [
    {
     "data": {
      "text/plain": [
       "['uva', 'uva', 'maça', 'maça', 'laranja', 'banana']"
      ]
     },
     "execution_count": 54,
     "metadata": {},
     "output_type": "execute_result"
    }
   ],
   "source": [
    "frutas.reverse()\n",
    "frutas"
   ]
  },
  {
   "cell_type": "code",
   "execution_count": 55,
   "id": "fb1bb94f",
   "metadata": {},
   "outputs": [
    {
     "name": "stdout",
     "output_type": "stream",
     "text": [
      "[50, 65, 23, 82, 100]\n"
     ]
    }
   ],
   "source": [
    "# Dado a lista [100, 50, 65, 82, 23] mostra a lista por aproximação ao número 50\n",
    "\n",
    "def minhafuncao(n):\n",
    "  return abs(n - 50)\n",
    "numeros = [100, 50, 65, 82, 23]\n",
    "numeros.sort(key = minhafuncao)\n",
    "print(numeros)"
   ]
  },
  {
   "cell_type": "markdown",
   "id": "67b1d32d",
   "metadata": {},
   "source": [
    "# TUPLAS"
   ]
  },
  {
   "cell_type": "code",
   "execution_count": 58,
   "id": "a8bb2236",
   "metadata": {},
   "outputs": [
    {
     "name": "stdout",
     "output_type": "stream",
     "text": [
      "('Ana', 'Zé', 'Carlos', 'Tereza', 'Ana', 'Sandro')\n",
      "6\n"
     ]
    }
   ],
   "source": [
    "# Tuplas permitem valores duplicados:\n",
    "pessoas1 = (\"Ana\",\"Zé\",\"Carlos\",\"Tereza\", \"Ana\",\"Sandro\")\n",
    "print(pessoas1)\n",
    "print(len(pessoas1))"
   ]
  },
  {
   "cell_type": "code",
   "execution_count": null,
   "id": "68cb4a49",
   "metadata": {},
   "outputs": [],
   "source": [
    "# Tuplas com um item.\n",
    "# Se nao fosse pela , Ana seria uma variavel aplicada comum, é a , que caracteriza a tupla neste caso\n",
    "pessoas2 = (\"Ana\",)\n",
    "print(type(pessoas2))"
   ]
  },
  {
   "cell_type": "code",
   "execution_count": 59,
   "id": "566fbc91",
   "metadata": {},
   "outputs": [
    {
     "name": "stdout",
     "output_type": "stream",
     "text": [
      "Kombi\n",
      "Buggy\n",
      "Kombi\n",
      "Buggy\n",
      "('Corcel', 'Opala', 'Buggy')\n",
      "('Fusca', 'Kombi', 'Corcel')\n",
      "('Kombi', 'Corcel', 'Opala', 'Buggy')\n",
      "('Kombi', 'Corcel', 'Opala')\n"
     ]
    }
   ],
   "source": [
    "# Acesso as tuplas\n",
    "\n",
    "carros=(\"Fusca\", \"Kombi\", \"Corcel\", \"Opala\", \"Buggy\")\n",
    "print(carros[1])\n",
    "print(carros[-1])\n",
    "carros2=(\"Fusca\", \"Kombi\", \"Corcel\", \"Opala\", \"Buggy\")\n",
    "print(carros2 [1])\n",
    "print(carros2 [-1])\n",
    "print(carros2 [2:5])\n",
    "print(carros2 [:3])\n",
    "print(carros2 [1:])\n",
    "print(carros2 [-4:-1])"
   ]
  },
  {
   "cell_type": "code",
   "execution_count": 60,
   "id": "200500c1",
   "metadata": {},
   "outputs": [
    {
     "name": "stdout",
     "output_type": "stream",
     "text": [
      "['Fusca', 'Kombi', 'Corcel', 'Opala', 'Buggy']\n",
      "('Fusca', 'gol', 'Corcel', 'Opala', 'Buggy')\n"
     ]
    }
   ],
   "source": [
    "# Transformando tuplas\n",
    "carros=(\"Fusca\", \"Kombi\", \"Corcel\", \"Opala\", \"Buggy\")\n",
    "car=list(carros)\n",
    "print(car)\n",
    "car[1]=\"gol\"\n",
    "carros=tuple(car)\n",
    "print(carros)"
   ]
  },
  {
   "cell_type": "code",
   "execution_count": 62,
   "id": "583cfe91",
   "metadata": {},
   "outputs": [
    {
     "name": "stdout",
     "output_type": "stream",
     "text": [
      "('Fusca', 'Kombi', 'Corcel', 'Opala', 'Buggy', 'Prisma')\n"
     ]
    }
   ],
   "source": [
    "# Tupla não aceita append, a inserção deve ser feito por meio da conversão para listas e depois para tupla. Ex:\n",
    "carros=(\"Fusca\", \"Kombi\", \"Corcel\", \"Opala\", \"Buggy\")\n",
    "car=list(carros)\n",
    "car.append(\"Prisma\")\n",
    "carros=tuple(car)\n",
    "print(carros)"
   ]
  },
  {
   "cell_type": "code",
   "execution_count": 63,
   "id": "0da434b5",
   "metadata": {},
   "outputs": [
    {
     "name": "stdout",
     "output_type": "stream",
     "text": [
      "('Fusca', 'Kombi', 'Corcel', 'Opala', 'Buggy', 'HB20')\n"
     ]
    }
   ],
   "source": [
    "# Adicione tupla a uma tupla\n",
    "carros1=(\"Fusca\", \"Kombi\", \"Corcel\", \"Opala\", \"Buggy\")\n",
    "carros2=(\"HB20\",)\n",
    "carros1+= carros2\n",
    "print(carros1)"
   ]
  },
  {
   "cell_type": "code",
   "execution_count": 64,
   "id": "60532397",
   "metadata": {},
   "outputs": [
    {
     "name": "stdout",
     "output_type": "stream",
     "text": [
      "('Fusca', 'Kombi', 'Opala', 'Buggy')\n"
     ]
    }
   ],
   "source": [
    "# Remover itens da tupla.\n",
    "# As tuplas são imutáveis , portanto você não pode remover itens dela, mas pode usar a mesma solução alternativa que usamos para alterar e adicionar itens de tupla:\n",
    "carros=(\"Fusca\", \"Kombi\", \"Corcel\", \"Opala\", \"Buggy\")\n",
    "car=list(carros)\n",
    "car.remove(\"Corcel\")\n",
    "carros=tuple(car)\n",
    "print(carros)"
   ]
  },
  {
   "cell_type": "code",
   "execution_count": 66,
   "id": "fe8ce7e0",
   "metadata": {},
   "outputs": [
    {
     "ename": "NameError",
     "evalue": "name 'carros' is not defined",
     "output_type": "error",
     "traceback": [
      "\u001b[1;31m---------------------------------------------------------------------------\u001b[0m",
      "\u001b[1;31mNameError\u001b[0m                                 Traceback (most recent call last)",
      "\u001b[1;32m<ipython-input-66-c05762111532>\u001b[0m in \u001b[0;36m<module>\u001b[1;34m\u001b[0m\n\u001b[1;32m----> 1\u001b[1;33m \u001b[1;32mdel\u001b[0m\u001b[1;33m(\u001b[0m\u001b[0mcarros\u001b[0m\u001b[1;33m)\u001b[0m   \u001b[1;31m# excluí toda uma tupla\u001b[0m\u001b[1;33m\u001b[0m\u001b[1;33m\u001b[0m\u001b[0m\n\u001b[0m\u001b[0;32m      2\u001b[0m \u001b[0mcarros\u001b[0m\u001b[1;33m\u001b[0m\u001b[1;33m\u001b[0m\u001b[0m\n",
      "\u001b[1;31mNameError\u001b[0m: name 'carros' is not defined"
     ]
    }
   ],
   "source": [
    "del(carros)   # excluí toda uma tupla\n",
    "carros"
   ]
  },
  {
   "cell_type": "code",
   "execution_count": 67,
   "id": "201eb6af",
   "metadata": {},
   "outputs": [
    {
     "name": "stdout",
     "output_type": "stream",
     "text": [
      "Kombi\n",
      "Fusca\n",
      "Corcel\n"
     ]
    }
   ],
   "source": [
    "# Descompactar uma tupla\n",
    "# Podemos extrair os valores de volta para variáveis. Isso é chamado de \"desempacotamento\":\n",
    "carros=(\"Fusca\", \"Kombi\", \"Corcel\")\n",
    "(verde, azul, vermelho) = carros\n",
    "print(azul)\n",
    "print(verde)\n",
    "print(vermelho)"
   ]
  },
  {
   "cell_type": "code",
   "execution_count": 68,
   "id": "af457fde",
   "metadata": {},
   "outputs": [
    {
     "name": "stdout",
     "output_type": "stream",
     "text": [
      "Fusca\n",
      "['Kombi', 'Corcel', 'BMW', 'Ferrari']\n",
      "['Fusca', 'Kombi', 'Corcel', 'BMW']\n",
      "Ferrari\n"
     ]
    }
   ],
   "source": [
    "# número de variáveis for menor que o número de valores\n",
    "\n",
    "carros=(\"Fusca\", \"Kombi\", \"Corcel\", \"BMW\",\"Ferrari\")\n",
    "(carro1, *carro2) = carros\n",
    "print(carro1)\n",
    "print(carro2)\n",
    "\n",
    "carros=(\"Fusca\", \"Kombi\", \"Corcel\", \"BMW\",\"Ferrari\")\n",
    "(*carro1, carro2) = carros\n",
    "print(carro1)\n",
    "print(carro2)"
   ]
  },
  {
   "cell_type": "code",
   "execution_count": 69,
   "id": "ebc4d767",
   "metadata": {},
   "outputs": [
    {
     "name": "stdout",
     "output_type": "stream",
     "text": [
      "Fusca\n",
      "Kombi\n",
      "Corcel\n",
      "BMW\n",
      "Ferrari\n",
      "Fusca\n",
      "Kombi\n",
      "Corcel\n",
      "BMW\n",
      "Ferrari\n"
     ]
    }
   ],
   "source": [
    "# Imprimindo dados da tupla com LOOPS\n",
    "carros=(\"Fusca\", \"Kombi\", \"Corcel\", \"BMW\",\"Ferrari\")\n",
    "for x in carros:\n",
    "  print(x)\n",
    "i = 0\n",
    "while i < len(carros):\n",
    "  print(carros [i])\n",
    "  i = i + 1"
   ]
  },
  {
   "cell_type": "code",
   "execution_count": 70,
   "id": "92ba9990",
   "metadata": {},
   "outputs": [
    {
     "name": "stdout",
     "output_type": "stream",
     "text": [
      "('a', 'b', 'c', 1, 2, 3)\n"
     ]
    }
   ],
   "source": [
    "# Concatenação de tuplas\n",
    "# Para juntar duas ou mais tuplas, você pode usar  + operador:\n",
    "# EX:\n",
    "tupla1 = (\"a\", \"b\" , \"c\")\n",
    "tupla2 = (1, 2, 3)\n",
    "tupla3 = tupla1 + tupla2\n",
    "print(tupla3)"
   ]
  },
  {
   "cell_type": "code",
   "execution_count": 71,
   "id": "e0674108",
   "metadata": {},
   "outputs": [
    {
     "name": "stdout",
     "output_type": "stream",
     "text": [
      "('Ana', 'Maria', 'Carla', 'Ana', 'Maria', 'Carla')\n"
     ]
    }
   ],
   "source": [
    "pessoas = (\"Ana\", \"Maria\", \"Carla\")\n",
    "multTupla = pessoas * 2\n",
    "print(multTupla)"
   ]
  },
  {
   "cell_type": "code",
   "execution_count": null,
   "id": "1650f8af",
   "metadata": {},
   "outputs": [],
   "source": []
  }
 ],
 "metadata": {
  "kernelspec": {
   "display_name": "Python 3",
   "language": "python",
   "name": "python3"
  },
  "language_info": {
   "codemirror_mode": {
    "name": "ipython",
    "version": 3
   },
   "file_extension": ".py",
   "mimetype": "text/x-python",
   "name": "python",
   "nbconvert_exporter": "python",
   "pygments_lexer": "ipython3",
   "version": "3.8.8"
  }
 },
 "nbformat": 4,
 "nbformat_minor": 5
}
