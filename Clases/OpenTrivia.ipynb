{
 "cells": [
  {
   "cell_type": "markdown",
   "id": "085e2945",
   "metadata": {
    "toc": true
   },
   "source": [
    "<h1>Table of Contents<span class=\"tocSkip\"></span></h1>\n",
    "<div class=\"toc\"><ul class=\"toc-item\"></ul></div>"
   ]
  },
  {
   "cell_type": "code",
   "execution_count": 14,
   "id": "8fd0178e",
   "metadata": {},
   "outputs": [],
   "source": [
    "import pandas as pd"
   ]
  },
  {
   "cell_type": "code",
   "execution_count": 1,
   "id": "004503a9",
   "metadata": {},
   "outputs": [],
   "source": [
    "import requests"
   ]
  },
  {
   "cell_type": "code",
   "execution_count": 72,
   "id": "b6953038",
   "metadata": {},
   "outputs": [],
   "source": [
    "import random"
   ]
  },
  {
   "cell_type": "markdown",
   "id": "849a2da7",
   "metadata": {},
   "source": [
    "- https://opentdb.com/api.php?amount=10&category=11&difficulty=medium&type=multiple"
   ]
  },
  {
   "cell_type": "code",
   "execution_count": 11,
   "id": "cdb3fbee",
   "metadata": {},
   "outputs": [],
   "source": [
    "cat_url = 'https://opentdb.com/api_category.php'"
   ]
  },
  {
   "cell_type": "code",
   "execution_count": 17,
   "id": "33603a0f",
   "metadata": {},
   "outputs": [
    {
     "data": {
      "text/html": [
       "<div>\n",
       "<style scoped>\n",
       "    .dataframe tbody tr th:only-of-type {\n",
       "        vertical-align: middle;\n",
       "    }\n",
       "\n",
       "    .dataframe tbody tr th {\n",
       "        vertical-align: top;\n",
       "    }\n",
       "\n",
       "    .dataframe thead th {\n",
       "        text-align: right;\n",
       "    }\n",
       "</style>\n",
       "<table border=\"1\" class=\"dataframe\">\n",
       "  <thead>\n",
       "    <tr style=\"text-align: right;\">\n",
       "      <th></th>\n",
       "      <th>id</th>\n",
       "      <th>name</th>\n",
       "    </tr>\n",
       "  </thead>\n",
       "  <tbody>\n",
       "    <tr>\n",
       "      <th>0</th>\n",
       "      <td>9</td>\n",
       "      <td>General Knowledge</td>\n",
       "    </tr>\n",
       "    <tr>\n",
       "      <th>1</th>\n",
       "      <td>10</td>\n",
       "      <td>Entertainment: Books</td>\n",
       "    </tr>\n",
       "    <tr>\n",
       "      <th>2</th>\n",
       "      <td>11</td>\n",
       "      <td>Entertainment: Film</td>\n",
       "    </tr>\n",
       "    <tr>\n",
       "      <th>3</th>\n",
       "      <td>12</td>\n",
       "      <td>Entertainment: Music</td>\n",
       "    </tr>\n",
       "    <tr>\n",
       "      <th>4</th>\n",
       "      <td>13</td>\n",
       "      <td>Entertainment: Musicals &amp; Theatres</td>\n",
       "    </tr>\n",
       "    <tr>\n",
       "      <th>5</th>\n",
       "      <td>14</td>\n",
       "      <td>Entertainment: Television</td>\n",
       "    </tr>\n",
       "    <tr>\n",
       "      <th>6</th>\n",
       "      <td>15</td>\n",
       "      <td>Entertainment: Video Games</td>\n",
       "    </tr>\n",
       "    <tr>\n",
       "      <th>7</th>\n",
       "      <td>16</td>\n",
       "      <td>Entertainment: Board Games</td>\n",
       "    </tr>\n",
       "    <tr>\n",
       "      <th>8</th>\n",
       "      <td>17</td>\n",
       "      <td>Science &amp; Nature</td>\n",
       "    </tr>\n",
       "    <tr>\n",
       "      <th>9</th>\n",
       "      <td>18</td>\n",
       "      <td>Science: Computers</td>\n",
       "    </tr>\n",
       "    <tr>\n",
       "      <th>10</th>\n",
       "      <td>19</td>\n",
       "      <td>Science: Mathematics</td>\n",
       "    </tr>\n",
       "    <tr>\n",
       "      <th>11</th>\n",
       "      <td>20</td>\n",
       "      <td>Mythology</td>\n",
       "    </tr>\n",
       "    <tr>\n",
       "      <th>12</th>\n",
       "      <td>21</td>\n",
       "      <td>Sports</td>\n",
       "    </tr>\n",
       "    <tr>\n",
       "      <th>13</th>\n",
       "      <td>22</td>\n",
       "      <td>Geography</td>\n",
       "    </tr>\n",
       "    <tr>\n",
       "      <th>14</th>\n",
       "      <td>23</td>\n",
       "      <td>History</td>\n",
       "    </tr>\n",
       "    <tr>\n",
       "      <th>15</th>\n",
       "      <td>24</td>\n",
       "      <td>Politics</td>\n",
       "    </tr>\n",
       "    <tr>\n",
       "      <th>16</th>\n",
       "      <td>25</td>\n",
       "      <td>Art</td>\n",
       "    </tr>\n",
       "    <tr>\n",
       "      <th>17</th>\n",
       "      <td>26</td>\n",
       "      <td>Celebrities</td>\n",
       "    </tr>\n",
       "    <tr>\n",
       "      <th>18</th>\n",
       "      <td>27</td>\n",
       "      <td>Animals</td>\n",
       "    </tr>\n",
       "    <tr>\n",
       "      <th>19</th>\n",
       "      <td>28</td>\n",
       "      <td>Vehicles</td>\n",
       "    </tr>\n",
       "    <tr>\n",
       "      <th>20</th>\n",
       "      <td>29</td>\n",
       "      <td>Entertainment: Comics</td>\n",
       "    </tr>\n",
       "    <tr>\n",
       "      <th>21</th>\n",
       "      <td>30</td>\n",
       "      <td>Science: Gadgets</td>\n",
       "    </tr>\n",
       "    <tr>\n",
       "      <th>22</th>\n",
       "      <td>31</td>\n",
       "      <td>Entertainment: Japanese Anime &amp; Manga</td>\n",
       "    </tr>\n",
       "    <tr>\n",
       "      <th>23</th>\n",
       "      <td>32</td>\n",
       "      <td>Entertainment: Cartoon &amp; Animations</td>\n",
       "    </tr>\n",
       "  </tbody>\n",
       "</table>\n",
       "</div>"
      ],
      "text/plain": [
       "    id                                   name\n",
       "0    9                      General Knowledge\n",
       "1   10                   Entertainment: Books\n",
       "2   11                    Entertainment: Film\n",
       "3   12                   Entertainment: Music\n",
       "4   13     Entertainment: Musicals & Theatres\n",
       "5   14              Entertainment: Television\n",
       "6   15             Entertainment: Video Games\n",
       "7   16             Entertainment: Board Games\n",
       "8   17                       Science & Nature\n",
       "9   18                     Science: Computers\n",
       "10  19                   Science: Mathematics\n",
       "11  20                              Mythology\n",
       "12  21                                 Sports\n",
       "13  22                              Geography\n",
       "14  23                                History\n",
       "15  24                               Politics\n",
       "16  25                                    Art\n",
       "17  26                            Celebrities\n",
       "18  27                                Animals\n",
       "19  28                               Vehicles\n",
       "20  29                  Entertainment: Comics\n",
       "21  30                       Science: Gadgets\n",
       "22  31  Entertainment: Japanese Anime & Manga\n",
       "23  32    Entertainment: Cartoon & Animations"
      ]
     },
     "execution_count": 17,
     "metadata": {},
     "output_type": "execute_result"
    }
   ],
   "source": [
    "resp = requests.get(cat_url).json()\n",
    "categorias = pd.DataFrame(resp['trivia_categories'])\n",
    "categorias"
   ]
  },
  {
   "cell_type": "code",
   "execution_count": 18,
   "id": "880580bf",
   "metadata": {},
   "outputs": [],
   "source": [
    "base_url = 'https://opentdb.com/api.php'"
   ]
  },
  {
   "cell_type": "raw",
   "id": "858e5615",
   "metadata": {},
   "source": [
    "Params:\n",
    "\n",
    "difficulty: easy,medium,hard\n",
    "type: multiple, boolean"
   ]
  },
  {
   "cell_type": "code",
   "execution_count": 43,
   "id": "625bc304",
   "metadata": {},
   "outputs": [],
   "source": [
    "params = {\n",
    "\n",
    "    'amount': 10\n",
    "\n",
    "}"
   ]
  },
  {
   "cell_type": "code",
   "execution_count": 47,
   "id": "0cec600f",
   "metadata": {},
   "outputs": [],
   "source": [
    "params = {\n",
    "    'category': 11,\n",
    "    'difficulty': 'medium',\n",
    "    'amount': 10,\n",
    "\n",
    "    'type': 'multiple'\n",
    "}"
   ]
  },
  {
   "cell_type": "code",
   "execution_count": 48,
   "id": "9922523e",
   "metadata": {},
   "outputs": [
    {
     "data": {
      "text/plain": [
       "{'category': 11, 'difficulty': 'medium', 'amount': 10, 'type': 'multiple'}"
      ]
     },
     "execution_count": 48,
     "metadata": {},
     "output_type": "execute_result"
    }
   ],
   "source": [
    "params"
   ]
  },
  {
   "cell_type": "code",
   "execution_count": 49,
   "id": "ad48ef14",
   "metadata": {},
   "outputs": [],
   "source": [
    "resp = requests.get(base_url, params=params)"
   ]
  },
  {
   "cell_type": "code",
   "execution_count": 50,
   "id": "30ff79e2",
   "metadata": {},
   "outputs": [
    {
     "data": {
      "text/plain": [
       "'https://opentdb.com/api.php?category=11&difficulty=medium&amount=10&type=multiple'"
      ]
     },
     "execution_count": 50,
     "metadata": {},
     "output_type": "execute_result"
    }
   ],
   "source": [
    "resp.url"
   ]
  },
  {
   "cell_type": "raw",
   "id": "23734fdb",
   "metadata": {},
   "source": [
    " The API appends a \"Response Code\" to each API Call to help tell developers what the API is doing.\n",
    "\n",
    "    Code 0: Success Returned results successfully.\n",
    "    Code 1: No Results Could not return results. The API doesn't have enough questions for your query. (Ex. Asking for 50 Questions in a Category that only has 20.)\n",
    "    Code 2: Invalid Parameter Contains an invalid parameter. Arguements passed in aren't valid. (Ex. Amount = Five)\n",
    "    Code 3: Token Not Found Session Token does not exist.\n",
    "    Code 4: Token Empty Session Token has returned all possible questions for the specified query. Resetting the Token is necessary.\n"
   ]
  },
  {
   "cell_type": "code",
   "execution_count": 51,
   "id": "0ef96312",
   "metadata": {},
   "outputs": [
    {
     "data": {
      "text/plain": [
       "'{\"response_code\":0,\"results\":[{\"category\":\"Entertainment: Film\",\"type\":\"multiple\",\"difficulty\":\"medium\",\"question\":\"In which 1973 film does Yul Brynner play a robotic cowboy who malfunctions and goes on a killing\\\\tspree?\",\"correct_answer\":\"Westworld\",\"incorrect_answers\":[\"Runaway\",\"Android\",\"The Terminators\"]},{\"category\":\"Entertainment: Film\",\"type\":\"multiple\",\"difficulty\":\"medium\",\"question\":\"In the 1971 film &quot;Willy Wonka &amp; the Chocolate Factory&quot;, who played Willy Wonka?\",\"correct_answer\":\"Gene Wilder\",\"incorrect_answers\":[\"Shia LeBouf\",\"Peter Ostrum\",\"Johnny Depp\"]},{\"category\":\"Entertainment: Film\",\"type\":\"multiple\",\"difficulty\":\"medium\",\"question\":\"Who plays the Nemesis in the Resident Evil movies?\",\"correct_answer\":\"Matthew Taylor\",\"incorrect_answers\":[\"Jason Dip\",\"Eric Mabius\",\"Jimmy Matts\"]},{\"category\":\"Entertainment: Film\",\"type\":\"multiple\",\"difficulty\":\"medium\",\"question\":\"Which one of these action movies are shot entirely in one take?\",\"correct_answer\":\"Victoria\",\"incorrect_answers\":[\"Ip Man 2\",\"The Bourne Legacy\",\"L&eacute;on: The Professional\"]},{\"category\":\"Entertainment: Film\",\"type\":\"multiple\",\"difficulty\":\"medium\",\"question\":\"Who voiced Metalbeard in &quot;The Lego Movie&quot;?\",\"correct_answer\":\"Nick Offerman\",\"incorrect_answers\":[\"Liam Neeson\",\"Morgan Freeman\",\"Will Arnet\"]},{\"category\":\"Entertainment: Film\",\"type\":\"multiple\",\"difficulty\":\"medium\",\"question\":\"Leonardo Di Caprio won his first Best Actor Oscar for his performance in which film?\",\"correct_answer\":\"The Revenant\",\"incorrect_answers\":[\"The Wolf Of Wall Street\",\"Shutter Island\",\"Inception\"]},{\"category\":\"Entertainment: Film\",\"type\":\"multiple\",\"difficulty\":\"medium\",\"question\":\"Which documentary film maker wrote and starred in the film &quot;My Scientology Movie&quot; which first debuted in 2015?\",\"correct_answer\":\"Louis Theroux\",\"incorrect_answers\":[\"Errol Morris\",\"Joe Berlinger\",\"Adam Curtis\"]},{\"category\":\"Entertainment: Film\",\"type\":\"multiple\",\"difficulty\":\"medium\",\"question\":\"What Queen song plays during the final fight scene of the film &quot;Hardcore Henry&quot;?\",\"correct_answer\":\"Don&#039;t Stop Me Now\",\"incorrect_answers\":[\"Brighton Rock\",\"Another Bites the Dust\",\"We Will Rock You\"]},{\"category\":\"Entertainment: Film\",\"type\":\"multiple\",\"difficulty\":\"medium\",\"question\":\"In Finding Nemo, what was the name of Nemo&#039;s mom?\",\"correct_answer\":\"Coral\",\"incorrect_answers\":[\"Sandy\",\"Pearl\",\"Shelly\"]},{\"category\":\"Entertainment: Film\",\"type\":\"multiple\",\"difficulty\":\"medium\",\"question\":\"Who performed the opening theme song for the James Bond 007 movie &quot;Goldfinger&quot;?\",\"correct_answer\":\"Shirley Basey\",\"incorrect_answers\":[\"Tom Jones\",\"John Barry\",\"Sheena Easton\"]}]}'"
      ]
     },
     "execution_count": 51,
     "metadata": {},
     "output_type": "execute_result"
    }
   ],
   "source": [
    "resp.text"
   ]
  },
  {
   "cell_type": "code",
   "execution_count": 52,
   "id": "028b6496",
   "metadata": {},
   "outputs": [
    {
     "data": {
      "text/html": [
       "<div>\n",
       "<style scoped>\n",
       "    .dataframe tbody tr th:only-of-type {\n",
       "        vertical-align: middle;\n",
       "    }\n",
       "\n",
       "    .dataframe tbody tr th {\n",
       "        vertical-align: top;\n",
       "    }\n",
       "\n",
       "    .dataframe thead th {\n",
       "        text-align: right;\n",
       "    }\n",
       "</style>\n",
       "<table border=\"1\" class=\"dataframe\">\n",
       "  <thead>\n",
       "    <tr style=\"text-align: right;\">\n",
       "      <th></th>\n",
       "      <th>category</th>\n",
       "      <th>type</th>\n",
       "      <th>difficulty</th>\n",
       "      <th>question</th>\n",
       "      <th>correct_answer</th>\n",
       "      <th>incorrect_answers</th>\n",
       "    </tr>\n",
       "  </thead>\n",
       "  <tbody>\n",
       "    <tr>\n",
       "      <th>0</th>\n",
       "      <td>Entertainment: Film</td>\n",
       "      <td>multiple</td>\n",
       "      <td>medium</td>\n",
       "      <td>In which 1973 film does Yul Brynner play a rob...</td>\n",
       "      <td>Westworld</td>\n",
       "      <td>[Runaway, Android, The Terminators]</td>\n",
       "    </tr>\n",
       "    <tr>\n",
       "      <th>1</th>\n",
       "      <td>Entertainment: Film</td>\n",
       "      <td>multiple</td>\n",
       "      <td>medium</td>\n",
       "      <td>In the 1971 film &amp;quot;Willy Wonka &amp;amp; the C...</td>\n",
       "      <td>Gene Wilder</td>\n",
       "      <td>[Shia LeBouf, Peter Ostrum, Johnny Depp]</td>\n",
       "    </tr>\n",
       "    <tr>\n",
       "      <th>2</th>\n",
       "      <td>Entertainment: Film</td>\n",
       "      <td>multiple</td>\n",
       "      <td>medium</td>\n",
       "      <td>Who plays the Nemesis in the Resident Evil mov...</td>\n",
       "      <td>Matthew Taylor</td>\n",
       "      <td>[Jason Dip, Eric Mabius, Jimmy Matts]</td>\n",
       "    </tr>\n",
       "    <tr>\n",
       "      <th>3</th>\n",
       "      <td>Entertainment: Film</td>\n",
       "      <td>multiple</td>\n",
       "      <td>medium</td>\n",
       "      <td>Which one of these action movies are shot enti...</td>\n",
       "      <td>Victoria</td>\n",
       "      <td>[Ip Man 2, The Bourne Legacy, L&amp;eacute;on: The...</td>\n",
       "    </tr>\n",
       "    <tr>\n",
       "      <th>4</th>\n",
       "      <td>Entertainment: Film</td>\n",
       "      <td>multiple</td>\n",
       "      <td>medium</td>\n",
       "      <td>Who voiced Metalbeard in &amp;quot;The Lego Movie&amp;...</td>\n",
       "      <td>Nick Offerman</td>\n",
       "      <td>[Liam Neeson, Morgan Freeman, Will Arnet]</td>\n",
       "    </tr>\n",
       "    <tr>\n",
       "      <th>5</th>\n",
       "      <td>Entertainment: Film</td>\n",
       "      <td>multiple</td>\n",
       "      <td>medium</td>\n",
       "      <td>Leonardo Di Caprio won his first Best Actor Os...</td>\n",
       "      <td>The Revenant</td>\n",
       "      <td>[The Wolf Of Wall Street, Shutter Island, Ince...</td>\n",
       "    </tr>\n",
       "    <tr>\n",
       "      <th>6</th>\n",
       "      <td>Entertainment: Film</td>\n",
       "      <td>multiple</td>\n",
       "      <td>medium</td>\n",
       "      <td>Which documentary film maker wrote and starred...</td>\n",
       "      <td>Louis Theroux</td>\n",
       "      <td>[Errol Morris, Joe Berlinger, Adam Curtis]</td>\n",
       "    </tr>\n",
       "    <tr>\n",
       "      <th>7</th>\n",
       "      <td>Entertainment: Film</td>\n",
       "      <td>multiple</td>\n",
       "      <td>medium</td>\n",
       "      <td>What Queen song plays during the final fight s...</td>\n",
       "      <td>Don&amp;#039;t Stop Me Now</td>\n",
       "      <td>[Brighton Rock, Another Bites the Dust, We Wil...</td>\n",
       "    </tr>\n",
       "    <tr>\n",
       "      <th>8</th>\n",
       "      <td>Entertainment: Film</td>\n",
       "      <td>multiple</td>\n",
       "      <td>medium</td>\n",
       "      <td>In Finding Nemo, what was the name of Nemo&amp;#03...</td>\n",
       "      <td>Coral</td>\n",
       "      <td>[Sandy, Pearl, Shelly]</td>\n",
       "    </tr>\n",
       "    <tr>\n",
       "      <th>9</th>\n",
       "      <td>Entertainment: Film</td>\n",
       "      <td>multiple</td>\n",
       "      <td>medium</td>\n",
       "      <td>Who performed the opening theme song for the J...</td>\n",
       "      <td>Shirley Basey</td>\n",
       "      <td>[Tom Jones, John Barry, Sheena Easton]</td>\n",
       "    </tr>\n",
       "  </tbody>\n",
       "</table>\n",
       "</div>"
      ],
      "text/plain": [
       "              category      type difficulty  \\\n",
       "0  Entertainment: Film  multiple     medium   \n",
       "1  Entertainment: Film  multiple     medium   \n",
       "2  Entertainment: Film  multiple     medium   \n",
       "3  Entertainment: Film  multiple     medium   \n",
       "4  Entertainment: Film  multiple     medium   \n",
       "5  Entertainment: Film  multiple     medium   \n",
       "6  Entertainment: Film  multiple     medium   \n",
       "7  Entertainment: Film  multiple     medium   \n",
       "8  Entertainment: Film  multiple     medium   \n",
       "9  Entertainment: Film  multiple     medium   \n",
       "\n",
       "                                            question          correct_answer  \\\n",
       "0  In which 1973 film does Yul Brynner play a rob...               Westworld   \n",
       "1  In the 1971 film &quot;Willy Wonka &amp; the C...             Gene Wilder   \n",
       "2  Who plays the Nemesis in the Resident Evil mov...          Matthew Taylor   \n",
       "3  Which one of these action movies are shot enti...                Victoria   \n",
       "4  Who voiced Metalbeard in &quot;The Lego Movie&...           Nick Offerman   \n",
       "5  Leonardo Di Caprio won his first Best Actor Os...            The Revenant   \n",
       "6  Which documentary film maker wrote and starred...           Louis Theroux   \n",
       "7  What Queen song plays during the final fight s...  Don&#039;t Stop Me Now   \n",
       "8  In Finding Nemo, what was the name of Nemo&#03...                   Coral   \n",
       "9  Who performed the opening theme song for the J...           Shirley Basey   \n",
       "\n",
       "                                   incorrect_answers  \n",
       "0                [Runaway, Android, The Terminators]  \n",
       "1           [Shia LeBouf, Peter Ostrum, Johnny Depp]  \n",
       "2              [Jason Dip, Eric Mabius, Jimmy Matts]  \n",
       "3  [Ip Man 2, The Bourne Legacy, L&eacute;on: The...  \n",
       "4          [Liam Neeson, Morgan Freeman, Will Arnet]  \n",
       "5  [The Wolf Of Wall Street, Shutter Island, Ince...  \n",
       "6         [Errol Morris, Joe Berlinger, Adam Curtis]  \n",
       "7  [Brighton Rock, Another Bites the Dust, We Wil...  \n",
       "8                             [Sandy, Pearl, Shelly]  \n",
       "9             [Tom Jones, John Barry, Sheena Easton]  "
      ]
     },
     "execution_count": 52,
     "metadata": {},
     "output_type": "execute_result"
    }
   ],
   "source": [
    "results = pd.DataFrame(resp.json()['results'])\n",
    "results"
   ]
  },
  {
   "cell_type": "code",
   "execution_count": null,
   "id": "8b9c7e95",
   "metadata": {},
   "outputs": [],
   "source": []
  },
  {
   "cell_type": "code",
   "execution_count": 53,
   "id": "5c59b4f9",
   "metadata": {},
   "outputs": [],
   "source": [
    "class OpenTrivia:\n",
    "    \n",
    "    def __init__(self):\n",
    "        self.api_url = 'https://opentdb.com/api.php'\n",
    "        \n",
    "    def call_api(self, params):\n",
    "        resp = requests.get(self.api_url, params)\n",
    "        if resp.ok:\n",
    "            return resp.json()['results']\n",
    "        else:\n",
    "            raise Exception('No se pudieron recuperar preguntas')\n",
    "            \n",
    "    def get_questions(self):\n",
    "        params = {\n",
    "            'amount':3,\n",
    "            'difficulty':'easy',\n",
    "            'type':'multiple'\n",
    "        }\n",
    "        easy_questions = pd.DataFrame(self.call_api(params))\n",
    "        \n",
    "        return easy_questions"
   ]
  },
  {
   "cell_type": "code",
   "execution_count": 54,
   "id": "f7941e05",
   "metadata": {},
   "outputs": [],
   "source": [
    "ot = OpenTrivia()"
   ]
  },
  {
   "cell_type": "code",
   "execution_count": 56,
   "id": "86f1ef36",
   "metadata": {},
   "outputs": [],
   "source": [
    "df = ot.get_questions()"
   ]
  },
  {
   "cell_type": "code",
   "execution_count": 69,
   "id": "d20bb4c1",
   "metadata": {},
   "outputs": [],
   "source": [
    "answers = [(r,0) for r in df.loc[0,'incorrect_answers']]\n",
    "answers.append((df.loc[0,'correct_answer'], 1))"
   ]
  },
  {
   "cell_type": "code",
   "execution_count": 77,
   "id": "f7b4f099",
   "metadata": {},
   "outputs": [],
   "source": [
    "random.shuffle(answers)"
   ]
  },
  {
   "cell_type": "code",
   "execution_count": 78,
   "id": "e543b4e4",
   "metadata": {},
   "outputs": [
    {
     "data": {
      "text/plain": [
       "[('General Median Time', 0),\n",
       " ('Glasgow Man Time', 0),\n",
       " ('Global Meridian Time', 0),\n",
       " ('Greenwich Mean Time', 1)]"
      ]
     },
     "execution_count": 78,
     "metadata": {},
     "output_type": "execute_result"
    }
   ],
   "source": [
    "answers"
   ]
  },
  {
   "cell_type": "code",
   "execution_count": 83,
   "id": "cabd3da6",
   "metadata": {},
   "outputs": [],
   "source": [
    "def build_answers(row):\n",
    "    \n",
    "    answers = [(r,0) for r in row['incorrect_answers']]\n",
    "    answers.append((row['correct_answer'], 1))\n",
    "    random.shuffle(answers)\n",
    "    return answers"
   ]
  },
  {
   "cell_type": "code",
   "execution_count": 84,
   "id": "8b57c3cd",
   "metadata": {},
   "outputs": [
    {
     "data": {
      "text/plain": [
       "0    [(Glasgow Man Time, 0), (Greenwich Mean Time, ...\n",
       "1    [(Tim Schafer, 0), ( Tommy Refenes, 0), (Ron G...\n",
       "2    [(January 13th, 2019, 0), (October 31st, 2019,...\n",
       "dtype: object"
      ]
     },
     "execution_count": 84,
     "metadata": {},
     "output_type": "execute_result"
    }
   ],
   "source": [
    "df.apply(build_answers, axis=1)"
   ]
  },
  {
   "cell_type": "code",
   "execution_count": 85,
   "id": "17e4a42e",
   "metadata": {},
   "outputs": [],
   "source": [
    "df['answers'] = df.apply(build_answers, axis=1)"
   ]
  },
  {
   "cell_type": "code",
   "execution_count": 86,
   "id": "23d3a7c0",
   "metadata": {},
   "outputs": [
    {
     "data": {
      "text/html": [
       "<div>\n",
       "<style scoped>\n",
       "    .dataframe tbody tr th:only-of-type {\n",
       "        vertical-align: middle;\n",
       "    }\n",
       "\n",
       "    .dataframe tbody tr th {\n",
       "        vertical-align: top;\n",
       "    }\n",
       "\n",
       "    .dataframe thead th {\n",
       "        text-align: right;\n",
       "    }\n",
       "</style>\n",
       "<table border=\"1\" class=\"dataframe\">\n",
       "  <thead>\n",
       "    <tr style=\"text-align: right;\">\n",
       "      <th></th>\n",
       "      <th>category</th>\n",
       "      <th>type</th>\n",
       "      <th>difficulty</th>\n",
       "      <th>question</th>\n",
       "      <th>correct_answer</th>\n",
       "      <th>incorrect_answers</th>\n",
       "      <th>answers</th>\n",
       "    </tr>\n",
       "  </thead>\n",
       "  <tbody>\n",
       "    <tr>\n",
       "      <th>0</th>\n",
       "      <td>General Knowledge</td>\n",
       "      <td>multiple</td>\n",
       "      <td>easy</td>\n",
       "      <td>What do the letters in the GMT time zone stand...</td>\n",
       "      <td>Greenwich Mean Time</td>\n",
       "      <td>[Global Meridian Time, General Median Time, Gl...</td>\n",
       "      <td>[(Global Meridian Time, 0), (Greenwich Mean Ti...</td>\n",
       "    </tr>\n",
       "    <tr>\n",
       "      <th>1</th>\n",
       "      <td>Entertainment: Video Games</td>\n",
       "      <td>multiple</td>\n",
       "      <td>easy</td>\n",
       "      <td>Who created the indie adventure game &amp;quot;Nig...</td>\n",
       "      <td>Alec Holowka</td>\n",
       "      <td>[Ron Gilbert, Tim Schafer,  Tommy Refenes]</td>\n",
       "      <td>[(Alec Holowka, 1), ( Tommy Refenes, 0), (Tim ...</td>\n",
       "    </tr>\n",
       "    <tr>\n",
       "      <th>2</th>\n",
       "      <td>Entertainment: Video Games</td>\n",
       "      <td>multiple</td>\n",
       "      <td>easy</td>\n",
       "      <td>When was &amp;quot;Luigi&amp;#039;s Mansion 3&amp;quot; re...</td>\n",
       "      <td>October 31st, 2019</td>\n",
       "      <td>[January 13th, 2019, September 6th, 2018, Octo...</td>\n",
       "      <td>[(September 6th, 2018, 0), (January 13th, 2019...</td>\n",
       "    </tr>\n",
       "  </tbody>\n",
       "</table>\n",
       "</div>"
      ],
      "text/plain": [
       "                     category      type difficulty  \\\n",
       "0           General Knowledge  multiple       easy   \n",
       "1  Entertainment: Video Games  multiple       easy   \n",
       "2  Entertainment: Video Games  multiple       easy   \n",
       "\n",
       "                                            question       correct_answer  \\\n",
       "0  What do the letters in the GMT time zone stand...  Greenwich Mean Time   \n",
       "1  Who created the indie adventure game &quot;Nig...         Alec Holowka   \n",
       "2  When was &quot;Luigi&#039;s Mansion 3&quot; re...   October 31st, 2019   \n",
       "\n",
       "                                   incorrect_answers  \\\n",
       "0  [Global Meridian Time, General Median Time, Gl...   \n",
       "1         [Ron Gilbert, Tim Schafer,  Tommy Refenes]   \n",
       "2  [January 13th, 2019, September 6th, 2018, Octo...   \n",
       "\n",
       "                                             answers  \n",
       "0  [(Global Meridian Time, 0), (Greenwich Mean Ti...  \n",
       "1  [(Alec Holowka, 1), ( Tommy Refenes, 0), (Tim ...  \n",
       "2  [(September 6th, 2018, 0), (January 13th, 2019...  "
      ]
     },
     "execution_count": 86,
     "metadata": {},
     "output_type": "execute_result"
    }
   ],
   "source": [
    "df"
   ]
  },
  {
   "cell_type": "code",
   "execution_count": null,
   "id": "cec7cc29",
   "metadata": {},
   "outputs": [],
   "source": []
  }
 ],
 "metadata": {
  "kernelspec": {
   "display_name": "Python 3",
   "language": "python",
   "name": "python3"
  },
  "language_info": {
   "codemirror_mode": {
    "name": "ipython",
    "version": 3
   },
   "file_extension": ".py",
   "mimetype": "text/x-python",
   "name": "python",
   "nbconvert_exporter": "python",
   "pygments_lexer": "ipython3",
   "version": "3.8.8"
  },
  "toc": {
   "base_numbering": 1,
   "nav_menu": {},
   "number_sections": true,
   "sideBar": true,
   "skip_h1_title": false,
   "title_cell": "Table of Contents",
   "title_sidebar": "Contents",
   "toc_cell": true,
   "toc_position": {},
   "toc_section_display": true,
   "toc_window_display": false
  },
  "varInspector": {
   "cols": {
    "lenName": 16,
    "lenType": 16,
    "lenVar": 40
   },
   "kernels_config": {
    "python": {
     "delete_cmd_postfix": "",
     "delete_cmd_prefix": "del ",
     "library": "var_list.py",
     "varRefreshCmd": "print(var_dic_list())"
    },
    "r": {
     "delete_cmd_postfix": ") ",
     "delete_cmd_prefix": "rm(",
     "library": "var_list.r",
     "varRefreshCmd": "cat(var_dic_list()) "
    }
   },
   "types_to_exclude": [
    "module",
    "function",
    "builtin_function_or_method",
    "instance",
    "_Feature"
   ],
   "window_display": false
  }
 },
 "nbformat": 4,
 "nbformat_minor": 5
}
