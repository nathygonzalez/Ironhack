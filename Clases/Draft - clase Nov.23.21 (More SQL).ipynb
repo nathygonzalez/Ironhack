{
 "cells": [
  {
   "cell_type": "code",
   "execution_count": 1,
   "id": "45edbd51",
   "metadata": {},
   "outputs": [],
   "source": [
    "import pandas as pd\n",
    "import seaborn as sns"
   ]
  },
  {
   "cell_type": "code",
   "execution_count": null,
   "id": "2f31f0cd",
   "metadata": {},
   "outputs": [],
   "source": []
  },
  {
   "cell_type": "code",
   "execution_count": null,
   "id": "6f912102",
   "metadata": {},
   "outputs": [],
   "source": []
  },
  {
   "cell_type": "code",
   "execution_count": null,
   "id": "d5619f75",
   "metadata": {},
   "outputs": [],
   "source": []
  },
  {
   "cell_type": "code",
   "execution_count": null,
   "id": "a4a052c7",
   "metadata": {},
   "outputs": [],
   "source": []
  },
  {
   "cell_type": "code",
   "execution_count": null,
   "id": "a256a5ea",
   "metadata": {},
   "outputs": [],
   "source": [
    "df = sns.load "
   ]
  },
  {
   "cell_type": "code",
   "execution_count": null,
   "id": "b761ac0d",
   "metadata": {},
   "outputs": [],
   "source": [
    "sns.catplot (data=df, x='sex',\n",
    "                      y='body_mass_g',\n",
    "            kind = 'box')"
   ]
  },
  {
   "cell_type": "code",
   "execution_count": null,
   "id": "b05e6d02",
   "metadata": {},
   "outputs": [],
   "source": [
    "sns.catplot (data=df, x='sex',\n",
    "                      y='body_mass_g',\n",
    "            kind = 'strip',\n",
    "            hue = 'species')"
   ]
  },
  {
   "cell_type": "code",
   "execution_count": null,
   "id": "e594f697",
   "metadata": {},
   "outputs": [],
   "source": [
    "sns.catplot (data=df, x='sex',\n",
    "                      y='bill_lenght_mm',\n",
    "            kind = 'box',\n",
    "            hue = 'species')"
   ]
  },
  {
   "cell_type": "code",
   "execution_count": null,
   "id": "98ed49a0",
   "metadata": {},
   "outputs": [],
   "source": [
    "sns.relplot(data=df, x='flipper_lenght_mm',\n",
    "                     y= 'body_mass_g')"
   ]
  },
  {
   "cell_type": "code",
   "execution_count": null,
   "id": "3d42d736",
   "metadata": {},
   "outputs": [],
   "source": [
    "sns.relplot(data=df, x='flipper_lenght_mm',\n",
    "                     y= 'body_mass_g', hue ='sex')"
   ]
  },
  {
   "cell_type": "code",
   "execution_count": null,
   "id": "108ff276",
   "metadata": {},
   "outputs": [],
   "source": [
    "sns.relplot(data=df, x='flipper_lenght_mm',\n",
    "                     y= 'body_mass_g',\n",
    "            hue ='sex', col='species')"
   ]
  },
  {
   "cell_type": "code",
   "execution_count": null,
   "id": "b74de53d",
   "metadata": {},
   "outputs": [],
   "source": [
    "sns.lmplot(data=df, x='flipper_lenght_mm',\n",
    "                     y= 'body_mass_g')"
   ]
  },
  {
   "cell_type": "code",
   "execution_count": null,
   "id": "7c7b8479",
   "metadata": {},
   "outputs": [],
   "source": [
    "# usar com cuidado, pode demorar para gerar se houverem mtas\n",
    "sns.pairplot(data=df)"
   ]
  },
  {
   "cell_type": "code",
   "execution_count": null,
   "id": "467ff31d",
   "metadata": {},
   "outputs": [],
   "source": [
    "sns.pairplot(data=df, hue='species')"
   ]
  },
  {
   "cell_type": "code",
   "execution_count": null,
   "id": "eb8cdba4",
   "metadata": {},
   "outputs": [],
   "source": [
    "# pode ser só com uma parte do dataframe, pelo menos 3, só numericas\n",
    "sns.pairplot(data=df [['flipper_lenght_mm', 'body_mass_g', 'sex']], hue='species')"
   ]
  },
  {
   "cell_type": "code",
   "execution_count": null,
   "id": "edf7cf7b",
   "metadata": {},
   "outputs": [],
   "source": [
    "sns.countplot(data=df, x='species')"
   ]
  },
  {
   "cell_type": "code",
   "execution_count": null,
   "id": "333ced9f",
   "metadata": {},
   "outputs": [],
   "source": [
    "sns.displot(df.body_mass_g, kind='kde', hue='species' )"
   ]
  },
  {
   "cell_type": "code",
   "execution_count": null,
   "id": "11151f3e",
   "metadata": {},
   "outputs": [],
   "source": [
    "sns.displot(data=df, x='body_mass_g',\n",
    "            kind='kde', hue='species', col='sex' )"
   ]
  },
  {
   "cell_type": "code",
   "execution_count": null,
   "id": "db074834",
   "metadata": {},
   "outputs": [],
   "source": []
  },
  {
   "cell_type": "code",
   "execution_count": null,
   "id": "0b8aee8f",
   "metadata": {},
   "outputs": [],
   "source": []
  },
  {
   "cell_type": "code",
   "execution_count": null,
   "id": "d0b33dcb",
   "metadata": {},
   "outputs": [],
   "source": []
  },
  {
   "cell_type": "code",
   "execution_count": null,
   "id": "947660d6",
   "metadata": {},
   "outputs": [],
   "source": []
  },
  {
   "cell_type": "code",
   "execution_count": null,
   "id": "6109cc11",
   "metadata": {},
   "outputs": [],
   "source": []
  }
 ],
 "metadata": {
  "kernelspec": {
   "display_name": "Python 3",
   "language": "python",
   "name": "python3"
  },
  "language_info": {
   "codemirror_mode": {
    "name": "ipython",
    "version": 3
   },
   "file_extension": ".py",
   "mimetype": "text/x-python",
   "name": "python",
   "nbconvert_exporter": "python",
   "pygments_lexer": "ipython3",
   "version": "3.8.8"
  }
 },
 "nbformat": 4,
 "nbformat_minor": 5
}
