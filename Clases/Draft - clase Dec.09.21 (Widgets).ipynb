{
 "cells": [
  {
   "cell_type": "code",
   "execution_count": 2,
   "id": "896440f8",
   "metadata": {},
   "outputs": [],
   "source": [
    "from ipywidgets import interact"
   ]
  },
  {
   "cell_type": "code",
   "execution_count": 3,
   "id": "c03cac9a",
   "metadata": {},
   "outputs": [],
   "source": [
    "import pandas as pd\n",
    "import seaborn as sns"
   ]
  },
  {
   "cell_type": "code",
   "execution_count": 5,
   "id": "095a4f14",
   "metadata": {},
   "outputs": [],
   "source": [
    "df = sns.load_dataset ('penguins')"
   ]
  },
  {
   "cell_type": "code",
   "execution_count": 6,
   "id": "f76a63a0",
   "metadata": {},
   "outputs": [],
   "source": [
    "def explore (n):\n",
    "    display(df.head(n))"
   ]
  },
  {
   "cell_type": "code",
   "execution_count": 9,
   "id": "20eb7083",
   "metadata": {},
   "outputs": [
    {
     "data": {
      "text/html": [
       "<div>\n",
       "<style scoped>\n",
       "    .dataframe tbody tr th:only-of-type {\n",
       "        vertical-align: middle;\n",
       "    }\n",
       "\n",
       "    .dataframe tbody tr th {\n",
       "        vertical-align: top;\n",
       "    }\n",
       "\n",
       "    .dataframe thead th {\n",
       "        text-align: right;\n",
       "    }\n",
       "</style>\n",
       "<table border=\"1\" class=\"dataframe\">\n",
       "  <thead>\n",
       "    <tr style=\"text-align: right;\">\n",
       "      <th></th>\n",
       "      <th>species</th>\n",
       "      <th>island</th>\n",
       "      <th>bill_length_mm</th>\n",
       "      <th>bill_depth_mm</th>\n",
       "      <th>flipper_length_mm</th>\n",
       "      <th>body_mass_g</th>\n",
       "      <th>sex</th>\n",
       "    </tr>\n",
       "  </thead>\n",
       "  <tbody>\n",
       "    <tr>\n",
       "      <th>0</th>\n",
       "      <td>Adelie</td>\n",
       "      <td>Torgersen</td>\n",
       "      <td>39.1</td>\n",
       "      <td>18.7</td>\n",
       "      <td>181.0</td>\n",
       "      <td>3750.0</td>\n",
       "      <td>Male</td>\n",
       "    </tr>\n",
       "    <tr>\n",
       "      <th>1</th>\n",
       "      <td>Adelie</td>\n",
       "      <td>Torgersen</td>\n",
       "      <td>39.5</td>\n",
       "      <td>17.4</td>\n",
       "      <td>186.0</td>\n",
       "      <td>3800.0</td>\n",
       "      <td>Female</td>\n",
       "    </tr>\n",
       "    <tr>\n",
       "      <th>2</th>\n",
       "      <td>Adelie</td>\n",
       "      <td>Torgersen</td>\n",
       "      <td>40.3</td>\n",
       "      <td>18.0</td>\n",
       "      <td>195.0</td>\n",
       "      <td>3250.0</td>\n",
       "      <td>Female</td>\n",
       "    </tr>\n",
       "    <tr>\n",
       "      <th>3</th>\n",
       "      <td>Adelie</td>\n",
       "      <td>Torgersen</td>\n",
       "      <td>NaN</td>\n",
       "      <td>NaN</td>\n",
       "      <td>NaN</td>\n",
       "      <td>NaN</td>\n",
       "      <td>NaN</td>\n",
       "    </tr>\n",
       "    <tr>\n",
       "      <th>4</th>\n",
       "      <td>Adelie</td>\n",
       "      <td>Torgersen</td>\n",
       "      <td>36.7</td>\n",
       "      <td>19.3</td>\n",
       "      <td>193.0</td>\n",
       "      <td>3450.0</td>\n",
       "      <td>Female</td>\n",
       "    </tr>\n",
       "    <tr>\n",
       "      <th>5</th>\n",
       "      <td>Adelie</td>\n",
       "      <td>Torgersen</td>\n",
       "      <td>39.3</td>\n",
       "      <td>20.6</td>\n",
       "      <td>190.0</td>\n",
       "      <td>3650.0</td>\n",
       "      <td>Male</td>\n",
       "    </tr>\n",
       "    <tr>\n",
       "      <th>6</th>\n",
       "      <td>Adelie</td>\n",
       "      <td>Torgersen</td>\n",
       "      <td>38.9</td>\n",
       "      <td>17.8</td>\n",
       "      <td>181.0</td>\n",
       "      <td>3625.0</td>\n",
       "      <td>Female</td>\n",
       "    </tr>\n",
       "    <tr>\n",
       "      <th>7</th>\n",
       "      <td>Adelie</td>\n",
       "      <td>Torgersen</td>\n",
       "      <td>39.2</td>\n",
       "      <td>19.6</td>\n",
       "      <td>195.0</td>\n",
       "      <td>4675.0</td>\n",
       "      <td>Male</td>\n",
       "    </tr>\n",
       "    <tr>\n",
       "      <th>8</th>\n",
       "      <td>Adelie</td>\n",
       "      <td>Torgersen</td>\n",
       "      <td>34.1</td>\n",
       "      <td>18.1</td>\n",
       "      <td>193.0</td>\n",
       "      <td>3475.0</td>\n",
       "      <td>NaN</td>\n",
       "    </tr>\n",
       "    <tr>\n",
       "      <th>9</th>\n",
       "      <td>Adelie</td>\n",
       "      <td>Torgersen</td>\n",
       "      <td>42.0</td>\n",
       "      <td>20.2</td>\n",
       "      <td>190.0</td>\n",
       "      <td>4250.0</td>\n",
       "      <td>NaN</td>\n",
       "    </tr>\n",
       "  </tbody>\n",
       "</table>\n",
       "</div>"
      ],
      "text/plain": [
       "  species     island  bill_length_mm  bill_depth_mm  flipper_length_mm  \\\n",
       "0  Adelie  Torgersen            39.1           18.7              181.0   \n",
       "1  Adelie  Torgersen            39.5           17.4              186.0   \n",
       "2  Adelie  Torgersen            40.3           18.0              195.0   \n",
       "3  Adelie  Torgersen             NaN            NaN                NaN   \n",
       "4  Adelie  Torgersen            36.7           19.3              193.0   \n",
       "5  Adelie  Torgersen            39.3           20.6              190.0   \n",
       "6  Adelie  Torgersen            38.9           17.8              181.0   \n",
       "7  Adelie  Torgersen            39.2           19.6              195.0   \n",
       "8  Adelie  Torgersen            34.1           18.1              193.0   \n",
       "9  Adelie  Torgersen            42.0           20.2              190.0   \n",
       "\n",
       "   body_mass_g     sex  \n",
       "0       3750.0    Male  \n",
       "1       3800.0  Female  \n",
       "2       3250.0  Female  \n",
       "3          NaN     NaN  \n",
       "4       3450.0  Female  \n",
       "5       3650.0    Male  \n",
       "6       3625.0  Female  \n",
       "7       4675.0    Male  \n",
       "8       3475.0     NaN  \n",
       "9       4250.0     NaN  "
      ]
     },
     "metadata": {},
     "output_type": "display_data"
    }
   ],
   "source": [
    "explore(10)"
   ]
  },
  {
   "cell_type": "code",
   "execution_count": 10,
   "id": "d044f143",
   "metadata": {},
   "outputs": [
    {
     "data": {
      "application/vnd.jupyter.widget-view+json": {
       "model_id": "ee95a8ffd74a4149a4f98747ab4f7c3b",
       "version_major": 2,
       "version_minor": 0
      },
      "text/plain": [
       "interactive(children=(IntSlider(value=11, description='n', max=20, min=2), Output()), _dom_classes=('widget-in…"
      ]
     },
     "metadata": {},
     "output_type": "display_data"
    },
    {
     "data": {
      "text/plain": [
       "<function __main__.explore(n)>"
      ]
     },
     "execution_count": 10,
     "metadata": {},
     "output_type": "execute_result"
    }
   ],
   "source": [
    "interact (explore, n=(2,20))"
   ]
  },
  {
   "cell_type": "code",
   "execution_count": 11,
   "id": "4cfb391e",
   "metadata": {},
   "outputs": [
    {
     "data": {
      "application/vnd.jupyter.widget-view+json": {
       "model_id": "431efab28dde4cdb9d8e3abfce5514ca",
       "version_major": 2,
       "version_minor": 0
      },
      "text/plain": [
       "interactive(children=(IntSlider(value=11, description='n', max=20, min=2), Output()), _dom_classes=('widget-in…"
      ]
     },
     "metadata": {},
     "output_type": "display_data"
    }
   ],
   "source": [
    "@interact (n=(2,20))\n",
    "def explore (n):\n",
    "    display(df.head(n))"
   ]
  },
  {
   "cell_type": "code",
   "execution_count": 12,
   "id": "c8229c27",
   "metadata": {},
   "outputs": [
    {
     "data": {
      "application/vnd.jupyter.widget-view+json": {
       "model_id": "9279c59198e34e59b7cd049719fa2d8e",
       "version_major": 2,
       "version_minor": 0
      },
      "text/plain": [
       "interactive(children=(Dropdown(description='col', options=('bill_length_mm', 'bill_depth_mm', 'flipper_length_…"
      ]
     },
     "metadata": {},
     "output_type": "display_data"
    }
   ],
   "source": [
    "@interact (col=df.select_dtypes('number').columns)\n",
    "def histograma (col):\n",
    "    df[col].hist()"
   ]
  },
  {
   "cell_type": "code",
   "execution_count": 13,
   "id": "2faf9048",
   "metadata": {},
   "outputs": [],
   "source": [
    "import matplotlib.pyplot as plt"
   ]
  },
  {
   "cell_type": "code",
   "execution_count": 30,
   "id": "87ea1850",
   "metadata": {},
   "outputs": [],
   "source": [
    "plt.rcParams['figure.figsize'] = (12,8)"
   ]
  },
  {
   "cell_type": "code",
   "execution_count": 31,
   "id": "5ac6f83a",
   "metadata": {},
   "outputs": [
    {
     "data": {
      "application/vnd.jupyter.widget-view+json": {
       "model_id": "5b76f0c31fb145e391e6398c69beee2f",
       "version_major": 2,
       "version_minor": 0
      },
      "text/plain": [
       "interactive(children=(Dropdown(description='col', options=('bill_length_mm', 'bill_depth_mm', 'flipper_length_…"
      ]
     },
     "metadata": {},
     "output_type": "display_data"
    }
   ],
   "source": [
    "@interact (col=df.select_dtypes('number').columns)\n",
    "def histograma(col):\n",
    "    df[col].hist()"
   ]
  },
  {
   "cell_type": "code",
   "execution_count": 15,
   "id": "42e6c41c",
   "metadata": {},
   "outputs": [],
   "source": [
    "import plotly.express as px"
   ]
  },
  {
   "cell_type": "code",
   "execution_count": 28,
   "id": "c22b9729",
   "metadata": {},
   "outputs": [],
   "source": [
    "def scatterplot(x,y):\n",
    "    display(px.scatter(df, x, y))"
   ]
  },
  {
   "cell_type": "code",
   "execution_count": 29,
   "id": "575c1fc6",
   "metadata": {},
   "outputs": [
    {
     "data": {
      "application/vnd.plotly.v1+json": {
       "config": {
        "plotlyServerURL": "https://plot.ly"
       },
       "data": [
        {
         "hovertemplate": "body_mass_g=%{x}<br>flipper_length_mm=%{y}<extra></extra>",
         "legendgroup": "",
         "marker": {
          "color": "#636efa",
          "symbol": "circle"
         },
         "mode": "markers",
         "name": "",
         "orientation": "v",
         "showlegend": false,
         "type": "scatter",
         "x": [
          3750,
          3800,
          3250,
          null,
          3450,
          3650,
          3625,
          4675,
          3475,
          4250,
          3300,
          3700,
          3200,
          3800,
          4400,
          3700,
          3450,
          4500,
          3325,
          4200,
          3400,
          3600,
          3800,
          3950,
          3800,
          3800,
          3550,
          3200,
          3150,
          3950,
          3250,
          3900,
          3300,
          3900,
          3325,
          4150,
          3950,
          3550,
          3300,
          4650,
          3150,
          3900,
          3100,
          4400,
          3000,
          4600,
          3425,
          2975,
          3450,
          4150,
          3500,
          4300,
          3450,
          4050,
          2900,
          3700,
          3550,
          3800,
          2850,
          3750,
          3150,
          4400,
          3600,
          4050,
          2850,
          3950,
          3350,
          4100,
          3050,
          4450,
          3600,
          3900,
          3550,
          4150,
          3700,
          4250,
          3700,
          3900,
          3550,
          4000,
          3200,
          4700,
          3800,
          4200,
          3350,
          3550,
          3800,
          3500,
          3950,
          3600,
          3550,
          4300,
          3400,
          4450,
          3300,
          4300,
          3700,
          4350,
          2900,
          4100,
          3725,
          4725,
          3075,
          4250,
          2925,
          3550,
          3750,
          3900,
          3175,
          4775,
          3825,
          4600,
          3200,
          4275,
          3900,
          4075,
          2900,
          3775,
          3350,
          3325,
          3150,
          3500,
          3450,
          3875,
          3050,
          4000,
          3275,
          4300,
          3050,
          4000,
          3325,
          3500,
          3500,
          4475,
          3425,
          3900,
          3175,
          3975,
          3400,
          4250,
          3400,
          3475,
          3050,
          3725,
          3000,
          3650,
          4250,
          3475,
          3450,
          3750,
          3700,
          4000,
          3500,
          3900,
          3650,
          3525,
          3725,
          3950,
          3250,
          3750,
          4150,
          3700,
          3800,
          3775,
          3700,
          4050,
          3575,
          4050,
          3300,
          3700,
          3450,
          4400,
          3600,
          3400,
          2900,
          3800,
          3300,
          4150,
          3400,
          3800,
          3700,
          4550,
          3200,
          4300,
          3350,
          4100,
          3600,
          3900,
          3850,
          4800,
          2700,
          4500,
          3950,
          3650,
          3550,
          3500,
          3675,
          4450,
          3400,
          4300,
          3250,
          3675,
          3325,
          3950,
          3600,
          4050,
          3350,
          3450,
          3250,
          4050,
          3800,
          3525,
          3950,
          3650,
          3650,
          4000,
          3400,
          3775,
          4100,
          3775,
          4500,
          5700,
          4450,
          5700,
          5400,
          4550,
          4800,
          5200,
          4400,
          5150,
          4650,
          5550,
          4650,
          5850,
          4200,
          5850,
          4150,
          6300,
          4800,
          5350,
          5700,
          5000,
          4400,
          5050,
          5000,
          5100,
          4100,
          5650,
          4600,
          5550,
          5250,
          4700,
          5050,
          6050,
          5150,
          5400,
          4950,
          5250,
          4350,
          5350,
          3950,
          5700,
          4300,
          4750,
          5550,
          4900,
          4200,
          5400,
          5100,
          5300,
          4850,
          5300,
          4400,
          5000,
          4900,
          5050,
          4300,
          5000,
          4450,
          5550,
          4200,
          5300,
          4400,
          5650,
          4700,
          5700,
          4650,
          5800,
          4700,
          5550,
          4750,
          5000,
          5100,
          5200,
          4700,
          5800,
          4600,
          6000,
          4750,
          5950,
          4625,
          5450,
          4725,
          5350,
          4750,
          5600,
          4600,
          5300,
          4875,
          5550,
          4950,
          5400,
          4750,
          5650,
          4850,
          5200,
          4925,
          4875,
          4625,
          5250,
          4850,
          5600,
          4975,
          5500,
          4725,
          5500,
          4700,
          5500,
          4575,
          5500,
          5000,
          5950,
          4650,
          5500,
          4375,
          5850,
          4875,
          6000,
          4925,
          null,
          4850,
          5750,
          5200,
          5400
         ],
         "xaxis": "x",
         "y": [
          181,
          186,
          195,
          null,
          193,
          190,
          181,
          195,
          193,
          190,
          186,
          180,
          182,
          191,
          198,
          185,
          195,
          197,
          184,
          194,
          174,
          180,
          189,
          185,
          180,
          187,
          183,
          187,
          172,
          180,
          178,
          178,
          188,
          184,
          195,
          196,
          190,
          180,
          181,
          184,
          182,
          195,
          186,
          196,
          185,
          190,
          182,
          179,
          190,
          191,
          186,
          188,
          190,
          200,
          187,
          191,
          186,
          193,
          181,
          194,
          185,
          195,
          185,
          192,
          184,
          192,
          195,
          188,
          190,
          198,
          190,
          190,
          196,
          197,
          190,
          195,
          191,
          184,
          187,
          195,
          189,
          196,
          187,
          193,
          191,
          194,
          190,
          189,
          189,
          190,
          202,
          205,
          185,
          186,
          187,
          208,
          190,
          196,
          178,
          192,
          192,
          203,
          183,
          190,
          193,
          184,
          199,
          190,
          181,
          197,
          198,
          191,
          193,
          197,
          191,
          196,
          188,
          199,
          189,
          189,
          187,
          198,
          176,
          202,
          186,
          199,
          191,
          195,
          191,
          210,
          190,
          197,
          193,
          199,
          187,
          190,
          191,
          200,
          185,
          193,
          193,
          187,
          188,
          190,
          192,
          185,
          190,
          184,
          195,
          193,
          187,
          201,
          192,
          196,
          193,
          188,
          197,
          198,
          178,
          197,
          195,
          198,
          193,
          194,
          185,
          201,
          190,
          201,
          197,
          181,
          190,
          195,
          181,
          191,
          187,
          193,
          195,
          197,
          200,
          200,
          191,
          205,
          187,
          201,
          187,
          203,
          195,
          199,
          195,
          210,
          192,
          205,
          210,
          187,
          196,
          196,
          196,
          201,
          190,
          212,
          187,
          198,
          199,
          201,
          193,
          203,
          187,
          197,
          191,
          203,
          202,
          194,
          206,
          189,
          195,
          207,
          202,
          193,
          210,
          198,
          211,
          230,
          210,
          218,
          215,
          210,
          211,
          219,
          209,
          215,
          214,
          216,
          214,
          213,
          210,
          217,
          210,
          221,
          209,
          222,
          218,
          215,
          213,
          215,
          215,
          215,
          216,
          215,
          210,
          220,
          222,
          209,
          207,
          230,
          220,
          220,
          213,
          219,
          208,
          208,
          208,
          225,
          210,
          216,
          222,
          217,
          210,
          225,
          213,
          215,
          210,
          220,
          210,
          225,
          217,
          220,
          208,
          220,
          208,
          224,
          208,
          221,
          214,
          231,
          219,
          230,
          214,
          229,
          220,
          223,
          216,
          221,
          221,
          217,
          216,
          230,
          209,
          220,
          215,
          223,
          212,
          221,
          212,
          224,
          212,
          228,
          218,
          218,
          212,
          230,
          218,
          228,
          212,
          224,
          214,
          226,
          216,
          222,
          203,
          225,
          219,
          228,
          215,
          228,
          216,
          215,
          210,
          219,
          208,
          209,
          216,
          229,
          213,
          230,
          217,
          230,
          217,
          222,
          214,
          null,
          215,
          222,
          212,
          213
         ],
         "yaxis": "y"
        }
       ],
       "layout": {
        "legend": {
         "tracegroupgap": 0
        },
        "margin": {
         "t": 60
        },
        "template": {
         "data": {
          "bar": [
           {
            "error_x": {
             "color": "#2a3f5f"
            },
            "error_y": {
             "color": "#2a3f5f"
            },
            "marker": {
             "line": {
              "color": "#E5ECF6",
              "width": 0.5
             },
             "pattern": {
              "fillmode": "overlay",
              "size": 10,
              "solidity": 0.2
             }
            },
            "type": "bar"
           }
          ],
          "barpolar": [
           {
            "marker": {
             "line": {
              "color": "#E5ECF6",
              "width": 0.5
             },
             "pattern": {
              "fillmode": "overlay",
              "size": 10,
              "solidity": 0.2
             }
            },
            "type": "barpolar"
           }
          ],
          "carpet": [
           {
            "aaxis": {
             "endlinecolor": "#2a3f5f",
             "gridcolor": "white",
             "linecolor": "white",
             "minorgridcolor": "white",
             "startlinecolor": "#2a3f5f"
            },
            "baxis": {
             "endlinecolor": "#2a3f5f",
             "gridcolor": "white",
             "linecolor": "white",
             "minorgridcolor": "white",
             "startlinecolor": "#2a3f5f"
            },
            "type": "carpet"
           }
          ],
          "choropleth": [
           {
            "colorbar": {
             "outlinewidth": 0,
             "ticks": ""
            },
            "type": "choropleth"
           }
          ],
          "contour": [
           {
            "colorbar": {
             "outlinewidth": 0,
             "ticks": ""
            },
            "colorscale": [
             [
              0,
              "#0d0887"
             ],
             [
              0.1111111111111111,
              "#46039f"
             ],
             [
              0.2222222222222222,
              "#7201a8"
             ],
             [
              0.3333333333333333,
              "#9c179e"
             ],
             [
              0.4444444444444444,
              "#bd3786"
             ],
             [
              0.5555555555555556,
              "#d8576b"
             ],
             [
              0.6666666666666666,
              "#ed7953"
             ],
             [
              0.7777777777777778,
              "#fb9f3a"
             ],
             [
              0.8888888888888888,
              "#fdca26"
             ],
             [
              1,
              "#f0f921"
             ]
            ],
            "type": "contour"
           }
          ],
          "contourcarpet": [
           {
            "colorbar": {
             "outlinewidth": 0,
             "ticks": ""
            },
            "type": "contourcarpet"
           }
          ],
          "heatmap": [
           {
            "colorbar": {
             "outlinewidth": 0,
             "ticks": ""
            },
            "colorscale": [
             [
              0,
              "#0d0887"
             ],
             [
              0.1111111111111111,
              "#46039f"
             ],
             [
              0.2222222222222222,
              "#7201a8"
             ],
             [
              0.3333333333333333,
              "#9c179e"
             ],
             [
              0.4444444444444444,
              "#bd3786"
             ],
             [
              0.5555555555555556,
              "#d8576b"
             ],
             [
              0.6666666666666666,
              "#ed7953"
             ],
             [
              0.7777777777777778,
              "#fb9f3a"
             ],
             [
              0.8888888888888888,
              "#fdca26"
             ],
             [
              1,
              "#f0f921"
             ]
            ],
            "type": "heatmap"
           }
          ],
          "heatmapgl": [
           {
            "colorbar": {
             "outlinewidth": 0,
             "ticks": ""
            },
            "colorscale": [
             [
              0,
              "#0d0887"
             ],
             [
              0.1111111111111111,
              "#46039f"
             ],
             [
              0.2222222222222222,
              "#7201a8"
             ],
             [
              0.3333333333333333,
              "#9c179e"
             ],
             [
              0.4444444444444444,
              "#bd3786"
             ],
             [
              0.5555555555555556,
              "#d8576b"
             ],
             [
              0.6666666666666666,
              "#ed7953"
             ],
             [
              0.7777777777777778,
              "#fb9f3a"
             ],
             [
              0.8888888888888888,
              "#fdca26"
             ],
             [
              1,
              "#f0f921"
             ]
            ],
            "type": "heatmapgl"
           }
          ],
          "histogram": [
           {
            "marker": {
             "pattern": {
              "fillmode": "overlay",
              "size": 10,
              "solidity": 0.2
             }
            },
            "type": "histogram"
           }
          ],
          "histogram2d": [
           {
            "colorbar": {
             "outlinewidth": 0,
             "ticks": ""
            },
            "colorscale": [
             [
              0,
              "#0d0887"
             ],
             [
              0.1111111111111111,
              "#46039f"
             ],
             [
              0.2222222222222222,
              "#7201a8"
             ],
             [
              0.3333333333333333,
              "#9c179e"
             ],
             [
              0.4444444444444444,
              "#bd3786"
             ],
             [
              0.5555555555555556,
              "#d8576b"
             ],
             [
              0.6666666666666666,
              "#ed7953"
             ],
             [
              0.7777777777777778,
              "#fb9f3a"
             ],
             [
              0.8888888888888888,
              "#fdca26"
             ],
             [
              1,
              "#f0f921"
             ]
            ],
            "type": "histogram2d"
           }
          ],
          "histogram2dcontour": [
           {
            "colorbar": {
             "outlinewidth": 0,
             "ticks": ""
            },
            "colorscale": [
             [
              0,
              "#0d0887"
             ],
             [
              0.1111111111111111,
              "#46039f"
             ],
             [
              0.2222222222222222,
              "#7201a8"
             ],
             [
              0.3333333333333333,
              "#9c179e"
             ],
             [
              0.4444444444444444,
              "#bd3786"
             ],
             [
              0.5555555555555556,
              "#d8576b"
             ],
             [
              0.6666666666666666,
              "#ed7953"
             ],
             [
              0.7777777777777778,
              "#fb9f3a"
             ],
             [
              0.8888888888888888,
              "#fdca26"
             ],
             [
              1,
              "#f0f921"
             ]
            ],
            "type": "histogram2dcontour"
           }
          ],
          "mesh3d": [
           {
            "colorbar": {
             "outlinewidth": 0,
             "ticks": ""
            },
            "type": "mesh3d"
           }
          ],
          "parcoords": [
           {
            "line": {
             "colorbar": {
              "outlinewidth": 0,
              "ticks": ""
             }
            },
            "type": "parcoords"
           }
          ],
          "pie": [
           {
            "automargin": true,
            "type": "pie"
           }
          ],
          "scatter": [
           {
            "marker": {
             "colorbar": {
              "outlinewidth": 0,
              "ticks": ""
             }
            },
            "type": "scatter"
           }
          ],
          "scatter3d": [
           {
            "line": {
             "colorbar": {
              "outlinewidth": 0,
              "ticks": ""
             }
            },
            "marker": {
             "colorbar": {
              "outlinewidth": 0,
              "ticks": ""
             }
            },
            "type": "scatter3d"
           }
          ],
          "scattercarpet": [
           {
            "marker": {
             "colorbar": {
              "outlinewidth": 0,
              "ticks": ""
             }
            },
            "type": "scattercarpet"
           }
          ],
          "scattergeo": [
           {
            "marker": {
             "colorbar": {
              "outlinewidth": 0,
              "ticks": ""
             }
            },
            "type": "scattergeo"
           }
          ],
          "scattergl": [
           {
            "marker": {
             "colorbar": {
              "outlinewidth": 0,
              "ticks": ""
             }
            },
            "type": "scattergl"
           }
          ],
          "scattermapbox": [
           {
            "marker": {
             "colorbar": {
              "outlinewidth": 0,
              "ticks": ""
             }
            },
            "type": "scattermapbox"
           }
          ],
          "scatterpolar": [
           {
            "marker": {
             "colorbar": {
              "outlinewidth": 0,
              "ticks": ""
             }
            },
            "type": "scatterpolar"
           }
          ],
          "scatterpolargl": [
           {
            "marker": {
             "colorbar": {
              "outlinewidth": 0,
              "ticks": ""
             }
            },
            "type": "scatterpolargl"
           }
          ],
          "scatterternary": [
           {
            "marker": {
             "colorbar": {
              "outlinewidth": 0,
              "ticks": ""
             }
            },
            "type": "scatterternary"
           }
          ],
          "surface": [
           {
            "colorbar": {
             "outlinewidth": 0,
             "ticks": ""
            },
            "colorscale": [
             [
              0,
              "#0d0887"
             ],
             [
              0.1111111111111111,
              "#46039f"
             ],
             [
              0.2222222222222222,
              "#7201a8"
             ],
             [
              0.3333333333333333,
              "#9c179e"
             ],
             [
              0.4444444444444444,
              "#bd3786"
             ],
             [
              0.5555555555555556,
              "#d8576b"
             ],
             [
              0.6666666666666666,
              "#ed7953"
             ],
             [
              0.7777777777777778,
              "#fb9f3a"
             ],
             [
              0.8888888888888888,
              "#fdca26"
             ],
             [
              1,
              "#f0f921"
             ]
            ],
            "type": "surface"
           }
          ],
          "table": [
           {
            "cells": {
             "fill": {
              "color": "#EBF0F8"
             },
             "line": {
              "color": "white"
             }
            },
            "header": {
             "fill": {
              "color": "#C8D4E3"
             },
             "line": {
              "color": "white"
             }
            },
            "type": "table"
           }
          ]
         },
         "layout": {
          "annotationdefaults": {
           "arrowcolor": "#2a3f5f",
           "arrowhead": 0,
           "arrowwidth": 1
          },
          "autotypenumbers": "strict",
          "coloraxis": {
           "colorbar": {
            "outlinewidth": 0,
            "ticks": ""
           }
          },
          "colorscale": {
           "diverging": [
            [
             0,
             "#8e0152"
            ],
            [
             0.1,
             "#c51b7d"
            ],
            [
             0.2,
             "#de77ae"
            ],
            [
             0.3,
             "#f1b6da"
            ],
            [
             0.4,
             "#fde0ef"
            ],
            [
             0.5,
             "#f7f7f7"
            ],
            [
             0.6,
             "#e6f5d0"
            ],
            [
             0.7,
             "#b8e186"
            ],
            [
             0.8,
             "#7fbc41"
            ],
            [
             0.9,
             "#4d9221"
            ],
            [
             1,
             "#276419"
            ]
           ],
           "sequential": [
            [
             0,
             "#0d0887"
            ],
            [
             0.1111111111111111,
             "#46039f"
            ],
            [
             0.2222222222222222,
             "#7201a8"
            ],
            [
             0.3333333333333333,
             "#9c179e"
            ],
            [
             0.4444444444444444,
             "#bd3786"
            ],
            [
             0.5555555555555556,
             "#d8576b"
            ],
            [
             0.6666666666666666,
             "#ed7953"
            ],
            [
             0.7777777777777778,
             "#fb9f3a"
            ],
            [
             0.8888888888888888,
             "#fdca26"
            ],
            [
             1,
             "#f0f921"
            ]
           ],
           "sequentialminus": [
            [
             0,
             "#0d0887"
            ],
            [
             0.1111111111111111,
             "#46039f"
            ],
            [
             0.2222222222222222,
             "#7201a8"
            ],
            [
             0.3333333333333333,
             "#9c179e"
            ],
            [
             0.4444444444444444,
             "#bd3786"
            ],
            [
             0.5555555555555556,
             "#d8576b"
            ],
            [
             0.6666666666666666,
             "#ed7953"
            ],
            [
             0.7777777777777778,
             "#fb9f3a"
            ],
            [
             0.8888888888888888,
             "#fdca26"
            ],
            [
             1,
             "#f0f921"
            ]
           ]
          },
          "colorway": [
           "#636efa",
           "#EF553B",
           "#00cc96",
           "#ab63fa",
           "#FFA15A",
           "#19d3f3",
           "#FF6692",
           "#B6E880",
           "#FF97FF",
           "#FECB52"
          ],
          "font": {
           "color": "#2a3f5f"
          },
          "geo": {
           "bgcolor": "white",
           "lakecolor": "white",
           "landcolor": "#E5ECF6",
           "showlakes": true,
           "showland": true,
           "subunitcolor": "white"
          },
          "hoverlabel": {
           "align": "left"
          },
          "hovermode": "closest",
          "mapbox": {
           "style": "light"
          },
          "paper_bgcolor": "white",
          "plot_bgcolor": "#E5ECF6",
          "polar": {
           "angularaxis": {
            "gridcolor": "white",
            "linecolor": "white",
            "ticks": ""
           },
           "bgcolor": "#E5ECF6",
           "radialaxis": {
            "gridcolor": "white",
            "linecolor": "white",
            "ticks": ""
           }
          },
          "scene": {
           "xaxis": {
            "backgroundcolor": "#E5ECF6",
            "gridcolor": "white",
            "gridwidth": 2,
            "linecolor": "white",
            "showbackground": true,
            "ticks": "",
            "zerolinecolor": "white"
           },
           "yaxis": {
            "backgroundcolor": "#E5ECF6",
            "gridcolor": "white",
            "gridwidth": 2,
            "linecolor": "white",
            "showbackground": true,
            "ticks": "",
            "zerolinecolor": "white"
           },
           "zaxis": {
            "backgroundcolor": "#E5ECF6",
            "gridcolor": "white",
            "gridwidth": 2,
            "linecolor": "white",
            "showbackground": true,
            "ticks": "",
            "zerolinecolor": "white"
           }
          },
          "shapedefaults": {
           "line": {
            "color": "#2a3f5f"
           }
          },
          "ternary": {
           "aaxis": {
            "gridcolor": "white",
            "linecolor": "white",
            "ticks": ""
           },
           "baxis": {
            "gridcolor": "white",
            "linecolor": "white",
            "ticks": ""
           },
           "bgcolor": "#E5ECF6",
           "caxis": {
            "gridcolor": "white",
            "linecolor": "white",
            "ticks": ""
           }
          },
          "title": {
           "x": 0.05
          },
          "xaxis": {
           "automargin": true,
           "gridcolor": "white",
           "linecolor": "white",
           "ticks": "",
           "title": {
            "standoff": 15
           },
           "zerolinecolor": "white",
           "zerolinewidth": 2
          },
          "yaxis": {
           "automargin": true,
           "gridcolor": "white",
           "linecolor": "white",
           "ticks": "",
           "title": {
            "standoff": 15
           },
           "zerolinecolor": "white",
           "zerolinewidth": 2
          }
         }
        },
        "xaxis": {
         "anchor": "y",
         "domain": [
          0,
          1
         ],
         "title": {
          "text": "body_mass_g"
         }
        },
        "yaxis": {
         "anchor": "x",
         "domain": [
          0,
          1
         ],
         "title": {
          "text": "flipper_length_mm"
         }
        }
       }
      },
      "text/html": [
       "<div>                            <div id=\"dd1c3862-05fa-4927-8cf6-19b3dd1f2f04\" class=\"plotly-graph-div\" style=\"height:525px; width:100%;\"></div>            <script type=\"text/javascript\">                require([\"plotly\"], function(Plotly) {                    window.PLOTLYENV=window.PLOTLYENV || {};                                    if (document.getElementById(\"dd1c3862-05fa-4927-8cf6-19b3dd1f2f04\")) {                    Plotly.newPlot(                        \"dd1c3862-05fa-4927-8cf6-19b3dd1f2f04\",                        [{\"hovertemplate\":\"body_mass_g=%{x}<br>flipper_length_mm=%{y}<extra></extra>\",\"legendgroup\":\"\",\"marker\":{\"color\":\"#636efa\",\"symbol\":\"circle\"},\"mode\":\"markers\",\"name\":\"\",\"orientation\":\"v\",\"showlegend\":false,\"type\":\"scatter\",\"x\":[3750.0,3800.0,3250.0,null,3450.0,3650.0,3625.0,4675.0,3475.0,4250.0,3300.0,3700.0,3200.0,3800.0,4400.0,3700.0,3450.0,4500.0,3325.0,4200.0,3400.0,3600.0,3800.0,3950.0,3800.0,3800.0,3550.0,3200.0,3150.0,3950.0,3250.0,3900.0,3300.0,3900.0,3325.0,4150.0,3950.0,3550.0,3300.0,4650.0,3150.0,3900.0,3100.0,4400.0,3000.0,4600.0,3425.0,2975.0,3450.0,4150.0,3500.0,4300.0,3450.0,4050.0,2900.0,3700.0,3550.0,3800.0,2850.0,3750.0,3150.0,4400.0,3600.0,4050.0,2850.0,3950.0,3350.0,4100.0,3050.0,4450.0,3600.0,3900.0,3550.0,4150.0,3700.0,4250.0,3700.0,3900.0,3550.0,4000.0,3200.0,4700.0,3800.0,4200.0,3350.0,3550.0,3800.0,3500.0,3950.0,3600.0,3550.0,4300.0,3400.0,4450.0,3300.0,4300.0,3700.0,4350.0,2900.0,4100.0,3725.0,4725.0,3075.0,4250.0,2925.0,3550.0,3750.0,3900.0,3175.0,4775.0,3825.0,4600.0,3200.0,4275.0,3900.0,4075.0,2900.0,3775.0,3350.0,3325.0,3150.0,3500.0,3450.0,3875.0,3050.0,4000.0,3275.0,4300.0,3050.0,4000.0,3325.0,3500.0,3500.0,4475.0,3425.0,3900.0,3175.0,3975.0,3400.0,4250.0,3400.0,3475.0,3050.0,3725.0,3000.0,3650.0,4250.0,3475.0,3450.0,3750.0,3700.0,4000.0,3500.0,3900.0,3650.0,3525.0,3725.0,3950.0,3250.0,3750.0,4150.0,3700.0,3800.0,3775.0,3700.0,4050.0,3575.0,4050.0,3300.0,3700.0,3450.0,4400.0,3600.0,3400.0,2900.0,3800.0,3300.0,4150.0,3400.0,3800.0,3700.0,4550.0,3200.0,4300.0,3350.0,4100.0,3600.0,3900.0,3850.0,4800.0,2700.0,4500.0,3950.0,3650.0,3550.0,3500.0,3675.0,4450.0,3400.0,4300.0,3250.0,3675.0,3325.0,3950.0,3600.0,4050.0,3350.0,3450.0,3250.0,4050.0,3800.0,3525.0,3950.0,3650.0,3650.0,4000.0,3400.0,3775.0,4100.0,3775.0,4500.0,5700.0,4450.0,5700.0,5400.0,4550.0,4800.0,5200.0,4400.0,5150.0,4650.0,5550.0,4650.0,5850.0,4200.0,5850.0,4150.0,6300.0,4800.0,5350.0,5700.0,5000.0,4400.0,5050.0,5000.0,5100.0,4100.0,5650.0,4600.0,5550.0,5250.0,4700.0,5050.0,6050.0,5150.0,5400.0,4950.0,5250.0,4350.0,5350.0,3950.0,5700.0,4300.0,4750.0,5550.0,4900.0,4200.0,5400.0,5100.0,5300.0,4850.0,5300.0,4400.0,5000.0,4900.0,5050.0,4300.0,5000.0,4450.0,5550.0,4200.0,5300.0,4400.0,5650.0,4700.0,5700.0,4650.0,5800.0,4700.0,5550.0,4750.0,5000.0,5100.0,5200.0,4700.0,5800.0,4600.0,6000.0,4750.0,5950.0,4625.0,5450.0,4725.0,5350.0,4750.0,5600.0,4600.0,5300.0,4875.0,5550.0,4950.0,5400.0,4750.0,5650.0,4850.0,5200.0,4925.0,4875.0,4625.0,5250.0,4850.0,5600.0,4975.0,5500.0,4725.0,5500.0,4700.0,5500.0,4575.0,5500.0,5000.0,5950.0,4650.0,5500.0,4375.0,5850.0,4875.0,6000.0,4925.0,null,4850.0,5750.0,5200.0,5400.0],\"xaxis\":\"x\",\"y\":[181.0,186.0,195.0,null,193.0,190.0,181.0,195.0,193.0,190.0,186.0,180.0,182.0,191.0,198.0,185.0,195.0,197.0,184.0,194.0,174.0,180.0,189.0,185.0,180.0,187.0,183.0,187.0,172.0,180.0,178.0,178.0,188.0,184.0,195.0,196.0,190.0,180.0,181.0,184.0,182.0,195.0,186.0,196.0,185.0,190.0,182.0,179.0,190.0,191.0,186.0,188.0,190.0,200.0,187.0,191.0,186.0,193.0,181.0,194.0,185.0,195.0,185.0,192.0,184.0,192.0,195.0,188.0,190.0,198.0,190.0,190.0,196.0,197.0,190.0,195.0,191.0,184.0,187.0,195.0,189.0,196.0,187.0,193.0,191.0,194.0,190.0,189.0,189.0,190.0,202.0,205.0,185.0,186.0,187.0,208.0,190.0,196.0,178.0,192.0,192.0,203.0,183.0,190.0,193.0,184.0,199.0,190.0,181.0,197.0,198.0,191.0,193.0,197.0,191.0,196.0,188.0,199.0,189.0,189.0,187.0,198.0,176.0,202.0,186.0,199.0,191.0,195.0,191.0,210.0,190.0,197.0,193.0,199.0,187.0,190.0,191.0,200.0,185.0,193.0,193.0,187.0,188.0,190.0,192.0,185.0,190.0,184.0,195.0,193.0,187.0,201.0,192.0,196.0,193.0,188.0,197.0,198.0,178.0,197.0,195.0,198.0,193.0,194.0,185.0,201.0,190.0,201.0,197.0,181.0,190.0,195.0,181.0,191.0,187.0,193.0,195.0,197.0,200.0,200.0,191.0,205.0,187.0,201.0,187.0,203.0,195.0,199.0,195.0,210.0,192.0,205.0,210.0,187.0,196.0,196.0,196.0,201.0,190.0,212.0,187.0,198.0,199.0,201.0,193.0,203.0,187.0,197.0,191.0,203.0,202.0,194.0,206.0,189.0,195.0,207.0,202.0,193.0,210.0,198.0,211.0,230.0,210.0,218.0,215.0,210.0,211.0,219.0,209.0,215.0,214.0,216.0,214.0,213.0,210.0,217.0,210.0,221.0,209.0,222.0,218.0,215.0,213.0,215.0,215.0,215.0,216.0,215.0,210.0,220.0,222.0,209.0,207.0,230.0,220.0,220.0,213.0,219.0,208.0,208.0,208.0,225.0,210.0,216.0,222.0,217.0,210.0,225.0,213.0,215.0,210.0,220.0,210.0,225.0,217.0,220.0,208.0,220.0,208.0,224.0,208.0,221.0,214.0,231.0,219.0,230.0,214.0,229.0,220.0,223.0,216.0,221.0,221.0,217.0,216.0,230.0,209.0,220.0,215.0,223.0,212.0,221.0,212.0,224.0,212.0,228.0,218.0,218.0,212.0,230.0,218.0,228.0,212.0,224.0,214.0,226.0,216.0,222.0,203.0,225.0,219.0,228.0,215.0,228.0,216.0,215.0,210.0,219.0,208.0,209.0,216.0,229.0,213.0,230.0,217.0,230.0,217.0,222.0,214.0,null,215.0,222.0,212.0,213.0],\"yaxis\":\"y\"}],                        {\"legend\":{\"tracegroupgap\":0},\"margin\":{\"t\":60},\"template\":{\"data\":{\"bar\":[{\"error_x\":{\"color\":\"#2a3f5f\"},\"error_y\":{\"color\":\"#2a3f5f\"},\"marker\":{\"line\":{\"color\":\"#E5ECF6\",\"width\":0.5},\"pattern\":{\"fillmode\":\"overlay\",\"size\":10,\"solidity\":0.2}},\"type\":\"bar\"}],\"barpolar\":[{\"marker\":{\"line\":{\"color\":\"#E5ECF6\",\"width\":0.5},\"pattern\":{\"fillmode\":\"overlay\",\"size\":10,\"solidity\":0.2}},\"type\":\"barpolar\"}],\"carpet\":[{\"aaxis\":{\"endlinecolor\":\"#2a3f5f\",\"gridcolor\":\"white\",\"linecolor\":\"white\",\"minorgridcolor\":\"white\",\"startlinecolor\":\"#2a3f5f\"},\"baxis\":{\"endlinecolor\":\"#2a3f5f\",\"gridcolor\":\"white\",\"linecolor\":\"white\",\"minorgridcolor\":\"white\",\"startlinecolor\":\"#2a3f5f\"},\"type\":\"carpet\"}],\"choropleth\":[{\"colorbar\":{\"outlinewidth\":0,\"ticks\":\"\"},\"type\":\"choropleth\"}],\"contour\":[{\"colorbar\":{\"outlinewidth\":0,\"ticks\":\"\"},\"colorscale\":[[0.0,\"#0d0887\"],[0.1111111111111111,\"#46039f\"],[0.2222222222222222,\"#7201a8\"],[0.3333333333333333,\"#9c179e\"],[0.4444444444444444,\"#bd3786\"],[0.5555555555555556,\"#d8576b\"],[0.6666666666666666,\"#ed7953\"],[0.7777777777777778,\"#fb9f3a\"],[0.8888888888888888,\"#fdca26\"],[1.0,\"#f0f921\"]],\"type\":\"contour\"}],\"contourcarpet\":[{\"colorbar\":{\"outlinewidth\":0,\"ticks\":\"\"},\"type\":\"contourcarpet\"}],\"heatmap\":[{\"colorbar\":{\"outlinewidth\":0,\"ticks\":\"\"},\"colorscale\":[[0.0,\"#0d0887\"],[0.1111111111111111,\"#46039f\"],[0.2222222222222222,\"#7201a8\"],[0.3333333333333333,\"#9c179e\"],[0.4444444444444444,\"#bd3786\"],[0.5555555555555556,\"#d8576b\"],[0.6666666666666666,\"#ed7953\"],[0.7777777777777778,\"#fb9f3a\"],[0.8888888888888888,\"#fdca26\"],[1.0,\"#f0f921\"]],\"type\":\"heatmap\"}],\"heatmapgl\":[{\"colorbar\":{\"outlinewidth\":0,\"ticks\":\"\"},\"colorscale\":[[0.0,\"#0d0887\"],[0.1111111111111111,\"#46039f\"],[0.2222222222222222,\"#7201a8\"],[0.3333333333333333,\"#9c179e\"],[0.4444444444444444,\"#bd3786\"],[0.5555555555555556,\"#d8576b\"],[0.6666666666666666,\"#ed7953\"],[0.7777777777777778,\"#fb9f3a\"],[0.8888888888888888,\"#fdca26\"],[1.0,\"#f0f921\"]],\"type\":\"heatmapgl\"}],\"histogram\":[{\"marker\":{\"pattern\":{\"fillmode\":\"overlay\",\"size\":10,\"solidity\":0.2}},\"type\":\"histogram\"}],\"histogram2d\":[{\"colorbar\":{\"outlinewidth\":0,\"ticks\":\"\"},\"colorscale\":[[0.0,\"#0d0887\"],[0.1111111111111111,\"#46039f\"],[0.2222222222222222,\"#7201a8\"],[0.3333333333333333,\"#9c179e\"],[0.4444444444444444,\"#bd3786\"],[0.5555555555555556,\"#d8576b\"],[0.6666666666666666,\"#ed7953\"],[0.7777777777777778,\"#fb9f3a\"],[0.8888888888888888,\"#fdca26\"],[1.0,\"#f0f921\"]],\"type\":\"histogram2d\"}],\"histogram2dcontour\":[{\"colorbar\":{\"outlinewidth\":0,\"ticks\":\"\"},\"colorscale\":[[0.0,\"#0d0887\"],[0.1111111111111111,\"#46039f\"],[0.2222222222222222,\"#7201a8\"],[0.3333333333333333,\"#9c179e\"],[0.4444444444444444,\"#bd3786\"],[0.5555555555555556,\"#d8576b\"],[0.6666666666666666,\"#ed7953\"],[0.7777777777777778,\"#fb9f3a\"],[0.8888888888888888,\"#fdca26\"],[1.0,\"#f0f921\"]],\"type\":\"histogram2dcontour\"}],\"mesh3d\":[{\"colorbar\":{\"outlinewidth\":0,\"ticks\":\"\"},\"type\":\"mesh3d\"}],\"parcoords\":[{\"line\":{\"colorbar\":{\"outlinewidth\":0,\"ticks\":\"\"}},\"type\":\"parcoords\"}],\"pie\":[{\"automargin\":true,\"type\":\"pie\"}],\"scatter\":[{\"marker\":{\"colorbar\":{\"outlinewidth\":0,\"ticks\":\"\"}},\"type\":\"scatter\"}],\"scatter3d\":[{\"line\":{\"colorbar\":{\"outlinewidth\":0,\"ticks\":\"\"}},\"marker\":{\"colorbar\":{\"outlinewidth\":0,\"ticks\":\"\"}},\"type\":\"scatter3d\"}],\"scattercarpet\":[{\"marker\":{\"colorbar\":{\"outlinewidth\":0,\"ticks\":\"\"}},\"type\":\"scattercarpet\"}],\"scattergeo\":[{\"marker\":{\"colorbar\":{\"outlinewidth\":0,\"ticks\":\"\"}},\"type\":\"scattergeo\"}],\"scattergl\":[{\"marker\":{\"colorbar\":{\"outlinewidth\":0,\"ticks\":\"\"}},\"type\":\"scattergl\"}],\"scattermapbox\":[{\"marker\":{\"colorbar\":{\"outlinewidth\":0,\"ticks\":\"\"}},\"type\":\"scattermapbox\"}],\"scatterpolar\":[{\"marker\":{\"colorbar\":{\"outlinewidth\":0,\"ticks\":\"\"}},\"type\":\"scatterpolar\"}],\"scatterpolargl\":[{\"marker\":{\"colorbar\":{\"outlinewidth\":0,\"ticks\":\"\"}},\"type\":\"scatterpolargl\"}],\"scatterternary\":[{\"marker\":{\"colorbar\":{\"outlinewidth\":0,\"ticks\":\"\"}},\"type\":\"scatterternary\"}],\"surface\":[{\"colorbar\":{\"outlinewidth\":0,\"ticks\":\"\"},\"colorscale\":[[0.0,\"#0d0887\"],[0.1111111111111111,\"#46039f\"],[0.2222222222222222,\"#7201a8\"],[0.3333333333333333,\"#9c179e\"],[0.4444444444444444,\"#bd3786\"],[0.5555555555555556,\"#d8576b\"],[0.6666666666666666,\"#ed7953\"],[0.7777777777777778,\"#fb9f3a\"],[0.8888888888888888,\"#fdca26\"],[1.0,\"#f0f921\"]],\"type\":\"surface\"}],\"table\":[{\"cells\":{\"fill\":{\"color\":\"#EBF0F8\"},\"line\":{\"color\":\"white\"}},\"header\":{\"fill\":{\"color\":\"#C8D4E3\"},\"line\":{\"color\":\"white\"}},\"type\":\"table\"}]},\"layout\":{\"annotationdefaults\":{\"arrowcolor\":\"#2a3f5f\",\"arrowhead\":0,\"arrowwidth\":1},\"autotypenumbers\":\"strict\",\"coloraxis\":{\"colorbar\":{\"outlinewidth\":0,\"ticks\":\"\"}},\"colorscale\":{\"diverging\":[[0,\"#8e0152\"],[0.1,\"#c51b7d\"],[0.2,\"#de77ae\"],[0.3,\"#f1b6da\"],[0.4,\"#fde0ef\"],[0.5,\"#f7f7f7\"],[0.6,\"#e6f5d0\"],[0.7,\"#b8e186\"],[0.8,\"#7fbc41\"],[0.9,\"#4d9221\"],[1,\"#276419\"]],\"sequential\":[[0.0,\"#0d0887\"],[0.1111111111111111,\"#46039f\"],[0.2222222222222222,\"#7201a8\"],[0.3333333333333333,\"#9c179e\"],[0.4444444444444444,\"#bd3786\"],[0.5555555555555556,\"#d8576b\"],[0.6666666666666666,\"#ed7953\"],[0.7777777777777778,\"#fb9f3a\"],[0.8888888888888888,\"#fdca26\"],[1.0,\"#f0f921\"]],\"sequentialminus\":[[0.0,\"#0d0887\"],[0.1111111111111111,\"#46039f\"],[0.2222222222222222,\"#7201a8\"],[0.3333333333333333,\"#9c179e\"],[0.4444444444444444,\"#bd3786\"],[0.5555555555555556,\"#d8576b\"],[0.6666666666666666,\"#ed7953\"],[0.7777777777777778,\"#fb9f3a\"],[0.8888888888888888,\"#fdca26\"],[1.0,\"#f0f921\"]]},\"colorway\":[\"#636efa\",\"#EF553B\",\"#00cc96\",\"#ab63fa\",\"#FFA15A\",\"#19d3f3\",\"#FF6692\",\"#B6E880\",\"#FF97FF\",\"#FECB52\"],\"font\":{\"color\":\"#2a3f5f\"},\"geo\":{\"bgcolor\":\"white\",\"lakecolor\":\"white\",\"landcolor\":\"#E5ECF6\",\"showlakes\":true,\"showland\":true,\"subunitcolor\":\"white\"},\"hoverlabel\":{\"align\":\"left\"},\"hovermode\":\"closest\",\"mapbox\":{\"style\":\"light\"},\"paper_bgcolor\":\"white\",\"plot_bgcolor\":\"#E5ECF6\",\"polar\":{\"angularaxis\":{\"gridcolor\":\"white\",\"linecolor\":\"white\",\"ticks\":\"\"},\"bgcolor\":\"#E5ECF6\",\"radialaxis\":{\"gridcolor\":\"white\",\"linecolor\":\"white\",\"ticks\":\"\"}},\"scene\":{\"xaxis\":{\"backgroundcolor\":\"#E5ECF6\",\"gridcolor\":\"white\",\"gridwidth\":2,\"linecolor\":\"white\",\"showbackground\":true,\"ticks\":\"\",\"zerolinecolor\":\"white\"},\"yaxis\":{\"backgroundcolor\":\"#E5ECF6\",\"gridcolor\":\"white\",\"gridwidth\":2,\"linecolor\":\"white\",\"showbackground\":true,\"ticks\":\"\",\"zerolinecolor\":\"white\"},\"zaxis\":{\"backgroundcolor\":\"#E5ECF6\",\"gridcolor\":\"white\",\"gridwidth\":2,\"linecolor\":\"white\",\"showbackground\":true,\"ticks\":\"\",\"zerolinecolor\":\"white\"}},\"shapedefaults\":{\"line\":{\"color\":\"#2a3f5f\"}},\"ternary\":{\"aaxis\":{\"gridcolor\":\"white\",\"linecolor\":\"white\",\"ticks\":\"\"},\"baxis\":{\"gridcolor\":\"white\",\"linecolor\":\"white\",\"ticks\":\"\"},\"bgcolor\":\"#E5ECF6\",\"caxis\":{\"gridcolor\":\"white\",\"linecolor\":\"white\",\"ticks\":\"\"}},\"title\":{\"x\":0.05},\"xaxis\":{\"automargin\":true,\"gridcolor\":\"white\",\"linecolor\":\"white\",\"ticks\":\"\",\"title\":{\"standoff\":15},\"zerolinecolor\":\"white\",\"zerolinewidth\":2},\"yaxis\":{\"automargin\":true,\"gridcolor\":\"white\",\"linecolor\":\"white\",\"ticks\":\"\",\"title\":{\"standoff\":15},\"zerolinecolor\":\"white\",\"zerolinewidth\":2}}},\"xaxis\":{\"anchor\":\"y\",\"domain\":[0.0,1.0],\"title\":{\"text\":\"body_mass_g\"}},\"yaxis\":{\"anchor\":\"x\",\"domain\":[0.0,1.0],\"title\":{\"text\":\"flipper_length_mm\"}}},                        {\"responsive\": true}                    ).then(function(){\n",
       "                            \n",
       "var gd = document.getElementById('dd1c3862-05fa-4927-8cf6-19b3dd1f2f04');\n",
       "var x = new MutationObserver(function (mutations, observer) {{\n",
       "        var display = window.getComputedStyle(gd).display;\n",
       "        if (!display || display === 'none') {{\n",
       "            console.log([gd, 'removed!']);\n",
       "            Plotly.purge(gd);\n",
       "            observer.disconnect();\n",
       "        }}\n",
       "}});\n",
       "\n",
       "// Listen for the removal of the full notebook cells\n",
       "var notebookContainer = gd.closest('#notebook-container');\n",
       "if (notebookContainer) {{\n",
       "    x.observe(notebookContainer, {childList: true});\n",
       "}}\n",
       "\n",
       "// Listen for the clearing of the current output cell\n",
       "var outputEl = gd.closest('.output');\n",
       "if (outputEl) {{\n",
       "    x.observe(outputEl, {childList: true});\n",
       "}}\n",
       "\n",
       "                        })                };                });            </script>        </div>"
      ]
     },
     "metadata": {},
     "output_type": "display_data"
    }
   ],
   "source": [
    "scatterplot ('body_mass_g','flipper_length_mm')"
   ]
  },
  {
   "cell_type": "code",
   "execution_count": 20,
   "id": "770bb929",
   "metadata": {},
   "outputs": [
    {
     "data": {
      "text/plain": [
       "Index(['species', 'island', 'bill_length_mm', 'bill_depth_mm',\n",
       "       'flipper_length_mm', 'body_mass_g', 'sex'],\n",
       "      dtype='object')"
      ]
     },
     "execution_count": 20,
     "metadata": {},
     "output_type": "execute_result"
    }
   ],
   "source": [
    "df.columns"
   ]
  },
  {
   "cell_type": "code",
   "execution_count": 22,
   "id": "7144d45d",
   "metadata": {},
   "outputs": [
    {
     "data": {
      "application/vnd.jupyter.widget-view+json": {
       "model_id": "aa1189d86c8f421da3ad7c7e3fe424fb",
       "version_major": 2,
       "version_minor": 0
      },
      "text/plain": [
       "interactive(children=(Dropdown(description='x', options=('bill_length_mm', 'bill_depth_mm', 'flipper_length_mm…"
      ]
     },
     "metadata": {},
     "output_type": "display_data"
    }
   ],
   "source": [
    "@interact (x=df.select_dtypes('number').columns,\n",
    "          y=df.select_dtypes('number').columns)\n",
    "def scatterplot (x,y):\n",
    "    display (px.scatter(df, x, y))"
   ]
  },
  {
   "cell_type": "code",
   "execution_count": null,
   "id": "f3749a34",
   "metadata": {},
   "outputs": [],
   "source": [
    "# Widgets"
   ]
  },
  {
   "cell_type": "code",
   "execution_count": 24,
   "id": "8743b121",
   "metadata": {},
   "outputs": [],
   "source": [
    "import ipywidgets as widgets"
   ]
  },
  {
   "cell_type": "code",
   "execution_count": 25,
   "id": "3d40f8db",
   "metadata": {},
   "outputs": [
    {
     "data": {
      "text/plain": [
       "['Accordion',\n",
       " 'AppLayout',\n",
       " 'Audio',\n",
       " 'BoundedFloatText',\n",
       " 'BoundedIntText',\n",
       " 'Box',\n",
       " 'Button',\n",
       " 'ButtonStyle',\n",
       " 'CallbackDispatcher',\n",
       " 'Checkbox',\n",
       " 'Color',\n",
       " 'ColorPicker',\n",
       " 'Combobox',\n",
       " 'Controller',\n",
       " 'CoreWidget',\n",
       " 'DOMWidget',\n",
       " 'DatePicker',\n",
       " 'Datetime',\n",
       " 'Dropdown',\n",
       " 'FileUpload',\n",
       " 'FloatLogSlider',\n",
       " 'FloatProgress',\n",
       " 'FloatRangeSlider',\n",
       " 'FloatSlider',\n",
       " 'FloatText',\n",
       " 'GridBox',\n",
       " 'GridspecLayout',\n",
       " 'HBox',\n",
       " 'HTML',\n",
       " 'HTMLMath',\n",
       " 'Image',\n",
       " 'IntProgress',\n",
       " 'IntRangeSlider',\n",
       " 'IntSlider',\n",
       " 'IntText',\n",
       " 'Label',\n",
       " 'Layout',\n",
       " 'NumberFormat',\n",
       " 'Output',\n",
       " 'Password',\n",
       " 'Play',\n",
       " 'RadioButtons',\n",
       " 'Select',\n",
       " 'SelectMultiple',\n",
       " 'SelectionRangeSlider',\n",
       " 'SelectionSlider',\n",
       " 'SliderStyle',\n",
       " 'Style',\n",
       " 'Tab',\n",
       " 'Text',\n",
       " 'Textarea',\n",
       " 'ToggleButton',\n",
       " 'ToggleButtons',\n",
       " 'ToggleButtonsStyle',\n",
       " 'TwoByTwoLayout',\n",
       " 'VBox',\n",
       " 'Valid',\n",
       " 'ValueWidget',\n",
       " 'Video',\n",
       " 'Widget',\n",
       " '__builtins__',\n",
       " '__cached__',\n",
       " '__doc__',\n",
       " '__file__',\n",
       " '__jupyter_widgets_base_version__',\n",
       " '__jupyter_widgets_controls_version__',\n",
       " '__loader__',\n",
       " '__name__',\n",
       " '__package__',\n",
       " '__path__',\n",
       " '__protocol_version__',\n",
       " '__spec__',\n",
       " '__version__',\n",
       " '_handle_ipython',\n",
       " '_version',\n",
       " 'dlink',\n",
       " 'docutils',\n",
       " 'domwidget',\n",
       " 'fixed',\n",
       " 'get_ipython',\n",
       " 'handle_kernel',\n",
       " 'interact',\n",
       " 'interact_manual',\n",
       " 'interaction',\n",
       " 'interactive',\n",
       " 'interactive_output',\n",
       " 'jsdlink',\n",
       " 'jslink',\n",
       " 'link',\n",
       " 'load_ipython_extension',\n",
       " 'os',\n",
       " 'register',\n",
       " 'register_comm_target',\n",
       " 'trait_types',\n",
       " 'util',\n",
       " 'valuewidget',\n",
       " 'version_info',\n",
       " 'widget',\n",
       " 'widget_bool',\n",
       " 'widget_box',\n",
       " 'widget_button',\n",
       " 'widget_color',\n",
       " 'widget_controller',\n",
       " 'widget_core',\n",
       " 'widget_date',\n",
       " 'widget_description',\n",
       " 'widget_float',\n",
       " 'widget_int',\n",
       " 'widget_layout',\n",
       " 'widget_link',\n",
       " 'widget_media',\n",
       " 'widget_output',\n",
       " 'widget_selection',\n",
       " 'widget_selectioncontainer',\n",
       " 'widget_serialization',\n",
       " 'widget_string',\n",
       " 'widget_style',\n",
       " 'widget_templates',\n",
       " 'widget_upload',\n",
       " 'widgets']"
      ]
     },
     "execution_count": 25,
     "metadata": {},
     "output_type": "execute_result"
    }
   ],
   "source": [
    "dir(widgets)"
   ]
  },
  {
   "cell_type": "code",
   "execution_count": 26,
   "id": "2909f061",
   "metadata": {},
   "outputs": [
    {
     "name": "stdout",
     "output_type": "stream",
     "text": [
      "Help on class RadioButtons in module ipywidgets.widgets.widget_selection:\n",
      "\n",
      "class RadioButtons(_Selection)\n",
      " |  RadioButtons(*args, **kwargs)\n",
      " |  \n",
      " |  Group of radio buttons that represent an enumeration.\n",
      " |  \n",
      " |  Only one radio button can be toggled at any point in time.\n",
      " |  \n",
      " |  Parameters\n",
      " |  ----------\n",
      " |  options: list\n",
      " |      The options for the dropdown. This can either be a list of values, e.g.\n",
      " |      ``['Galileo', 'Brahe', 'Hubble']`` or ``[0, 1, 2]``, or a list of\n",
      " |      (label, value) pairs, e.g.\n",
      " |      ``[('Galileo', 0), ('Brahe', 1), ('Hubble', 2)]``.\n",
      " |  \n",
      " |  index: int\n",
      " |      The index of the current selection.\n",
      " |  \n",
      " |  value: any\n",
      " |      The value of the current selection. When programmatically setting the\n",
      " |      value, a reverse lookup is performed among the options to check that\n",
      " |      the value is valid. The reverse lookup uses the equality operator by\n",
      " |      default, but another predicate may be provided via the ``equals``\n",
      " |      keyword argument. For example, when dealing with numpy arrays, one may\n",
      " |      set ``equals=np.array_equal``.\n",
      " |  \n",
      " |  label: str\n",
      " |      The label corresponding to the selected value.\n",
      " |  \n",
      " |  disabled: bool\n",
      " |      Whether to disable user changes.\n",
      " |  \n",
      " |  description: str\n",
      " |      Label for this input group. This should be a string\n",
      " |      describing the widget.\n",
      " |  \n",
      " |  Method resolution order:\n",
      " |      RadioButtons\n",
      " |      _Selection\n",
      " |      ipywidgets.widgets.widget_description.DescriptionWidget\n",
      " |      ipywidgets.widgets.domwidget.DOMWidget\n",
      " |      ipywidgets.widgets.valuewidget.ValueWidget\n",
      " |      ipywidgets.widgets.widget_core.CoreWidget\n",
      " |      ipywidgets.widgets.widget.Widget\n",
      " |      ipywidgets.widgets.widget.LoggingHasTraits\n",
      " |      traitlets.traitlets.HasTraits\n",
      " |      traitlets.traitlets.HasDescriptors\n",
      " |      builtins.object\n",
      " |  \n",
      " |  Methods inherited from _Selection:\n",
      " |  \n",
      " |  __init__(self, *args, **kwargs)\n",
      " |      Public constructor\n",
      " |  \n",
      " |  ----------------------------------------------------------------------\n",
      " |  Data descriptors inherited from _Selection:\n",
      " |  \n",
      " |  disabled\n",
      " |      A boolean (True, False) trait.\n",
      " |  \n",
      " |  index\n",
      " |      An int trait.\n",
      " |  \n",
      " |  label\n",
      " |      A trait for unicode strings.\n",
      " |  \n",
      " |  options\n",
      " |      A trait which allows any value.\n",
      " |  \n",
      " |  value\n",
      " |      A trait which allows any value.\n",
      " |  \n",
      " |  ----------------------------------------------------------------------\n",
      " |  Data descriptors inherited from ipywidgets.widgets.widget_description.DescriptionWidget:\n",
      " |  \n",
      " |  description\n",
      " |      A trait for unicode strings.\n",
      " |  \n",
      " |  description_tooltip\n",
      " |      A trait for unicode strings.\n",
      " |  \n",
      " |  style\n",
      " |      An instance trait which coerces a dict to an instance.\n",
      " |      \n",
      " |      This lets the instance be specified as a dict, which is used\n",
      " |      to initialize the instance.\n",
      " |      \n",
      " |      Also, we default to a trivial instance, even if args and kwargs\n",
      " |      is not specified.\n",
      " |  \n",
      " |  ----------------------------------------------------------------------\n",
      " |  Methods inherited from ipywidgets.widgets.domwidget.DOMWidget:\n",
      " |  \n",
      " |  add_class(self, className)\n",
      " |      Adds a class to the top level element of the widget.\n",
      " |      \n",
      " |      Doesn't add the class if it already exists.\n",
      " |  \n",
      " |  remove_class(self, className)\n",
      " |      Removes a class from the top level element of the widget.\n",
      " |      \n",
      " |      Doesn't remove the class if it doesn't exist.\n",
      " |  \n",
      " |  ----------------------------------------------------------------------\n",
      " |  Data descriptors inherited from ipywidgets.widgets.domwidget.DOMWidget:\n",
      " |  \n",
      " |  layout\n",
      " |      An instance trait which coerces a dict to an instance.\n",
      " |      \n",
      " |      This lets the instance be specified as a dict, which is used\n",
      " |      to initialize the instance.\n",
      " |      \n",
      " |      Also, we default to a trivial instance, even if args and kwargs\n",
      " |      is not specified.\n",
      " |  \n",
      " |  ----------------------------------------------------------------------\n",
      " |  Methods inherited from ipywidgets.widgets.valuewidget.ValueWidget:\n",
      " |  \n",
      " |  get_interact_value(self)\n",
      " |      Return the value for this widget which should be passed to\n",
      " |      interactive functions. Custom widgets can change this method\n",
      " |      to process the raw value ``self.value``.\n",
      " |  \n",
      " |  ----------------------------------------------------------------------\n",
      " |  Methods inherited from ipywidgets.widgets.widget.Widget:\n",
      " |  \n",
      " |  __del__(self)\n",
      " |      Object disposal\n",
      " |  \n",
      " |  __repr__(self)\n",
      " |      Return repr(self).\n",
      " |  \n",
      " |  add_traits(self, **traits)\n",
      " |      Dynamically add trait attributes to the Widget.\n",
      " |  \n",
      " |  close(self)\n",
      " |      Close method.\n",
      " |      \n",
      " |      Closes the underlying comm.\n",
      " |      When the comm is closed, all of the widget views are automatically\n",
      " |      removed from the front-end.\n",
      " |  \n",
      " |  get_state(self, key=None, drop_defaults=False)\n",
      " |      Gets the widget state, or a piece of it.\n",
      " |      \n",
      " |      Parameters\n",
      " |      ----------\n",
      " |      key : unicode or iterable (optional)\n",
      " |          A single property's name or iterable of property names to get.\n",
      " |      \n",
      " |      Returns\n",
      " |      -------\n",
      " |      state : dict of states\n",
      " |      metadata : dict\n",
      " |          metadata for each field: {key: metadata}\n",
      " |  \n",
      " |  get_view_spec(self)\n",
      " |  \n",
      " |  hold_sync(self)\n",
      " |      Hold syncing any state until the outermost context manager exits\n",
      " |  \n",
      " |  notify_change(self, change)\n",
      " |      Called when a property has changed.\n",
      " |  \n",
      " |  on_displayed(self, callback, remove=False)\n",
      " |      (Un)Register a widget displayed callback.\n",
      " |      \n",
      " |      Parameters\n",
      " |      ----------\n",
      " |      callback: method handler\n",
      " |          Must have a signature of::\n",
      " |      \n",
      " |              callback(widget, **kwargs)\n",
      " |      \n",
      " |          kwargs from display are passed through without modification.\n",
      " |      remove: bool\n",
      " |          True if the callback should be unregistered.\n",
      " |  \n",
      " |  on_msg(self, callback, remove=False)\n",
      " |      (Un)Register a custom msg receive callback.\n",
      " |      \n",
      " |      Parameters\n",
      " |      ----------\n",
      " |      callback: callable\n",
      " |          callback will be passed three arguments when a message arrives::\n",
      " |      \n",
      " |              callback(widget, content, buffers)\n",
      " |      \n",
      " |      remove: bool\n",
      " |          True if the callback should be unregistered.\n",
      " |  \n",
      " |  open(self)\n",
      " |      Open a comm to the frontend if one isn't already open.\n",
      " |  \n",
      " |  send(self, content, buffers=None)\n",
      " |      Sends a custom msg to the widget model in the front-end.\n",
      " |      \n",
      " |      Parameters\n",
      " |      ----------\n",
      " |      content : dict\n",
      " |          Content of the message to send.\n",
      " |      buffers : list of binary buffers\n",
      " |          Binary buffers to send with message\n",
      " |  \n",
      " |  send_state(self, key=None)\n",
      " |      Sends the widget state, or a piece of it, to the front-end, if it exists.\n",
      " |      \n",
      " |      Parameters\n",
      " |      ----------\n",
      " |      key : unicode, or iterable (optional)\n",
      " |          A single property's name or iterable of property names to sync with the front-end.\n",
      " |  \n",
      " |  set_state(self, sync_data)\n",
      " |      Called when a state is received from the front-end.\n",
      " |  \n",
      " |  ----------------------------------------------------------------------\n",
      " |  Class methods inherited from ipywidgets.widgets.widget.Widget:\n",
      " |  \n",
      " |  close_all() from traitlets.traitlets.MetaHasTraits\n",
      " |  \n",
      " |  ----------------------------------------------------------------------\n",
      " |  Static methods inherited from ipywidgets.widgets.widget.Widget:\n",
      " |  \n",
      " |  get_manager_state(drop_defaults=False, widgets=None)\n",
      " |      Returns the full state for a widget manager for embedding\n",
      " |      \n",
      " |      :param drop_defaults: when True, it will not include default value\n",
      " |      :param widgets: list with widgets to include in the state (or all widgets when None)\n",
      " |      :return:\n",
      " |  \n",
      " |  handle_comm_opened(comm, msg)\n",
      " |      Static method, called when a widget is constructed.\n",
      " |  \n",
      " |  on_widget_constructed(callback)\n",
      " |      Registers a callback to be called when a widget is constructed.\n",
      " |      \n",
      " |      The callback must have the following signature:\n",
      " |      callback(widget)\n",
      " |  \n",
      " |  ----------------------------------------------------------------------\n",
      " |  Readonly properties inherited from ipywidgets.widgets.widget.Widget:\n",
      " |  \n",
      " |  model_id\n",
      " |      Gets the model id of this widget.\n",
      " |      \n",
      " |      If a Comm doesn't exist yet, a Comm will be created automagically.\n",
      " |  \n",
      " |  ----------------------------------------------------------------------\n",
      " |  Data descriptors inherited from ipywidgets.widgets.widget.Widget:\n",
      " |  \n",
      " |  comm\n",
      " |      A trait whose value must be an instance of a specified class.\n",
      " |      \n",
      " |      The value can also be an instance of a subclass of the specified class.\n",
      " |      \n",
      " |      Subclasses can declare default classes by overriding the klass attribute\n",
      " |  \n",
      " |  keys\n",
      " |      An instance of a Python list.\n",
      " |  \n",
      " |  ----------------------------------------------------------------------\n",
      " |  Data and other attributes inherited from ipywidgets.widgets.widget.Widget:\n",
      " |  \n",
      " |  widget_types = <ipywidgets.widgets.widget.WidgetRegistry object>\n",
      " |  \n",
      " |  widgets = {'0b6de565c7e740edb327c80ee76942a2': Layout(), '10908c59aae2...\n",
      " |  \n",
      " |  ----------------------------------------------------------------------\n",
      " |  Data descriptors inherited from ipywidgets.widgets.widget.LoggingHasTraits:\n",
      " |  \n",
      " |  log\n",
      " |      A trait whose value must be an instance of a specified class.\n",
      " |      \n",
      " |      The value can also be an instance of a subclass of the specified class.\n",
      " |      \n",
      " |      Subclasses can declare default classes by overriding the klass attribute\n",
      " |  \n",
      " |  ----------------------------------------------------------------------\n",
      " |  Methods inherited from traitlets.traitlets.HasTraits:\n",
      " |  \n",
      " |  __getstate__(self)\n",
      " |  \n",
      " |  __setstate__(self, state)\n",
      " |  \n",
      " |  has_trait(self, name)\n",
      " |      Returns True if the object has a trait with the specified name.\n",
      " |  \n",
      " |  hold_trait_notifications(self)\n",
      " |      Context manager for bundling trait change notifications and cross\n",
      " |      validation.\n",
      " |      \n",
      " |      Use this when doing multiple trait assignments (init, config), to avoid\n",
      " |      race conditions in trait notifiers requesting other trait values.\n",
      " |      All trait notifications will fire after all values have been assigned.\n",
      " |  \n",
      " |  observe(self, handler, names=traitlets.All, type='change')\n",
      " |      Setup a handler to be called when a trait changes.\n",
      " |      \n",
      " |      This is used to setup dynamic notifications of trait changes.\n",
      " |      \n",
      " |      Parameters\n",
      " |      ----------\n",
      " |      handler : callable\n",
      " |          A callable that is called when a trait changes. Its\n",
      " |          signature should be ``handler(change)``, where ``change`` is a\n",
      " |          dictionary. The change dictionary at least holds a 'type' key.\n",
      " |          * ``type``: the type of notification.\n",
      " |          Other keys may be passed depending on the value of 'type'. In the\n",
      " |          case where type is 'change', we also have the following keys:\n",
      " |          * ``owner`` : the HasTraits instance\n",
      " |          * ``old`` : the old value of the modified trait attribute\n",
      " |          * ``new`` : the new value of the modified trait attribute\n",
      " |          * ``name`` : the name of the modified trait attribute.\n",
      " |      names : list, str, All\n",
      " |          If names is All, the handler will apply to all traits.  If a list\n",
      " |          of str, handler will apply to all names in the list.  If a\n",
      " |          str, the handler will apply just to that name.\n",
      " |      type : str, All (default: 'change')\n",
      " |          The type of notification to filter by. If equal to All, then all\n",
      " |          notifications are passed to the observe handler.\n",
      " |  \n",
      " |  on_trait_change(self, handler=None, name=None, remove=False)\n",
      " |      DEPRECATED: Setup a handler to be called when a trait changes.\n",
      " |      \n",
      " |      This is used to setup dynamic notifications of trait changes.\n",
      " |      \n",
      " |      Static handlers can be created by creating methods on a HasTraits\n",
      " |      subclass with the naming convention '_[traitname]_changed'.  Thus,\n",
      " |      to create static handler for the trait 'a', create the method\n",
      " |      _a_changed(self, name, old, new) (fewer arguments can be used, see\n",
      " |      below).\n",
      " |      \n",
      " |      If `remove` is True and `handler` is not specified, all change\n",
      " |      handlers for the specified name are uninstalled.\n",
      " |      \n",
      " |      Parameters\n",
      " |      ----------\n",
      " |      handler : callable, None\n",
      " |          A callable that is called when a trait changes.  Its\n",
      " |          signature can be handler(), handler(name), handler(name, new),\n",
      " |          handler(name, old, new), or handler(name, old, new, self).\n",
      " |      name : list, str, None\n",
      " |          If None, the handler will apply to all traits.  If a list\n",
      " |          of str, handler will apply to all names in the list.  If a\n",
      " |          str, the handler will apply just to that name.\n",
      " |      remove : bool\n",
      " |          If False (the default), then install the handler.  If True\n",
      " |          then unintall it.\n",
      " |  \n",
      " |  set_trait(self, name, value)\n",
      " |      Forcibly sets trait attribute, including read-only attributes.\n",
      " |  \n",
      " |  setup_instance(*args, **kwargs)\n",
      " |      This is called **before** self.__init__ is called.\n",
      " |  \n",
      " |  trait_defaults(self, *names, **metadata)\n",
      " |      Return a trait's default value or a dictionary of them\n",
      " |      \n",
      " |      Notes\n",
      " |      -----\n",
      " |      Dynamically generated default values may\n",
      " |      depend on the current state of the object.\n",
      " |  \n",
      " |  trait_has_value(self, name)\n",
      " |      Returns True if the specified trait has a value.\n",
      " |      \n",
      " |      This will return false even if ``getattr`` would return a\n",
      " |      dynamically generated default value. These default values\n",
      " |      will be recognized as existing only after they have been\n",
      " |      generated.\n",
      " |      \n",
      " |      Example\n",
      " |      \n",
      " |      .. code-block:: python\n",
      " |      \n",
      " |          class MyClass(HasTraits):\n",
      " |              i = Int()\n",
      " |      \n",
      " |          mc = MyClass()\n",
      " |          assert not mc.trait_has_value(\"i\")\n",
      " |          mc.i # generates a default value\n",
      " |          assert mc.trait_has_value(\"i\")\n",
      " |  \n",
      " |  trait_metadata(self, traitname, key, default=None)\n",
      " |      Get metadata values for trait by key.\n",
      " |  \n",
      " |  trait_names(self, **metadata)\n",
      " |      Get a list of all the names of this class' traits.\n",
      " |  \n",
      " |  trait_values(self, **metadata)\n",
      " |      A ``dict`` of trait names and their values.\n",
      " |      \n",
      " |      The metadata kwargs allow functions to be passed in which\n",
      " |      filter traits based on metadata values.  The functions should\n",
      " |      take a single value as an argument and return a boolean.  If\n",
      " |      any function returns False, then the trait is not included in\n",
      " |      the output.  If a metadata key doesn't exist, None will be passed\n",
      " |      to the function.\n",
      " |      \n",
      " |      Returns\n",
      " |      -------\n",
      " |      A ``dict`` of trait names and their values.\n",
      " |      \n",
      " |      Notes\n",
      " |      -----\n",
      " |      Trait values are retrieved via ``getattr``, any exceptions raised\n",
      " |      by traits or the operations they may trigger will result in the\n",
      " |      absence of a trait value in the result ``dict``.\n",
      " |  \n",
      " |  traits(self, **metadata)\n",
      " |      Get a ``dict`` of all the traits of this class.  The dictionary\n",
      " |      is keyed on the name and the values are the TraitType objects.\n",
      " |      \n",
      " |      The TraitTypes returned don't know anything about the values\n",
      " |      that the various HasTrait's instances are holding.\n",
      " |      \n",
      " |      The metadata kwargs allow functions to be passed in which\n",
      " |      filter traits based on metadata values.  The functions should\n",
      " |      take a single value as an argument and return a boolean.  If\n",
      " |      any function returns False, then the trait is not included in\n",
      " |      the output.  If a metadata key doesn't exist, None will be passed\n",
      " |      to the function.\n",
      " |  \n",
      " |  unobserve(self, handler, names=traitlets.All, type='change')\n",
      " |      Remove a trait change handler.\n",
      " |      \n",
      " |      This is used to unregister handlers to trait change notifications.\n",
      " |      \n",
      " |      Parameters\n",
      " |      ----------\n",
      " |      handler : callable\n",
      " |          The callable called when a trait attribute changes.\n",
      " |      names : list, str, All (default: All)\n",
      " |          The names of the traits for which the specified handler should be\n",
      " |          uninstalled. If names is All, the specified handler is uninstalled\n",
      " |          from the list of notifiers corresponding to all changes.\n",
      " |      type : str or All (default: 'change')\n",
      " |          The type of notification to filter by. If All, the specified handler\n",
      " |          is uninstalled from the list of notifiers corresponding to all types.\n",
      " |  \n",
      " |  unobserve_all(self, name=traitlets.All)\n",
      " |      Remove trait change handlers of any type for the specified name.\n",
      " |      If name is not specified, removes all trait notifiers.\n",
      " |  \n",
      " |  ----------------------------------------------------------------------\n",
      " |  Class methods inherited from traitlets.traitlets.HasTraits:\n",
      " |  \n",
      " |  class_own_trait_events(name) from traitlets.traitlets.MetaHasTraits\n",
      " |      Get a dict of all event handlers defined on this class, not a parent.\n",
      " |      \n",
      " |      Works like ``event_handlers``, except for excluding traits from parents.\n",
      " |  \n",
      " |  class_own_traits(**metadata) from traitlets.traitlets.MetaHasTraits\n",
      " |      Get a dict of all the traitlets defined on this class, not a parent.\n",
      " |      \n",
      " |      Works like `class_traits`, except for excluding traits from parents.\n",
      " |  \n",
      " |  class_trait_names(**metadata) from traitlets.traitlets.MetaHasTraits\n",
      " |      Get a list of all the names of this class' traits.\n",
      " |      \n",
      " |      This method is just like the :meth:`trait_names` method,\n",
      " |      but is unbound.\n",
      " |  \n",
      " |  class_traits(**metadata) from traitlets.traitlets.MetaHasTraits\n",
      " |      Get a ``dict`` of all the traits of this class.  The dictionary\n",
      " |      is keyed on the name and the values are the TraitType objects.\n",
      " |      \n",
      " |      This method is just like the :meth:`traits` method, but is unbound.\n",
      " |      \n",
      " |      The TraitTypes returned don't know anything about the values\n",
      " |      that the various HasTrait's instances are holding.\n",
      " |      \n",
      " |      The metadata kwargs allow functions to be passed in which\n",
      " |      filter traits based on metadata values.  The functions should\n",
      " |      take a single value as an argument and return a boolean.  If\n",
      " |      any function returns False, then the trait is not included in\n",
      " |      the output.  If a metadata key doesn't exist, None will be passed\n",
      " |      to the function.\n",
      " |  \n",
      " |  trait_events(name=None) from traitlets.traitlets.MetaHasTraits\n",
      " |      Get a ``dict`` of all the event handlers of this class.\n",
      " |      \n",
      " |      Parameters\n",
      " |      ----------\n",
      " |      name : str (default: None)\n",
      " |          The name of a trait of this class. If name is ``None`` then all\n",
      " |          the event handlers of this class will be returned instead.\n",
      " |      \n",
      " |      Returns\n",
      " |      -------\n",
      " |      The event handlers associated with a trait name, or all event handlers.\n",
      " |  \n",
      " |  ----------------------------------------------------------------------\n",
      " |  Readonly properties inherited from traitlets.traitlets.HasTraits:\n",
      " |  \n",
      " |  cross_validation_lock\n",
      " |      A contextmanager for running a block with our cross validation lock set\n",
      " |      to True.\n",
      " |      \n",
      " |      At the end of the block, the lock's value is restored to its value\n",
      " |      prior to entering the block.\n",
      " |  \n",
      " |  ----------------------------------------------------------------------\n",
      " |  Static methods inherited from traitlets.traitlets.HasDescriptors:\n",
      " |  \n",
      " |  __new__(*args, **kwargs)\n",
      " |      Create and return a new object.  See help(type) for accurate signature.\n",
      " |  \n",
      " |  ----------------------------------------------------------------------\n",
      " |  Data descriptors inherited from traitlets.traitlets.HasDescriptors:\n",
      " |  \n",
      " |  __dict__\n",
      " |      dictionary for instance variables (if defined)\n",
      " |  \n",
      " |  __weakref__\n",
      " |      list of weak references to the object (if defined)\n",
      "\n"
     ]
    }
   ],
   "source": [
    "help(widgets.RadioButtons)"
   ]
  },
  {
   "cell_type": "code",
   "execution_count": 27,
   "id": "e3e070c8",
   "metadata": {},
   "outputs": [
    {
     "data": {
      "application/vnd.jupyter.widget-view+json": {
       "model_id": "201faea43fe242e888a5cd70e3795b3c",
       "version_major": 2,
       "version_minor": 0
      },
      "text/plain": [
       "interactive(children=(RadioButtons(description='n', options=(5, 10, 15), value=5), Output()), _dom_classes=('w…"
      ]
     },
     "metadata": {},
     "output_type": "display_data"
    }
   ],
   "source": [
    "@interact (n=widgets.RadioButtons(options=[5,10,15]))\n",
    "def explore (n):\n",
    "    display(df.head(n))"
   ]
  },
  {
   "cell_type": "code",
   "execution_count": null,
   "id": "a66dc975",
   "metadata": {},
   "outputs": [],
   "source": []
  }
 ],
 "metadata": {
  "kernelspec": {
   "display_name": "Python 3",
   "language": "python",
   "name": "python3"
  },
  "language_info": {
   "codemirror_mode": {
    "name": "ipython",
    "version": 3
   },
   "file_extension": ".py",
   "mimetype": "text/x-python",
   "name": "python",
   "nbconvert_exporter": "python",
   "pygments_lexer": "ipython3",
   "version": "3.8.8"
  }
 },
 "nbformat": 4,
 "nbformat_minor": 5
}
