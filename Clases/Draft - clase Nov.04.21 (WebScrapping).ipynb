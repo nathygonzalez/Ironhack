{
 "cells": [
  {
   "cell_type": "code",
   "execution_count": 4,
   "id": "a939ef2c",
   "metadata": {},
   "outputs": [],
   "source": [
    "import pandas as pd\n",
    "import requests\n",
    "import random"
   ]
  },
  {
   "cell_type": "code",
   "execution_count": null,
   "id": "0b56596d",
   "metadata": {},
   "outputs": [],
   "source": [
    "# https://opentdb.com/api.php?amount=10&category=11&difficulty=medium&type=multiple"
   ]
  },
  {
   "cell_type": "code",
   "execution_count": 5,
   "id": "7e86d61d",
   "metadata": {},
   "outputs": [],
   "source": [
    "cat_url = 'https://opentdb.com/api_category.php'"
   ]
  },
  {
   "cell_type": "code",
   "execution_count": 6,
   "id": "cc009d9e",
   "metadata": {},
   "outputs": [
    {
     "data": {
      "text/html": [
       "<div>\n",
       "<style scoped>\n",
       "    .dataframe tbody tr th:only-of-type {\n",
       "        vertical-align: middle;\n",
       "    }\n",
       "\n",
       "    .dataframe tbody tr th {\n",
       "        vertical-align: top;\n",
       "    }\n",
       "\n",
       "    .dataframe thead th {\n",
       "        text-align: right;\n",
       "    }\n",
       "</style>\n",
       "<table border=\"1\" class=\"dataframe\">\n",
       "  <thead>\n",
       "    <tr style=\"text-align: right;\">\n",
       "      <th></th>\n",
       "      <th>id</th>\n",
       "      <th>name</th>\n",
       "    </tr>\n",
       "  </thead>\n",
       "  <tbody>\n",
       "    <tr>\n",
       "      <th>0</th>\n",
       "      <td>9</td>\n",
       "      <td>General Knowledge</td>\n",
       "    </tr>\n",
       "    <tr>\n",
       "      <th>1</th>\n",
       "      <td>10</td>\n",
       "      <td>Entertainment: Books</td>\n",
       "    </tr>\n",
       "    <tr>\n",
       "      <th>2</th>\n",
       "      <td>11</td>\n",
       "      <td>Entertainment: Film</td>\n",
       "    </tr>\n",
       "    <tr>\n",
       "      <th>3</th>\n",
       "      <td>12</td>\n",
       "      <td>Entertainment: Music</td>\n",
       "    </tr>\n",
       "    <tr>\n",
       "      <th>4</th>\n",
       "      <td>13</td>\n",
       "      <td>Entertainment: Musicals &amp; Theatres</td>\n",
       "    </tr>\n",
       "    <tr>\n",
       "      <th>5</th>\n",
       "      <td>14</td>\n",
       "      <td>Entertainment: Television</td>\n",
       "    </tr>\n",
       "    <tr>\n",
       "      <th>6</th>\n",
       "      <td>15</td>\n",
       "      <td>Entertainment: Video Games</td>\n",
       "    </tr>\n",
       "    <tr>\n",
       "      <th>7</th>\n",
       "      <td>16</td>\n",
       "      <td>Entertainment: Board Games</td>\n",
       "    </tr>\n",
       "    <tr>\n",
       "      <th>8</th>\n",
       "      <td>17</td>\n",
       "      <td>Science &amp; Nature</td>\n",
       "    </tr>\n",
       "    <tr>\n",
       "      <th>9</th>\n",
       "      <td>18</td>\n",
       "      <td>Science: Computers</td>\n",
       "    </tr>\n",
       "    <tr>\n",
       "      <th>10</th>\n",
       "      <td>19</td>\n",
       "      <td>Science: Mathematics</td>\n",
       "    </tr>\n",
       "    <tr>\n",
       "      <th>11</th>\n",
       "      <td>20</td>\n",
       "      <td>Mythology</td>\n",
       "    </tr>\n",
       "    <tr>\n",
       "      <th>12</th>\n",
       "      <td>21</td>\n",
       "      <td>Sports</td>\n",
       "    </tr>\n",
       "    <tr>\n",
       "      <th>13</th>\n",
       "      <td>22</td>\n",
       "      <td>Geography</td>\n",
       "    </tr>\n",
       "    <tr>\n",
       "      <th>14</th>\n",
       "      <td>23</td>\n",
       "      <td>History</td>\n",
       "    </tr>\n",
       "    <tr>\n",
       "      <th>15</th>\n",
       "      <td>24</td>\n",
       "      <td>Politics</td>\n",
       "    </tr>\n",
       "    <tr>\n",
       "      <th>16</th>\n",
       "      <td>25</td>\n",
       "      <td>Art</td>\n",
       "    </tr>\n",
       "    <tr>\n",
       "      <th>17</th>\n",
       "      <td>26</td>\n",
       "      <td>Celebrities</td>\n",
       "    </tr>\n",
       "    <tr>\n",
       "      <th>18</th>\n",
       "      <td>27</td>\n",
       "      <td>Animals</td>\n",
       "    </tr>\n",
       "    <tr>\n",
       "      <th>19</th>\n",
       "      <td>28</td>\n",
       "      <td>Vehicles</td>\n",
       "    </tr>\n",
       "    <tr>\n",
       "      <th>20</th>\n",
       "      <td>29</td>\n",
       "      <td>Entertainment: Comics</td>\n",
       "    </tr>\n",
       "    <tr>\n",
       "      <th>21</th>\n",
       "      <td>30</td>\n",
       "      <td>Science: Gadgets</td>\n",
       "    </tr>\n",
       "    <tr>\n",
       "      <th>22</th>\n",
       "      <td>31</td>\n",
       "      <td>Entertainment: Japanese Anime &amp; Manga</td>\n",
       "    </tr>\n",
       "    <tr>\n",
       "      <th>23</th>\n",
       "      <td>32</td>\n",
       "      <td>Entertainment: Cartoon &amp; Animations</td>\n",
       "    </tr>\n",
       "  </tbody>\n",
       "</table>\n",
       "</div>"
      ],
      "text/plain": [
       "    id                                   name\n",
       "0    9                      General Knowledge\n",
       "1   10                   Entertainment: Books\n",
       "2   11                    Entertainment: Film\n",
       "3   12                   Entertainment: Music\n",
       "4   13     Entertainment: Musicals & Theatres\n",
       "5   14              Entertainment: Television\n",
       "6   15             Entertainment: Video Games\n",
       "7   16             Entertainment: Board Games\n",
       "8   17                       Science & Nature\n",
       "9   18                     Science: Computers\n",
       "10  19                   Science: Mathematics\n",
       "11  20                              Mythology\n",
       "12  21                                 Sports\n",
       "13  22                              Geography\n",
       "14  23                                History\n",
       "15  24                               Politics\n",
       "16  25                                    Art\n",
       "17  26                            Celebrities\n",
       "18  27                                Animals\n",
       "19  28                               Vehicles\n",
       "20  29                  Entertainment: Comics\n",
       "21  30                       Science: Gadgets\n",
       "22  31  Entertainment: Japanese Anime & Manga\n",
       "23  32    Entertainment: Cartoon & Animations"
      ]
     },
     "execution_count": 6,
     "metadata": {},
     "output_type": "execute_result"
    }
   ],
   "source": [
    "resp = requests.get(cat_url).json()\n",
    "categorias = pd.DataFrame(resp['trivia_categories'])\n",
    "categorias"
   ]
  },
  {
   "cell_type": "code",
   "execution_count": 10,
   "id": "a2c14417",
   "metadata": {},
   "outputs": [],
   "source": [
    "base_url = 'https://opentdb.com/api.php'"
   ]
  },
  {
   "cell_type": "code",
   "execution_count": 8,
   "id": "c13b60c6",
   "metadata": {},
   "outputs": [
    {
     "data": {
      "text/plain": [
       "{'category': 11, 'difficulty': 'medium', 'amount': 10, 'type': 'multiple'}"
      ]
     },
     "execution_count": 8,
     "metadata": {},
     "output_type": "execute_result"
    }
   ],
   "source": [
    "params = {'category': 11,\n",
    "          'difficulty': 'medium',\n",
    "          'amount': 10,\n",
    "          'type': 'multiple'}\n",
    "params"
   ]
  },
  {
   "cell_type": "code",
   "execution_count": 11,
   "id": "4dbd8371",
   "metadata": {},
   "outputs": [
    {
     "data": {
      "text/plain": [
       "'https://opentdb.com/api.php?category=11&difficulty=medium&amount=10&type=multiple'"
      ]
     },
     "execution_count": 11,
     "metadata": {},
     "output_type": "execute_result"
    }
   ],
   "source": [
    "resp = requests.get(base_url, params=params)\n",
    "resp.url"
   ]
  },
  {
   "cell_type": "code",
   "execution_count": null,
   "id": "bebe6943",
   "metadata": {},
   "outputs": [],
   "source": [
    " The API appends a \"Response Code\" to each API Call to help tell developers what the API is doing.\n",
    "\n",
    "    Code 0: Success Returned results successfully.\n",
    "    Code 1: No Results Could not return results. The API doesn't have enough questions for your query. (Ex. Asking for 50 Questions in a Category that only has 20.)\n",
    "    Code 2: Invalid Parameter Contains an invalid parameter. Arguements passed in aren't valid. (Ex. Amount = Five)\n",
    "    Code 3: Token Not Found Session Token does not exist.\n",
    "    Code 4: Token Empty Session Token has returned all possible questions for the specified query. Resetting the Token is necessary."
   ]
  },
  {
   "cell_type": "code",
   "execution_count": 12,
   "id": "13e9c622",
   "metadata": {},
   "outputs": [
    {
     "data": {
      "text/plain": [
       "'{\"response_code\":0,\"results\":[{\"category\":\"Entertainment: Film\",\"type\":\"multiple\",\"difficulty\":\"medium\",\"question\":\"What was Marilyn Monroe`s character&#039;s first name in the film &quot;Some Like It Hot&quot;?\",\"correct_answer\":\"Sugar\",\"incorrect_answers\":[\"Honey\",\"Caramel\",\"Candy\"]},{\"category\":\"Entertainment: Film\",\"type\":\"multiple\",\"difficulty\":\"medium\",\"question\":\"In which 1973 film does Yul Brynner play a robotic cowboy who malfunctions and goes on a killing\\\\tspree?\",\"correct_answer\":\"Westworld\",\"incorrect_answers\":[\"Runaway\",\"Android\",\"The Terminators\"]},{\"category\":\"Entertainment: Film\",\"type\":\"multiple\",\"difficulty\":\"medium\",\"question\":\"This movie contains the quote, &quot;I love the smell of napalm in the morning!&quot;\",\"correct_answer\":\"Apocalypse Now\",\"incorrect_answers\":[\"Platoon\",\"The Deer Hunter\",\"Full Metal Jacket\"]},{\"category\":\"Entertainment: Film\",\"type\":\"multiple\",\"difficulty\":\"medium\",\"question\":\"In which African country was the 2006 film &#039;Blood Diamond&#039; mostly set in?\",\"correct_answer\":\"Sierra Leone\",\"incorrect_answers\":[\"Liberia\",\"Burkina Faso\",\"Central African Republic\"]},{\"category\":\"Entertainment: Film\",\"type\":\"multiple\",\"difficulty\":\"medium\",\"question\":\"Which one of these films are shot entirely in one-take?\",\"correct_answer\":\"Russian Ark\",\"incorrect_answers\":[\"Good Will Hunting\",\"Birdman\",\"Schindler&#039;s List\"]},{\"category\":\"Entertainment: Film\",\"type\":\"multiple\",\"difficulty\":\"medium\",\"question\":\"Who played the Cenobite called &quot;Pinhead&quot; in the original Hellraiser films?\",\"correct_answer\":\"Doug Bradley\",\"incorrect_answers\":[\"Doug Jones\",\"Doug Savant\",\"Doug Benson\"]},{\"category\":\"Entertainment: Film\",\"type\":\"multiple\",\"difficulty\":\"medium\",\"question\":\"Which famous singer was portrayed by actor Kevin Spacey in the 2004 biographical film &quot;Beyond the Sea&quot;?\",\"correct_answer\":\"Bobby Darin\",\"incorrect_answers\":[\"Louis Armstrong\",\"Frank Sinatra\",\"Dean Martin\"]},{\"category\":\"Entertainment: Film\",\"type\":\"multiple\",\"difficulty\":\"medium\",\"question\":\"Who plays &quot;Bruce Wayne&quot; in the 2008 movie &quot;The Dark Knight&quot;?\",\"correct_answer\":\"Christian Bale\",\"incorrect_answers\":[\"Michael Caine\",\"Ron Dean\",\"Heath Ledger\"]},{\"category\":\"Entertainment: Film\",\"type\":\"multiple\",\"difficulty\":\"medium\",\"question\":\"What Queen song plays during the final fight scene of the film &quot;Hardcore Henry&quot;?\",\"correct_answer\":\"Don&#039;t Stop Me Now\",\"incorrect_answers\":[\"Brighton Rock\",\"Another Bites the Dust\",\"We Will Rock You\"]},{\"category\":\"Entertainment: Film\",\"type\":\"multiple\",\"difficulty\":\"medium\",\"question\":\"Which Marvel superhero did Chris Evans play prior to his role as Captain America?\",\"correct_answer\":\"Human Torch\",\"incorrect_answers\":[\"Cyclops\",\"Iceman\",\"Daredevil\"]}]}'"
      ]
     },
     "execution_count": 12,
     "metadata": {},
     "output_type": "execute_result"
    }
   ],
   "source": [
    "resp.text"
   ]
  },
  {
   "cell_type": "code",
   "execution_count": 13,
   "id": "097970ad",
   "metadata": {},
   "outputs": [
    {
     "data": {
      "text/html": [
       "<div>\n",
       "<style scoped>\n",
       "    .dataframe tbody tr th:only-of-type {\n",
       "        vertical-align: middle;\n",
       "    }\n",
       "\n",
       "    .dataframe tbody tr th {\n",
       "        vertical-align: top;\n",
       "    }\n",
       "\n",
       "    .dataframe thead th {\n",
       "        text-align: right;\n",
       "    }\n",
       "</style>\n",
       "<table border=\"1\" class=\"dataframe\">\n",
       "  <thead>\n",
       "    <tr style=\"text-align: right;\">\n",
       "      <th></th>\n",
       "      <th>category</th>\n",
       "      <th>type</th>\n",
       "      <th>difficulty</th>\n",
       "      <th>question</th>\n",
       "      <th>correct_answer</th>\n",
       "      <th>incorrect_answers</th>\n",
       "    </tr>\n",
       "  </thead>\n",
       "  <tbody>\n",
       "    <tr>\n",
       "      <th>0</th>\n",
       "      <td>Entertainment: Film</td>\n",
       "      <td>multiple</td>\n",
       "      <td>medium</td>\n",
       "      <td>What was Marilyn Monroe`s character&amp;#039;s fir...</td>\n",
       "      <td>Sugar</td>\n",
       "      <td>[Honey, Caramel, Candy]</td>\n",
       "    </tr>\n",
       "    <tr>\n",
       "      <th>1</th>\n",
       "      <td>Entertainment: Film</td>\n",
       "      <td>multiple</td>\n",
       "      <td>medium</td>\n",
       "      <td>In which 1973 film does Yul Brynner play a rob...</td>\n",
       "      <td>Westworld</td>\n",
       "      <td>[Runaway, Android, The Terminators]</td>\n",
       "    </tr>\n",
       "    <tr>\n",
       "      <th>2</th>\n",
       "      <td>Entertainment: Film</td>\n",
       "      <td>multiple</td>\n",
       "      <td>medium</td>\n",
       "      <td>This movie contains the quote, &amp;quot;I love th...</td>\n",
       "      <td>Apocalypse Now</td>\n",
       "      <td>[Platoon, The Deer Hunter, Full Metal Jacket]</td>\n",
       "    </tr>\n",
       "    <tr>\n",
       "      <th>3</th>\n",
       "      <td>Entertainment: Film</td>\n",
       "      <td>multiple</td>\n",
       "      <td>medium</td>\n",
       "      <td>In which African country was the 2006 film &amp;#0...</td>\n",
       "      <td>Sierra Leone</td>\n",
       "      <td>[Liberia, Burkina Faso, Central African Republic]</td>\n",
       "    </tr>\n",
       "    <tr>\n",
       "      <th>4</th>\n",
       "      <td>Entertainment: Film</td>\n",
       "      <td>multiple</td>\n",
       "      <td>medium</td>\n",
       "      <td>Which one of these films are shot entirely in ...</td>\n",
       "      <td>Russian Ark</td>\n",
       "      <td>[Good Will Hunting, Birdman, Schindler&amp;#039;s ...</td>\n",
       "    </tr>\n",
       "    <tr>\n",
       "      <th>5</th>\n",
       "      <td>Entertainment: Film</td>\n",
       "      <td>multiple</td>\n",
       "      <td>medium</td>\n",
       "      <td>Who played the Cenobite called &amp;quot;Pinhead&amp;q...</td>\n",
       "      <td>Doug Bradley</td>\n",
       "      <td>[Doug Jones, Doug Savant, Doug Benson]</td>\n",
       "    </tr>\n",
       "    <tr>\n",
       "      <th>6</th>\n",
       "      <td>Entertainment: Film</td>\n",
       "      <td>multiple</td>\n",
       "      <td>medium</td>\n",
       "      <td>Which famous singer was portrayed by actor Kev...</td>\n",
       "      <td>Bobby Darin</td>\n",
       "      <td>[Louis Armstrong, Frank Sinatra, Dean Martin]</td>\n",
       "    </tr>\n",
       "    <tr>\n",
       "      <th>7</th>\n",
       "      <td>Entertainment: Film</td>\n",
       "      <td>multiple</td>\n",
       "      <td>medium</td>\n",
       "      <td>Who plays &amp;quot;Bruce Wayne&amp;quot; in the 2008 ...</td>\n",
       "      <td>Christian Bale</td>\n",
       "      <td>[Michael Caine, Ron Dean, Heath Ledger]</td>\n",
       "    </tr>\n",
       "    <tr>\n",
       "      <th>8</th>\n",
       "      <td>Entertainment: Film</td>\n",
       "      <td>multiple</td>\n",
       "      <td>medium</td>\n",
       "      <td>What Queen song plays during the final fight s...</td>\n",
       "      <td>Don&amp;#039;t Stop Me Now</td>\n",
       "      <td>[Brighton Rock, Another Bites the Dust, We Wil...</td>\n",
       "    </tr>\n",
       "    <tr>\n",
       "      <th>9</th>\n",
       "      <td>Entertainment: Film</td>\n",
       "      <td>multiple</td>\n",
       "      <td>medium</td>\n",
       "      <td>Which Marvel superhero did Chris Evans play pr...</td>\n",
       "      <td>Human Torch</td>\n",
       "      <td>[Cyclops, Iceman, Daredevil]</td>\n",
       "    </tr>\n",
       "  </tbody>\n",
       "</table>\n",
       "</div>"
      ],
      "text/plain": [
       "              category      type difficulty  \\\n",
       "0  Entertainment: Film  multiple     medium   \n",
       "1  Entertainment: Film  multiple     medium   \n",
       "2  Entertainment: Film  multiple     medium   \n",
       "3  Entertainment: Film  multiple     medium   \n",
       "4  Entertainment: Film  multiple     medium   \n",
       "5  Entertainment: Film  multiple     medium   \n",
       "6  Entertainment: Film  multiple     medium   \n",
       "7  Entertainment: Film  multiple     medium   \n",
       "8  Entertainment: Film  multiple     medium   \n",
       "9  Entertainment: Film  multiple     medium   \n",
       "\n",
       "                                            question          correct_answer  \\\n",
       "0  What was Marilyn Monroe`s character&#039;s fir...                   Sugar   \n",
       "1  In which 1973 film does Yul Brynner play a rob...               Westworld   \n",
       "2  This movie contains the quote, &quot;I love th...          Apocalypse Now   \n",
       "3  In which African country was the 2006 film &#0...            Sierra Leone   \n",
       "4  Which one of these films are shot entirely in ...             Russian Ark   \n",
       "5  Who played the Cenobite called &quot;Pinhead&q...            Doug Bradley   \n",
       "6  Which famous singer was portrayed by actor Kev...             Bobby Darin   \n",
       "7  Who plays &quot;Bruce Wayne&quot; in the 2008 ...          Christian Bale   \n",
       "8  What Queen song plays during the final fight s...  Don&#039;t Stop Me Now   \n",
       "9  Which Marvel superhero did Chris Evans play pr...             Human Torch   \n",
       "\n",
       "                                   incorrect_answers  \n",
       "0                            [Honey, Caramel, Candy]  \n",
       "1                [Runaway, Android, The Terminators]  \n",
       "2      [Platoon, The Deer Hunter, Full Metal Jacket]  \n",
       "3  [Liberia, Burkina Faso, Central African Republic]  \n",
       "4  [Good Will Hunting, Birdman, Schindler&#039;s ...  \n",
       "5             [Doug Jones, Doug Savant, Doug Benson]  \n",
       "6      [Louis Armstrong, Frank Sinatra, Dean Martin]  \n",
       "7            [Michael Caine, Ron Dean, Heath Ledger]  \n",
       "8  [Brighton Rock, Another Bites the Dust, We Wil...  \n",
       "9                       [Cyclops, Iceman, Daredevil]  "
      ]
     },
     "execution_count": 13,
     "metadata": {},
     "output_type": "execute_result"
    }
   ],
   "source": [
    "results = pd.DataFrame(resp.json()['results'])\n",
    "results"
   ]
  },
  {
   "cell_type": "code",
   "execution_count": null,
   "id": "00ec90e0",
   "metadata": {},
   "outputs": [],
   "source": []
  },
  {
   "cell_type": "code",
   "execution_count": 24,
   "id": "d2b22fff",
   "metadata": {},
   "outputs": [],
   "source": [
    "answers = ['uno','dos','tres','cuatro']\n",
    "letras = ['A','B','C','D']"
   ]
  },
  {
   "cell_type": "code",
   "execution_count": 26,
   "id": "4e7fc4a7",
   "metadata": {},
   "outputs": [
    {
     "name": "stdout",
     "output_type": "stream",
     "text": [
      "A - uno\n",
      "B - dos\n",
      "C - tres\n",
      "D - cuatro\n"
     ]
    }
   ],
   "source": [
    "pos = 0\n",
    "for a in answers:\n",
    "    print (f'{letras[pos]} - {a}')\n",
    "    pos +=1"
   ]
  },
  {
   "cell_type": "code",
   "execution_count": 29,
   "id": "3719aeae",
   "metadata": {},
   "outputs": [
    {
     "name": "stdout",
     "output_type": "stream",
     "text": [
      "A - uno\n",
      "B - dos\n",
      "C - tres\n",
      "D - cuatro\n"
     ]
    }
   ],
   "source": [
    "for letra, a in zip(letras, answers):\n",
    "    print (f'{letra} - {a}')"
   ]
  },
  {
   "cell_type": "code",
   "execution_count": null,
   "id": "f566c7a4",
   "metadata": {},
   "outputs": [],
   "source": []
  },
  {
   "cell_type": "code",
   "execution_count": 35,
   "id": "33699f10",
   "metadata": {},
   "outputs": [],
   "source": [
    "class OpenTrivia:\n",
    "    \n",
    "    def __init__(self):\n",
    "        self.api_url = 'https://opentdb.com/api.php'\n",
    "     \n",
    "    def build_answers(row):\n",
    "\n",
    "        answers = [(r,0) for r in row['incorrect_answers']]\n",
    "        answers.append((row['correct_answer'], 1))\n",
    "        random.shuffle(answers)\n",
    "        return answers\n",
    "\n",
    "    def call_api(self, params):\n",
    "        resp = requests.get(self.api_url, params)\n",
    "        if resp.ok:\n",
    "            return resp.json()['results']\n",
    "        else:\n",
    "            raise Exception('No se pudieron recuperar preguntas')\n",
    "            \n",
    "    def get_questions(self):\n",
    "        params = {\n",
    "            #'encode':'urlLegacy',\n",
    "            'amount':3,\n",
    "            'difficulty':'easy',\n",
    "            'type':'multiple'\n",
    "        }\n",
    "        easy_questions = pd.DataFrame(self.call_api(params))\n",
    "        easy_questions['answers'] = easy_questions.apply(build_answers, axis=1)\n",
    "        \n",
    "\n",
    "        params = {\n",
    "            #'encode':'urlLegacy',\n",
    "            'amount':4,\n",
    "            'difficulty':'medium',\n",
    "            'type':'multiple'\n",
    "        }\n",
    "        medium_questions = pd.DataFrame(self.call_api(params))\n",
    "        medium_questions['answers'] = medium_questions.apply(build_answers, axis=1)\n",
    "\n",
    "        params = {\n",
    "            #'encode':'urlLegacy',\n",
    "            'amount':3,\n",
    "            'difficulty':'hard',\n",
    "            'type':'multiple'\n",
    "        }\n",
    "        hard_questions = pd.DataFrame(self.call_api(params))\n",
    "        hard_questions['answers'] = hard_questions.apply(build_answers, axis=1)\n",
    "                \n",
    "        \n",
    "        return pd.concat([easy_questions,medium_questions,hard_questions])\n",
    "    \n",
    "    def ask_question(self, question, answers):\n",
    "        print(question)\n",
    "        \n",
    "        letras = ['A','B','C','D']\n",
    "        for letra, a in zip(letras, answers):\n",
    "            print(f'{letra} - {a[0]}')\n",
    "            \n",
    "        respuestas = dict([(letra, answer[1]) for letra, answer in zip(letras, answers)])\n",
    "        respuesta = input('Cual es la respuesta correcta? ')\n",
    "        return respuestas[respuesta]\n",
    "        \n",
    "        \n",
    "    def jugar(self):\n",
    "        questions = self.get_questions()\n",
    "        win = True\n",
    "        for i, question in questions.iterrows():\n",
    "            correcta = self.ask_question(question['question'],\n",
    "                                         question['answers'])\n",
    "            if not correcta:\n",
    "                print('Has perdido')\n",
    "                win=False\n",
    "                break\n",
    "        if win:\n",
    "            print('Eres millonario!')"
   ]
  },
  {
   "cell_type": "code",
   "execution_count": 2,
   "id": "5d9f5bf2",
   "metadata": {},
   "outputs": [],
   "source": []
  },
  {
   "cell_type": "code",
   "execution_count": 36,
   "id": "a6e0094b",
   "metadata": {},
   "outputs": [],
   "source": [
    "ot = OpenTrivia ()"
   ]
  },
  {
   "cell_type": "code",
   "execution_count": 39,
   "id": "e5a1f50a",
   "metadata": {},
   "outputs": [
    {
     "name": "stdout",
     "output_type": "stream",
     "text": [
      "What&#039;s the Team Fortress 2 Scout&#039;s city of origin?\n",
      "A - New York\n",
      "B - Detroit\n",
      "C - Sydney\n",
      "D - Boston\n",
      "Cual es la respuesta correcta? B\n",
      "Has perdido\n"
     ]
    }
   ],
   "source": [
    "ot.jugar()"
   ]
  },
  {
   "cell_type": "code",
   "execution_count": 16,
   "id": "e302a4ed",
   "metadata": {},
   "outputs": [],
   "source": [
    "df = ot.get_questions()"
   ]
  },
  {
   "cell_type": "code",
   "execution_count": 17,
   "id": "2d665800",
   "metadata": {},
   "outputs": [],
   "source": [
    "answers = [(r,0) for r in df.loc[0,'incorrect_answers']]\n",
    "answers.append((df.loc[0,'correct_answer'], 1))"
   ]
  },
  {
   "cell_type": "code",
   "execution_count": 19,
   "id": "2cf22eca",
   "metadata": {},
   "outputs": [
    {
     "data": {
      "text/plain": [
       "[('Leaf Springs', 0), ('Pistons', 1), ('Radiators', 0), ('ABS', 0)]"
      ]
     },
     "execution_count": 19,
     "metadata": {},
     "output_type": "execute_result"
    }
   ],
   "source": [
    "random.shuffle(answers)\n",
    "answers"
   ]
  },
  {
   "cell_type": "code",
   "execution_count": 20,
   "id": "619ec26f",
   "metadata": {},
   "outputs": [],
   "source": [
    "def build_answers(row):\n",
    "    \n",
    "    answers = [(r,0) for r in row['incorrect_answers']]\n",
    "    answers.append((row['correct_answer'], 1))\n",
    "    random.shuffle(answers)\n",
    "    return answers"
   ]
  },
  {
   "cell_type": "code",
   "execution_count": 21,
   "id": "de012b63",
   "metadata": {},
   "outputs": [
    {
     "data": {
      "text/plain": [
       "0    [(ABS, 0), (Radiators, 0), (Pistons, 1), (Leaf...\n",
       "1    [(Lord of the Rings, 0), (The Witcher, 0), (Ne...\n",
       "2    [(Just Virtual Machine, 0), (Java Virtual Mach...\n",
       "dtype: object"
      ]
     },
     "execution_count": 21,
     "metadata": {},
     "output_type": "execute_result"
    }
   ],
   "source": [
    "df.apply(build_answers, axis=1)"
   ]
  },
  {
   "cell_type": "code",
   "execution_count": 22,
   "id": "b6053dc3",
   "metadata": {},
   "outputs": [
    {
     "data": {
      "text/html": [
       "<div>\n",
       "<style scoped>\n",
       "    .dataframe tbody tr th:only-of-type {\n",
       "        vertical-align: middle;\n",
       "    }\n",
       "\n",
       "    .dataframe tbody tr th {\n",
       "        vertical-align: top;\n",
       "    }\n",
       "\n",
       "    .dataframe thead th {\n",
       "        text-align: right;\n",
       "    }\n",
       "</style>\n",
       "<table border=\"1\" class=\"dataframe\">\n",
       "  <thead>\n",
       "    <tr style=\"text-align: right;\">\n",
       "      <th></th>\n",
       "      <th>category</th>\n",
       "      <th>type</th>\n",
       "      <th>difficulty</th>\n",
       "      <th>question</th>\n",
       "      <th>correct_answer</th>\n",
       "      <th>incorrect_answers</th>\n",
       "      <th>answers</th>\n",
       "    </tr>\n",
       "  </thead>\n",
       "  <tbody>\n",
       "    <tr>\n",
       "      <th>0</th>\n",
       "      <td>Vehicles</td>\n",
       "      <td>multiple</td>\n",
       "      <td>easy</td>\n",
       "      <td>What are the cylinder-like parts that pump up ...</td>\n",
       "      <td>Pistons</td>\n",
       "      <td>[Leaf Springs, Radiators, ABS]</td>\n",
       "      <td>[(ABS, 0), (Pistons, 1), (Leaf Springs, 0), (R...</td>\n",
       "    </tr>\n",
       "    <tr>\n",
       "      <th>1</th>\n",
       "      <td>Entertainment: Video Games</td>\n",
       "      <td>multiple</td>\n",
       "      <td>easy</td>\n",
       "      <td>The Khajiit are a race of cat-like creatures f...</td>\n",
       "      <td>The Elder Scrolls</td>\n",
       "      <td>[Lord of the Rings, The Witcher, Neverwinter N...</td>\n",
       "      <td>[(Lord of the Rings, 0), (The Elder Scrolls, 1...</td>\n",
       "    </tr>\n",
       "    <tr>\n",
       "      <th>2</th>\n",
       "      <td>Science: Computers</td>\n",
       "      <td>multiple</td>\n",
       "      <td>easy</td>\n",
       "      <td>What does the computer software acronym JVM st...</td>\n",
       "      <td>Java Virtual Machine</td>\n",
       "      <td>[Java Vendor Machine, Java Visual Machine, Jus...</td>\n",
       "      <td>[(Java Visual Machine, 0), (Java Vendor Machin...</td>\n",
       "    </tr>\n",
       "  </tbody>\n",
       "</table>\n",
       "</div>"
      ],
      "text/plain": [
       "                     category      type difficulty  \\\n",
       "0                    Vehicles  multiple       easy   \n",
       "1  Entertainment: Video Games  multiple       easy   \n",
       "2          Science: Computers  multiple       easy   \n",
       "\n",
       "                                            question        correct_answer  \\\n",
       "0  What are the cylinder-like parts that pump up ...               Pistons   \n",
       "1  The Khajiit are a race of cat-like creatures f...     The Elder Scrolls   \n",
       "2  What does the computer software acronym JVM st...  Java Virtual Machine   \n",
       "\n",
       "                                   incorrect_answers  \\\n",
       "0                     [Leaf Springs, Radiators, ABS]   \n",
       "1  [Lord of the Rings, The Witcher, Neverwinter N...   \n",
       "2  [Java Vendor Machine, Java Visual Machine, Jus...   \n",
       "\n",
       "                                             answers  \n",
       "0  [(ABS, 0), (Pistons, 1), (Leaf Springs, 0), (R...  \n",
       "1  [(Lord of the Rings, 0), (The Elder Scrolls, 1...  \n",
       "2  [(Java Visual Machine, 0), (Java Vendor Machin...  "
      ]
     },
     "execution_count": 22,
     "metadata": {},
     "output_type": "execute_result"
    }
   ],
   "source": [
    "df['answers'] = df.apply(build_answers, axis=1)\n",
    "df"
   ]
  },
  {
   "cell_type": "code",
   "execution_count": null,
   "id": "3cc5ea74",
   "metadata": {},
   "outputs": [],
   "source": []
  },
  {
   "cell_type": "code",
   "execution_count": null,
   "id": "0483e345",
   "metadata": {},
   "outputs": [],
   "source": []
  },
  {
   "cell_type": "code",
   "execution_count": null,
   "id": "9e7e331f",
   "metadata": {},
   "outputs": [],
   "source": []
  }
 ],
 "metadata": {
  "kernelspec": {
   "display_name": "Python 3",
   "language": "python",
   "name": "python3"
  },
  "language_info": {
   "codemirror_mode": {
    "name": "ipython",
    "version": 3
   },
   "file_extension": ".py",
   "mimetype": "text/x-python",
   "name": "python",
   "nbconvert_exporter": "python",
   "pygments_lexer": "ipython3",
   "version": "3.8.8"
  }
 },
 "nbformat": 4,
 "nbformat_minor": 5
}
