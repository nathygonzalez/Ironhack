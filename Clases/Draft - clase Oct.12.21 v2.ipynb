{
 "cells": [
  {
   "cell_type": "code",
   "execution_count": 1,
   "id": "02af0db9",
   "metadata": {},
   "outputs": [
    {
     "ename": "ValueError",
     "evalue": "invalid literal for int() with base 10: 'hola'",
     "output_type": "error",
     "traceback": [
      "\u001b[1;31m---------------------------------------------------------------------------\u001b[0m",
      "\u001b[1;31mValueError\u001b[0m                                Traceback (most recent call last)",
      "\u001b[1;32m<ipython-input-1-1b0b8d01d45a>\u001b[0m in \u001b[0;36m<module>\u001b[1;34m\u001b[0m\n\u001b[1;32m----> 1\u001b[1;33m \u001b[0mint\u001b[0m \u001b[1;33m(\u001b[0m\u001b[1;34m'hola'\u001b[0m\u001b[1;33m)\u001b[0m\u001b[1;33m\u001b[0m\u001b[1;33m\u001b[0m\u001b[0m\n\u001b[0m",
      "\u001b[1;31mValueError\u001b[0m: invalid literal for int() with base 10: 'hola'"
     ]
    }
   ],
   "source": [
    "#Try / Except\n",
    "\n",
    "int ('hola')"
   ]
  },
  {
   "cell_type": "code",
   "execution_count": null,
   "id": "2ac56425",
   "metadata": {},
   "outputs": [],
   "source": []
  },
  {
   "cell_type": "code",
   "execution_count": 2,
   "id": "01a41e94",
   "metadata": {},
   "outputs": [
    {
     "name": "stdout",
     "output_type": "stream",
     "text": [
      "Dime un numero: hola\n",
      "Eso no es numero\n"
     ]
    }
   ],
   "source": [
    "try:\n",
    "    int(input('Dime un numero: '))\n",
    "except:\n",
    "    print('Eso no es numero')"
   ]
  },
  {
   "cell_type": "code",
   "execution_count": 3,
   "id": "b9efb83a",
   "metadata": {},
   "outputs": [
    {
     "name": "stdout",
     "output_type": "stream",
     "text": [
      "Dime un numero: hola\n",
      "Eso no es numero\n",
      "Dime un numero: 12\n"
     ]
    }
   ],
   "source": [
    "while True:\n",
    "    try:\n",
    "        int(input('Dime un numero: '))\n",
    "    except:\n",
    "        print('Eso no es numero')\n",
    "    else:\n",
    "        break"
   ]
  },
  {
   "cell_type": "code",
   "execution_count": 4,
   "id": "7910b34d",
   "metadata": {},
   "outputs": [
    {
     "name": "stdout",
     "output_type": "stream",
     "text": [
      "Dime un numero: hola\n",
      "Eso no es numero\n",
      "invalid literal for int() with base 10: 'hola'\n"
     ]
    }
   ],
   "source": [
    "try:\n",
    "    int(input('Dime un numero: '))\n",
    "except Exception as e:\n",
    "    print('Eso no es numero')\n",
    "    print (e)"
   ]
  },
  {
   "cell_type": "code",
   "execution_count": 5,
   "id": "54b1b9be",
   "metadata": {},
   "outputs": [
    {
     "name": "stdout",
     "output_type": "stream",
     "text": [
      "Dime un numero: hola\n",
      "name 'ErrorNumerico' is not defined\n",
      "Dime un numero: uno\n",
      "name 'ErrorNumerico' is not defined\n",
      "Dime un numero: 12\n"
     ]
    }
   ],
   "source": [
    "while True:\n",
    "    try:\n",
    "        num = input('Dime un numero: ')\n",
    "        if not num.isnumeric():\n",
    "            raise ErrorNumerico('Eso no es numero')\n",
    "    except Exception as e:\n",
    "        print(e)\n",
    "    else:\n",
    "        break"
   ]
  },
  {
   "cell_type": "code",
   "execution_count": 6,
   "id": "14f0033a",
   "metadata": {},
   "outputs": [],
   "source": [
    "import time"
   ]
  },
  {
   "cell_type": "code",
   "execution_count": 8,
   "id": "0de305a6",
   "metadata": {},
   "outputs": [
    {
     "name": "stdout",
     "output_type": "stream",
     "text": [
      "Wall time: 5.01 s\n"
     ]
    }
   ],
   "source": [
    "%%time\n",
    "time.sleep(5)"
   ]
  },
  {
   "cell_type": "code",
   "execution_count": null,
   "id": "4e711b0a",
   "metadata": {},
   "outputs": [],
   "source": []
  },
  {
   "cell_type": "code",
   "execution_count": 17,
   "id": "6ff90d27",
   "metadata": {},
   "outputs": [],
   "source": [
    "# Folder (ficheros)\n",
    "\n",
    "filename = (r\"C:\\\\Users\\\\Natalia Gonzalez\\\\Ironhack\\\\clases\\\\hello.txt\")"
   ]
  },
  {
   "cell_type": "code",
   "execution_count": 19,
   "id": "03c61b59",
   "metadata": {},
   "outputs": [],
   "source": [
    "with open (filename, 'r') as file:\n",
    "    texto = file.read()"
   ]
  },
  {
   "cell_type": "code",
   "execution_count": 20,
   "id": "8083a45d",
   "metadata": {},
   "outputs": [
    {
     "name": "stdout",
     "output_type": "stream",
     "text": [
      "Hello World!\n"
     ]
    }
   ],
   "source": [
    "print (texto)"
   ]
  },
  {
   "cell_type": "code",
   "execution_count": null,
   "id": "e1e72cd1",
   "metadata": {},
   "outputs": [],
   "source": []
  },
  {
   "cell_type": "code",
   "execution_count": 22,
   "id": "4c736c75",
   "metadata": {},
   "outputs": [],
   "source": [
    "# Function w - Overwrite\n",
    "\n",
    "with open (r\"C:\\\\Users\\\\Natalia Gonzalez\\\\Ironhack\\\\clases\\\\hello.txt\",'w') as file:\n",
    "    file.writelines (['Natalia\\n', 'Adriana\\n', 'Paula\\n', 'Ksenya\\n'])"
   ]
  },
  {
   "cell_type": "code",
   "execution_count": 26,
   "id": "6fff5558",
   "metadata": {},
   "outputs": [
    {
     "name": "stdout",
     "output_type": "stream",
     "text": [
      "Natalia\n",
      "Adriana\n",
      "Paula\n",
      "Ksenya\n",
      "\n"
     ]
    }
   ],
   "source": [
    "with open (filename, 'r') as file:\n",
    "    texto = file.read()\n",
    "    print (texto)"
   ]
  },
  {
   "cell_type": "code",
   "execution_count": null,
   "id": "950741c5",
   "metadata": {},
   "outputs": [],
   "source": []
  },
  {
   "cell_type": "code",
   "execution_count": 27,
   "id": "2fc3abad",
   "metadata": {},
   "outputs": [],
   "source": [
    "# Function a - Añade\n",
    "\n",
    "with open (r\"C:\\\\Users\\\\Natalia Gonzalez\\\\Ironhack\\\\clases\\\\hello.txt\",'a') as file:\n",
    "    for nombre in ['Natalia\\n', 'Adriana\\n', 'Paula\\n', 'Ksenya\\n']:\n",
    "        print (nombre, file=file)"
   ]
  },
  {
   "cell_type": "code",
   "execution_count": 28,
   "id": "c6f7dfa6",
   "metadata": {},
   "outputs": [
    {
     "name": "stdout",
     "output_type": "stream",
     "text": [
      "Natalia\n",
      "Adriana\n",
      "Paula\n",
      "Ksenya\n",
      "Natalia\n",
      "\n",
      "Adriana\n",
      "\n",
      "Paula\n",
      "\n",
      "Ksenya\n",
      "\n",
      "\n"
     ]
    }
   ],
   "source": [
    "with open (filename, 'r') as file:\n",
    "    texto = file.read()\n",
    "    print (texto)"
   ]
  },
  {
   "cell_type": "code",
   "execution_count": null,
   "id": "a0155e29",
   "metadata": {},
   "outputs": [],
   "source": []
  },
  {
   "cell_type": "code",
   "execution_count": 29,
   "id": "9d98513e",
   "metadata": {},
   "outputs": [],
   "source": [
    "from pathlib import Path"
   ]
  },
  {
   "cell_type": "code",
   "execution_count": 30,
   "id": "b7562237",
   "metadata": {},
   "outputs": [
    {
     "data": {
      "text/plain": [
       "'C:\\\\\\\\Users\\\\\\\\Natalia Gonzalez\\\\\\\\Ironhack\\\\\\\\clases\\\\\\\\hello.txt'"
      ]
     },
     "execution_count": 30,
     "metadata": {},
     "output_type": "execute_result"
    }
   ],
   "source": [
    "filename"
   ]
  },
  {
   "cell_type": "code",
   "execution_count": 31,
   "id": "321af5f7",
   "metadata": {},
   "outputs": [
    {
     "data": {
      "text/plain": [
       "'hello.txt'"
      ]
     },
     "execution_count": 31,
     "metadata": {},
     "output_type": "execute_result"
    }
   ],
   "source": [
    "p = Path(filename)\n",
    "p.name"
   ]
  },
  {
   "cell_type": "code",
   "execution_count": 32,
   "id": "a9bb839d",
   "metadata": {},
   "outputs": [
    {
     "data": {
      "text/plain": [
       "'.txt'"
      ]
     },
     "execution_count": 32,
     "metadata": {},
     "output_type": "execute_result"
    }
   ],
   "source": [
    "p.suffix"
   ]
  },
  {
   "cell_type": "code",
   "execution_count": 33,
   "id": "7aed934d",
   "metadata": {},
   "outputs": [
    {
     "data": {
      "text/plain": [
       "WindowsPath('C:/Users/Natalia Gonzalez/Ironhack/Clases/hello.txt')"
      ]
     },
     "execution_count": 33,
     "metadata": {},
     "output_type": "execute_result"
    }
   ],
   "source": [
    "p.resolve()"
   ]
  },
  {
   "cell_type": "code",
   "execution_count": null,
   "id": "425f2e6c",
   "metadata": {},
   "outputs": [],
   "source": [
    "#para navegar - volta 1\n",
    "os.chdir (..)"
   ]
  },
  {
   "cell_type": "code",
   "execution_count": null,
   "id": "d96188ea",
   "metadata": {},
   "outputs": [],
   "source": []
  },
  {
   "cell_type": "code",
   "execution_count": null,
   "id": "98dc35ad",
   "metadata": {},
   "outputs": [],
   "source": []
  }
 ],
 "metadata": {
  "kernelspec": {
   "display_name": "Python 3",
   "language": "python",
   "name": "python3"
  },
  "language_info": {
   "codemirror_mode": {
    "name": "ipython",
    "version": 3
   },
   "file_extension": ".py",
   "mimetype": "text/x-python",
   "name": "python",
   "nbconvert_exporter": "python",
   "pygments_lexer": "ipython3",
   "version": "3.8.8"
  }
 },
 "nbformat": 4,
 "nbformat_minor": 5
}
