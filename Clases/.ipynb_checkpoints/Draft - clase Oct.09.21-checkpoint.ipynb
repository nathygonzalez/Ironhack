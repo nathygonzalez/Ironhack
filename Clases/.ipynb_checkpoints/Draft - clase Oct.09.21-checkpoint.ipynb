{
 "cells": [
  {
   "cell_type": "code",
   "execution_count": 3,
   "id": "344b8f92",
   "metadata": {},
   "outputs": [],
   "source": [
    "#Classes\n",
    "class Complex:\n",
    "    def __init__ (self, realpart, imagpart):\n",
    "        self.r = realpart\n",
    "        self.i = imagpart\n",
    "    "
   ]
  },
  {
   "cell_type": "code",
   "execution_count": 2,
   "id": "81bebeca",
   "metadata": {},
   "outputs": [
    {
     "data": {
      "text/plain": [
       "(3.0, -4.5)"
      ]
     },
     "execution_count": 2,
     "metadata": {},
     "output_type": "execute_result"
    }
   ],
   "source": [
    "x = Complex (3.0, -4.5)\n",
    "x.r, x.i"
   ]
  },
  {
   "cell_type": "code",
   "execution_count": 46,
   "id": "b09a1156",
   "metadata": {},
   "outputs": [],
   "source": [
    "def Personal ():\n",
    "    def __init__(self, nombre = None):\n",
    "        self.nombre = nombre\n",
    "    def saludo (self):\n",
    "        if self.nombre:\n",
    "            print ('Hola, me llamo {}'.format(self.nombre))\n",
    "            tu_nombre = raw_input('Como te llamas?')\n",
    "            print('Hola, ', tu_nombre)\n",
    "            x = Persona()\n",
    "            x.saludo()"
   ]
  },
  {
   "cell_type": "code",
   "execution_count": null,
   "id": "b43d738e",
   "metadata": {},
   "outputs": [],
   "source": []
  },
  {
   "cell_type": "code",
   "execution_count": null,
   "id": "2f8344e4",
   "metadata": {},
   "outputs": [],
   "source": []
  },
  {
   "cell_type": "code",
   "execution_count": 7,
   "id": "aac2c1d4",
   "metadata": {},
   "outputs": [],
   "source": [
    "class Persona:\n",
    "    def __init__(self, nombre = None):\n",
    "        self.nombre = nombre\n",
    "    def __str__(self):\n",
    "        return self.nombre\n",
    "    def __repr__(self):\n",
    "        return f'Yo soy {self.nombre}'"
   ]
  },
  {
   "cell_type": "code",
   "execution_count": 8,
   "id": "ac16a6bc",
   "metadata": {},
   "outputs": [],
   "source": [
    "alberto = Persona(nombre='Alberto')"
   ]
  },
  {
   "cell_type": "code",
   "execution_count": 9,
   "id": "e5c9dfee",
   "metadata": {},
   "outputs": [
    {
     "data": {
      "text/plain": [
       "Yo soy Alberto"
      ]
     },
     "execution_count": 9,
     "metadata": {},
     "output_type": "execute_result"
    }
   ],
   "source": [
    "alberto"
   ]
  },
  {
   "cell_type": "code",
   "execution_count": 10,
   "id": "d99b09e6",
   "metadata": {},
   "outputs": [
    {
     "name": "stdout",
     "output_type": "stream",
     "text": [
      "Alberto\n"
     ]
    }
   ],
   "source": [
    "print (alberto)"
   ]
  },
  {
   "cell_type": "code",
   "execution_count": null,
   "id": "0dc17cef",
   "metadata": {},
   "outputs": [],
   "source": []
  },
  {
   "cell_type": "code",
   "execution_count": 11,
   "id": "7d41c58f",
   "metadata": {},
   "outputs": [],
   "source": [
    "from datetime import date"
   ]
  },
  {
   "cell_type": "code",
   "execution_count": 12,
   "id": "e4d780d5",
   "metadata": {},
   "outputs": [
    {
     "data": {
      "text/plain": [
       "datetime.date(2021, 10, 9)"
      ]
     },
     "execution_count": 12,
     "metadata": {},
     "output_type": "execute_result"
    }
   ],
   "source": [
    "date.today()"
   ]
  },
  {
   "cell_type": "code",
   "execution_count": 13,
   "id": "91de412b",
   "metadata": {},
   "outputs": [
    {
     "data": {
      "text/plain": [
       "'2021-10-09'"
      ]
     },
     "execution_count": 13,
     "metadata": {},
     "output_type": "execute_result"
    }
   ],
   "source": [
    "date.today().isoformat()"
   ]
  },
  {
   "cell_type": "code",
   "execution_count": 14,
   "id": "bbe09dea",
   "metadata": {},
   "outputs": [
    {
     "data": {
      "text/plain": [
       "datetime.date(1985, 5, 24)"
      ]
     },
     "execution_count": 14,
     "metadata": {},
     "output_type": "execute_result"
    }
   ],
   "source": [
    "date.fromisoformat('1985-05-24')"
   ]
  },
  {
   "cell_type": "code",
   "execution_count": 32,
   "id": "a2e8f13d",
   "metadata": {},
   "outputs": [],
   "source": [
    "class Persona:\n",
    "    '''Definición de una Persona'''\n",
    "    \n",
    "    def __init__(self, nombre = None, fecha_nac = None):\n",
    "        '''Crea una persona\n",
    "        Input:\n",
    "        nombre: Nombre\n",
    "        fecha_nac: Fecha de nacimiento en formato ISO\n",
    "        '''\n",
    "        self.nombre = nombre\n",
    "        self.fecha_nacimiento = date.fromisoformat(fecha_nac)\n",
    "        \n",
    "    def __str__(self):\n",
    "        return self.nombre\n",
    "    \n",
    "    def __repr__(self):\n",
    "        return f'Yo soy {self.nombre} y tengo {sef.edad()} años'\n",
    "    \n",
    "    def edad (self):\n",
    "        pass\n",
    "        \n",
    "    def es_cumple(self):\n",
    "        return False"
   ]
  },
  {
   "cell_type": "code",
   "execution_count": 19,
   "id": "95324f5e",
   "metadata": {},
   "outputs": [],
   "source": [
    "from datetime import date"
   ]
  },
  {
   "cell_type": "code",
   "execution_count": 21,
   "id": "1127062e",
   "metadata": {},
   "outputs": [
    {
     "data": {
      "text/plain": [
       "'2021-10-09'"
      ]
     },
     "execution_count": 21,
     "metadata": {},
     "output_type": "execute_result"
    }
   ],
   "source": [
    "date.today().isoformat()"
   ]
  },
  {
   "cell_type": "code",
   "execution_count": 28,
   "id": "2cf37ce0",
   "metadata": {},
   "outputs": [],
   "source": [
    "class Persona:\n",
    "    '''Definición de una Persona'''\n",
    "    \n",
    "    def __init__(self, nombre = None, fecha_nac = None):\n",
    "        '''Crea una persona\n",
    "        Input:\n",
    "        nombre: Nombre\n",
    "        fecha_nac: Fecha de nacimiento en formato ISO\n",
    "        '''\n",
    "        self.nombre = nombre\n",
    "        self.fecha_nacimiento = date.fromisoformat(fecha_nac)\n",
    "    \n",
    "    def __str__(self):\n",
    "        return self.nombre    \n",
    "    def __repr__(self):\n",
    "        return f'Yo soy {self.nombre} y tengo {self.edad()} años'   \n",
    "    def edad(self):\n",
    "        today= date.today()\n",
    "        self.edad = today.year - self.fecha_nacimiento.year - ((today.month, today.day) < (self.fecha_nacimiento.month, self.fecha_nacimiento.day))\n",
    "        return self.edad\n",
    "    \n",
    "    def es_cumple(self):\n",
    "        today= date.today()\n",
    "        if self.fecha_nacimiento.month == today.month and self.fecha_nacimiento.day == today.day:\n",
    "            return True\n",
    "        else:\n",
    "            return False"
   ]
  },
  {
   "cell_type": "code",
   "execution_count": 29,
   "id": "40ab30b5",
   "metadata": {},
   "outputs": [],
   "source": [
    "natalia = Persona(nombre='Natália', fecha_nac ='1985-05-24')"
   ]
  },
  {
   "cell_type": "code",
   "execution_count": 30,
   "id": "cd8e744c",
   "metadata": {},
   "outputs": [
    {
     "data": {
      "text/plain": [
       "Yo soy Natália y tengo 36 años"
      ]
     },
     "execution_count": 30,
     "metadata": {},
     "output_type": "execute_result"
    }
   ],
   "source": [
    "natalia"
   ]
  },
  {
   "cell_type": "code",
   "execution_count": 31,
   "id": "dd650be6",
   "metadata": {},
   "outputs": [
    {
     "data": {
      "text/plain": [
       "False"
      ]
     },
     "execution_count": 31,
     "metadata": {},
     "output_type": "execute_result"
    }
   ],
   "source": [
    "natalia.es_cumple ()"
   ]
  },
  {
   "cell_type": "code",
   "execution_count": null,
   "id": "ab91b435",
   "metadata": {},
   "outputs": [],
   "source": []
  },
  {
   "cell_type": "code",
   "execution_count": 34,
   "id": "ab60cb0c",
   "metadata": {},
   "outputs": [
    {
     "data": {
      "text/plain": [
       "False"
      ]
     },
     "execution_count": 34,
     "metadata": {},
     "output_type": "execute_result"
    }
   ],
   "source": [
    "None is not None"
   ]
  },
  {
   "cell_type": "code",
   "execution_count": 35,
   "id": "cd97a47d",
   "metadata": {},
   "outputs": [
    {
     "data": {
      "text/plain": [
       "False"
      ]
     },
     "execution_count": 35,
     "metadata": {},
     "output_type": "execute_result"
    }
   ],
   "source": [
    "None != None"
   ]
  },
  {
   "cell_type": "code",
   "execution_count": 33,
   "id": "f6f13e7b",
   "metadata": {},
   "outputs": [],
   "source": [
    "class Persona:\n",
    "    '''Definición de una Persona'''\n",
    "    \n",
    "    def __init__(self, nombre=None, fecha_nac=None):\n",
    "        '''Crea una persona\n",
    "           Input:\n",
    "             nombre: Nombre\n",
    "             fecha_nac: Fecha de  nacimiento en formato ISO\n",
    "        '''\n",
    "        self.nombre = nombre\n",
    "        \n",
    "        if fecha_nac is None:\n",
    "            self.fecha_nacimiento = date.fromisoformat(fecha_nac)\n",
    "\n",
    "    @property\n",
    "    def edad(self):\n",
    "        today= date.today()\n",
    "        return today.year - self.fecha_nacimiento.year - ((today.month, today.day) < (self.fecha_nacimiento.month, self.fecha_nacimiento.day))\n",
    "    \n",
    "    @property\n",
    "    def es_cumple(self):\n",
    "        today= date.today()\n",
    "        if self.fecha_nacimiento.month == today.month and self.fecha_nacimiento.day == today.day:\n",
    "            return True\n",
    "        else:\n",
    "            return False\n",
    "    \n",
    "    def __str__(self):\n",
    "        return self.nombre\n",
    "    \n",
    "    def __repr__(self):\n",
    "        if self.es_cumple:\n",
    "            return f'Yo soy {self.nombre} y hoy cumplo {self.edad} años'\n",
    "        else:\n",
    "            return f'Yo soy {self.nombre} y tengo {self.edad} años'"
   ]
  },
  {
   "cell_type": "code",
   "execution_count": 37,
   "id": "280df87f",
   "metadata": {},
   "outputs": [],
   "source": [
    "natalia = Persona(nombre='Natália', fecha_nac ='1985-05-24')"
   ]
  },
  {
   "cell_type": "code",
   "execution_count": 38,
   "id": "bb44a5d1",
   "metadata": {},
   "outputs": [
    {
     "data": {
      "text/plain": [
       "Yo soy Natália y tengo 36 años"
      ]
     },
     "execution_count": 38,
     "metadata": {},
     "output_type": "execute_result"
    }
   ],
   "source": [
    "natalia"
   ]
  },
  {
   "cell_type": "code",
   "execution_count": 45,
   "id": "dff2164d",
   "metadata": {},
   "outputs": [],
   "source": [
    "# si hoy fuera mi cumple\n",
    "natalia = Persona(nombre='Natália', fecha_nac ='1985-10-09')"
   ]
  },
  {
   "cell_type": "code",
   "execution_count": 44,
   "id": "a7dd5d8d",
   "metadata": {},
   "outputs": [
    {
     "data": {
      "text/plain": [
       "Yo soy Natália y hoy cumplo 36 años"
      ]
     },
     "execution_count": 44,
     "metadata": {},
     "output_type": "execute_result"
    }
   ],
   "source": [
    "natalia"
   ]
  },
  {
   "cell_type": "code",
   "execution_count": null,
   "id": "ce2ed99f",
   "metadata": {},
   "outputs": [],
   "source": []
  },
  {
   "cell_type": "code",
   "execution_count": null,
   "id": "4c6da4fe",
   "metadata": {},
   "outputs": [],
   "source": []
  },
  {
   "cell_type": "code",
   "execution_count": 47,
   "id": "e799ef92",
   "metadata": {},
   "outputs": [],
   "source": [
    "class Estudiante:\n",
    "    def __init__(self, bootcamp='Data Analytics'):\n",
    "        self.bootcamp = bootcamp\n",
    "    \n",
    "    def __str__(self):\n",
    "        return 'Estudiante de Ironhack'\n",
    "    \n",
    "    def __repr__(self):\n",
    "        return f'Estudio {self.bootcamp}'"
   ]
  },
  {
   "cell_type": "code",
   "execution_count": 48,
   "id": "f74c98f8",
   "metadata": {},
   "outputs": [],
   "source": [
    "estudiante = Estudiante ()"
   ]
  },
  {
   "cell_type": "code",
   "execution_count": 49,
   "id": "80ebdf7b",
   "metadata": {},
   "outputs": [
    {
     "data": {
      "text/plain": [
       "Estudio Data Analytics"
      ]
     },
     "execution_count": 49,
     "metadata": {},
     "output_type": "execute_result"
    }
   ],
   "source": [
    "estudiante"
   ]
  },
  {
   "cell_type": "code",
   "execution_count": 50,
   "id": "1c43fde9",
   "metadata": {},
   "outputs": [
    {
     "data": {
      "text/plain": [
       "__main__.Estudiante"
      ]
     },
     "execution_count": 50,
     "metadata": {},
     "output_type": "execute_result"
    }
   ],
   "source": [
    "type(estudiante)"
   ]
  },
  {
   "cell_type": "code",
   "execution_count": 51,
   "id": "831e19e9",
   "metadata": {},
   "outputs": [
    {
     "data": {
      "text/plain": [
       "__main__.Estudiante"
      ]
     },
     "execution_count": 51,
     "metadata": {},
     "output_type": "execute_result"
    }
   ],
   "source": [
    "estudiante.__class__"
   ]
  },
  {
   "cell_type": "code",
   "execution_count": 52,
   "id": "fbd82cb4",
   "metadata": {},
   "outputs": [
    {
     "data": {
      "text/plain": [
       "False"
      ]
     },
     "execution_count": 52,
     "metadata": {},
     "output_type": "execute_result"
    }
   ],
   "source": [
    "isinstance(estudiante, Persona)"
   ]
  },
  {
   "cell_type": "code",
   "execution_count": null,
   "id": "8585e86e",
   "metadata": {},
   "outputs": [],
   "source": []
  },
  {
   "cell_type": "code",
   "execution_count": 53,
   "id": "7a01b2db",
   "metadata": {},
   "outputs": [],
   "source": [
    "class Estudiante:\n",
    "    def __init__(self, bootcamp='Data Analytics'):\n",
    "        self.bootcamp = bootcamp\n",
    "        self.notas = {}\n",
    "    \n",
    "    def __str__(self):\n",
    "        return 'Estudiante de Ironhack'\n",
    "    \n",
    "    def __repr__(self):\n",
    "        return f'Estudio {self.bootcamp}'\n",
    "    \n",
    "    def hacer_examen(self, asignature, nota):\n",
    "        self.notas[asignature] = nota"
   ]
  },
  {
   "cell_type": "code",
   "execution_count": null,
   "id": "735e1c95",
   "metadata": {},
   "outputs": [],
   "source": []
  }
 ],
 "metadata": {
  "kernelspec": {
   "display_name": "Python 3",
   "language": "python",
   "name": "python3"
  },
  "language_info": {
   "codemirror_mode": {
    "name": "ipython",
    "version": 3
   },
   "file_extension": ".py",
   "mimetype": "text/x-python",
   "name": "python",
   "nbconvert_exporter": "python",
   "pygments_lexer": "ipython3",
   "version": "3.8.8"
  }
 },
 "nbformat": 4,
 "nbformat_minor": 5
}
