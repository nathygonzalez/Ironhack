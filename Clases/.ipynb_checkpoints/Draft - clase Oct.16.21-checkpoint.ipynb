{
 "cells": [
  {
   "cell_type": "code",
   "execution_count": 2,
   "id": "05345b3c",
   "metadata": {},
   "outputs": [
    {
     "data": {
      "text/plain": [
       "'Hello, Bob'"
      ]
     },
     "execution_count": 2,
     "metadata": {},
     "output_type": "execute_result"
    }
   ],
   "source": [
    "# Format Strings\n",
    "name = \"Bob\n",
    "'Hello, %s' % name"
   ]
  },
  {
   "cell_type": "code",
   "execution_count": 3,
   "id": "0a448455",
   "metadata": {},
   "outputs": [
    {
     "data": {
      "text/plain": [
       "'Hello, Bob'"
      ]
     },
     "execution_count": 3,
     "metadata": {},
     "output_type": "execute_result"
    }
   ],
   "source": [
    "'Hello, {}'.format(name)"
   ]
  },
  {
   "cell_type": "code",
   "execution_count": 4,
   "id": "8f1b6147",
   "metadata": {},
   "outputs": [
    {
     "data": {
      "text/plain": [
       "'Hello Bob!'"
      ]
     },
     "execution_count": 4,
     "metadata": {},
     "output_type": "execute_result"
    }
   ],
   "source": [
    "f'Hello {name}!'"
   ]
  },
  {
   "cell_type": "code",
   "execution_count": 7,
   "id": "a1989e32",
   "metadata": {},
   "outputs": [
    {
     "name": "stdout",
     "output_type": "stream",
     "text": [
      "012\n"
     ]
    }
   ],
   "source": [
    "# Padding with zeros\n",
    "print(f'{12:03}')"
   ]
  },
  {
   "cell_type": "code",
   "execution_count": 6,
   "id": "e38495d7",
   "metadata": {},
   "outputs": [],
   "source": [
    "# Python f-string format datetime\n",
    "import datetime\n",
    "now = datetime.datetime.now()"
   ]
  },
  {
   "cell_type": "code",
   "execution_count": 8,
   "id": "8b62a2dd",
   "metadata": {},
   "outputs": [
    {
     "name": "stdout",
     "output_type": "stream",
     "text": [
      "2021-10-16 09:41\n"
     ]
    }
   ],
   "source": [
    "print(f'{now:%Y-%m-%d %H:%M}')"
   ]
  },
  {
   "cell_type": "code",
   "execution_count": 9,
   "id": "72e27fac",
   "metadata": {},
   "outputs": [
    {
     "name": "stdout",
     "output_type": "stream",
     "text": [
      "12c\n"
     ]
    }
   ],
   "source": [
    "# Python f-string numeric notations\n",
    "# Numbers can have various numeric notations, such as decadic or hexadecimal.\n",
    "\n",
    "a = 300\n",
    "# hexadecimal\n",
    "print (f\"{a:x}\")"
   ]
  },
  {
   "cell_type": "code",
   "execution_count": 11,
   "id": "a9df4ccf",
   "metadata": {},
   "outputs": [
    {
     "name": "stdout",
     "output_type": "stream",
     "text": [
      "454\n"
     ]
    }
   ],
   "source": [
    "# octal\n",
    "print (f\"{a:o}\")"
   ]
  },
  {
   "cell_type": "code",
   "execution_count": 12,
   "id": "b6a6ecc7",
   "metadata": {},
   "outputs": [
    {
     "name": "stdout",
     "output_type": "stream",
     "text": [
      "3.000000e+02\n"
     ]
    }
   ],
   "source": [
    "# scientific\n",
    "print (f\"{a:e}\")"
   ]
  },
  {
   "cell_type": "code",
   "execution_count": null,
   "id": "5dddc55b",
   "metadata": {},
   "outputs": [],
   "source": []
  },
  {
   "cell_type": "code",
   "execution_count": 13,
   "id": "f9b62a39",
   "metadata": {},
   "outputs": [],
   "source": [
    "# Search\n",
    "\n",
    "frase = \"Hola, me llamo Natalia\""
   ]
  },
  {
   "cell_type": "code",
   "execution_count": 14,
   "id": "85105be7",
   "metadata": {},
   "outputs": [
    {
     "data": {
      "text/plain": [
       "3"
      ]
     },
     "execution_count": 14,
     "metadata": {},
     "output_type": "execute_result"
    }
   ],
   "source": [
    "frase.find ('a')"
   ]
  },
  {
   "cell_type": "code",
   "execution_count": 15,
   "id": "22fc351b",
   "metadata": {},
   "outputs": [
    {
     "data": {
      "text/plain": [
       "3"
      ]
     },
     "execution_count": 15,
     "metadata": {},
     "output_type": "execute_result"
    }
   ],
   "source": [
    "frase.index ('a')"
   ]
  },
  {
   "cell_type": "code",
   "execution_count": 16,
   "id": "1ac4ede4",
   "metadata": {},
   "outputs": [
    {
     "data": {
      "text/plain": [
       "5"
      ]
     },
     "execution_count": 16,
     "metadata": {},
     "output_type": "execute_result"
    }
   ],
   "source": [
    "frase.count ('a')"
   ]
  },
  {
   "cell_type": "code",
   "execution_count": null,
   "id": "04b975f4",
   "metadata": {},
   "outputs": [],
   "source": []
  },
  {
   "cell_type": "code",
   "execution_count": 17,
   "id": "27b26adb",
   "metadata": {},
   "outputs": [],
   "source": [
    "# Replace\n",
    "# str.replace('old', 'new')\n",
    "\n",
    "e = 'I thought the movie was wonderful!'"
   ]
  },
  {
   "cell_type": "code",
   "execution_count": 18,
   "id": "1d3ea0e1",
   "metadata": {},
   "outputs": [
    {
     "name": "stdout",
     "output_type": "stream",
     "text": [
      "I thought the movie was horrible!\n"
     ]
    }
   ],
   "source": [
    "print (e.replace('wonderful','horrible'))"
   ]
  },
  {
   "cell_type": "code",
   "execution_count": 19,
   "id": "293a6c5a",
   "metadata": {},
   "outputs": [
    {
     "name": "stdout",
     "output_type": "stream",
     "text": [
      "I thought the movie was ok!\n"
     ]
    }
   ],
   "source": [
    "print (e.replace('wonderful','ok'))"
   ]
  },
  {
   "cell_type": "code",
   "execution_count": null,
   "id": "b3d276e6",
   "metadata": {},
   "outputs": [],
   "source": []
  },
  {
   "cell_type": "code",
   "execution_count": 20,
   "id": "001cef79",
   "metadata": {},
   "outputs": [],
   "source": [
    "# Capitalize\n",
    "\n",
    "# str.lower()\n",
    "# str.upper()\n",
    "# str.capitalize()\n",
    "# str.title()\n",
    "# str.islower()\n",
    "# str.isupper()\n",
    "# str.istitle()\n",
    "\n",
    "c = 'sHE HaD a maRveLoUs aSsoRtmeNt of PUPPETS.'"
   ]
  },
  {
   "cell_type": "code",
   "execution_count": 21,
   "id": "af5044b2",
   "metadata": {},
   "outputs": [
    {
     "name": "stdout",
     "output_type": "stream",
     "text": [
      "she had a marvelous assortment of puppets.\n"
     ]
    }
   ],
   "source": [
    "print(c.lower())"
   ]
  },
  {
   "cell_type": "code",
   "execution_count": 22,
   "id": "df10158d",
   "metadata": {},
   "outputs": [
    {
     "name": "stdout",
     "output_type": "stream",
     "text": [
      "SHE HAD A MARVELOUS ASSORTMENT OF PUPPETS.\n"
     ]
    }
   ],
   "source": [
    "print(c.upper())"
   ]
  },
  {
   "cell_type": "code",
   "execution_count": 23,
   "id": "f15efe84",
   "metadata": {},
   "outputs": [
    {
     "name": "stdout",
     "output_type": "stream",
     "text": [
      "She had a marvelous assortment of puppets.\n"
     ]
    }
   ],
   "source": [
    "print(c.capitalize())"
   ]
  },
  {
   "cell_type": "code",
   "execution_count": 25,
   "id": "fcf4dde0",
   "metadata": {},
   "outputs": [
    {
     "name": "stdout",
     "output_type": "stream",
     "text": [
      "She Had A Marvelous Assortment Of Puppets.\n"
     ]
    }
   ],
   "source": [
    "print(c.title())"
   ]
  },
  {
   "cell_type": "code",
   "execution_count": 24,
   "id": "b2f4ee57",
   "metadata": {},
   "outputs": [
    {
     "name": "stdout",
     "output_type": "stream",
     "text": [
      "False\n"
     ]
    }
   ],
   "source": [
    "print(c.islower())"
   ]
  },
  {
   "cell_type": "code",
   "execution_count": 26,
   "id": "453dc7d7",
   "metadata": {},
   "outputs": [
    {
     "name": "stdout",
     "output_type": "stream",
     "text": [
      "False\n"
     ]
    }
   ],
   "source": [
    "print(c.isupper())"
   ]
  },
  {
   "cell_type": "code",
   "execution_count": 27,
   "id": "52353720",
   "metadata": {},
   "outputs": [
    {
     "name": "stdout",
     "output_type": "stream",
     "text": [
      "False\n"
     ]
    }
   ],
   "source": [
    "print(c.istitle())"
   ]
  },
  {
   "cell_type": "code",
   "execution_count": null,
   "id": "12344edf",
   "metadata": {},
   "outputs": [],
   "source": []
  },
  {
   "cell_type": "code",
   "execution_count": 28,
   "id": "a3780002",
   "metadata": {},
   "outputs": [],
   "source": [
    "# Split and Join\n",
    "# str.split()\n",
    "# str.join(list)\n",
    "\n",
    "frase = \"Hola, me llamo Natalia\"\n",
    "words = frase.split()\n",
    "word"
   ]
  },
  {
   "cell_type": "code",
   "execution_count": null,
   "id": "c4b85108",
   "metadata": {},
   "outputs": [],
   "source": []
  },
  {
   "cell_type": "code",
   "execution_count": 29,
   "id": "447cea82",
   "metadata": {},
   "outputs": [
    {
     "name": "stdout",
     "output_type": "stream",
     "text": [
      "[Verse 1]\n",
      "There ain't no gold in this river\n",
      "That I've been washin' my hands in forever\n",
      "I know there is hope in these waters\n",
      "But I can't bring myself to swim\n",
      "When I am drowning in this silence\n",
      "Baby, let me in\n",
      "\n",
      "[Chorus]\n",
      "Go easy on me, baby\n",
      "I was still a child\n",
      "Didn't get the chance to\n",
      "Feel the world around me\n",
      "I had no time to choose what I chose to do\n",
      "So go easy on me\n",
      "\n",
      "[Verse 2]\n",
      "There ain't no room for things to change\n",
      "When we are both so deeply stuck in our ways\n",
      "You can't deny how hard I have tried\n",
      "I changed who I was to put you both first\n",
      "But now I give up\n",
      "\n",
      "[Chorus]\n",
      "Go easy on mÐµ, baby\n",
      "I was still a child\n",
      "Didn't get the chance to\n",
      "Feel thÐµ world around me\n",
      "Had no time to choose what I chose to do\n",
      "So go easy on me\n",
      "\n",
      "[Bridge]\n",
      "I had good intentions\n",
      "And the highest hopes\n",
      "But I know right now\n",
      "It probably doesn't even show\n",
      "\n",
      "[Chorus]\n",
      "Go easy on me, baby\n",
      "I was still a child\n",
      "I didn't get the chance to\n",
      "Feel the world around me\n",
      "I had no time to choose what I chose to do\n",
      "So go easy on me\n"
     ]
    }
   ],
   "source": [
    "with open ((r\"C:\\\\Users\\\\Natalia Gonzalez\\\\Ironhack\\\\clases\\\\adele.txt\")) as f:\n",
    "    cancion = f.read ()\n",
    "    print (cancion)"
   ]
  },
  {
   "cell_type": "code",
   "execution_count": 30,
   "id": "1e2a7264",
   "metadata": {},
   "outputs": [
    {
     "data": {
      "text/plain": [
       "\"[Verse 1]\\nThere ain't no gold in this river\\nThat I've been washin' my hands in forever\\nI know there is hope in these waters\\nBut I can't bring myself to swim\\nWhen I am drowning in this silence\\nBaby, let me in\\n\\n[Chorus]\\nGo easy on me, baby\\nI was still a child\\nDidn't get the chance to\\nFeel the world around me\\nI had no time to choose what I chose to do\\nSo go easy on me\\n\\n[Verse 2]\\nThere ain't no room for things to change\\nWhen we are both so deeply stuck in our ways\\nYou can't deny how hard I have tried\\nI changed who I was to put you both first\\nBut now I give up\\n\\n[Chorus]\\nGo easy on mÐµ, baby\\nI was still a child\\nDidn't get the chance to\\nFeel thÐµ world around me\\nHad no time to choose what I chose to do\\nSo go easy on me\\n\\n[Bridge]\\nI had good intentions\\nAnd the highest hopes\\nBut I know right now\\nIt probably doesn't even show\\n\\n[Chorus]\\nGo easy on me, baby\\nI was still a child\\nI didn't get the chance to\\nFeel the world around me\\nI had no time to choose what I chose to do\\nSo go easy on me\""
      ]
     },
     "execution_count": 30,
     "metadata": {},
     "output_type": "execute_result"
    }
   ],
   "source": [
    "cancion"
   ]
  },
  {
   "cell_type": "code",
   "execution_count": 32,
   "id": "27dd1503",
   "metadata": {},
   "outputs": [
    {
     "data": {
      "text/plain": [
       "['[Verse 1]',\n",
       " \"There ain't no gold in this river\",\n",
       " \"That I've been washin' my hands in forever\",\n",
       " 'I know there is hope in these waters',\n",
       " \"But I can't bring myself to swim\",\n",
       " 'When I am drowning in this silence',\n",
       " 'Baby, let me in',\n",
       " '',\n",
       " '[Chorus]',\n",
       " 'Go easy on me, baby',\n",
       " 'I was still a child',\n",
       " \"Didn't get the chance to\",\n",
       " 'Feel the world around me',\n",
       " 'I had no time to choose what I chose to do',\n",
       " 'So go easy on me',\n",
       " '',\n",
       " '[Verse 2]',\n",
       " \"There ain't no room for things to change\",\n",
       " 'When we are both so deeply stuck in our ways',\n",
       " \"You can't deny how hard I have tried\",\n",
       " 'I changed who I was to put you both first',\n",
       " 'But now I give up',\n",
       " '',\n",
       " '[Chorus]',\n",
       " 'Go easy on mÐµ, baby',\n",
       " 'I was still a child',\n",
       " \"Didn't get the chance to\",\n",
       " 'Feel thÐµ world around me',\n",
       " 'Had no time to choose what I chose to do',\n",
       " 'So go easy on me',\n",
       " '',\n",
       " '[Bridge]',\n",
       " 'I had good intentions',\n",
       " 'And the highest hopes',\n",
       " 'But I know right now',\n",
       " \"It probably doesn't even show\",\n",
       " '',\n",
       " '[Chorus]',\n",
       " 'Go easy on me, baby',\n",
       " 'I was still a child',\n",
       " \"I didn't get the chance to\",\n",
       " 'Feel the world around me',\n",
       " 'I had no time to choose what I chose to do',\n",
       " 'So go easy on me']"
      ]
     },
     "execution_count": 32,
     "metadata": {},
     "output_type": "execute_result"
    }
   ],
   "source": [
    "versos = cancion.split ('\\n')\n",
    "versos"
   ]
  },
  {
   "cell_type": "code",
   "execution_count": 37,
   "id": "6f1505ee",
   "metadata": {},
   "outputs": [],
   "source": [
    "def remove_helpers(lista):\n",
    "    return list(filter(lambda x: not x.startswith('['), lista))"
   ]
  },
  {
   "cell_type": "code",
   "execution_count": 38,
   "id": "f02110a5",
   "metadata": {},
   "outputs": [
    {
     "data": {
      "text/plain": [
       "[\"There ain't no gold in this river\",\n",
       " \"That I've been washin' my hands in forever\",\n",
       " 'I know there is hope in these waters',\n",
       " \"But I can't bring myself to swim\",\n",
       " 'When I am drowning in this silence',\n",
       " 'Baby, let me in',\n",
       " '',\n",
       " 'Go easy on me, baby',\n",
       " 'I was still a child',\n",
       " \"Didn't get the chance to\",\n",
       " 'Feel the world around me',\n",
       " 'I had no time to choose what I chose to do',\n",
       " 'So go easy on me',\n",
       " '',\n",
       " \"There ain't no room for things to change\",\n",
       " 'When we are both so deeply stuck in our ways',\n",
       " \"You can't deny how hard I have tried\",\n",
       " 'I changed who I was to put you both first',\n",
       " 'But now I give up',\n",
       " '',\n",
       " 'Go easy on mÐµ, baby',\n",
       " 'I was still a child',\n",
       " \"Didn't get the chance to\",\n",
       " 'Feel thÐµ world around me',\n",
       " 'Had no time to choose what I chose to do',\n",
       " 'So go easy on me',\n",
       " '',\n",
       " 'I had good intentions',\n",
       " 'And the highest hopes',\n",
       " 'But I know right now',\n",
       " \"It probably doesn't even show\",\n",
       " '',\n",
       " 'Go easy on me, baby',\n",
       " 'I was still a child',\n",
       " \"I didn't get the chance to\",\n",
       " 'Feel the world around me',\n",
       " 'I had no time to choose what I chose to do',\n",
       " 'So go easy on me']"
      ]
     },
     "execution_count": 38,
     "metadata": {},
     "output_type": "execute_result"
    }
   ],
   "source": [
    "remove_helpers (versos)"
   ]
  },
  {
   "cell_type": "code",
   "execution_count": 39,
   "id": "43f1695c",
   "metadata": {},
   "outputs": [
    {
     "data": {
      "text/plain": [
       "['[Verse 1]',\n",
       " \"There ain't no gold in this river\",\n",
       " \"That I've been washin' my hands in forever\",\n",
       " 'I know there is hope in these waters',\n",
       " \"But I can't bring myself to swim\",\n",
       " 'When I am drowning in this silence',\n",
       " 'Baby, let me in',\n",
       " '[Chorus]',\n",
       " 'Go easy on me, baby',\n",
       " 'I was still a child',\n",
       " \"Didn't get the chance to\",\n",
       " 'Feel the world around me',\n",
       " 'I had no time to choose what I chose to do',\n",
       " 'So go easy on me',\n",
       " '[Verse 2]',\n",
       " \"There ain't no room for things to change\",\n",
       " 'When we are both so deeply stuck in our ways',\n",
       " \"You can't deny how hard I have tried\",\n",
       " 'I changed who I was to put you both first',\n",
       " 'But now I give up',\n",
       " '[Chorus]',\n",
       " 'Go easy on mÐµ, baby',\n",
       " 'I was still a child',\n",
       " \"Didn't get the chance to\",\n",
       " 'Feel thÐµ world around me',\n",
       " 'Had no time to choose what I chose to do',\n",
       " 'So go easy on me',\n",
       " '[Bridge]',\n",
       " 'I had good intentions',\n",
       " 'And the highest hopes',\n",
       " 'But I know right now',\n",
       " \"It probably doesn't even show\",\n",
       " '[Chorus]',\n",
       " 'Go easy on me, baby',\n",
       " 'I was still a child',\n",
       " \"I didn't get the chance to\",\n",
       " 'Feel the world around me',\n",
       " 'I had no time to choose what I chose to do',\n",
       " 'So go easy on me']"
      ]
     },
     "execution_count": 39,
     "metadata": {},
     "output_type": "execute_result"
    }
   ],
   "source": [
    "def remove_empty_lines(lista):\n",
    "    return list(filter(lambda x: x, lista))\n",
    "remove_empty_lines (versos)"
   ]
  },
  {
   "cell_type": "code",
   "execution_count": 40,
   "id": "5f88f5c2",
   "metadata": {},
   "outputs": [
    {
     "data": {
      "text/plain": [
       "[\"There ain't no gold in this river\",\n",
       " \"That I've been washin' my hands in forever\",\n",
       " 'I know there is hope in these waters',\n",
       " \"But I can't bring myself to swim\",\n",
       " 'When I am drowning in this silence',\n",
       " 'Baby, let me in',\n",
       " 'Go easy on me, baby',\n",
       " 'I was still a child',\n",
       " \"Didn't get the chance to\",\n",
       " 'Feel the world around me',\n",
       " 'I had no time to choose what I chose to do',\n",
       " 'So go easy on me',\n",
       " \"There ain't no room for things to change\",\n",
       " 'When we are both so deeply stuck in our ways',\n",
       " \"You can't deny how hard I have tried\",\n",
       " 'I changed who I was to put you both first',\n",
       " 'But now I give up',\n",
       " 'Go easy on mÐµ, baby',\n",
       " 'I was still a child',\n",
       " \"Didn't get the chance to\",\n",
       " 'Feel thÐµ world around me',\n",
       " 'Had no time to choose what I chose to do',\n",
       " 'So go easy on me',\n",
       " 'I had good intentions',\n",
       " 'And the highest hopes',\n",
       " 'But I know right now',\n",
       " \"It probably doesn't even show\",\n",
       " 'Go easy on me, baby',\n",
       " 'I was still a child',\n",
       " \"I didn't get the chance to\",\n",
       " 'Feel the world around me',\n",
       " 'I had no time to choose what I chose to do',\n",
       " 'So go easy on me']"
      ]
     },
     "execution_count": 40,
     "metadata": {},
     "output_type": "execute_result"
    }
   ],
   "source": [
    "remove_helpers(remove_empty_lines (versos))"
   ]
  },
  {
   "cell_type": "code",
   "execution_count": 41,
   "id": "a861b310",
   "metadata": {},
   "outputs": [
    {
     "data": {
      "text/plain": [
       "[\"There ain't no gold in this river\",\n",
       " \"That I've been washin' my hands in forever\",\n",
       " 'I know there is hope in these waters',\n",
       " \"But I can't bring myself to swim\",\n",
       " 'When I am drowning in this silence',\n",
       " 'Baby, let me in',\n",
       " 'Go easy on me, baby',\n",
       " 'I was still a child',\n",
       " \"Didn't get the chance to\",\n",
       " 'Feel the world around me',\n",
       " 'I had no time to choose what I chose to do',\n",
       " 'So go easy on me',\n",
       " \"There ain't no room for things to change\",\n",
       " 'When we are both so deeply stuck in our ways',\n",
       " \"You can't deny how hard I have tried\",\n",
       " 'I changed who I was to put you both first',\n",
       " 'But now I give up',\n",
       " 'Go easy on mÐµ, baby',\n",
       " 'I was still a child',\n",
       " \"Didn't get the chance to\",\n",
       " 'Feel thÐµ world around me',\n",
       " 'Had no time to choose what I chose to do',\n",
       " 'So go easy on me',\n",
       " 'I had good intentions',\n",
       " 'And the highest hopes',\n",
       " 'But I know right now',\n",
       " \"It probably doesn't even show\",\n",
       " 'Go easy on me, baby',\n",
       " 'I was still a child',\n",
       " \"I didn't get the chance to\",\n",
       " 'Feel the world around me',\n",
       " 'I had no time to choose what I chose to do',\n",
       " 'So go easy on me']"
      ]
     },
     "execution_count": 41,
     "metadata": {},
     "output_type": "execute_result"
    }
   ],
   "source": [
    "versos_clean = remove_helpers(remove_empty_lines (versos))\n",
    "versos_clean"
   ]
  },
  {
   "cell_type": "code",
   "execution_count": 42,
   "id": "d64efe04",
   "metadata": {},
   "outputs": [
    {
     "data": {
      "text/plain": [
       "3"
      ]
     },
     "execution_count": 42,
     "metadata": {},
     "output_type": "execute_result"
    }
   ],
   "source": [
    "cancion.count ('baby')"
   ]
  },
  {
   "cell_type": "code",
   "execution_count": 43,
   "id": "57c71420",
   "metadata": {},
   "outputs": [
    {
     "data": {
      "text/plain": [
       "3"
      ]
     },
     "execution_count": 43,
     "metadata": {},
     "output_type": "execute_result"
    }
   ],
   "source": [
    "# solo minusculas - pero hay un Baby en Maiuscula\n",
    "' '.join (versos_clean).count('baby')"
   ]
  },
  {
   "cell_type": "code",
   "execution_count": 46,
   "id": "23436656",
   "metadata": {},
   "outputs": [
    {
     "data": {
      "text/plain": [
       "4"
      ]
     },
     "execution_count": 46,
     "metadata": {},
     "output_type": "execute_result"
    }
   ],
   "source": [
    "# lower pasa todo a minusculas\n",
    "' '.join (versos_clean).lower().count('baby')"
   ]
  },
  {
   "cell_type": "code",
   "execution_count": 44,
   "id": "4b942ed5",
   "metadata": {},
   "outputs": [
    {
     "data": {
      "text/plain": [
       "0"
      ]
     },
     "execution_count": 44,
     "metadata": {},
     "output_type": "execute_result"
    }
   ],
   "source": [
    "# no cuenta como lista, si no como elemento entre ''\n",
    "versos_clean.count ('baby')"
   ]
  },
  {
   "cell_type": "code",
   "execution_count": 45,
   "id": "4eaa372b",
   "metadata": {},
   "outputs": [
    {
     "data": {
      "text/plain": [
       "2"
      ]
     },
     "execution_count": 45,
     "metadata": {},
     "output_type": "execute_result"
    }
   ],
   "source": [
    "versos_clean.count ('Go easy on me, baby')"
   ]
  },
  {
   "cell_type": "code",
   "execution_count": 48,
   "id": "10aef759",
   "metadata": {},
   "outputs": [
    {
     "data": {
      "text/plain": [
       "\"there ain't no gold in this river that i've been washin' my hands in forever i know there is hope in these waters but i can't bring myself to swim when i am drowning in this silence baby, let me in go easy on me, baby i was still a child didn't get the chance to feel the world around me i had no time to choose what i chose to do so go easy on me there ain't no room for things to change when we are both so deeply stuck in our ways you can't deny how hard i have tried i changed who i was to put you both first but now i give up go easy on mðµ, baby i was still a child didn't get the chance to feel thðµ world around me had no time to choose what i chose to do so go easy on me i had good intentions and the highest hopes but i know right now it probably doesn't even show go easy on me, baby i was still a child i didn't get the chance to feel the world around me i had no time to choose what i chose to do so go easy on me\""
      ]
     },
     "execution_count": 48,
     "metadata": {},
     "output_type": "execute_result"
    }
   ],
   "source": [
    "texto = ' '.join(versos_clean).lower()\n",
    "texto"
   ]
  },
  {
   "cell_type": "code",
   "execution_count": null,
   "id": "1f3e8208",
   "metadata": {},
   "outputs": [],
   "source": []
  },
  {
   "cell_type": "code",
   "execution_count": null,
   "id": "7ceb32dc",
   "metadata": {},
   "outputs": [],
   "source": [
    "lambda x: x in stop_words, texto."
   ]
  },
  {
   "cell_type": "code",
   "execution_count": 49,
   "id": "f30c40a4",
   "metadata": {},
   "outputs": [],
   "source": [
    "stopwords = ['in', 'but', 'to', 'on']\n",
    "def remove_stopwords (texto, stop_words):\n",
    "    return ' '.join(filter(lambda x: x not in stop_words, texto.split ()))"
   ]
  },
  {
   "cell_type": "code",
   "execution_count": 50,
   "id": "b0ba6ff6",
   "metadata": {},
   "outputs": [
    {
     "data": {
      "text/plain": [
       "\"there ain't no gold this river that i've been washin' my hands forever i know there is hope these waters i can't bring myself swim when i am drowning this silence baby, let me go easy me, baby i was still a child didn't get the chance feel the world around me i had no time choose what i chose do so go easy me there ain't no room for things change when we are both so deeply stuck our ways you can't deny how hard i have tried i changed who i was put you both first now i give up go easy mðµ, baby i was still a child didn't get the chance feel thðµ world around me had no time choose what i chose do so go easy me i had good intentions and the highest hopes i know right now it probably doesn't even show go easy me, baby i was still a child i didn't get the chance feel the world around me i had no time choose what i chose do so go easy me\""
      ]
     },
     "execution_count": 50,
     "metadata": {},
     "output_type": "execute_result"
    }
   ],
   "source": [
    "remove_stopwords (texto, stopwords)"
   ]
  },
  {
   "cell_type": "code",
   "execution_count": 51,
   "id": "5e819dc2",
   "metadata": {},
   "outputs": [],
   "source": [
    "def remove_stopwords (texto, stop_words):\n",
    "    for i in stop_words:\n",
    "        texto =texto.replace(i, '')\n",
    "        return texto"
   ]
  },
  {
   "cell_type": "code",
   "execution_count": 52,
   "id": "bd40a9c5",
   "metadata": {},
   "outputs": [
    {
     "data": {
      "text/plain": [
       "\"there a't no gold  this river that i've been wash' my hands  forever i know there is hope  these waters but i can't brg myself to swim when i am drowng  this silence baby, let me  go easy on me, baby i was still a child didn't get the chance to feel the world around me i had no time to choose what i chose to do so go easy on me there a't no room for thgs to change when we are both so deeply stuck  our ways you can't deny how hard i have tried i changed who i was to put you both first but now i give up go easy on mðµ, baby i was still a child didn't get the chance to feel thðµ world around me had no time to choose what i chose to do so go easy on me i had good tentions and the highest hopes but i know right now it probably doesn't even show go easy on me, baby i was still a child i didn't get the chance to feel the world around me i had no time to choose what i chose to do so go easy on me\""
      ]
     },
     "execution_count": 52,
     "metadata": {},
     "output_type": "execute_result"
    }
   ],
   "source": [
    "remove_stopwords (texto, stopwords)"
   ]
  },
  {
   "cell_type": "code",
   "execution_count": 53,
   "id": "8fdd44f5",
   "metadata": {},
   "outputs": [],
   "source": [
    "def remove_stopwords (texto, stop_words):\n",
    "    for i in stop_words:\n",
    "        texto =texto.replace(i, '')\n",
    "        return texto.replace ('  ', ' ')"
   ]
  },
  {
   "cell_type": "code",
   "execution_count": 54,
   "id": "43cb1200",
   "metadata": {},
   "outputs": [
    {
     "data": {
      "text/plain": [
       "\"there a't no gold this river that i've been wash' my hands forever i know there is hope these waters but i can't brg myself to swim when i am drowng this silence baby, let me go easy on me, baby i was still a child didn't get the chance to feel the world around me i had no time to choose what i chose to do so go easy on me there a't no room for thgs to change when we are both so deeply stuck our ways you can't deny how hard i have tried i changed who i was to put you both first but now i give up go easy on mðµ, baby i was still a child didn't get the chance to feel thðµ world around me had no time to choose what i chose to do so go easy on me i had good tentions and the highest hopes but i know right now it probably doesn't even show go easy on me, baby i was still a child i didn't get the chance to feel the world around me i had no time to choose what i chose to do so go easy on me\""
      ]
     },
     "execution_count": 54,
     "metadata": {},
     "output_type": "execute_result"
    }
   ],
   "source": [
    "remove_stopwords (texto, stopwords)"
   ]
  },
  {
   "cell_type": "code",
   "execution_count": 55,
   "id": "a1841b3b",
   "metadata": {},
   "outputs": [],
   "source": [
    "# come todas as palavras que tem 'in', como Ain't, bring, things, etc. Precisaria arrumar a fórmula"
   ]
  },
  {
   "cell_type": "code",
   "execution_count": null,
   "id": "769f9fd3",
   "metadata": {},
   "outputs": [],
   "source": []
  },
  {
   "cell_type": "code",
   "execution_count": 56,
   "id": "6c036600",
   "metadata": {},
   "outputs": [
    {
     "data": {
      "text/plain": [
       "{'a',\n",
       " \"a't\",\n",
       " 'am',\n",
       " 'and',\n",
       " 'are',\n",
       " 'around',\n",
       " 'baby',\n",
       " 'baby,',\n",
       " 'been',\n",
       " 'both',\n",
       " 'brg',\n",
       " 'but',\n",
       " \"can't\",\n",
       " 'chance',\n",
       " 'change',\n",
       " 'changed',\n",
       " 'child',\n",
       " 'choose',\n",
       " 'chose',\n",
       " 'deeply',\n",
       " 'deny',\n",
       " \"didn't\",\n",
       " 'do',\n",
       " \"doesn't\",\n",
       " 'drowng',\n",
       " 'easy',\n",
       " 'even',\n",
       " 'feel',\n",
       " 'first',\n",
       " 'for',\n",
       " 'forever',\n",
       " 'get',\n",
       " 'give',\n",
       " 'go',\n",
       " 'gold',\n",
       " 'good',\n",
       " 'had',\n",
       " 'hands',\n",
       " 'hard',\n",
       " 'have',\n",
       " 'highest',\n",
       " 'hope',\n",
       " 'hopes',\n",
       " 'how',\n",
       " 'i',\n",
       " \"i've\",\n",
       " 'is',\n",
       " 'it',\n",
       " 'know',\n",
       " 'let',\n",
       " 'me',\n",
       " 'me,',\n",
       " 'my',\n",
       " 'myself',\n",
       " 'mðµ,',\n",
       " 'no',\n",
       " 'now',\n",
       " 'on',\n",
       " 'our',\n",
       " 'probably',\n",
       " 'put',\n",
       " 'right',\n",
       " 'river',\n",
       " 'room',\n",
       " 'show',\n",
       " 'silence',\n",
       " 'so',\n",
       " 'still',\n",
       " 'stuck',\n",
       " 'swim',\n",
       " 'tentions',\n",
       " 'that',\n",
       " 'the',\n",
       " 'there',\n",
       " 'these',\n",
       " 'thgs',\n",
       " 'this',\n",
       " 'thðµ',\n",
       " 'time',\n",
       " 'to',\n",
       " 'tried',\n",
       " 'up',\n",
       " 'was',\n",
       " \"wash'\",\n",
       " 'waters',\n",
       " 'ways',\n",
       " 'we',\n",
       " 'what',\n",
       " 'when',\n",
       " 'who',\n",
       " 'world',\n",
       " 'you'}"
      ]
     },
     "execution_count": 56,
     "metadata": {},
     "output_type": "execute_result"
    }
   ],
   "source": [
    "texto = remove_stopwords (texto, stopwords)\n",
    "words = set(texto.split ())\n",
    "words"
   ]
  },
  {
   "cell_type": "code",
   "execution_count": 64,
   "id": "cca24727",
   "metadata": {},
   "outputs": [
    {
     "data": {
      "text/plain": [
       "{'a',\n",
       " \"a't\",\n",
       " 'am',\n",
       " 'and',\n",
       " 'are',\n",
       " 'around',\n",
       " 'baby',\n",
       " 'baby,',\n",
       " 'been',\n",
       " 'both',\n",
       " 'brg',\n",
       " 'but',\n",
       " \"can't\",\n",
       " 'chance',\n",
       " 'change',\n",
       " 'changed',\n",
       " 'child',\n",
       " 'choose',\n",
       " 'chose',\n",
       " 'deeply',\n",
       " 'deny',\n",
       " \"didn't\",\n",
       " 'do',\n",
       " \"doesn't\",\n",
       " 'drowng',\n",
       " 'easy',\n",
       " 'even',\n",
       " 'feel',\n",
       " 'first',\n",
       " 'for',\n",
       " 'forever',\n",
       " 'get',\n",
       " 'give',\n",
       " 'go',\n",
       " 'gold',\n",
       " 'good',\n",
       " 'had',\n",
       " 'hands',\n",
       " 'hard',\n",
       " 'have',\n",
       " 'highest',\n",
       " 'hope',\n",
       " 'hopes',\n",
       " 'how',\n",
       " 'i',\n",
       " \"i've\",\n",
       " 'is',\n",
       " 'it',\n",
       " 'know',\n",
       " 'let',\n",
       " 'me',\n",
       " 'me,',\n",
       " 'my',\n",
       " 'myself',\n",
       " 'mðµ,',\n",
       " 'no',\n",
       " 'now',\n",
       " 'on',\n",
       " 'our',\n",
       " 'probably',\n",
       " 'put',\n",
       " 'right',\n",
       " 'river',\n",
       " 'room',\n",
       " 'show',\n",
       " 'silence',\n",
       " 'so',\n",
       " 'still',\n",
       " 'stuck',\n",
       " 'swim',\n",
       " 'tentions',\n",
       " 'that',\n",
       " 'the',\n",
       " 'there',\n",
       " 'these',\n",
       " 'thgs',\n",
       " 'this',\n",
       " 'thðµ',\n",
       " 'time',\n",
       " 'to',\n",
       " 'tried',\n",
       " 'up',\n",
       " 'was',\n",
       " \"wash'\",\n",
       " 'waters',\n",
       " 'ways',\n",
       " 'we',\n",
       " 'what',\n",
       " 'when',\n",
       " 'who',\n",
       " 'world',\n",
       " 'you'}"
      ]
     },
     "execution_count": 64,
     "metadata": {},
     "output_type": "execute_result"
    }
   ],
   "source": [
    "def remove_punctuation(texto):\n",
    "    return texto.replace (',','')\n",
    "    texto = remove_punctuation(texto)\n",
    "words = set(texto.split ())\n",
    "words"
   ]
  },
  {
   "cell_type": "code",
   "execution_count": 57,
   "id": "fa8217c1",
   "metadata": {},
   "outputs": [],
   "source": [
    "bow = {}\n",
    "for w in words:\n",
    "    bow [w] = texto.count(w)"
   ]
  },
  {
   "cell_type": "code",
   "execution_count": 58,
   "id": "ae6b1a8c",
   "metadata": {},
   "outputs": [
    {
     "data": {
      "text/plain": [
       "{'me,': 2,\n",
       " 'now': 4,\n",
       " 'changed': 1,\n",
       " 'chance': 3,\n",
       " 'it': 1,\n",
       " 'change': 2,\n",
       " 'mðµ,': 1,\n",
       " \"wash'\": 1,\n",
       " 'i': 44,\n",
       " 'and': 2,\n",
       " 'hope': 2,\n",
       " 'thðµ': 1,\n",
       " 'for': 2,\n",
       " 'no': 9,\n",
       " 'deny': 1,\n",
       " 'swim': 1,\n",
       " \"a't\": 2,\n",
       " 'time': 3,\n",
       " 'what': 3,\n",
       " 'even': 1,\n",
       " 'feel': 3,\n",
       " 'show': 1,\n",
       " 'thgs': 1,\n",
       " 'world': 3,\n",
       " \"doesn't\": 1,\n",
       " 'put': 1,\n",
       " 'tentions': 1,\n",
       " 'the': 10,\n",
       " 'around': 3,\n",
       " 'give': 1,\n",
       " 'to': 12,\n",
       " 'when': 2,\n",
       " 'tried': 1,\n",
       " 'my': 2,\n",
       " 'baby,': 1,\n",
       " 'up': 1,\n",
       " 'chose': 3,\n",
       " 'been': 1,\n",
       " 'get': 3,\n",
       " 'silence': 1,\n",
       " 'deeply': 1,\n",
       " \"can't\": 2,\n",
       " 'right': 1,\n",
       " 'is': 3,\n",
       " 'room': 1,\n",
       " 'hard': 1,\n",
       " 'do': 4,\n",
       " \"didn't\": 3,\n",
       " 'how': 2,\n",
       " 'have': 1,\n",
       " 'these': 1,\n",
       " 'who': 1,\n",
       " 'still': 3,\n",
       " 'are': 1,\n",
       " 'but': 3,\n",
       " \"i've\": 1,\n",
       " 'let': 1,\n",
       " 'both': 2,\n",
       " 'brg': 1,\n",
       " 'there': 3,\n",
       " 'choose': 3,\n",
       " 'forever': 1,\n",
       " 'our': 1,\n",
       " 'that': 1,\n",
       " 'river': 1,\n",
       " 'waters': 1,\n",
       " 'gold': 1,\n",
       " 'am': 1,\n",
       " 'baby': 4,\n",
       " 'know': 2,\n",
       " 'first': 1,\n",
       " 'hopes': 1,\n",
       " 'was': 5,\n",
       " 'ways': 1,\n",
       " 'easy': 6,\n",
       " 'hands': 1,\n",
       " 'on': 7,\n",
       " 'good': 1,\n",
       " 'had': 4,\n",
       " 'a': 47,\n",
       " 'so': 4,\n",
       " 'you': 2,\n",
       " 'drowng': 1,\n",
       " 'me': 12,\n",
       " 'we': 1,\n",
       " 'go': 8,\n",
       " 'child': 3,\n",
       " 'highest': 1,\n",
       " 'stuck': 1,\n",
       " 'this': 2,\n",
       " 'probably': 1,\n",
       " 'myself': 1}"
      ]
     },
     "execution_count": 58,
     "metadata": {},
     "output_type": "execute_result"
    }
   ],
   "source": [
    "bow"
   ]
  },
  {
   "cell_type": "code",
   "execution_count": 59,
   "id": "01c83ac1",
   "metadata": {},
   "outputs": [],
   "source": [
    "from collections import Counter"
   ]
  },
  {
   "cell_type": "code",
   "execution_count": 60,
   "id": "7a440c04",
   "metadata": {},
   "outputs": [
    {
     "data": {
      "text/plain": [
       "Counter({'t': 64,\n",
       "         'h': 52,\n",
       "         'e': 80,\n",
       "         'r': 25,\n",
       "         ' ': 201,\n",
       "         'a': 47,\n",
       "         \"'\": 10,\n",
       "         'n': 40,\n",
       "         'o': 76,\n",
       "         'g': 19,\n",
       "         'l': 21,\n",
       "         'd': 33,\n",
       "         'i': 44,\n",
       "         's': 42,\n",
       "         'v': 6,\n",
       "         'b': 17,\n",
       "         'w': 25,\n",
       "         'm': 18,\n",
       "         'y': 18,\n",
       "         'f': 7,\n",
       "         'k': 3,\n",
       "         'p': 6,\n",
       "         'u': 12,\n",
       "         'c': 21,\n",
       "         ',': 4,\n",
       "         'ð': 2,\n",
       "         'µ': 2})"
      ]
     },
     "execution_count": 60,
     "metadata": {},
     "output_type": "execute_result"
    }
   ],
   "source": [
    "#considera una string cada letra\n",
    "Counter(texto)"
   ]
  },
  {
   "cell_type": "code",
   "execution_count": 63,
   "id": "27f6b039",
   "metadata": {},
   "outputs": [
    {
     "data": {
      "text/plain": [
       "Counter({'there': 3,\n",
       "         \"a't\": 2,\n",
       "         'no': 5,\n",
       "         'gold': 1,\n",
       "         'this': 2,\n",
       "         'river': 1,\n",
       "         'that': 1,\n",
       "         \"i've\": 1,\n",
       "         'been': 1,\n",
       "         \"wash'\": 1,\n",
       "         'my': 1,\n",
       "         'hands': 1,\n",
       "         'forever': 1,\n",
       "         'i': 18,\n",
       "         'know': 2,\n",
       "         'is': 1,\n",
       "         'hope': 1,\n",
       "         'these': 1,\n",
       "         'waters': 1,\n",
       "         'but': 3,\n",
       "         \"can't\": 2,\n",
       "         'brg': 1,\n",
       "         'myself': 1,\n",
       "         'to': 12,\n",
       "         'swim': 1,\n",
       "         'when': 2,\n",
       "         'am': 1,\n",
       "         'drowng': 1,\n",
       "         'silence': 1,\n",
       "         'baby,': 1,\n",
       "         'let': 1,\n",
       "         'me': 7,\n",
       "         'go': 6,\n",
       "         'easy': 6,\n",
       "         'on': 6,\n",
       "         'me,': 2,\n",
       "         'baby': 3,\n",
       "         'was': 4,\n",
       "         'still': 3,\n",
       "         'a': 3,\n",
       "         'child': 3,\n",
       "         \"didn't\": 3,\n",
       "         'get': 3,\n",
       "         'the': 6,\n",
       "         'chance': 3,\n",
       "         'feel': 3,\n",
       "         'world': 3,\n",
       "         'around': 3,\n",
       "         'had': 4,\n",
       "         'time': 3,\n",
       "         'choose': 3,\n",
       "         'what': 3,\n",
       "         'chose': 3,\n",
       "         'do': 3,\n",
       "         'so': 4,\n",
       "         'room': 1,\n",
       "         'for': 1,\n",
       "         'thgs': 1,\n",
       "         'change': 1,\n",
       "         'we': 1,\n",
       "         'are': 1,\n",
       "         'both': 2,\n",
       "         'deeply': 1,\n",
       "         'stuck': 1,\n",
       "         'our': 1,\n",
       "         'ways': 1,\n",
       "         'you': 2,\n",
       "         'deny': 1,\n",
       "         'how': 1,\n",
       "         'hard': 1,\n",
       "         'have': 1,\n",
       "         'tried': 1,\n",
       "         'changed': 1,\n",
       "         'who': 1,\n",
       "         'put': 1,\n",
       "         'first': 1,\n",
       "         'now': 2,\n",
       "         'give': 1,\n",
       "         'up': 1,\n",
       "         'mðµ,': 1,\n",
       "         'thðµ': 1,\n",
       "         'good': 1,\n",
       "         'tentions': 1,\n",
       "         'and': 1,\n",
       "         'highest': 1,\n",
       "         'hopes': 1,\n",
       "         'right': 1,\n",
       "         'it': 1,\n",
       "         'probably': 1,\n",
       "         \"doesn't\": 1,\n",
       "         'even': 1,\n",
       "         'show': 1})"
      ]
     },
     "execution_count": 63,
     "metadata": {},
     "output_type": "execute_result"
    }
   ],
   "source": [
    "Counter(texto.split())"
   ]
  },
  {
   "cell_type": "code",
   "execution_count": 62,
   "id": "786cb87a",
   "metadata": {},
   "outputs": [
    {
     "data": {
      "text/plain": [
       "[('i', 18), ('to', 12), ('me', 7), ('go', 6), ('easy', 6)]"
      ]
     },
     "execution_count": 62,
     "metadata": {},
     "output_type": "execute_result"
    }
   ],
   "source": [
    "Counter(texto.split()).most_common(5)"
   ]
  },
  {
   "cell_type": "code",
   "execution_count": null,
   "id": "bc8719e1",
   "metadata": {},
   "outputs": [],
   "source": []
  },
  {
   "cell_type": "code",
   "execution_count": 65,
   "id": "33fbebbb",
   "metadata": {},
   "outputs": [],
   "source": [
    "# Regular expressions\n",
    "import re"
   ]
  },
  {
   "cell_type": "code",
   "execution_count": 66,
   "id": "633ca27f",
   "metadata": {},
   "outputs": [],
   "source": [
    "texto = 'The cat sat on the mat'"
   ]
  },
  {
   "cell_type": "code",
   "execution_count": 67,
   "id": "88965ef3",
   "metadata": {},
   "outputs": [
    {
     "data": {
      "text/plain": [
       "<re.Match object; span=(4, 7), match='cat'>"
      ]
     },
     "execution_count": 67,
     "metadata": {},
     "output_type": "execute_result"
    }
   ],
   "source": [
    "re.search ('.at', texto)"
   ]
  },
  {
   "cell_type": "code",
   "execution_count": 68,
   "id": "153439dd",
   "metadata": {},
   "outputs": [
    {
     "data": {
      "text/plain": [
       "<re.Match object; span=(4, 7), match='cat'>"
      ]
     },
     "execution_count": 68,
     "metadata": {},
     "output_type": "execute_result"
    }
   ],
   "source": [
    "m = re.search ('.at', texto)\n",
    "m"
   ]
  },
  {
   "cell_type": "code",
   "execution_count": 69,
   "id": "b0201bf6",
   "metadata": {},
   "outputs": [
    {
     "data": {
      "text/plain": [
       "'The cat sat on the mat'"
      ]
     },
     "execution_count": 69,
     "metadata": {},
     "output_type": "execute_result"
    }
   ],
   "source": [
    "m.string"
   ]
  },
  {
   "cell_type": "code",
   "execution_count": 70,
   "id": "80e2a9ba",
   "metadata": {},
   "outputs": [
    {
     "data": {
      "text/plain": [
       "(4, 7)"
      ]
     },
     "execution_count": 70,
     "metadata": {},
     "output_type": "execute_result"
    }
   ],
   "source": [
    "#entre cuales posiciones esta la cadena, incluye los espacios como caracteres\n",
    "m.span()"
   ]
  },
  {
   "cell_type": "code",
   "execution_count": 71,
   "id": "a153202a",
   "metadata": {},
   "outputs": [
    {
     "data": {
      "text/plain": [
       "4"
      ]
     },
     "execution_count": 71,
     "metadata": {},
     "output_type": "execute_result"
    }
   ],
   "source": [
    "m.start()"
   ]
  },
  {
   "cell_type": "code",
   "execution_count": 72,
   "id": "a7e958d6",
   "metadata": {},
   "outputs": [
    {
     "data": {
      "text/plain": [
       "7"
      ]
     },
     "execution_count": 72,
     "metadata": {},
     "output_type": "execute_result"
    }
   ],
   "source": [
    "m.end()"
   ]
  },
  {
   "cell_type": "code",
   "execution_count": 73,
   "id": "2c34f61a",
   "metadata": {},
   "outputs": [
    {
     "data": {
      "text/plain": [
       "'cat'"
      ]
     },
     "execution_count": 73,
     "metadata": {},
     "output_type": "execute_result"
    }
   ],
   "source": [
    "m.group ()"
   ]
  },
  {
   "cell_type": "code",
   "execution_count": 74,
   "id": "7e446330",
   "metadata": {},
   "outputs": [
    {
     "data": {
      "text/plain": [
       "['cat', 'sat', 'mat']"
      ]
     },
     "execution_count": 74,
     "metadata": {},
     "output_type": "execute_result"
    }
   ],
   "source": [
    "[m.group () for m in re.finditer('.at', texto)]"
   ]
  },
  {
   "cell_type": "code",
   "execution_count": 76,
   "id": "9fa3fb59",
   "metadata": {},
   "outputs": [
    {
     "data": {
      "text/plain": [
       "[<re.Match object; span=(4, 7), match='cat'>,\n",
       " <re.Match object; span=(8, 11), match='sat'>,\n",
       " <re.Match object; span=(19, 22), match='mat'>]"
      ]
     },
     "execution_count": 76,
     "metadata": {},
     "output_type": "execute_result"
    }
   ],
   "source": [
    "#objetos match - donde estan estas palabras\n",
    "[m for m in re.finditer('.at', texto)]"
   ]
  },
  {
   "cell_type": "code",
   "execution_count": 75,
   "id": "98352425",
   "metadata": {},
   "outputs": [
    {
     "data": {
      "text/plain": [
       "['cat', 'sat', 'mat']"
      ]
     },
     "execution_count": 75,
     "metadata": {},
     "output_type": "execute_result"
    }
   ],
   "source": [
    "#solo las strings = finditer pero por el grupo\n",
    "re.findall('.at', texto)"
   ]
  },
  {
   "cell_type": "code",
   "execution_count": 77,
   "id": "3f11a0c2",
   "metadata": {},
   "outputs": [],
   "source": [
    "at = re.compile('.at')"
   ]
  },
  {
   "cell_type": "code",
   "execution_count": 78,
   "id": "9287b51b",
   "metadata": {},
   "outputs": [
    {
     "data": {
      "text/plain": [
       "['cat', 'sat', 'mat']"
      ]
     },
     "execution_count": 78,
     "metadata": {},
     "output_type": "execute_result"
    }
   ],
   "source": [
    "at.findall(texto)"
   ]
  },
  {
   "cell_type": "code",
   "execution_count": 79,
   "id": "8b0418ef",
   "metadata": {},
   "outputs": [
    {
     "data": {
      "text/plain": [
       "'The cat sat on the mat'"
      ]
     },
     "execution_count": 79,
     "metadata": {},
     "output_type": "execute_result"
    }
   ],
   "source": [
    "texto"
   ]
  },
  {
   "cell_type": "code",
   "execution_count": 80,
   "id": "39642a01",
   "metadata": {},
   "outputs": [
    {
     "data": {
      "text/plain": [
       "'The cat SAT on the mat'"
      ]
     },
     "execution_count": 80,
     "metadata": {},
     "output_type": "execute_result"
    }
   ],
   "source": [
    "texto.replace('sat', 'SAT')"
   ]
  },
  {
   "cell_type": "code",
   "execution_count": 81,
   "id": "2e6e573e",
   "metadata": {},
   "outputs": [
    {
     "data": {
      "text/plain": [
       "'The CAT SAT on the MAT'"
      ]
     },
     "execution_count": 81,
     "metadata": {},
     "output_type": "execute_result"
    }
   ],
   "source": [
    "#sub de substituir\n",
    "at.sub(lambda x: x.group().upper(), texto)"
   ]
  },
  {
   "cell_type": "code",
   "execution_count": 83,
   "id": "777b8701",
   "metadata": {},
   "outputs": [
    {
     "data": {
      "text/plain": [
       "'The CATO SATO on the MATO'"
      ]
     },
     "execution_count": 83,
     "metadata": {},
     "output_type": "execute_result"
    }
   ],
   "source": [
    "at.sub(lambda x: x.group().upper() + 'O', texto)"
   ]
  },
  {
   "cell_type": "code",
   "execution_count": null,
   "id": "84f463d2",
   "metadata": {},
   "outputs": [],
   "source": []
  },
  {
   "cell_type": "code",
   "execution_count": 87,
   "id": "172a5376",
   "metadata": {},
   "outputs": [],
   "source": [
    "texto2 = '''\n",
    "Nombre: Natalia Gonzalez\n",
    "email: nathygonzalez@gmail.com\n",
    "Telefono: 610-926-151\n",
    "          610 926 151\n",
    "          610926151\n",
    "CP: 08015\n",
    "URL: http://ironhack.com\n",
    "'''"
   ]
  },
  {
   "cell_type": "code",
   "execution_count": 88,
   "id": "f0cbfebb",
   "metadata": {},
   "outputs": [
    {
     "name": "stdout",
     "output_type": "stream",
     "text": [
      "\n",
      "Nombre: Natalia Gonzalez\n",
      "email: nathygonzalez@gmail.com\n",
      "Telefono: 610-926-151\n",
      "          610 926 151\n",
      "          610926151\n",
      "CP: 08015\n",
      "URL: http://ironhack.com\n",
      "\n"
     ]
    }
   ],
   "source": [
    "print(texto2)"
   ]
  },
  {
   "cell_type": "code",
   "execution_count": 89,
   "id": "e12cea20",
   "metadata": {},
   "outputs": [
    {
     "data": {
      "text/plain": [
       "['6',\n",
       " '1',\n",
       " '0',\n",
       " '9',\n",
       " '2',\n",
       " '6',\n",
       " '1',\n",
       " '5',\n",
       " '1',\n",
       " '6',\n",
       " '1',\n",
       " '0',\n",
       " '9',\n",
       " '2',\n",
       " '6',\n",
       " '1',\n",
       " '5',\n",
       " '1',\n",
       " '6',\n",
       " '1',\n",
       " '0',\n",
       " '9',\n",
       " '2',\n",
       " '6',\n",
       " '1',\n",
       " '5',\n",
       " '1',\n",
       " '0',\n",
       " '8',\n",
       " '0',\n",
       " '1',\n",
       " '5']"
      ]
     },
     "execution_count": 89,
     "metadata": {},
     "output_type": "execute_result"
    }
   ],
   "source": [
    "re.findall('\\d', texto2)"
   ]
  },
  {
   "cell_type": "code",
   "execution_count": 91,
   "id": "3500137d",
   "metadata": {},
   "outputs": [
    {
     "data": {
      "text/plain": [
       "['610', '926', '151', '610', '926', '151', '610', '926', '151', '080']"
      ]
     },
     "execution_count": 91,
     "metadata": {},
     "output_type": "execute_result"
    }
   ],
   "source": [
    "#bloques de 3 numeros\n",
    "re.findall('\\d{3}', texto2)"
   ]
  },
  {
   "cell_type": "code",
   "execution_count": 92,
   "id": "3865ccbd",
   "metadata": {},
   "outputs": [
    {
     "data": {
      "text/plain": [
       "['610926151']"
      ]
     },
     "execution_count": 92,
     "metadata": {},
     "output_type": "execute_result"
    }
   ],
   "source": [
    "#3 bloques de 3 numeros\n",
    "re.findall('\\d{3}''\\d{3}''\\d{3}', texto2)"
   ]
  },
  {
   "cell_type": "code",
   "execution_count": 93,
   "id": "89562e5a",
   "metadata": {},
   "outputs": [
    {
     "data": {
      "text/plain": [
       "['610926151']"
      ]
     },
     "execution_count": 93,
     "metadata": {},
     "output_type": "execute_result"
    }
   ],
   "source": [
    "#3 bloques de 3 numeros\n",
    "re.findall('\\d{3}\\d{3}\\d{3}', texto2)"
   ]
  },
  {
   "cell_type": "code",
   "execution_count": 94,
   "id": "26fa6c24",
   "metadata": {},
   "outputs": [
    {
     "data": {
      "text/plain": [
       "['610-926-151', '610 926 151', '610926151']"
      ]
     },
     "execution_count": 94,
     "metadata": {},
     "output_type": "execute_result"
    }
   ],
   "source": [
    "#3 bloques de 3 numeros con guion o espacio\n",
    "re.findall('\\d{3}[ -]?\\d{3}[ -]?\\d{3}', texto2)"
   ]
  },
  {
   "cell_type": "code",
   "execution_count": 112,
   "id": "d94997bc",
   "metadata": {},
   "outputs": [],
   "source": [
    "# ^ que empieze y $ que acabe\n",
    "telefono = re.compile('^\\d{3}[ -]?\\d{3}[ -]?\\d{3}$')"
   ]
  },
  {
   "cell_type": "code",
   "execution_count": 102,
   "id": "a831efed",
   "metadata": {},
   "outputs": [
    {
     "data": {
      "text/plain": [
       "['610-926-151', '610 926 151', '610926151']"
      ]
     },
     "execution_count": 102,
     "metadata": {},
     "output_type": "execute_result"
    }
   ],
   "source": [
    "telefono.findall (texto2)"
   ]
  },
  {
   "cell_type": "code",
   "execution_count": 105,
   "id": "bc062065",
   "metadata": {},
   "outputs": [],
   "source": [
    "#cualquier cosa que no sea un espacio es S maiuscula\n",
    "email = re.compile('\\S+@\\S+')"
   ]
  },
  {
   "cell_type": "code",
   "execution_count": 106,
   "id": "715f40f7",
   "metadata": {},
   "outputs": [
    {
     "data": {
      "text/plain": [
       "['nathygonzalez@gmail.com']"
      ]
     },
     "execution_count": 106,
     "metadata": {},
     "output_type": "execute_result"
    }
   ],
   "source": [
    "email.findall(texto2)"
   ]
  },
  {
   "cell_type": "code",
   "execution_count": 107,
   "id": "984c4c35",
   "metadata": {},
   "outputs": [
    {
     "data": {
      "text/plain": [
       "<re.Match object; span=(0, 9), match='610926151'>"
      ]
     },
     "execution_count": 107,
     "metadata": {},
     "output_type": "execute_result"
    }
   ],
   "source": [
    "telefono.match('610926151')"
   ]
  },
  {
   "cell_type": "code",
   "execution_count": 108,
   "id": "4e3475ee",
   "metadata": {},
   "outputs": [],
   "source": [
    "if not telefono.match('610926151'):\n",
    "    print('Eso no es un telefono')"
   ]
  },
  {
   "cell_type": "code",
   "execution_count": 109,
   "id": "80084871",
   "metadata": {},
   "outputs": [
    {
     "data": {
      "text/plain": [
       "False"
      ]
     },
     "execution_count": 109,
     "metadata": {},
     "output_type": "execute_result"
    }
   ],
   "source": [
    "not telefono.match('610926151')"
   ]
  },
  {
   "cell_type": "code",
   "execution_count": 113,
   "id": "18701554",
   "metadata": {},
   "outputs": [
    {
     "name": "stdout",
     "output_type": "stream",
     "text": [
      "Eso no es un telefono\n"
     ]
    }
   ],
   "source": [
    "if not telefono.match('61095276151'):\n",
    "    print('Eso no es un telefono')"
   ]
  },
  {
   "cell_type": "code",
   "execution_count": 114,
   "id": "8f37813c",
   "metadata": {},
   "outputs": [
    {
     "data": {
      "text/plain": [
       "<re.Match object; span=(1, 26), match='Nombre: Natalia Gonzalez\\n'>"
      ]
     },
     "execution_count": 114,
     "metadata": {},
     "output_type": "execute_result"
    }
   ],
   "source": [
    "re.search('Nombre: (.*)\\n', texto2)"
   ]
  },
  {
   "cell_type": "code",
   "execution_count": 115,
   "id": "b7eefcf0",
   "metadata": {},
   "outputs": [],
   "source": [
    "m2 = re.search('Nombre: (.*)\\n', texto2)"
   ]
  },
  {
   "cell_type": "code",
   "execution_count": 119,
   "id": "4a82691d",
   "metadata": {},
   "outputs": [
    {
     "data": {
      "text/plain": [
       "'Nombre: Natalia Gonzalez\\n'"
      ]
     },
     "execution_count": 119,
     "metadata": {},
     "output_type": "execute_result"
    }
   ],
   "source": [
    "m2.group ()"
   ]
  },
  {
   "cell_type": "code",
   "execution_count": 116,
   "id": "e5266a06",
   "metadata": {},
   "outputs": [
    {
     "data": {
      "text/plain": [
       "('Natalia Gonzalez',)"
      ]
     },
     "execution_count": 116,
     "metadata": {},
     "output_type": "execute_result"
    }
   ],
   "source": [
    "m2.groups ()"
   ]
  },
  {
   "cell_type": "code",
   "execution_count": 117,
   "id": "6ebbec2b",
   "metadata": {},
   "outputs": [
    {
     "data": {
      "text/plain": [
       "'Natalia Gonzalez'"
      ]
     },
     "execution_count": 117,
     "metadata": {},
     "output_type": "execute_result"
    }
   ],
   "source": [
    "m2.groups ()[0]"
   ]
  },
  {
   "cell_type": "code",
   "execution_count": 120,
   "id": "47b88171",
   "metadata": {},
   "outputs": [],
   "source": [
    "class NoName(Exception):\n",
    "    pass"
   ]
  },
  {
   "cell_type": "code",
   "execution_count": 121,
   "id": "70adbd5a",
   "metadata": {},
   "outputs": [],
   "source": [
    "def extract_name (texto2):\n",
    "    nombres = re.compile('Nombre: (.*)\\n')\n",
    "    m = nombres.search (texto2)\n",
    "    if m:\n",
    "        return m2.groups()[0]\n",
    "    else:\n",
    "        raise NoName('Nombre no encontrado')"
   ]
  },
  {
   "cell_type": "code",
   "execution_count": 122,
   "id": "2d198900",
   "metadata": {},
   "outputs": [
    {
     "data": {
      "text/plain": [
       "'Natalia Gonzalez'"
      ]
     },
     "execution_count": 122,
     "metadata": {},
     "output_type": "execute_result"
    }
   ],
   "source": [
    "extract_name (texto2)"
   ]
  },
  {
   "cell_type": "code",
   "execution_count": 124,
   "id": "47a2bdfb",
   "metadata": {},
   "outputs": [],
   "source": [
    "texto2 = '''\n",
    "Nom: Natalia Gonzalez\n",
    "email: nathygonzalez@gmail.com\n",
    "Telefono: 610-926-151\n",
    "          610 926 151\n",
    "          610926151\n",
    "CP: 08015\n",
    "URL: http://ironhack.com\n",
    "'''"
   ]
  },
  {
   "cell_type": "code",
   "execution_count": 125,
   "id": "7c95f0b2",
   "metadata": {},
   "outputs": [],
   "source": [
    "class NoName(Exception):\n",
    "    pass"
   ]
  },
  {
   "cell_type": "code",
   "execution_count": 126,
   "id": "eff3c95a",
   "metadata": {},
   "outputs": [],
   "source": [
    "def extract_name (texto2):\n",
    "    nombres = re.compile('Nombre: (.*)\\n')\n",
    "    m = nombres.search (texto2)\n",
    "    if m:\n",
    "        return m2.groups()[0]\n",
    "    else:\n",
    "        raise NoName('Nombre no encontrado')"
   ]
  },
  {
   "cell_type": "code",
   "execution_count": 127,
   "id": "d8610d52",
   "metadata": {},
   "outputs": [
    {
     "ename": "NoName",
     "evalue": "Nombre no encontrado",
     "output_type": "error",
     "traceback": [
      "\u001b[1;31m---------------------------------------------------------------------------\u001b[0m",
      "\u001b[1;31mNoName\u001b[0m                                    Traceback (most recent call last)",
      "\u001b[1;32m<ipython-input-127-9a9b030232a4>\u001b[0m in \u001b[0;36m<module>\u001b[1;34m\u001b[0m\n\u001b[1;32m----> 1\u001b[1;33m \u001b[0mextract_name\u001b[0m \u001b[1;33m(\u001b[0m\u001b[0mtexto2\u001b[0m\u001b[1;33m)\u001b[0m\u001b[1;33m\u001b[0m\u001b[1;33m\u001b[0m\u001b[0m\n\u001b[0m",
      "\u001b[1;32m<ipython-input-126-5351e5a6a7cf>\u001b[0m in \u001b[0;36mextract_name\u001b[1;34m(texto2)\u001b[0m\n\u001b[0;32m      5\u001b[0m         \u001b[1;32mreturn\u001b[0m \u001b[0mm2\u001b[0m\u001b[1;33m.\u001b[0m\u001b[0mgroups\u001b[0m\u001b[1;33m(\u001b[0m\u001b[1;33m)\u001b[0m\u001b[1;33m[\u001b[0m\u001b[1;36m0\u001b[0m\u001b[1;33m]\u001b[0m\u001b[1;33m\u001b[0m\u001b[1;33m\u001b[0m\u001b[0m\n\u001b[0;32m      6\u001b[0m     \u001b[1;32melse\u001b[0m\u001b[1;33m:\u001b[0m\u001b[1;33m\u001b[0m\u001b[1;33m\u001b[0m\u001b[0m\n\u001b[1;32m----> 7\u001b[1;33m         \u001b[1;32mraise\u001b[0m \u001b[0mNoName\u001b[0m\u001b[1;33m(\u001b[0m\u001b[1;34m'Nombre no encontrado'\u001b[0m\u001b[1;33m)\u001b[0m\u001b[1;33m\u001b[0m\u001b[1;33m\u001b[0m\u001b[0m\n\u001b[0m",
      "\u001b[1;31mNoName\u001b[0m: Nombre no encontrado"
     ]
    }
   ],
   "source": [
    "extract_name (texto2)"
   ]
  },
  {
   "cell_type": "code",
   "execution_count": null,
   "id": "675371f9",
   "metadata": {},
   "outputs": [],
   "source": []
  },
  {
   "cell_type": "code",
   "execution_count": null,
   "id": "98a430ea",
   "metadata": {},
   "outputs": [],
   "source": []
  },
  {
   "cell_type": "code",
   "execution_count": null,
   "id": "4185ca81",
   "metadata": {},
   "outputs": [],
   "source": []
  }
 ],
 "metadata": {
  "kernelspec": {
   "display_name": "Python 3",
   "language": "python",
   "name": "python3"
  },
  "language_info": {
   "codemirror_mode": {
    "name": "ipython",
    "version": 3
   },
   "file_extension": ".py",
   "mimetype": "text/x-python",
   "name": "python",
   "nbconvert_exporter": "python",
   "pygments_lexer": "ipython3",
   "version": "3.8.8"
  }
 },
 "nbformat": 4,
 "nbformat_minor": 5
}
