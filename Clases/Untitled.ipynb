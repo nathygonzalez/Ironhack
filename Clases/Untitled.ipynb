{
 "cells": [
  {
   "cell_type": "code",
   "execution_count": 1,
   "id": "1d9eb83a",
   "metadata": {},
   "outputs": [
    {
     "name": "stdout",
     "output_type": "stream",
     "text": [
      "Collecting fbprophet\n",
      "  Downloading fbprophet-0.7.1.tar.gz (64 kB)\n",
      "Requirement already satisfied: Cython>=0.22 in c:\\users\\natalia gonzalez\\anaconda3\\lib\\site-packages (from fbprophet) (0.29.23)\n",
      "Collecting cmdstanpy==0.9.5\n",
      "  Downloading cmdstanpy-0.9.5-py3-none-any.whl (37 kB)\n",
      "Collecting pystan>=2.14\n",
      "  Downloading pystan-3.3.0-py3-none-any.whl (13 kB)\n",
      "Requirement already satisfied: numpy>=1.15.4 in c:\\users\\natalia gonzalez\\anaconda3\\lib\\site-packages (from fbprophet) (1.20.1)\n",
      "Requirement already satisfied: pandas>=1.0.4 in c:\\users\\natalia gonzalez\\anaconda3\\lib\\site-packages (from fbprophet) (1.2.4)"
     ]
    },
    {
     "name": "stderr",
     "output_type": "stream",
     "text": [
      "  ERROR: Command errored out with exit status 1:\n",
      "   command: 'C:\\Users\\Natalia Gonzalez\\anaconda3\\python.exe' -u -c 'import sys, setuptools, tokenize; sys.argv[0] = '\"'\"'C:\\\\Users\\\\Natalia Gonzalez\\\\AppData\\\\Local\\\\Temp\\\\pip-install-dhi3np0c\\\\fbprophet_3efa1fc472ad40bbae741904e7d267fd\\\\setup.py'\"'\"'; __file__='\"'\"'C:\\\\Users\\\\Natalia Gonzalez\\\\AppData\\\\Local\\\\Temp\\\\pip-install-dhi3np0c\\\\fbprophet_3efa1fc472ad40bbae741904e7d267fd\\\\setup.py'\"'\"';f=getattr(tokenize, '\"'\"'open'\"'\"', open)(__file__);code=f.read().replace('\"'\"'\\r\\n'\"'\"', '\"'\"'\\n'\"'\"');f.close();exec(compile(code, __file__, '\"'\"'exec'\"'\"'))' bdist_wheel -d 'C:\\Users\\Natalia Gonzalez\\AppData\\Local\\Temp\\pip-wheel-_se4k45s'\n",
      "       cwd: C:\\Users\\Natalia Gonzalez\\AppData\\Local\\Temp\\pip-install-dhi3np0c\\fbprophet_3efa1fc472ad40bbae741904e7d267fd\\\n",
      "  Complete output (44 lines):\n",
      "  running bdist_wheel\n",
      "  running build\n",
      "  running build_py\n",
      "  creating build\n",
      "  creating build\\lib\n",
      "  creating build\\lib\\fbprophet\n",
      "  creating build\\lib\\fbprophet\\stan_model\n",
      "  Traceback (most recent call last):\n",
      "    File \"<string>\", line 1, in <module>\n",
      "    File \"C:\\Users\\Natalia Gonzalez\\AppData\\Local\\Temp\\pip-install-dhi3np0c\\fbprophet_3efa1fc472ad40bbae741904e7d267fd\\setup.py\", line 122, in <module>\n",
      "      setup(\n",
      "    File \"C:\\Users\\Natalia Gonzalez\\anaconda3\\lib\\site-packages\\setuptools\\__init__.py\", line 153, in setup\n",
      "      return distutils.core.setup(**attrs)\n",
      "    File \"C:\\Users\\Natalia Gonzalez\\anaconda3\\lib\\distutils\\core.py\", line 148, in setup\n",
      "      dist.run_commands()\n",
      "    File \"C:\\Users\\Natalia Gonzalez\\anaconda3\\lib\\distutils\\dist.py\", line 966, in run_commands\n",
      "      self.run_command(cmd)\n",
      "    File \"C:\\Users\\Natalia Gonzalez\\anaconda3\\lib\\distutils\\dist.py\", line 985, in run_command\n"
     ]
    },
    {
     "name": "stdout",
     "output_type": "stream",
     "text": [
      "\n",
      "Requirement already satisfied: matplotlib>=2.0.0 in c:\\users\\natalia gonzalez\\anaconda3\\lib\\site-packages (from fbprophet) (3.3.4)\n",
      "Collecting LunarCalendar>=0.0.9\n",
      "  Downloading LunarCalendar-0.0.9-py2.py3-none-any.whl (18 kB)\n",
      "Collecting convertdate>=2.1.2\n",
      "  Downloading convertdate-2.3.2-py3-none-any.whl (47 kB)\n",
      "Collecting holidays>=0.10.2\n",
      "  Downloading holidays-0.12-py3-none-any.whl (165 kB)\n",
      "Collecting setuptools-git>=1.2\n",
      "  Downloading setuptools_git-1.2-py2.py3-none-any.whl (10 kB)\n",
      "Requirement already satisfied: python-dateutil>=2.8.0 in c:\\users\\natalia gonzalez\\anaconda3\\lib\\site-packages (from fbprophet) (2.8.1)\n",
      "Requirement already satisfied: tqdm>=4.36.1 in c:\\users\\natalia gonzalez\\anaconda3\\lib\\site-packages (from fbprophet) (4.59.0)\n",
      "Requirement already satisfied: pytz>=2014.10 in c:\\users\\natalia gonzalez\\anaconda3\\lib\\site-packages (from convertdate>=2.1.2->fbprophet) (2021.1)\n",
      "Collecting pymeeus<=1,>=0.3.13\n",
      "  Downloading PyMeeus-0.5.11.tar.gz (5.4 MB)\n",
      "Collecting korean-lunar-calendar\n",
      "  Downloading korean_lunar_calendar-0.2.1-py3-none-any.whl (8.0 kB)\n",
      "Collecting hijri-converter\n",
      "  Downloading hijri_converter-2.2.2-py3-none-any.whl (13 kB)\n",
      "Collecting ephem>=3.7.5.3\n",
      "  Downloading ephem-4.1.3-cp38-cp38-win_amd64.whl (1.4 MB)\n",
      "Requirement already satisfied: pyparsing!=2.0.4,!=2.1.2,!=2.1.6,>=2.0.3 in c:\\users\\natalia gonzalez\\anaconda3\\lib\\site-packages (from matplotlib>=2.0.0->fbprophet) (2.4.7)\n",
      "Requirement already satisfied: pillow>=6.2.0 in c:\\users\\natalia gonzalez\\anaconda3\\lib\\site-packages (from matplotlib>=2.0.0->fbprophet) (8.2.0)\n",
      "Requirement already satisfied: cycler>=0.10 in c:\\users\\natalia gonzalez\\anaconda3\\lib\\site-packages (from matplotlib>=2.0.0->fbprophet) (0.10.0)\n",
      "Requirement already satisfied: kiwisolver>=1.0.1 in c:\\users\\natalia gonzalez\\anaconda3\\lib\\site-packages (from matplotlib>=2.0.0->fbprophet) (1.3.1)\n",
      "Requirement already satisfied: six in c:\\users\\natalia gonzalez\\anaconda3\\lib\\site-packages (from cycler>=0.10->matplotlib>=2.0.0->fbprophet) (1.15.0)\n",
      "Collecting clikit<0.7,>=0.6\n",
      "  Downloading clikit-0.6.2-py2.py3-none-any.whl (91 kB)\n",
      "Collecting pystan>=2.14\n",
      "  Downloading pystan-3.2.0-py3-none-any.whl (13 kB)\n",
      "  Downloading pystan-3.1.1-py3-none-any.whl (13 kB)\n",
      "  Downloading pystan-3.1.0-py3-none-any.whl (13 kB)\n",
      "  Downloading pystan-3.0.2-py3-none-any.whl (13 kB)\n",
      "  Downloading pystan-3.0.1-py3-none-any.whl (12 kB)\n",
      "  Downloading pystan-3.0.0-py3-none-any.whl (12 kB)\n",
      "  Downloading pystan-2.19.1.1-cp38-cp38-win_amd64.whl (79.8 MB)\n",
      "Building wheels for collected packages: fbprophet, pymeeus\n",
      "  Building wheel for fbprophet (setup.py): started\n",
      "  Building wheel for fbprophet (setup.py): finished with status 'error'\n",
      "  Running setup.py clean for fbprophet\n",
      "  Building wheel for pymeeus (setup.py): started\n",
      "  Building wheel for pymeeus (setup.py): finished with status 'done'\n",
      "  Created wheel for pymeeus: filename=PyMeeus-0.5.11-py3-none-any.whl size=730973 sha256=3a4cf5b268d220ff80fe0711f0dca7b84fca51c91a3e467cb11e5a4b0ac62527\n",
      "  Stored in directory: c:\\users\\natalia gonzalez\\appdata\\local\\pip\\cache\\wheels\\a0\\8b\\b2\\810ae5a6f970c8be4725353400d643c90de1c0f023a9884ee7\n",
      "Successfully built pymeeus\n",
      "Failed to build fbprophet\n",
      "Installing collected packages: pymeeus, korean-lunar-calendar, hijri-converter, ephem, convertdate, setuptools-git, pystan, LunarCalendar, holidays, cmdstanpy, fbprophet\n",
      "    Running setup.py install for fbprophet: started\n",
      "    Running setup.py install for fbprophet: finished with status 'error'\n"
     ]
    },
    {
     "name": "stderr",
     "output_type": "stream",
     "text": [
      "      cmd_obj.run()\n",
      "    File \"C:\\Users\\Natalia Gonzalez\\anaconda3\\lib\\site-packages\\wheel\\bdist_wheel.py\", line 299, in run\n",
      "      self.run_command('build')\n",
      "    File \"C:\\Users\\Natalia Gonzalez\\anaconda3\\lib\\distutils\\cmd.py\", line 313, in run_command\n",
      "      self.distribution.run_command(command)\n",
      "    File \"C:\\Users\\Natalia Gonzalez\\anaconda3\\lib\\distutils\\dist.py\", line 985, in run_command\n",
      "      cmd_obj.run()\n",
      "    File \"C:\\Users\\Natalia Gonzalez\\anaconda3\\lib\\distutils\\command\\build.py\", line 135, in run\n",
      "      self.run_command(cmd_name)\n",
      "    File \"C:\\Users\\Natalia Gonzalez\\anaconda3\\lib\\distutils\\cmd.py\", line 313, in run_command\n",
      "      self.distribution.run_command(command)\n",
      "    File \"C:\\Users\\Natalia Gonzalez\\anaconda3\\lib\\distutils\\dist.py\", line 985, in run_command\n",
      "      cmd_obj.run()\n",
      "    File \"C:\\Users\\Natalia Gonzalez\\AppData\\Local\\Temp\\pip-install-dhi3np0c\\fbprophet_3efa1fc472ad40bbae741904e7d267fd\\setup.py\", line 48, in run\n",
      "      build_models(target_dir)\n",
      "    File \"C:\\Users\\Natalia Gonzalez\\AppData\\Local\\Temp\\pip-install-dhi3np0c\\fbprophet_3efa1fc472ad40bbae741904e7d267fd\\setup.py\", line 36, in build_models\n",
      "      from fbprophet.models import StanBackendEnum\n",
      "    File \"C:\\Users\\Natalia Gonzalez\\AppData\\Local\\Temp\\pip-install-dhi3np0c\\fbprophet_3efa1fc472ad40bbae741904e7d267fd\\fbprophet\\__init__.py\", line 8, in <module>\n",
      "      from fbprophet.forecaster import Prophet\n",
      "    File \"C:\\Users\\Natalia Gonzalez\\AppData\\Local\\Temp\\pip-install-dhi3np0c\\fbprophet_3efa1fc472ad40bbae741904e7d267fd\\fbprophet\\forecaster.py\", line 17, in <module>\n",
      "      from fbprophet.make_holidays import get_holiday_names, make_holidays_df\n",
      "    File \"C:\\Users\\Natalia Gonzalez\\AppData\\Local\\Temp\\pip-install-dhi3np0c\\fbprophet_3efa1fc472ad40bbae741904e7d267fd\\fbprophet\\make_holidays.py\", line 14, in <module>\n",
      "      import fbprophet.hdays as hdays_part2\n",
      "    File \"C:\\Users\\Natalia Gonzalez\\AppData\\Local\\Temp\\pip-install-dhi3np0c\\fbprophet_3efa1fc472ad40bbae741904e7d267fd\\fbprophet\\hdays.py\", line 13, in <module>\n",
      "      from convertdate.islamic import from_gregorian, to_gregorian\n",
      "  ModuleNotFoundError: No module named 'convertdate'\n",
      "  ----------------------------------------\n",
      "  ERROR: Failed building wheel for fbprophet\n",
      "    ERROR: Command errored out with exit status 1:\n",
      "     command: 'C:\\Users\\Natalia Gonzalez\\anaconda3\\python.exe' -u -c 'import sys, setuptools, tokenize; sys.argv[0] = '\"'\"'C:\\\\Users\\\\Natalia Gonzalez\\\\AppData\\\\Local\\\\Temp\\\\pip-install-dhi3np0c\\\\fbprophet_3efa1fc472ad40bbae741904e7d267fd\\\\setup.py'\"'\"'; __file__='\"'\"'C:\\\\Users\\\\Natalia Gonzalez\\\\AppData\\\\Local\\\\Temp\\\\pip-install-dhi3np0c\\\\fbprophet_3efa1fc472ad40bbae741904e7d267fd\\\\setup.py'\"'\"';f=getattr(tokenize, '\"'\"'open'\"'\"', open)(__file__);code=f.read().replace('\"'\"'\\r\\n'\"'\"', '\"'\"'\\n'\"'\"');f.close();exec(compile(code, __file__, '\"'\"'exec'\"'\"'))' install --record 'C:\\Users\\Natalia Gonzalez\\AppData\\Local\\Temp\\pip-record-frn5fkct\\install-record.txt' --single-version-externally-managed --compile --install-headers 'C:\\Users\\Natalia Gonzalez\\anaconda3\\Include\\fbprophet'\n",
      "         cwd: C:\\Users\\Natalia Gonzalez\\AppData\\Local\\Temp\\pip-install-dhi3np0c\\fbprophet_3efa1fc472ad40bbae741904e7d267fd\\\n",
      "    Complete output (10 lines):\n",
      "    running install\n",
      "    running build\n",
      "    running build_py\n",
      "    creating build\n",
      "    creating build\\lib\n",
      "    creating build\\lib\\fbprophet\n",
      "    creating build\\lib\\fbprophet\\stan_model\n",
      "    INFO:pystan:COMPILING THE C++ CODE FOR MODEL anon_model_f5236004a3fd5b8429270d00efcc0cf9 NOW.\n",
      "    WARNING:pystan:MSVC compiler is not supported\n",
      "    error: Microsoft Visual C++ 14.0 or greater is required. Get it with \"Microsoft C++ Build Tools\": https://visualstudio.microsoft.com/visual-cpp-build-tools/\n",
      "    ----------------------------------------\n",
      "ERROR: Command errored out with exit status 1: 'C:\\Users\\Natalia Gonzalez\\anaconda3\\python.exe' -u -c 'import sys, setuptools, tokenize; sys.argv[0] = '\"'\"'C:\\\\Users\\\\Natalia Gonzalez\\\\AppData\\\\Local\\\\Temp\\\\pip-install-dhi3np0c\\\\fbprophet_3efa1fc472ad40bbae741904e7d267fd\\\\setup.py'\"'\"'; __file__='\"'\"'C:\\\\Users\\\\Natalia Gonzalez\\\\AppData\\\\Local\\\\Temp\\\\pip-install-dhi3np0c\\\\fbprophet_3efa1fc472ad40bbae741904e7d267fd\\\\setup.py'\"'\"';f=getattr(tokenize, '\"'\"'open'\"'\"', open)(__file__);code=f.read().replace('\"'\"'\\r\\n'\"'\"', '\"'\"'\\n'\"'\"');f.close();exec(compile(code, __file__, '\"'\"'exec'\"'\"'))' install --record 'C:\\Users\\Natalia Gonzalez\\AppData\\Local\\Temp\\pip-record-frn5fkct\\install-record.txt' --single-version-externally-managed --compile --install-headers 'C:\\Users\\Natalia Gonzalez\\anaconda3\\Include\\fbprophet' Check the logs for full command output.\n"
     ]
    }
   ],
   "source": [
    "!pip install fbprophet"
   ]
  },
  {
   "cell_type": "code",
   "execution_count": 2,
   "id": "b535ca10",
   "metadata": {},
   "outputs": [
    {
     "ename": "ModuleNotFoundError",
     "evalue": "No module named 'fbprophet'",
     "output_type": "error",
     "traceback": [
      "\u001b[1;31m---------------------------------------------------------------------------\u001b[0m",
      "\u001b[1;31mModuleNotFoundError\u001b[0m                       Traceback (most recent call last)",
      "\u001b[1;32m<ipython-input-2-f503e9c6cf11>\u001b[0m in \u001b[0;36m<module>\u001b[1;34m\u001b[0m\n\u001b[1;32m----> 1\u001b[1;33m \u001b[1;32mfrom\u001b[0m \u001b[0mfbprophet\u001b[0m \u001b[1;32mimport\u001b[0m \u001b[0mProphet\u001b[0m\u001b[1;33m\u001b[0m\u001b[1;33m\u001b[0m\u001b[0m\n\u001b[0m",
      "\u001b[1;31mModuleNotFoundError\u001b[0m: No module named 'fbprophet'"
     ]
    }
   ],
   "source": [
    "from fbprophet import Prophet"
   ]
  },
  {
   "cell_type": "code",
   "execution_count": 3,
   "id": "50150968",
   "metadata": {},
   "outputs": [
    {
     "name": "stdout",
     "output_type": "stream",
     "text": [
      "Collecting pmdarima\n",
      "  Downloading pmdarima-1.8.4-cp38-cp38-win_amd64.whl (600 kB)\n",
      "Requirement already satisfied: statsmodels!=0.12.0,>=0.11 in c:\\users\\natalia gonzalez\\anaconda3\\lib\\site-packages (from pmdarima) (0.12.2)\n",
      "Requirement already satisfied: scikit-learn>=0.22 in c:\\users\\natalia gonzalez\\anaconda3\\lib\\site-packages (from pmdarima) (0.24.1)\n",
      "Requirement already satisfied: joblib>=0.11 in c:\\users\\natalia gonzalez\\anaconda3\\lib\\site-packages (from pmdarima) (1.0.1)\n",
      "Requirement already satisfied: Cython!=0.29.18,>=0.29 in c:\\users\\natalia gonzalez\\anaconda3\\lib\\site-packages (from pmdarima) (0.29.23)\n",
      "Requirement already satisfied: numpy>=1.19.3 in c:\\users\\natalia gonzalez\\anaconda3\\lib\\site-packages (from pmdarima) (1.20.1)\n",
      "Requirement already satisfied: setuptools!=50.0.0,>=38.6.0 in c:\\users\\natalia gonzalez\\anaconda3\\lib\\site-packages (from pmdarima) (52.0.0.post20210125)\n",
      "Requirement already satisfied: scipy>=1.3.2 in c:\\users\\natalia gonzalez\\anaconda3\\lib\\site-packages (from pmdarima) (1.6.2)\n",
      "Requirement already satisfied: pandas>=0.19 in c:\\users\\natalia gonzalez\\anaconda3\\lib\\site-packages (from pmdarima) (1.2.4)\n",
      "Requirement already satisfied: urllib3 in c:\\users\\natalia gonzalez\\anaconda3\\lib\\site-packages (from pmdarima) (1.26.4)\n",
      "Requirement already satisfied: pytz>=2017.3 in c:\\users\\natalia gonzalez\\anaconda3\\lib\\site-packages (from pandas>=0.19->pmdarima) (2021.1)\n",
      "Requirement already satisfied: python-dateutil>=2.7.3 in c:\\users\\natalia gonzalez\\anaconda3\\lib\\site-packages (from pandas>=0.19->pmdarima) (2.8.1)\n",
      "Requirement already satisfied: six>=1.5 in c:\\users\\natalia gonzalez\\anaconda3\\lib\\site-packages (from python-dateutil>=2.7.3->pandas>=0.19->pmdarima) (1.15.0)\n",
      "Requirement already satisfied: threadpoolctl>=2.0.0 in c:\\users\\natalia gonzalez\\anaconda3\\lib\\site-packages (from scikit-learn>=0.22->pmdarima) (2.1.0)\n",
      "Requirement already satisfied: patsy>=0.5 in c:\\users\\natalia gonzalez\\anaconda3\\lib\\site-packages (from statsmodels!=0.12.0,>=0.11->pmdarima) (0.5.1)\n",
      "Installing collected packages: pmdarima\n",
      "Successfully installed pmdarima-1.8.4\n"
     ]
    }
   ],
   "source": [
    "!pip install pmdarima"
   ]
  },
  {
   "cell_type": "code",
   "execution_count": 4,
   "id": "c5f82c15",
   "metadata": {},
   "outputs": [],
   "source": [
    "import pmdarima as pm\n",
    "from pmdarima.model_selection import train_test_split\n",
    "import numpy as np\n",
    "import matplotlib.pyplot as plt"
   ]
  },
  {
   "cell_type": "code",
   "execution_count": 5,
   "id": "a1050d3d",
   "metadata": {},
   "outputs": [
    {
     "name": "stdout",
     "output_type": "stream",
     "text": [
      "Collecting darts\n",
      "  Downloading darts-0.16.0-py3-none-any.whl (326 kB)\n",
      "Requirement already satisfied: pmdarima>=1.8.0 in c:\\users\\natalia gonzalez\\anaconda3\\lib\\site-packages (from darts) (1.8.4)"
     ]
    },
    {
     "name": "stderr",
     "output_type": "stream",
     "text": [
      "  ERROR: Command errored out with exit status 1:\n",
      "   command: 'C:\\Users\\Natalia Gonzalez\\anaconda3\\python.exe' -u -c 'import sys, setuptools, tokenize; sys.argv[0] = '\"'\"'C:\\\\Users\\\\Natalia Gonzalez\\\\AppData\\\\Local\\\\Temp\\\\pip-install-y2c_uu1w\\\\prophet_4aad7564b3d84bfbaba21b71c40aeb72\\\\setup.py'\"'\"'; __file__='\"'\"'C:\\\\Users\\\\Natalia Gonzalez\\\\AppData\\\\Local\\\\Temp\\\\pip-install-y2c_uu1w\\\\prophet_4aad7564b3d84bfbaba21b71c40aeb72\\\\setup.py'\"'\"';f=getattr(tokenize, '\"'\"'open'\"'\"', open)(__file__);code=f.read().replace('\"'\"'\\r\\n'\"'\"', '\"'\"'\\n'\"'\"');f.close();exec(compile(code, __file__, '\"'\"'exec'\"'\"'))' bdist_wheel -d 'C:\\Users\\Natalia Gonzalez\\AppData\\Local\\Temp\\pip-wheel-n9chy29q'\n",
      "       cwd: C:\\Users\\Natalia Gonzalez\\AppData\\Local\\Temp\\pip-install-y2c_uu1w\\prophet_4aad7564b3d84bfbaba21b71c40aeb72\\\n",
      "  Complete output (10 lines):\n",
      "  running bdist_wheel\n",
      "  running build\n",
      "  running build_py\n",
      "  creating build\n",
      "  creating build\\lib\n",
      "  creating build\\lib\\prophet\n",
      "  creating build\\lib\\prophet\\stan_model\n",
      "  INFO:pystan:COMPILING THE C++ CODE FOR MODEL anon_model_f5236004a3fd5b8429270d00efcc0cf9 NOW.\n",
      "  WARNING:pystan:MSVC compiler is not supported\n",
      "  error: Microsoft Visual C++ 14.0 or greater is required. Get it with \"Microsoft C++ Build Tools\": https://visualstudio.microsoft.com/visual-cpp-build-tools/\n",
      "  ----------------------------------------\n",
      "  ERROR: Failed building wheel for prophet\n",
      "ERROR: Could not install packages due to an OSError: [WinError 5] Acceso denegado: 'C:\\\\Users\\\\Natalia Gonzalez\\\\anaconda3\\\\Lib\\\\site-packages\\\\~tatsmodels\\\\nonparametric\\\\linbin.cp38-win_amd64.pyd'\n",
      "Consider using the `--user` option or check the permissions.\n",
      "\n"
     ]
    },
    {
     "name": "stdout",
     "output_type": "stream",
     "text": [
      "\n",
      "Requirement already satisfied: matplotlib>=3.3.0 in c:\\users\\natalia gonzalez\\anaconda3\\lib\\site-packages (from darts) (3.3.4)\n",
      "Requirement already satisfied: requests>=2.22.0 in c:\\users\\natalia gonzalez\\anaconda3\\lib\\site-packages (from darts) (2.25.1)\n",
      "Collecting nfoursid>=0.1.0\n",
      "  Downloading nfoursid-0.1.0-py3-none-any.whl (16 kB)\n",
      "Collecting torch>=1.8.0\n",
      "  Downloading torch-1.10.1-cp38-cp38-win_amd64.whl (226.6 MB)\n",
      "Collecting scikit-learn>=1.0.1\n",
      "  Downloading scikit_learn-1.0.2-cp38-cp38-win_amd64.whl (7.2 MB)\n",
      "Collecting tqdm>=4.60.0\n",
      "  Downloading tqdm-4.62.3-py2.py3-none-any.whl (76 kB)\n",
      "Requirement already satisfied: ipython>=7.0.0 in c:\\users\\natalia gonzalez\\anaconda3\\lib\\site-packages (from darts) (7.22.0)\n",
      "Requirement already satisfied: joblib>=0.16.0 in c:\\users\\natalia gonzalez\\anaconda3\\lib\\site-packages (from darts) (1.0.1)\n",
      "Requirement already satisfied: scipy>=1.3.2 in c:\\users\\natalia gonzalez\\anaconda3\\lib\\site-packages (from darts) (1.6.2)\n",
      "Collecting statsmodels>=0.13.0\n",
      "  Downloading statsmodels-0.13.1-cp38-cp38-win_amd64.whl (9.1 MB)\n",
      "Requirement already satisfied: pystan<3.0.0.0,>=2.19.1.1 in c:\\users\\natalia gonzalez\\anaconda3\\lib\\site-packages (from darts) (2.19.1.1)\n",
      "Collecting lightgbm>=2.2.3\n",
      "  Downloading lightgbm-3.3.2-py3-none-win_amd64.whl (1.0 MB)\n",
      "Requirement already satisfied: pandas>=1.1.0 in c:\\users\\natalia gonzalez\\anaconda3\\lib\\site-packages (from darts) (1.2.4)\n",
      "Collecting tensorboard>=2.4.0\n",
      "  Downloading tensorboard-2.7.0-py3-none-any.whl (5.8 MB)\n",
      "Collecting prophet>=1.0.0\n",
      "  Downloading prophet-1.0.1.tar.gz (65 kB)\n",
      "Requirement already satisfied: holidays>=0.11.1 in c:\\users\\natalia gonzalez\\anaconda3\\lib\\site-packages (from darts) (0.12)\n",
      "Collecting xarray>=0.17.0\n",
      "  Downloading xarray-0.20.2-py3-none-any.whl (845 kB)\n",
      "Requirement already satisfied: numpy>=1.19.0 in c:\\users\\natalia gonzalez\\anaconda3\\lib\\site-packages (from darts) (1.20.1)\n",
      "Requirement already satisfied: convertdate>=2.3.0 in c:\\users\\natalia gonzalez\\anaconda3\\lib\\site-packages (from holidays>=0.11.1->darts) (2.3.2)\n",
      "Requirement already satisfied: hijri-converter in c:\\users\\natalia gonzalez\\anaconda3\\lib\\site-packages (from holidays>=0.11.1->darts) (2.2.2)\n",
      "Requirement already satisfied: python-dateutil in c:\\users\\natalia gonzalez\\anaconda3\\lib\\site-packages (from holidays>=0.11.1->darts) (2.8.1)\n",
      "Requirement already satisfied: korean-lunar-calendar in c:\\users\\natalia gonzalez\\anaconda3\\lib\\site-packages (from holidays>=0.11.1->darts) (0.2.1)\n",
      "Requirement already satisfied: pytz>=2014.10 in c:\\users\\natalia gonzalez\\anaconda3\\lib\\site-packages (from convertdate>=2.3.0->holidays>=0.11.1->darts) (2021.1)\n",
      "Requirement already satisfied: pymeeus<=1,>=0.3.13 in c:\\users\\natalia gonzalez\\anaconda3\\lib\\site-packages (from convertdate>=2.3.0->holidays>=0.11.1->darts) (0.5.11)\n",
      "Requirement already satisfied: jedi>=0.16 in c:\\users\\natalia gonzalez\\anaconda3\\lib\\site-packages (from ipython>=7.0.0->darts) (0.17.2)\n",
      "Requirement already satisfied: pickleshare in c:\\users\\natalia gonzalez\\anaconda3\\lib\\site-packages (from ipython>=7.0.0->darts) (0.7.5)\n",
      "Requirement already satisfied: backcall in c:\\users\\natalia gonzalez\\anaconda3\\lib\\site-packages (from ipython>=7.0.0->darts) (0.2.0)\n",
      "Requirement already satisfied: traitlets>=4.2 in c:\\users\\natalia gonzalez\\anaconda3\\lib\\site-packages (from ipython>=7.0.0->darts) (5.0.5)\n",
      "Requirement already satisfied: setuptools>=18.5 in c:\\users\\natalia gonzalez\\anaconda3\\lib\\site-packages (from ipython>=7.0.0->darts) (52.0.0.post20210125)\n",
      "Requirement already satisfied: pygments in c:\\users\\natalia gonzalez\\anaconda3\\lib\\site-packages (from ipython>=7.0.0->darts) (2.8.1)\n",
      "Requirement already satisfied: decorator in c:\\users\\natalia gonzalez\\anaconda3\\lib\\site-packages (from ipython>=7.0.0->darts) (5.0.6)\n",
      "Requirement already satisfied: colorama in c:\\users\\natalia gonzalez\\anaconda3\\lib\\site-packages (from ipython>=7.0.0->darts) (0.4.4)\n",
      "Requirement already satisfied: prompt-toolkit!=3.0.0,!=3.0.1,<3.1.0,>=2.0.0 in c:\\users\\natalia gonzalez\\anaconda3\\lib\\site-packages (from ipython>=7.0.0->darts) (3.0.17)\n",
      "Requirement already satisfied: parso<0.8.0,>=0.7.0 in c:\\users\\natalia gonzalez\\anaconda3\\lib\\site-packages (from jedi>=0.16->ipython>=7.0.0->darts) (0.7.0)\n",
      "Requirement already satisfied: wheel in c:\\users\\natalia gonzalez\\anaconda3\\lib\\site-packages (from lightgbm>=2.2.3->darts) (0.36.2)\n",
      "Requirement already satisfied: cycler>=0.10 in c:\\users\\natalia gonzalez\\anaconda3\\lib\\site-packages (from matplotlib>=3.3.0->darts) (0.10.0)\n",
      "Requirement already satisfied: pyparsing!=2.0.4,!=2.1.2,!=2.1.6,>=2.0.3 in c:\\users\\natalia gonzalez\\anaconda3\\lib\\site-packages (from matplotlib>=3.3.0->darts) (2.4.7)\n",
      "Requirement already satisfied: kiwisolver>=1.0.1 in c:\\users\\natalia gonzalez\\anaconda3\\lib\\site-packages (from matplotlib>=3.3.0->darts) (1.3.1)\n",
      "Requirement already satisfied: pillow>=6.2.0 in c:\\users\\natalia gonzalez\\anaconda3\\lib\\site-packages (from matplotlib>=3.3.0->darts) (8.2.0)\n",
      "Requirement already satisfied: six in c:\\users\\natalia gonzalez\\anaconda3\\lib\\site-packages (from cycler>=0.10->matplotlib>=3.3.0->darts) (1.15.0)\n",
      "Requirement already satisfied: urllib3 in c:\\users\\natalia gonzalez\\anaconda3\\lib\\site-packages (from pmdarima>=1.8.0->darts) (1.26.4)\n",
      "Requirement already satisfied: Cython!=0.29.18,>=0.29 in c:\\users\\natalia gonzalez\\anaconda3\\lib\\site-packages (from pmdarima>=1.8.0->darts) (0.29.23)\n",
      "Requirement already satisfied: wcwidth in c:\\users\\natalia gonzalez\\anaconda3\\lib\\site-packages (from prompt-toolkit!=3.0.0,!=3.0.1,<3.1.0,>=2.0.0->ipython>=7.0.0->darts) (0.2.5)\n",
      "Collecting cmdstanpy==0.9.68\n",
      "  Downloading cmdstanpy-0.9.68-py3-none-any.whl (49 kB)\n",
      "Requirement already satisfied: LunarCalendar>=0.0.9 in c:\\users\\natalia gonzalez\\anaconda3\\lib\\site-packages (from prophet>=1.0.0->darts) (0.0.9)\n",
      "Requirement already satisfied: setuptools-git>=1.2 in c:\\users\\natalia gonzalez\\anaconda3\\lib\\site-packages (from prophet>=1.0.0->darts) (1.2)\n",
      "Requirement already satisfied: ujson in c:\\users\\natalia gonzalez\\anaconda3\\lib\\site-packages (from cmdstanpy==0.9.68->prophet>=1.0.0->darts) (4.0.2)\n",
      "Requirement already satisfied: ephem>=3.7.5.3 in c:\\users\\natalia gonzalez\\anaconda3\\lib\\site-packages (from LunarCalendar>=0.0.9->prophet>=1.0.0->darts) (4.1.3)\n",
      "Requirement already satisfied: certifi>=2017.4.17 in c:\\users\\natalia gonzalez\\anaconda3\\lib\\site-packages (from requests>=2.22.0->darts) (2020.12.5)\n",
      "Requirement already satisfied: chardet<5,>=3.0.2 in c:\\users\\natalia gonzalez\\anaconda3\\lib\\site-packages (from requests>=2.22.0->darts) (4.0.0)\n",
      "Requirement already satisfied: idna<3,>=2.5 in c:\\users\\natalia gonzalez\\anaconda3\\lib\\site-packages (from requests>=2.22.0->darts) (2.10)\n",
      "Requirement already satisfied: threadpoolctl>=2.0.0 in c:\\users\\natalia gonzalez\\anaconda3\\lib\\site-packages (from scikit-learn>=1.0.1->darts) (2.1.0)\n",
      "Collecting patsy>=0.5.2\n",
      "  Downloading patsy-0.5.2-py2.py3-none-any.whl (233 kB)\n",
      "Collecting markdown>=2.6.8\n",
      "  Downloading Markdown-3.3.6-py3-none-any.whl (97 kB)\n",
      "Collecting tensorboard-plugin-wit>=1.6.0\n",
      "  Downloading tensorboard_plugin_wit-1.8.1-py3-none-any.whl (781 kB)\n",
      "Collecting google-auth<3,>=1.6.3\n",
      "  Downloading google_auth-2.3.3-py2.py3-none-any.whl (155 kB)\n",
      "Collecting google-auth-oauthlib<0.5,>=0.4.1\n",
      "  Downloading google_auth_oauthlib-0.4.6-py2.py3-none-any.whl (18 kB)\n",
      "Collecting protobuf>=3.6.0\n",
      "  Downloading protobuf-3.19.3-cp38-cp38-win_amd64.whl (895 kB)\n",
      "Requirement already satisfied: werkzeug>=0.11.15 in c:\\users\\natalia gonzalez\\anaconda3\\lib\\site-packages (from tensorboard>=2.4.0->darts) (1.0.1)\n",
      "Collecting absl-py>=0.4\n",
      "  Downloading absl_py-1.0.0-py3-none-any.whl (126 kB)\n",
      "Collecting grpcio>=1.24.3\n",
      "  Downloading grpcio-1.43.0-cp38-cp38-win_amd64.whl (3.4 MB)\n",
      "Collecting tensorboard-data-server<0.7.0,>=0.6.0\n",
      "  Downloading tensorboard_data_server-0.6.1-py3-none-any.whl (2.4 kB)\n",
      "Collecting cachetools<5.0,>=2.0.0\n",
      "  Downloading cachetools-4.2.4-py3-none-any.whl (10 kB)\n",
      "Collecting pyasn1-modules>=0.2.1\n",
      "  Downloading pyasn1_modules-0.2.8-py2.py3-none-any.whl (155 kB)\n",
      "Collecting rsa<5,>=3.1.4\n",
      "  Downloading rsa-4.8-py3-none-any.whl (39 kB)\n",
      "Requirement already satisfied: requests-oauthlib>=0.7.0 in c:\\users\\natalia gonzalez\\anaconda3\\lib\\site-packages (from google-auth-oauthlib<0.5,>=0.4.1->tensorboard>=2.4.0->darts) (1.3.0)\n",
      "Collecting importlib-metadata>=4.4\n",
      "  Downloading importlib_metadata-4.10.0-py3-none-any.whl (17 kB)\n",
      "Requirement already satisfied: zipp>=0.5 in c:\\users\\natalia gonzalez\\anaconda3\\lib\\site-packages (from importlib-metadata>=4.4->markdown>=2.6.8->tensorboard>=2.4.0->darts) (3.4.1)\n",
      "Collecting pyasn1<0.5.0,>=0.4.6\n",
      "  Downloading pyasn1-0.4.8-py2.py3-none-any.whl (77 kB)\n",
      "Requirement already satisfied: oauthlib>=3.0.0 in c:\\users\\natalia gonzalez\\anaconda3\\lib\\site-packages (from requests-oauthlib>=0.7.0->google-auth-oauthlib<0.5,>=0.4.1->tensorboard>=2.4.0->darts) (3.1.1)\n",
      "Requirement already satisfied: typing-extensions in c:\\users\\natalia gonzalez\\anaconda3\\lib\\site-packages (from torch>=1.8.0->darts) (3.7.4.3)\n",
      "Requirement already satisfied: ipython-genutils in c:\\users\\natalia gonzalez\\anaconda3\\lib\\site-packages (from traitlets>=4.2->ipython>=7.0.0->darts) (0.2.0)\n",
      "Building wheels for collected packages: prophet\n",
      "  Building wheel for prophet (setup.py): started\n",
      "  Building wheel for prophet (setup.py): finished with status 'error'\n",
      "  Running setup.py clean for prophet\n",
      "Failed to build prophet\n",
      "Installing collected packages: pyasn1, rsa, pyasn1-modules, cachetools, patsy, importlib-metadata, google-auth, tqdm, tensorboard-plugin-wit, tensorboard-data-server, statsmodels, scikit-learn, protobuf, markdown, grpcio, google-auth-oauthlib, cmdstanpy, absl-py, xarray, torch, tensorboard, prophet, nfoursid, lightgbm, darts\n",
      "  Attempting uninstall: patsy\n",
      "    Found existing installation: patsy 0.5.1\n",
      "    Uninstalling patsy-0.5.1:\n",
      "      Successfully uninstalled patsy-0.5.1\n",
      "  Attempting uninstall: importlib-metadata\n",
      "    Found existing installation: importlib-metadata 3.10.0\n",
      "    Uninstalling importlib-metadata-3.10.0:\n",
      "      Successfully uninstalled importlib-metadata-3.10.0\n",
      "  Attempting uninstall: tqdm\n",
      "    Found existing installation: tqdm 4.59.0\n",
      "    Uninstalling tqdm-4.59.0:\n",
      "      Successfully uninstalled tqdm-4.59.0\n",
      "  Attempting uninstall: statsmodels\n",
      "    Found existing installation: statsmodels 0.12.2\n",
      "    Uninstalling statsmodels-0.12.2:\n",
      "      Successfully uninstalled statsmodels-0.12.2\n"
     ]
    }
   ],
   "source": [
    "!pip install darts"
   ]
  },
  {
   "cell_type": "code",
   "execution_count": 6,
   "id": "f68bf9a2",
   "metadata": {},
   "outputs": [
    {
     "ename": "ModuleNotFoundError",
     "evalue": "No module named 'darts'",
     "output_type": "error",
     "traceback": [
      "\u001b[1;31m---------------------------------------------------------------------------\u001b[0m",
      "\u001b[1;31mModuleNotFoundError\u001b[0m                       Traceback (most recent call last)",
      "\u001b[1;32m<ipython-input-6-1f3329ff5668>\u001b[0m in \u001b[0;36m<module>\u001b[1;34m\u001b[0m\n\u001b[1;32m----> 1\u001b[1;33m \u001b[1;32mfrom\u001b[0m \u001b[0mdarts\u001b[0m \u001b[1;32mimport\u001b[0m \u001b[0mTimeSeries\u001b[0m\u001b[1;33m\u001b[0m\u001b[1;33m\u001b[0m\u001b[0m\n\u001b[0m",
      "\u001b[1;31mModuleNotFoundError\u001b[0m: No module named 'darts'"
     ]
    }
   ],
   "source": [
    "from darts import TimeSeries"
   ]
  },
  {
   "cell_type": "code",
   "execution_count": 10,
   "id": "311d4985",
   "metadata": {},
   "outputs": [
    {
     "name": "stderr",
     "output_type": "stream",
     "text": [
      "WARNING: Skipping fbprophet as it is not installed.\n"
     ]
    }
   ],
   "source": [
    "!pip uninstall fbprophet"
   ]
  },
  {
   "cell_type": "code",
   "execution_count": 11,
   "id": "4115ae0c",
   "metadata": {},
   "outputs": [
    {
     "name": "stdout",
     "output_type": "stream",
     "text": [
      "^C\n"
     ]
    }
   ],
   "source": [
    "!pip uninstall fbprophet pystan"
   ]
  },
  {
   "cell_type": "code",
   "execution_count": 9,
   "id": "4f4ef7a1",
   "metadata": {},
   "outputs": [
    {
     "name": "stdout",
     "output_type": "stream",
     "text": [
      "Collecting prophet"
     ]
    },
    {
     "name": "stderr",
     "output_type": "stream",
     "text": [
      "  ERROR: Command errored out with exit status 1:\n",
      "   command: 'C:\\Users\\Natalia Gonzalez\\anaconda3\\python.exe' -u -c 'import sys, setuptools, tokenize; sys.argv[0] = '\"'\"'C:\\\\Users\\\\Natalia Gonzalez\\\\AppData\\\\Local\\\\Temp\\\\pip-install-9wtuj939\\\\prophet_d5074265a0054fddb8864c733085bbb7\\\\setup.py'\"'\"'; __file__='\"'\"'C:\\\\Users\\\\Natalia Gonzalez\\\\AppData\\\\Local\\\\Temp\\\\pip-install-9wtuj939\\\\prophet_d5074265a0054fddb8864c733085bbb7\\\\setup.py'\"'\"';f=getattr(tokenize, '\"'\"'open'\"'\"', open)(__file__);code=f.read().replace('\"'\"'\\r\\n'\"'\"', '\"'\"'\\n'\"'\"');f.close();exec(compile(code, __file__, '\"'\"'exec'\"'\"'))' bdist_wheel -d 'C:\\Users\\Natalia Gonzalez\\AppData\\Local\\Temp\\pip-wheel-4vewxlra'\n",
      "       cwd: C:\\Users\\Natalia Gonzalez\\AppData\\Local\\Temp\\pip-install-9wtuj939\\prophet_d5074265a0054fddb8864c733085bbb7\\\n",
      "  Complete output (10 lines):\n",
      "  running bdist_wheel\n",
      "  running build\n",
      "  running build_py\n",
      "  creating build\n"
     ]
    },
    {
     "name": "stdout",
     "output_type": "stream",
     "text": [
      "\n",
      "  Using cached prophet-1.0.1.tar.gz (65 kB)\n",
      "Requirement already satisfied: Cython>=0.22 in c:\\users\\natalia gonzalez\\anaconda3\\lib\\site-packages (from prophet) (0.29.23)\n",
      "Collecting cmdstanpy==0.9.68\n",
      "  Using cached cmdstanpy-0.9.68-py3-none-any.whl (49 kB)\n",
      "Requirement already satisfied: pystan~=2.19.1.1 in c:\\users\\natalia gonzalez\\anaconda3\\lib\\site-packages (from prophet) (2.19.1.1)\n",
      "Requirement already satisfied: numpy>=1.15.4 in c:\\users\\natalia gonzalez\\anaconda3\\lib\\site-packages (from prophet) (1.20.1)\n",
      "Requirement already satisfied: pandas>=1.0.4 in c:\\users\\natalia gonzalez\\anaconda3\\lib\\site-packages (from prophet) (1.2.4)\n",
      "Requirement already satisfied: matplotlib>=2.0.0 in c:\\users\\natalia gonzalez\\anaconda3\\lib\\site-packages (from prophet) (3.3.4)\n",
      "Requirement already satisfied: LunarCalendar>=0.0.9 in c:\\users\\natalia gonzalez\\anaconda3\\lib\\site-packages (from prophet) (0.0.9)\n",
      "Requirement already satisfied: convertdate>=2.1.2 in c:\\users\\natalia gonzalez\\anaconda3\\lib\\site-packages (from prophet) (2.3.2)\n",
      "Requirement already satisfied: holidays>=0.10.2 in c:\\users\\natalia gonzalez\\anaconda3\\lib\\site-packages (from prophet) (0.12)\n",
      "Requirement already satisfied: setuptools-git>=1.2 in c:\\users\\natalia gonzalez\\anaconda3\\lib\\site-packages (from prophet) (1.2)\n",
      "Requirement already satisfied: python-dateutil>=2.8.0 in c:\\users\\natalia gonzalez\\anaconda3\\lib\\site-packages (from prophet) (2.8.1)\n",
      "Requirement already satisfied: tqdm>=4.36.1 in c:\\users\\natalia gonzalez\\anaconda3\\lib\\site-packages (from prophet) (4.62.3)\n",
      "Requirement already satisfied: ujson in c:\\users\\natalia gonzalez\\anaconda3\\lib\\site-packages (from cmdstanpy==0.9.68->prophet) (4.0.2)\n",
      "Requirement already satisfied: pymeeus<=1,>=0.3.13 in c:\\users\\natalia gonzalez\\anaconda3\\lib\\site-packages (from convertdate>=2.1.2->prophet) (0.5.11)\n",
      "Requirement already satisfied: pytz>=2014.10 in c:\\users\\natalia gonzalez\\anaconda3\\lib\\site-packages (from convertdate>=2.1.2->prophet) (2021.1)\n",
      "Requirement already satisfied: korean-lunar-calendar in c:\\users\\natalia gonzalez\\anaconda3\\lib\\site-packages (from holidays>=0.10.2->prophet) (0.2.1)\n",
      "Requirement already satisfied: hijri-converter in c:\\users\\natalia gonzalez\\anaconda3\\lib\\site-packages (from holidays>=0.10.2->prophet) (2.2.2)\n",
      "Requirement already satisfied: ephem>=3.7.5.3 in c:\\users\\natalia gonzalez\\anaconda3\\lib\\site-packages (from LunarCalendar>=0.0.9->prophet) (4.1.3)\n",
      "Requirement already satisfied: pyparsing!=2.0.4,!=2.1.2,!=2.1.6,>=2.0.3 in c:\\users\\natalia gonzalez\\anaconda3\\lib\\site-packages (from matplotlib>=2.0.0->prophet) (2.4.7)\n",
      "Requirement already satisfied: pillow>=6.2.0 in c:\\users\\natalia gonzalez\\anaconda3\\lib\\site-packages (from matplotlib>=2.0.0->prophet) (8.2.0)\n",
      "Requirement already satisfied: kiwisolver>=1.0.1 in c:\\users\\natalia gonzalez\\anaconda3\\lib\\site-packages (from matplotlib>=2.0.0->prophet) (1.3.1)\n",
      "Requirement already satisfied: cycler>=0.10 in c:\\users\\natalia gonzalez\\anaconda3\\lib\\site-packages (from matplotlib>=2.0.0->prophet) (0.10.0)\n",
      "Requirement already satisfied: six in c:\\users\\natalia gonzalez\\anaconda3\\lib\\site-packages (from cycler>=0.10->matplotlib>=2.0.0->prophet) (1.15.0)\n",
      "Requirement already satisfied: colorama in c:\\users\\natalia gonzalez\\anaconda3\\lib\\site-packages (from tqdm>=4.36.1->prophet) (0.4.4)\n",
      "Building wheels for collected packages: prophet\n",
      "  Building wheel for prophet (setup.py): started\n",
      "  Building wheel for prophet (setup.py): finished with status 'error'\n",
      "  Running setup.py clean for prophet\n",
      "Failed to build prophet\n",
      "Installing collected packages: cmdstanpy, prophet\n",
      "  Attempting uninstall: cmdstanpy\n",
      "    Found existing installation: cmdstanpy 0.9.5\n",
      "    Uninstalling cmdstanpy-0.9.5:\n",
      "      Successfully uninstalled cmdstanpy-0.9.5\n",
      "    Running setup.py install for prophet: started\n",
      "    Running setup.py install for prophet: finished with status 'error'\n"
     ]
    },
    {
     "name": "stderr",
     "output_type": "stream",
     "text": [
      "  creating build\\lib\n",
      "  creating build\\lib\\prophet\n",
      "  creating build\\lib\\prophet\\stan_model\n",
      "  INFO:pystan:COMPILING THE C++ CODE FOR MODEL anon_model_f5236004a3fd5b8429270d00efcc0cf9 NOW.\n",
      "  WARNING:pystan:MSVC compiler is not supported\n",
      "  error: Microsoft Visual C++ 14.0 or greater is required. Get it with \"Microsoft C++ Build Tools\": https://visualstudio.microsoft.com/visual-cpp-build-tools/\n",
      "  ----------------------------------------\n",
      "  ERROR: Failed building wheel for prophet\n",
      "    ERROR: Command errored out with exit status 1:\n",
      "     command: 'C:\\Users\\Natalia Gonzalez\\anaconda3\\python.exe' -u -c 'import sys, setuptools, tokenize; sys.argv[0] = '\"'\"'C:\\\\Users\\\\Natalia Gonzalez\\\\AppData\\\\Local\\\\Temp\\\\pip-install-9wtuj939\\\\prophet_d5074265a0054fddb8864c733085bbb7\\\\setup.py'\"'\"'; __file__='\"'\"'C:\\\\Users\\\\Natalia Gonzalez\\\\AppData\\\\Local\\\\Temp\\\\pip-install-9wtuj939\\\\prophet_d5074265a0054fddb8864c733085bbb7\\\\setup.py'\"'\"';f=getattr(tokenize, '\"'\"'open'\"'\"', open)(__file__);code=f.read().replace('\"'\"'\\r\\n'\"'\"', '\"'\"'\\n'\"'\"');f.close();exec(compile(code, __file__, '\"'\"'exec'\"'\"'))' install --record 'C:\\Users\\Natalia Gonzalez\\AppData\\Local\\Temp\\pip-record-fo8_4jd2\\install-record.txt' --single-version-externally-managed --compile --install-headers 'C:\\Users\\Natalia Gonzalez\\anaconda3\\Include\\prophet'\n",
      "         cwd: C:\\Users\\Natalia Gonzalez\\AppData\\Local\\Temp\\pip-install-9wtuj939\\prophet_d5074265a0054fddb8864c733085bbb7\\\n",
      "    Complete output (10 lines):\n",
      "    running install\n",
      "    running build\n",
      "    running build_py\n",
      "    creating build\n",
      "    creating build\\lib\n",
      "    creating build\\lib\\prophet\n",
      "    creating build\\lib\\prophet\\stan_model\n",
      "    INFO:pystan:COMPILING THE C++ CODE FOR MODEL anon_model_f5236004a3fd5b8429270d00efcc0cf9 NOW.\n",
      "    WARNING:pystan:MSVC compiler is not supported\n",
      "    error: Microsoft Visual C++ 14.0 or greater is required. Get it with \"Microsoft C++ Build Tools\": https://visualstudio.microsoft.com/visual-cpp-build-tools/\n",
      "    ----------------------------------------\n",
      "ERROR: Command errored out with exit status 1: 'C:\\Users\\Natalia Gonzalez\\anaconda3\\python.exe' -u -c 'import sys, setuptools, tokenize; sys.argv[0] = '\"'\"'C:\\\\Users\\\\Natalia Gonzalez\\\\AppData\\\\Local\\\\Temp\\\\pip-install-9wtuj939\\\\prophet_d5074265a0054fddb8864c733085bbb7\\\\setup.py'\"'\"'; __file__='\"'\"'C:\\\\Users\\\\Natalia Gonzalez\\\\AppData\\\\Local\\\\Temp\\\\pip-install-9wtuj939\\\\prophet_d5074265a0054fddb8864c733085bbb7\\\\setup.py'\"'\"';f=getattr(tokenize, '\"'\"'open'\"'\"', open)(__file__);code=f.read().replace('\"'\"'\\r\\n'\"'\"', '\"'\"'\\n'\"'\"');f.close();exec(compile(code, __file__, '\"'\"'exec'\"'\"'))' install --record 'C:\\Users\\Natalia Gonzalez\\AppData\\Local\\Temp\\pip-record-fo8_4jd2\\install-record.txt' --single-version-externally-managed --compile --install-headers 'C:\\Users\\Natalia Gonzalez\\anaconda3\\Include\\prophet' Check the logs for full command output.\n"
     ]
    }
   ],
   "source": [
    "!pip install prophet"
   ]
  },
  {
   "cell_type": "code",
   "execution_count": null,
   "id": "e335f81b",
   "metadata": {},
   "outputs": [],
   "source": [
    "!pip uninstall fbprophet pystan"
   ]
  },
  {
   "cell_type": "code",
   "execution_count": 1,
   "id": "52960c23",
   "metadata": {},
   "outputs": [
    {
     "name": "stdout",
     "output_type": "stream",
     "text": [
      "Collecting graphviz\n",
      "  Downloading graphviz-0.19.1-py3-none-any.whl (46 kB)\n",
      "Installing collected packages: graphviz\n",
      "Successfully installed graphviz-0.19.1\n"
     ]
    }
   ],
   "source": [
    "!pip install graphviz"
   ]
  },
  {
   "cell_type": "code",
   "execution_count": 2,
   "id": "6dda3854",
   "metadata": {},
   "outputs": [],
   "source": [
    "import graphviz"
   ]
  },
  {
   "cell_type": "code",
   "execution_count": null,
   "id": "565b2e00",
   "metadata": {},
   "outputs": [],
   "source": []
  }
 ],
 "metadata": {
  "kernelspec": {
   "display_name": "Python 3",
   "language": "python",
   "name": "python3"
  },
  "language_info": {
   "codemirror_mode": {
    "name": "ipython",
    "version": 3
   },
   "file_extension": ".py",
   "mimetype": "text/x-python",
   "name": "python",
   "nbconvert_exporter": "python",
   "pygments_lexer": "ipython3",
   "version": "3.8.8"
  }
 },
 "nbformat": 4,
 "nbformat_minor": 5
}
