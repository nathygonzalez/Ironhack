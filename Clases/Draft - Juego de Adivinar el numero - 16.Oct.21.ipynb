{
 "cells": [
  {
   "cell_type": "code",
   "execution_count": null,
   "id": "b7012fae",
   "metadata": {},
   "outputs": [],
   "source": [
    "#Proyecto Juego - Adivinar numero\n",
    "\n",
    "# parte aleatoria"
   ]
  },
  {
   "cell_type": "code",
   "execution_count": 1,
   "id": "a69fc5e1",
   "metadata": {},
   "outputs": [],
   "source": [
    "import random"
   ]
  },
  {
   "cell_type": "code",
   "execution_count": 2,
   "id": "a19b6375",
   "metadata": {},
   "outputs": [
    {
     "data": {
      "text/plain": [
       "28"
      ]
     },
     "execution_count": 2,
     "metadata": {},
     "output_type": "execute_result"
    }
   ],
   "source": [
    "random.randint (1,100)"
   ]
  },
  {
   "cell_type": "code",
   "execution_count": 11,
   "id": "d28b04df",
   "metadata": {},
   "outputs": [],
   "source": [
    "num = random.randint (1,100)"
   ]
  },
  {
   "cell_type": "code",
   "execution_count": 5,
   "id": "f9d5bd7f",
   "metadata": {},
   "outputs": [
    {
     "name": "stdout",
     "output_type": "stream",
     "text": [
      "Dime un número del 1 al 100: 23\n"
     ]
    }
   ],
   "source": [
    "#chequear entradas\n",
    "while True:\n",
    "    try:\n",
    "        n = eval(input('Dime un número del 1 al 100: '))\n",
    "        if isinstance(n, int) and n>0 and n<101:\n",
    "            break\n",
    "    except:\n",
    "        pass"
   ]
  },
  {
   "cell_type": "code",
   "execution_count": 7,
   "id": "10991430",
   "metadata": {},
   "outputs": [
    {
     "data": {
      "text/plain": [
       "23"
      ]
     },
     "execution_count": 7,
     "metadata": {},
     "output_type": "execute_result"
    }
   ],
   "source": [
    "n"
   ]
  },
  {
   "cell_type": "code",
   "execution_count": 8,
   "id": "13062489",
   "metadata": {},
   "outputs": [
    {
     "name": "stdout",
     "output_type": "stream",
     "text": [
      "Mi número es mayor\n"
     ]
    }
   ],
   "source": [
    "#evaluar\n",
    "if num == n:\n",
    "    print ('Has acertado!')\n",
    "elif num > n:\n",
    "    print ('Mi número es mayor')\n",
    "else:\n",
    "    print ('Mi número es menor')"
   ]
  },
  {
   "cell_type": "code",
   "execution_count": null,
   "id": "f7afa4ed",
   "metadata": {},
   "outputs": [],
   "source": []
  },
  {
   "cell_type": "code",
   "execution_count": 12,
   "id": "69a7d2e5",
   "metadata": {},
   "outputs": [],
   "source": [
    "#chequear entradas\n",
    "def guess():\n",
    "    while True:\n",
    "        try:\n",
    "            n = eval(input('Dime un número del 1 al 100: '))\n",
    "            if isinstance(n, int) and n>0 and n<101:\n",
    "                break\n",
    "        except:\n",
    "            pass"
   ]
  },
  {
   "cell_type": "code",
   "execution_count": 13,
   "id": "a2d8c2be",
   "metadata": {},
   "outputs": [
    {
     "name": "stdout",
     "output_type": "stream",
     "text": [
      "Dime un número del 1 al 100: 10\n"
     ]
    },
    {
     "ename": "TypeError",
     "evalue": "'>' not supported between instances of 'int' and 'NoneType'",
     "output_type": "error",
     "traceback": [
      "\u001b[1;31m---------------------------------------------------------------------------\u001b[0m",
      "\u001b[1;31mTypeError\u001b[0m                                 Traceback (most recent call last)",
      "\u001b[1;32m<ipython-input-13-956ae84b0826>\u001b[0m in \u001b[0;36m<module>\u001b[1;34m\u001b[0m\n\u001b[0;32m      6\u001b[0m         \u001b[0mprint\u001b[0m \u001b[1;33m(\u001b[0m\u001b[1;34m'Has acertado!'\u001b[0m\u001b[1;33m)\u001b[0m\u001b[1;33m\u001b[0m\u001b[1;33m\u001b[0m\u001b[0m\n\u001b[0;32m      7\u001b[0m         \u001b[1;32mbreak\u001b[0m\u001b[1;33m\u001b[0m\u001b[1;33m\u001b[0m\u001b[0m\n\u001b[1;32m----> 8\u001b[1;33m     \u001b[1;32melif\u001b[0m \u001b[0mnum\u001b[0m \u001b[1;33m>\u001b[0m \u001b[0mn\u001b[0m\u001b[1;33m:\u001b[0m\u001b[1;33m\u001b[0m\u001b[1;33m\u001b[0m\u001b[0m\n\u001b[0m\u001b[0;32m      9\u001b[0m         \u001b[0mprint\u001b[0m \u001b[1;33m(\u001b[0m\u001b[1;34m'Mi número es mayor'\u001b[0m\u001b[1;33m)\u001b[0m\u001b[1;33m\u001b[0m\u001b[1;33m\u001b[0m\u001b[0m\n\u001b[0;32m     10\u001b[0m     \u001b[1;32melse\u001b[0m\u001b[1;33m:\u001b[0m\u001b[1;33m\u001b[0m\u001b[1;33m\u001b[0m\u001b[0m\n",
      "\u001b[1;31mTypeError\u001b[0m: '>' not supported between instances of 'int' and 'NoneType'"
     ]
    }
   ],
   "source": [
    "#evaluar\n",
    "\n",
    "while True:\n",
    "    n = guess()\n",
    "    if num == n:\n",
    "        print ('Has acertado!')\n",
    "        break\n",
    "    elif num > n:\n",
    "        print ('Mi número es mayor')\n",
    "    else:\n",
    "        print ('Mi número es menor')"
   ]
  },
  {
   "cell_type": "code",
   "execution_count": null,
   "id": "984ee543",
   "metadata": {},
   "outputs": [],
   "source": []
  },
  {
   "cell_type": "code",
   "execution_count": null,
   "id": "c87edee3",
   "metadata": {},
   "outputs": [],
   "source": [
    "#código full"
   ]
  },
  {
   "cell_type": "code",
   "execution_count": null,
   "id": "c167feb8",
   "metadata": {},
   "outputs": [],
   "source": [
    "import random \n",
    "class Juego:\n",
    "    \n",
    "    def __init__(self):\n",
    "        pass\n",
    "    \n",
    "    def think(self):\n",
    "        self.num = random.randint(1,100)\n",
    "        \n",
    "    def guess(self):\n",
    "        while True:\n",
    "            try:\n",
    "                n = int(input('Dime un número del 1 al 100: '))\n",
    "                if isinstance(n, int) and n>0 and n<101:\n",
    "                    break\n",
    "            except:\n",
    "                pass\n",
    "        return n    \n",
    "    \n",
    "    def jugar(self):\n",
    "    \n",
    "        self.think()\n",
    "        while True:\n",
    "            n = self.guess()\n",
    "            if self.num == n:\n",
    "                print('Has acertado!')\n",
    "                break\n",
    "            elif self.num > n:\n",
    "                print('Mi número es mayor')\n",
    "            else:\n",
    "                print('Mi número es menor')\n",
    "                \n",
    "                \n",
    "def main():\n",
    "    while True:\n",
    "        partida = Juego()\n",
    "        partida.jugar()\n",
    "        \n",
    "        seguir = input('Quieres seguir jugando S/N? ')\n",
    "        if seguir != 'S':\n",
    "            break\n",
    "            \n",
    "if __name__ == '__main__':\n",
    "    main()\n",
    "Collapse"
   ]
  },
  {
   "cell_type": "code",
   "execution_count": null,
   "id": "dc2a2009",
   "metadata": {},
   "outputs": [],
   "source": [
    "# no editor de texto\n",
    "\n",
    "# escrever o código importanto las librerias\n",
    "\n",
    "def main():\n",
    "    while True:\n",
    "        partida = Juego()\n",
    "        partida.jugar()\n",
    "        \n",
    "        seguir = input('Quieres seguir jugando S/N? ')\n",
    "        if seguir != 'S':\n",
    "            break\n",
    "\n",
    "if __name__ == '__main__':\n",
    "    main ()\n",
    "    \n",
    "#salvar como .py\n",
    "#Precisa ser executável no terminal\n",
    "\n",
    "#art asci (?)"
   ]
  },
  {
   "cell_type": "code",
   "execution_count": null,
   "id": "c173d1a0",
   "metadata": {},
   "outputs": [],
   "source": [
    "# djangogirls tutorial"
   ]
  }
 ],
 "metadata": {
  "kernelspec": {
   "display_name": "Python 3",
   "language": "python",
   "name": "python3"
  },
  "language_info": {
   "codemirror_mode": {
    "name": "ipython",
    "version": 3
   },
   "file_extension": ".py",
   "mimetype": "text/x-python",
   "name": "python",
   "nbconvert_exporter": "python",
   "pygments_lexer": "ipython3",
   "version": "3.8.8"
  }
 },
 "nbformat": 4,
 "nbformat_minor": 5
}
